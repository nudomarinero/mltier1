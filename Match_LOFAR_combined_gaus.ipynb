{
 "cells": [
  {
   "cell_type": "markdown",
   "metadata": {},
   "source": [
    "# ML match for LOFAR and the combined PanSTARRS WISE catalogue: Gaussians catalogue"
   ]
  },
  {
   "cell_type": "markdown",
   "metadata": {},
   "source": [
    "## Configuration\n",
    "\n",
    "### Load libraries and setup"
   ]
  },
  {
   "cell_type": "code",
   "execution_count": 1,
   "metadata": {
    "collapsed": true
   },
   "outputs": [],
   "source": [
    "import numpy as np\n",
    "from astropy.table import Table\n",
    "from astropy import units as u\n",
    "from astropy.coordinates import SkyCoord, search_around_sky\n",
    "from IPython.display import clear_output\n",
    "import pickle"
   ]
  },
  {
   "cell_type": "code",
   "execution_count": 2,
   "metadata": {
    "collapsed": false
   },
   "outputs": [],
   "source": [
    "from mltier1 import (get_center, get_n_m, estimate_q_m, Field, SingleMLEstimator, MultiMLEstimator,\n",
    "                     parallel_process, get_sigma, get_q_m)"
   ]
  },
  {
   "cell_type": "code",
   "execution_count": 3,
   "metadata": {
    "collapsed": true
   },
   "outputs": [],
   "source": [
    "%load_ext autoreload"
   ]
  },
  {
   "cell_type": "code",
   "execution_count": 4,
   "metadata": {
    "collapsed": true
   },
   "outputs": [],
   "source": [
    "%autoreload"
   ]
  },
  {
   "cell_type": "code",
   "execution_count": 5,
   "metadata": {
    "collapsed": true
   },
   "outputs": [],
   "source": [
    "from IPython.display import clear_output"
   ]
  },
  {
   "cell_type": "code",
   "execution_count": 6,
   "metadata": {
    "collapsed": false
   },
   "outputs": [
    {
     "name": "stdout",
     "output_type": "stream",
     "text": [
      "Populating the interactive namespace from numpy and matplotlib\n"
     ]
    }
   ],
   "source": [
    "%pylab inline"
   ]
  },
  {
   "cell_type": "markdown",
   "metadata": {},
   "source": [
    "### General configuration"
   ]
  },
  {
   "cell_type": "code",
   "execution_count": 7,
   "metadata": {
    "collapsed": true
   },
   "outputs": [],
   "source": [
    "save_intermediate = True\n",
    "plot_intermediate = True"
   ]
  },
  {
   "cell_type": "code",
   "execution_count": null,
   "metadata": {
    "collapsed": true
   },
   "outputs": [],
   "source": [
    "idp = \"idata/gaus\""
   ]
  },
  {
   "cell_type": "code",
   "execution_count": null,
   "metadata": {
    "collapsed": true
   },
   "outputs": [],
   "source": [
    "if not os.path.isdir(idp):\n",
    "    os.makedirs(idp)"
   ]
  },
  {
   "cell_type": "markdown",
   "metadata": {},
   "source": [
    "### Area limits"
   ]
  },
  {
   "cell_type": "code",
   "execution_count": 8,
   "metadata": {
    "collapsed": true
   },
   "outputs": [],
   "source": [
    "ra_down0 = 170.0\n",
    "ra_up0 = 190.0\n",
    "dec_down0 = 45.5\n",
    "dec_up0 = 56.5"
   ]
  },
  {
   "cell_type": "code",
   "execution_count": 9,
   "metadata": {
    "collapsed": true
   },
   "outputs": [],
   "source": [
    "# Busy week Edinburgh 2017\n",
    "ra_down = 172.09\n",
    "ra_up = 187.5833\n",
    "dec_down = 46.106\n",
    "dec_up = 56.1611"
   ]
  },
  {
   "cell_type": "code",
   "execution_count": 10,
   "metadata": {
    "collapsed": true
   },
   "outputs": [],
   "source": [
    "# Busy week Hatfield 2017\n",
    "ra_down = 170.\n",
    "ra_up = 190.\n",
    "dec_down = 46.8\n",
    "dec_up = 55.9"
   ]
  },
  {
   "cell_type": "code",
   "execution_count": 11,
   "metadata": {
    "collapsed": true
   },
   "outputs": [],
   "source": [
    "field = Field(170.0, 190.0, 46.8, 55.9)"
   ]
  },
  {
   "cell_type": "markdown",
   "metadata": {},
   "source": [
    "## Load data"
   ]
  },
  {
   "cell_type": "code",
   "execution_count": 12,
   "metadata": {
    "collapsed": false
   },
   "outputs": [],
   "source": [
    "combined = Table.read(\"pw.fits\")"
   ]
  },
  {
   "cell_type": "code",
   "execution_count": 13,
   "metadata": {
    "collapsed": false
   },
   "outputs": [],
   "source": [
    "lofar_all = Table.read(\"data/LOFAR_HBA_T1_DR1_catalog_v0.1.gaus.fits\")"
   ]
  },
  {
   "cell_type": "code",
   "execution_count": 14,
   "metadata": {
    "collapsed": false
   },
   "outputs": [
    {
     "data": {
      "text/plain": [
       "array(['AllWISE', 'objID', 'ra', 'dec', 'raErr', 'decErr', 'W1mag',\n",
       "       'W1magErr', 'i', 'iErr'], \n",
       "      dtype='<U8')"
      ]
     },
     "execution_count": 14,
     "metadata": {},
     "output_type": "execute_result"
    }
   ],
   "source": [
    "np.array(combined.colnames)"
   ]
  },
  {
   "cell_type": "code",
   "execution_count": 15,
   "metadata": {
    "collapsed": false
   },
   "outputs": [
    {
     "data": {
      "text/plain": [
       "array(['Source_Name', 'RA', 'E_RA', 'E_RA_tot', 'DEC', 'E_DEC',\n",
       "       'E_DEC_tot', 'Peak_flux', 'E_Peak_flux', 'E_Peak_flux_tot',\n",
       "       'Total_flux', 'E_Total_flux', 'E_Total_flux_tot', 'Maj', 'E_Maj',\n",
       "       'Min', 'E_Min', 'PA', 'E_PA', 'Isl_rms', 'S_Code', 'Mosaic_ID',\n",
       "       'Gaus_id', 'Isl_id', 'Source_id'], \n",
       "      dtype='<U16')"
      ]
     },
     "execution_count": 15,
     "metadata": {},
     "output_type": "execute_result"
    }
   ],
   "source": [
    "np.array(lofar_all.colnames)"
   ]
  },
  {
   "cell_type": "markdown",
   "metadata": {},
   "source": [
    "### Filter catalogues"
   ]
  },
  {
   "cell_type": "code",
   "execution_count": 16,
   "metadata": {
    "collapsed": false
   },
   "outputs": [],
   "source": [
    "lofar = field.filter_catalogue(lofar_all, colnames=(\"RA\", \"DEC\"))"
   ]
  },
  {
   "cell_type": "markdown",
   "metadata": {},
   "source": [
    "### Additional data"
   ]
  },
  {
   "cell_type": "code",
   "execution_count": 17,
   "metadata": {
    "collapsed": true
   },
   "outputs": [],
   "source": [
    "combined[\"colour\"] = combined[\"i\"] - combined[\"W1mag\"]"
   ]
  },
  {
   "cell_type": "code",
   "execution_count": 18,
   "metadata": {
    "collapsed": true
   },
   "outputs": [],
   "source": [
    "combined_aux_index = np.arange(len(combined))"
   ]
  },
  {
   "cell_type": "markdown",
   "metadata": {},
   "source": [
    "### Sky coordinates"
   ]
  },
  {
   "cell_type": "code",
   "execution_count": 19,
   "metadata": {
    "collapsed": false
   },
   "outputs": [],
   "source": [
    "coords_combined = SkyCoord(combined['ra'], \n",
    "                           combined['dec'], \n",
    "                           unit=(u.deg, u.deg), \n",
    "                           frame='icrs')"
   ]
  },
  {
   "cell_type": "code",
   "execution_count": 20,
   "metadata": {
    "collapsed": false
   },
   "outputs": [],
   "source": [
    "coords_lofar = SkyCoord(lofar['RA'], \n",
    "                       lofar['DEC'], \n",
    "                       unit=(u.deg, u.deg), \n",
    "                       frame='icrs')"
   ]
  },
  {
   "cell_type": "markdown",
   "metadata": {},
   "source": [
    "### Class of sources in the combined catalogue\n",
    "\n",
    "The sources are grouped depending on the available photometric data."
   ]
  },
  {
   "cell_type": "code",
   "execution_count": 21,
   "metadata": {
    "collapsed": true
   },
   "outputs": [],
   "source": [
    "combined_matched = (~np.isnan(combined[\"i\"]) & ~np.isnan(combined[\"W1mag\"])) # Matched i-W1 sources"
   ]
  },
  {
   "cell_type": "code",
   "execution_count": 22,
   "metadata": {
    "collapsed": true
   },
   "outputs": [],
   "source": [
    "combined_panstarrs = (~np.isnan(combined[\"i\"]) & np.isnan(combined[\"W1mag\"])) # Sources with only i-band"
   ]
  },
  {
   "cell_type": "code",
   "execution_count": 23,
   "metadata": {
    "collapsed": true
   },
   "outputs": [],
   "source": [
    "combined_wise =(np.isnan(combined[\"i\"]) & ~np.isnan(combined[\"W1mag\"])) # Sources with only W1-band"
   ]
  },
  {
   "cell_type": "code",
   "execution_count": 24,
   "metadata": {
    "collapsed": true
   },
   "outputs": [],
   "source": [
    "combined_i = combined_matched | combined_panstarrs\n",
    "combined_w1 = combined_matched | combined_wise\n",
    "#combined_only_i = combined_panstarrs & ~combined_matched\n",
    "#combined_only_w1 = combined_wise & ~combined_matched"
   ]
  },
  {
   "cell_type": "code",
   "execution_count": 25,
   "metadata": {
    "collapsed": false
   },
   "outputs": [
    {
     "name": "stdout",
     "output_type": "stream",
     "text": [
      "Total    -  5231965\n",
      "i and W1 -  1339600\n",
      "Only i   -  3071319\n",
      "With i   -  4410919\n",
      "Only W1  -  821044\n",
      "With W1  -  2160644\n"
     ]
    }
   ],
   "source": [
    "print(\"Total    - \", len(combined))\n",
    "print(\"i and W1 - \", np.sum(combined_matched))\n",
    "print(\"Only i   - \", np.sum(combined_panstarrs))\n",
    "print(\"With i   - \", np.sum(combined_i))\n",
    "print(\"Only W1  - \", np.sum(combined_wise))\n",
    "print(\"With W1  - \", np.sum(combined_w1))"
   ]
  },
  {
   "cell_type": "markdown",
   "metadata": {},
   "source": [
    "### Colour categories\n",
    "\n",
    "The colour categories will be used after the first ML match"
   ]
  },
  {
   "cell_type": "code",
   "execution_count": 26,
   "metadata": {
    "collapsed": true
   },
   "outputs": [],
   "source": [
    "colour_limits = [-0.5, 0.0, 0.5, 1.0, 1.25, 1.5, 1.75, 2.0, 2.25, 2.5, 2.75, 3.0, 3.5, 4.0]"
   ]
  },
  {
   "cell_type": "code",
   "execution_count": 27,
   "metadata": {
    "collapsed": false
   },
   "outputs": [
    {
     "name": "stderr",
     "output_type": "stream",
     "text": [
      "/home/jsm/programs/soft/anaconda/envs/py36/lib/python3.6/site-packages/ipykernel/__main__.py:4: RuntimeWarning: invalid value encountered in less\n",
      "/home/jsm/programs/soft/anaconda/envs/py36/lib/python3.6/site-packages/ipykernel/__main__.py:9: RuntimeWarning: invalid value encountered in greater_equal\n",
      "/home/jsm/programs/soft/anaconda/envs/py36/lib/python3.6/site-packages/ipykernel/__main__.py:9: RuntimeWarning: invalid value encountered in less\n",
      "/home/jsm/programs/soft/anaconda/envs/py36/lib/python3.6/site-packages/ipykernel/__main__.py:13: RuntimeWarning: invalid value encountered in greater_equal\n"
     ]
    }
   ],
   "source": [
    "# Start with the W1-only, i-only and \"less than lower colour\" bins\n",
    "colour_bin_def = [{\"name\":\"only W1\", \"condition\": combined_wise},\n",
    "                  {\"name\":\"only i\", \"condition\": combined_panstarrs},\n",
    "                  {\"name\":\"-inf to {}\".format(colour_limits[0]), \n",
    "                   \"condition\": (combined[\"colour\"] < colour_limits[0])}]\n",
    "\n",
    "# Get the colour bins\n",
    "for i in range(len(colour_limits)-1):\n",
    "    name = \"{} to {}\".format(colour_limits[i], colour_limits[i+1])\n",
    "    condition = ((combined[\"colour\"] >= colour_limits[i]) & \n",
    "                 (combined[\"colour\"] < colour_limits[i+1]))\n",
    "    colour_bin_def.append({\"name\":name, \"condition\":condition})\n",
    "\n",
    "# Add the \"more than higher colour\" bin\n",
    "colour_bin_def.append({\"name\":\"{} to inf\".format(colour_limits[-1]), \n",
    "                       \"condition\": (combined[\"colour\"] >= colour_limits[-1])})"
   ]
  },
  {
   "cell_type": "code",
   "execution_count": 28,
   "metadata": {
    "collapsed": true
   },
   "outputs": [],
   "source": [
    "combined[\"category\"] = np.nan\n",
    "for i in range(len(colour_bin_def)):\n",
    "    combined[\"category\"][colour_bin_def[i][\"condition\"]] = i"
   ]
  },
  {
   "cell_type": "code",
   "execution_count": 29,
   "metadata": {
    "collapsed": false
   },
   "outputs": [
    {
     "data": {
      "text/plain": [
       "2"
      ]
     },
     "execution_count": 29,
     "metadata": {},
     "output_type": "execute_result"
    }
   ],
   "source": [
    "np.sum(np.isnan(combined[\"category\"]))"
   ]
  },
  {
   "cell_type": "markdown",
   "metadata": {},
   "source": [
    "We get the number of sources of the combined catalogue in each colour category. It will be used at a later stage to compute the $Q_0$ values"
   ]
  },
  {
   "cell_type": "code",
   "execution_count": 30,
   "metadata": {
    "collapsed": true
   },
   "outputs": [],
   "source": [
    "numbers_combined_bins = np.array([np.sum(a[\"condition\"]) for a in colour_bin_def])"
   ]
  },
  {
   "cell_type": "code",
   "execution_count": 31,
   "metadata": {
    "collapsed": false
   },
   "outputs": [
    {
     "data": {
      "text/plain": [
       "array([ 821044, 3071319,   84707,   60082,  103264,  149390,  107874,\n",
       "        126702,  135867,  133622,  120776,  100308,   77175,   55963,\n",
       "         58777,   18318,    6775])"
      ]
     },
     "execution_count": 31,
     "metadata": {},
     "output_type": "execute_result"
    }
   ],
   "source": [
    "numbers_combined_bins"
   ]
  },
  {
   "cell_type": "markdown",
   "metadata": {},
   "source": [
    "## Description"
   ]
  },
  {
   "cell_type": "markdown",
   "metadata": {},
   "source": [
    "### Sky coverage"
   ]
  },
  {
   "cell_type": "code",
   "execution_count": 32,
   "metadata": {
    "collapsed": false
   },
   "outputs": [
    {
     "data": {
      "image/png": "[encoded data removed]",
      "text/plain": [
       "<matplotlib.figure.Figure at 0x7f90ead2a7b8>"
      ]
     },
     "metadata": {},
     "output_type": "display_data"
    }
   ],
   "source": [
    "plt.rcParams[\"figure.figsize\"] = (15,5)\n",
    "plot(lofar_all[\"RA\"],\n",
    "     lofar_all[\"DEC\"],\n",
    "     ls=\"\", marker=\",\");"
   ]
  },
  {
   "cell_type": "code",
   "execution_count": 33,
   "metadata": {
    "collapsed": false
   },
   "outputs": [
    {
     "data": {
      "image/png": "[encoded data removed]",
      "text/plain": [
       "<matplotlib.figure.Figure at 0x7f90e5d04780>"
      ]
     },
     "metadata": {},
     "output_type": "display_data"
    }
   ],
   "source": [
    "plt.rcParams[\"figure.figsize\"] = (8,5)\n",
    "plot(lofar[\"RA\"],\n",
    "     lofar[\"DEC\"],\n",
    "     ls=\"\", marker=\",\");"
   ]
  },
  {
   "cell_type": "code",
   "execution_count": 34,
   "metadata": {
    "collapsed": false
   },
   "outputs": [
    {
     "data": {
      "text/plain": [
       "108381"
      ]
     },
     "execution_count": 34,
     "metadata": {},
     "output_type": "execute_result"
    }
   ],
   "source": [
    "len(lofar)"
   ]
  },
  {
   "cell_type": "markdown",
   "metadata": {},
   "source": [
    "### Summary of galaxy types in the combined catalogue"
   ]
  },
  {
   "cell_type": "code",
   "execution_count": 35,
   "metadata": {
    "collapsed": false
   },
   "outputs": [
    {
     "data": {
      "text/plain": [
       "1339600"
      ]
     },
     "execution_count": 35,
     "metadata": {},
     "output_type": "execute_result"
    }
   ],
   "source": [
    "np.sum(combined_matched) # Matches"
   ]
  },
  {
   "cell_type": "code",
   "execution_count": 36,
   "metadata": {
    "collapsed": false
   },
   "outputs": [
    {
     "data": {
      "image/png": "[encoded data removed]",
      "text/plain": [
       "<matplotlib.figure.Figure at 0x7f90e3d6af60>"
      ]
     },
     "metadata": {},
     "output_type": "display_data"
    }
   ],
   "source": [
    "plt.rcParams[\"figure.figsize\"] = (15,5)\n",
    "subplot(1,3,1)\n",
    "hist(combined[\"i\"][combined_matched], bins=50)\n",
    "xlabel(\"i\")\n",
    "subplot(1,3,2)\n",
    "hist(combined[\"W1mag\"][combined_matched], bins=50)\n",
    "xlabel(\"W1\")\n",
    "subplot(1,3,3)\n",
    "hist((combined[\"i\"] - combined[\"W1mag\"])[combined_matched], bins=50)\n",
    "xlabel(\"(i - W1)\");"
   ]
  },
  {
   "cell_type": "code",
   "execution_count": 37,
   "metadata": {
    "collapsed": false
   },
   "outputs": [
    {
     "data": {
      "text/plain": [
       "3071319"
      ]
     },
     "execution_count": 37,
     "metadata": {},
     "output_type": "execute_result"
    }
   ],
   "source": [
    "np.sum(combined_panstarrs) # Only PanSTARSS"
   ]
  },
  {
   "cell_type": "code",
   "execution_count": 38,
   "metadata": {
    "collapsed": false
   },
   "outputs": [
    {
     "data": {
      "image/png": "[encoded data removed]",
      "text/plain": [
       "<matplotlib.figure.Figure at 0x7f90e5ba49b0>"
      ]
     },
     "metadata": {},
     "output_type": "display_data"
    }
   ],
   "source": [
    "plt.rcParams[\"figure.figsize\"] = (15,5)\n",
    "subplot(1,3,1)\n",
    "hist(combined[\"i\"][combined_panstarrs], bins=50)\n",
    "hist(combined[\"i\"][combined_matched], bins=50, alpha=0.4)\n",
    "xlabel(\"i\")\n",
    "subplot(1,3,2)\n",
    "hist((combined[\"i\"] - 17.4)[combined_matched], bins=50)\n",
    "hist((combined[\"i\"] - combined[\"W1mag\"])[combined_matched], bins=50, alpha=0.4)\n",
    "xlabel(\"(i - W1) (W1 lim. = 17.4)\")\n",
    "subplot(1,3,3)\n",
    "hist((combined[\"i\"] - 18.4)[combined_matched], bins=50)\n",
    "hist((combined[\"i\"] - combined[\"W1mag\"])[combined_matched], bins=50, alpha=0.4)\n",
    "xlabel(\"(i - W1) (W1 lim. = 18.4)\");"
   ]
  },
  {
   "cell_type": "code",
   "execution_count": 39,
   "metadata": {
    "collapsed": false
   },
   "outputs": [
    {
     "data": {
      "text/plain": [
       "821044"
      ]
     },
     "execution_count": 39,
     "metadata": {},
     "output_type": "execute_result"
    }
   ],
   "source": [
    "np.sum(combined_wise) # Only WISE"
   ]
  },
  {
   "cell_type": "code",
   "execution_count": 40,
   "metadata": {
    "collapsed": false
   },
   "outputs": [
    {
     "data": {
      "image/png": "[encoded data removed]",
      "text/plain": [
       "<matplotlib.figure.Figure at 0x7f90e57ecd30>"
      ]
     },
     "metadata": {},
     "output_type": "display_data"
    }
   ],
   "source": [
    "plt.rcParams[\"figure.figsize\"] = (15,5)\n",
    "subplot(1,3,1)\n",
    "hist(combined[\"W1mag\"][combined_wise], bins=50)\n",
    "hist(combined[\"W1mag\"][combined_matched], bins=50, alpha=0.4)\n",
    "xlabel(\"W1\")\n",
    "subplot(1,3,2)\n",
    "hist((22 - combined[\"W1mag\"])[combined_wise], bins=50)\n",
    "hist((combined[\"i\"] - combined[\"W1mag\"])[combined_matched], bins=50, alpha=0.4)\n",
    "xlabel(\"(i - W1) (i lim. = 22)\")\n",
    "subplot(1,3,3)\n",
    "hist((23 - combined[\"W1mag\"])[combined_wise], bins=50)\n",
    "hist((combined[\"i\"] - combined[\"W1mag\"])[combined_matched], bins=50, alpha=0.4)\n",
    "xlabel(\"(i - W1) (i lim. = 23)\");"
   ]
  },
  {
   "cell_type": "code",
   "execution_count": 41,
   "metadata": {
    "collapsed": false
   },
   "outputs": [
    {
     "data": {
      "text/plain": [
       "2"
      ]
     },
     "execution_count": 41,
     "metadata": {},
     "output_type": "execute_result"
    }
   ],
   "source": [
    "np.sum(np.isnan(combined[\"i\"]) & np.isnan(combined[\"W1mag\"])) # Should not be here :)"
   ]
  },
  {
   "cell_type": "code",
   "execution_count": 42,
   "metadata": {
    "collapsed": true
   },
   "outputs": [],
   "source": [
    "combined_i = combined_matched | combined_panstarrs\n",
    "combined_w1 = combined_matched | combined_wise\n",
    "combined_only_i = combined_panstarrs & ~combined_matched\n",
    "combined_only_w1 = combined_wise & ~combined_matched"
   ]
  },
  {
   "cell_type": "markdown",
   "metadata": {
    "collapsed": true
   },
   "source": [
    "## Maximum Likelihood 1st"
   ]
  },
  {
   "cell_type": "markdown",
   "metadata": {},
   "source": [
    "### i-band preparation"
   ]
  },
  {
   "cell_type": "code",
   "execution_count": 43,
   "metadata": {
    "collapsed": true
   },
   "outputs": [],
   "source": [
    "catalogue_i = combined[combined_i]"
   ]
  },
  {
   "cell_type": "code",
   "execution_count": 44,
   "metadata": {
    "collapsed": true
   },
   "outputs": [],
   "source": [
    "bin_list_i = np.linspace(12., 30., 361) # Bins of 0.05"
   ]
  },
  {
   "cell_type": "code",
   "execution_count": 45,
   "metadata": {
    "collapsed": true
   },
   "outputs": [],
   "source": [
    "center_i = get_center(bin_list_i)"
   ]
  },
  {
   "cell_type": "code",
   "execution_count": 46,
   "metadata": {
    "collapsed": true
   },
   "outputs": [],
   "source": [
    "n_m_i = get_n_m(catalogue_i[\"i\"], bin_list_i, field.area)"
   ]
  },
  {
   "cell_type": "code",
   "execution_count": 47,
   "metadata": {
    "collapsed": false
   },
   "outputs": [
    {
     "data": {
      "image/png": "[encoded data removed]",
      "text/plain": [
       "<matplotlib.figure.Figure at 0x7f90e584ccf8>"
      ]
     },
     "metadata": {},
     "output_type": "display_data"
    }
   ],
   "source": [
    "plt.rcParams[\"figure.figsize\"] = (5,5)\n",
    "plot(center_i, n_m_i);"
   ]
  },
  {
   "cell_type": "code",
   "execution_count": 48,
   "metadata": {
    "collapsed": true
   },
   "outputs": [],
   "source": [
    "q_m_i = estimate_q_m(catalogue_i[\"i\"], bin_list_i, n_m_i, coords_lofar, coords_combined[combined_i], radius=5)"
   ]
  },
  {
   "cell_type": "code",
   "execution_count": 49,
   "metadata": {
    "collapsed": false
   },
   "outputs": [
    {
     "data": {
      "image/png": "[encoded data removed]",
      "text/plain": [
       "<matplotlib.figure.Figure at 0x7f90e46664a8>"
      ]
     },
     "metadata": {},
     "output_type": "display_data"
    }
   ],
   "source": [
    "plt.rcParams[\"figure.figsize\"] = (5,5)\n",
    "plot(center_i, q_m_i);"
   ]
  },
  {
   "cell_type": "markdown",
   "metadata": {},
   "source": [
    "### W1-band preparation"
   ]
  },
  {
   "cell_type": "code",
   "execution_count": 50,
   "metadata": {
    "collapsed": true
   },
   "outputs": [],
   "source": [
    "catalogue_w1 = combined[combined_w1]"
   ]
  },
  {
   "cell_type": "code",
   "execution_count": 51,
   "metadata": {
    "collapsed": true
   },
   "outputs": [],
   "source": [
    "bin_list_w1 = np.linspace(10., 23., 261) # Bins of 0.05"
   ]
  },
  {
   "cell_type": "code",
   "execution_count": 52,
   "metadata": {
    "collapsed": true
   },
   "outputs": [],
   "source": [
    "center_w1 = get_center(bin_list_w1)"
   ]
  },
  {
   "cell_type": "code",
   "execution_count": 53,
   "metadata": {
    "collapsed": true
   },
   "outputs": [],
   "source": [
    "n_m_w1 = get_n_m(catalogue_w1[\"W1mag\"], bin_list_w1, field.area)"
   ]
  },
  {
   "cell_type": "code",
   "execution_count": 54,
   "metadata": {
    "collapsed": false
   },
   "outputs": [
    {
     "data": {
      "image/png": "[encoded data removed]",
      "text/plain": [
       "<matplotlib.figure.Figure at 0x7f90e5238128>"
      ]
     },
     "metadata": {},
     "output_type": "display_data"
    }
   ],
   "source": [
    "plt.rcParams[\"figure.figsize\"] = (5,5)\n",
    "plot(center_w1, n_m_w1);"
   ]
  },
  {
   "cell_type": "code",
   "execution_count": 55,
   "metadata": {
    "collapsed": true
   },
   "outputs": [],
   "source": [
    "q_m_w1 = estimate_q_m(catalogue_w1[\"W1mag\"], \n",
    "                      bin_list_w1, \n",
    "                      n_m_w1, coords_lofar, \n",
    "                      coords_combined[combined_w1], \n",
    "                      radius=5)"
   ]
  },
  {
   "cell_type": "code",
   "execution_count": 56,
   "metadata": {
    "collapsed": false
   },
   "outputs": [
    {
     "data": {
      "image/png": "[encoded data removed]",
      "text/plain": [
       "<matplotlib.figure.Figure at 0x7f90a81dac88>"
      ]
     },
     "metadata": {},
     "output_type": "display_data"
    }
   ],
   "source": [
    "plot(center_w1, q_m_w1);"
   ]
  },
  {
   "cell_type": "markdown",
   "metadata": {},
   "source": [
    "### $Q_0$ and likelihood estimators"
   ]
  },
  {
   "cell_type": "code",
   "execution_count": 57,
   "metadata": {
    "collapsed": true
   },
   "outputs": [],
   "source": [
    "# Old\n",
    "Q0_i = 0.545\n",
    "Q0_w1 = 0.77\n",
    "# Better Q0\n",
    "Q0_i = 0.503\n",
    "Q0_w1 = 0.699\n",
    "# Q0 for gaus catalogue\n",
    "Q0_i = 0.46 # Q0_i at 5 arcsecs\n",
    "Q0_w1 = 0.64 # Q0_w1 at 5 arcsecs"
   ]
  },
  {
   "cell_type": "code",
   "execution_count": 58,
   "metadata": {
    "collapsed": true
   },
   "outputs": [],
   "source": [
    "likelihood_ratio_i = SingleMLEstimator(Q0_i, n_m_i, q_m_i, center_i)"
   ]
  },
  {
   "cell_type": "code",
   "execution_count": 59,
   "metadata": {
    "collapsed": true
   },
   "outputs": [],
   "source": [
    "likelihood_ratio_w1 = SingleMLEstimator(Q0_w1, n_m_w1, q_m_w1, center_w1)"
   ]
  },
  {
   "cell_type": "markdown",
   "metadata": {},
   "source": [
    "### i-band match"
   ]
  },
  {
   "cell_type": "code",
   "execution_count": 60,
   "metadata": {
    "collapsed": true
   },
   "outputs": [],
   "source": [
    "radius = 15"
   ]
  },
  {
   "cell_type": "code",
   "execution_count": 61,
   "metadata": {
    "collapsed": true
   },
   "outputs": [],
   "source": [
    "idx_lofar, idx_i, d2d, d3d = search_around_sky(\n",
    "    coords_lofar, coords_combined[combined_i], radius*u.arcsec)"
   ]
  },
  {
   "cell_type": "code",
   "execution_count": 62,
   "metadata": {
    "collapsed": true
   },
   "outputs": [],
   "source": [
    "idx_lofar_unique = np.unique(idx_lofar)"
   ]
  },
  {
   "cell_type": "code",
   "execution_count": 63,
   "metadata": {
    "collapsed": true
   },
   "outputs": [],
   "source": [
    "lofar[\"lr_i\"] = np.nan                   # Likelihood ratio\n",
    "lofar[\"lr_dist_i\"] = np.nan              # Distance to the selected source\n",
    "lofar[\"lr_index_i\"] = np.nan             # Index of the PanSTARRS source in combined"
   ]
  },
  {
   "cell_type": "code",
   "execution_count": 64,
   "metadata": {
    "collapsed": true
   },
   "outputs": [],
   "source": [
    "total_sources = len(idx_lofar_unique)\n",
    "combined_aux_index = np.arange(len(combined))"
   ]
  },
  {
   "cell_type": "code",
   "execution_count": 65,
   "metadata": {
    "collapsed": true
   },
   "outputs": [],
   "source": [
    "def ml(i):\n",
    "    idx_0 = idx_i[idx_lofar == i]\n",
    "    d2d_0 = d2d[idx_lofar == i]\n",
    "    i_mag = catalogue_i[\"i\"][idx_0]\n",
    "    lr_0 = likelihood_ratio_i(i_mag, d2d_0.arcsec, 1)\n",
    "    chosen_index = np.argmax(lr_0)\n",
    "    result = [combined_aux_index[combined_i][idx_0[chosen_index]], # Index\n",
    "              (d2d_0.arcsec)[chosen_index],                        # distance\n",
    "              lr_0[chosen_index]]                                  # LR\n",
    "    return result"
   ]
  },
  {
   "cell_type": "code",
   "execution_count": 66,
   "metadata": {
    "collapsed": false
   },
   "outputs": [
    {
     "name": "stderr",
     "output_type": "stream",
     "text": [
      "100%|██████████| 94.8K/94.8K [20:56<00:00, 79.7it/s]\n",
      "94753it [00:00, 294012.73it/s]\n"
     ]
    }
   ],
   "source": [
    "res = parallel_process(idx_lofar_unique, ml)"
   ]
  },
  {
   "cell_type": "code",
   "execution_count": 68,
   "metadata": {
    "collapsed": false
   },
   "outputs": [],
   "source": [
    "(lofar[\"lr_index_i\"][idx_lofar_unique], \n",
    " lofar[\"lr_dist_i\"][idx_lofar_unique], \n",
    " lofar[\"lr_i\"][idx_lofar_unique]) = list(map(list, zip(*res)))"
   ]
  },
  {
   "cell_type": "markdown",
   "metadata": {},
   "source": [
    "#### Threshold and selection for i-band"
   ]
  },
  {
   "cell_type": "code",
   "execution_count": 69,
   "metadata": {
    "collapsed": false
   },
   "outputs": [],
   "source": [
    "lofar[\"lr_i\"][np.isnan(lofar[\"lr_i\"])] = 0"
   ]
  },
  {
   "cell_type": "code",
   "execution_count": 70,
   "metadata": {
    "collapsed": true
   },
   "outputs": [],
   "source": [
    "threshold_i = np.percentile(lofar[\"lr_i\"], 100*(1 - Q0_i))"
   ]
  },
  {
   "cell_type": "code",
   "execution_count": 71,
   "metadata": {
    "collapsed": false
   },
   "outputs": [
    {
     "data": {
      "text/plain": [
       "0.61576312468503414"
      ]
     },
     "execution_count": 71,
     "metadata": {},
     "output_type": "execute_result"
    }
   ],
   "source": [
    "threshold_i"
   ]
  },
  {
   "cell_type": "code",
   "execution_count": 72,
   "metadata": {
    "collapsed": false
   },
   "outputs": [
    {
     "data": {
      "image/png": "[encoded data removed]",
      "text/plain": [
       "<matplotlib.figure.Figure at 0x7f905f9e1da0>"
      ]
     },
     "metadata": {},
     "output_type": "display_data"
    }
   ],
   "source": [
    "plt.rcParams[\"figure.figsize\"] = (15,6)\n",
    "subplot(1,2,1)\n",
    "hist(lofar[lofar[\"lr_i\"] != 0][\"lr_i\"], bins=200)\n",
    "vlines([threshold_i], 0, 1000)\n",
    "ylim([0,1000])\n",
    "subplot(1,2,2)\n",
    "hist(np.log10(lofar[lofar[\"lr_i\"] != 0][\"lr_i\"]+1), bins=200)\n",
    "vlines(np.log10(threshold_i+1), 0, 1000)\n",
    "ticks, _ = xticks()\n",
    "xticks(ticks, [\"{:.1f}\".format(10**t-1) for t in ticks])\n",
    "ylim([0,1000]);"
   ]
  },
  {
   "cell_type": "code",
   "execution_count": 73,
   "metadata": {
    "collapsed": true
   },
   "outputs": [],
   "source": [
    "lofar[\"lr_index_sel_i\"] = lofar[\"lr_index_i\"]\n",
    "lofar[\"lr_index_sel_i\"][lofar[\"lr_i\"] < threshold_i] = np.nan"
   ]
  },
  {
   "cell_type": "markdown",
   "metadata": {},
   "source": [
    "### W1-band match"
   ]
  },
  {
   "cell_type": "code",
   "execution_count": 74,
   "metadata": {
    "collapsed": true
   },
   "outputs": [],
   "source": [
    "idx_lofar, idx_i, d2d, d3d = search_around_sky(\n",
    "    coords_lofar, coords_combined[combined_w1], radius*u.arcsec)"
   ]
  },
  {
   "cell_type": "code",
   "execution_count": 75,
   "metadata": {
    "collapsed": true
   },
   "outputs": [],
   "source": [
    "idx_lofar_unique = np.unique(idx_lofar)"
   ]
  },
  {
   "cell_type": "code",
   "execution_count": 76,
   "metadata": {
    "collapsed": true
   },
   "outputs": [],
   "source": [
    "lofar[\"lr_w1\"] = np.nan                   # Likelihood ratio\n",
    "lofar[\"lr_dist_w1\"] = np.nan              # Distance to the selected source\n",
    "lofar[\"lr_index_w1\"] = np.nan             # Index of the PanSTARRS source in combined"
   ]
  },
  {
   "cell_type": "code",
   "execution_count": 77,
   "metadata": {
    "collapsed": true
   },
   "outputs": [],
   "source": [
    "def ml_w1(i):\n",
    "    idx_0 = idx_i[idx_lofar == i]\n",
    "    d2d_0 = d2d[idx_lofar == i]\n",
    "    w1_mag = catalogue_w1[\"W1mag\"][idx_0]\n",
    "    lr_0 = likelihood_ratio_w1(w1_mag, d2d_0.arcsec, 1)\n",
    "    chosen_index = np.argmax(lr_0)\n",
    "    result = [combined_aux_index[combined_w1][idx_0[chosen_index]], # Index\n",
    "              (d2d_0.arcsec)[chosen_index],                        # distance\n",
    "              lr_0[chosen_index]]                                  # LR\n",
    "    return result"
   ]
  },
  {
   "cell_type": "code",
   "execution_count": 78,
   "metadata": {
    "collapsed": false
   },
   "outputs": [
    {
     "name": "stderr",
     "output_type": "stream",
     "text": [
      "100%|██████████| 98.3K/98.3K [28:07<00:00, 58.2it/s]\n",
      "98263it [00:00, 303693.96it/s]\n"
     ]
    }
   ],
   "source": [
    "res = parallel_process(idx_lofar_unique, ml_w1)"
   ]
  },
  {
   "cell_type": "code",
   "execution_count": 79,
   "metadata": {
    "collapsed": false
   },
   "outputs": [],
   "source": [
    "(lofar[\"lr_index_w1\"][idx_lofar_unique], \n",
    " lofar[\"lr_dist_w1\"][idx_lofar_unique], \n",
    " lofar[\"lr_w1\"][idx_lofar_unique]) = list(map(list, zip(*res)))"
   ]
  },
  {
   "cell_type": "markdown",
   "metadata": {},
   "source": [
    "#### Threshold and selection for W1 band"
   ]
  },
  {
   "cell_type": "code",
   "execution_count": 80,
   "metadata": {
    "collapsed": true
   },
   "outputs": [],
   "source": [
    "lofar[\"lr_w1\"][np.isnan(lofar[\"lr_w1\"])] = 0"
   ]
  },
  {
   "cell_type": "code",
   "execution_count": 81,
   "metadata": {
    "collapsed": true
   },
   "outputs": [],
   "source": [
    "threshold_w1 = np.percentile(lofar[\"lr_w1\"], 100*(1 - Q0_w1))"
   ]
  },
  {
   "cell_type": "code",
   "execution_count": 82,
   "metadata": {
    "collapsed": false
   },
   "outputs": [
    {
     "data": {
      "text/plain": [
       "0.0082166154749719906"
      ]
     },
     "execution_count": 82,
     "metadata": {},
     "output_type": "execute_result"
    }
   ],
   "source": [
    "threshold_w1"
   ]
  },
  {
   "cell_type": "code",
   "execution_count": 84,
   "metadata": {
    "collapsed": false
   },
   "outputs": [
    {
     "data": {
      "image/png": "[encoded data removed]",
      "text/plain": [
       "<matplotlib.figure.Figure at 0x7f905d349128>"
      ]
     },
     "metadata": {},
     "output_type": "display_data"
    }
   ],
   "source": [
    "plt.rcParams[\"figure.figsize\"] = (15,6)\n",
    "subplot(1,2,1)\n",
    "hist(lofar[lofar[\"lr_w1\"] != 0][\"lr_w1\"], bins=200)\n",
    "vlines([threshold_i], 0, 1000)\n",
    "ylim([0,1000])\n",
    "subplot(1,2,2)\n",
    "hist(np.log10(lofar[lofar[\"lr_w1\"] != 0][\"lr_w1\"]+1), bins=200)\n",
    "vlines(np.log10(threshold_i+1), 0, 1000)\n",
    "ticks, _ = xticks()\n",
    "xticks(ticks, [\"{:.1f}\".format(10**t-1) for t in ticks])\n",
    "ylim([0,1000]);"
   ]
  },
  {
   "cell_type": "code",
   "execution_count": 83,
   "metadata": {
    "collapsed": true
   },
   "outputs": [],
   "source": [
    "lofar[\"lr_index_sel_w1\"] = lofar[\"lr_index_w1\"]\n",
    "lofar[\"lr_index_sel_w1\"][lofar[\"lr_w1\"] < threshold_w1] = np.nan"
   ]
  },
  {
   "cell_type": "markdown",
   "metadata": {},
   "source": [
    "### Final selection of the match\n",
    "\n",
    "We combine the ML matching done in i-band and W1-band. All the galaxies were the LR is above the selection ratio for the respective band are finally selected."
   ]
  },
  {
   "cell_type": "code",
   "execution_count": 85,
   "metadata": {
    "collapsed": false
   },
   "outputs": [],
   "source": [
    "# lr_i_and_w1 = (lofar[\"lr_i\"] != 0) & (lofar[\"lr_w1\"] != 0)\n",
    "# lr_only_i = (lofar[\"lr_i\"] != 0) & (lofar[\"lr_w1\"] == 0)\n",
    "# lr_only_w1 = (lofar[\"lr_i\"] == 0) & (lofar[\"lr_w1\"] != 0)\n",
    "# lr_no_match = (lofar[\"lr_i\"] == 0) & (lofar[\"lr_w1\"] == 0)\n",
    "lr_i_and_w1 = ~np.isnan(lofar[\"lr_index_sel_i\"]) & ~np.isnan(lofar[\"lr_index_sel_w1\"])\n",
    "lr_only_i = ~np.isnan(lofar[\"lr_index_sel_i\"]) & np.isnan(lofar[\"lr_index_sel_w1\"])\n",
    "lr_only_w1 = np.isnan(lofar[\"lr_index_sel_i\"]) & ~np.isnan(lofar[\"lr_index_sel_w1\"])\n",
    "lr_no_match = np.isnan(lofar[\"lr_index_sel_i\"]) & np.isnan(lofar[\"lr_index_sel_w1\"])"
   ]
  },
  {
   "cell_type": "code",
   "execution_count": 86,
   "metadata": {
    "collapsed": false
   },
   "outputs": [
    {
     "name": "stdout",
     "output_type": "stream",
     "text": [
      "45683\n",
      "4172\n",
      "23681\n",
      "34845\n"
     ]
    }
   ],
   "source": [
    "print(np.sum(lr_i_and_w1))\n",
    "print(np.sum(lr_only_i))\n",
    "print(np.sum(lr_only_w1))\n",
    "print(np.sum(lr_no_match))"
   ]
  },
  {
   "cell_type": "code",
   "execution_count": 87,
   "metadata": {
    "collapsed": true
   },
   "outputs": [],
   "source": [
    "lofar[\"lr_index_1\"] = np.nan\n",
    "lofar[\"lr_dist_1\"] = np.nan\n",
    "lofar[\"lr_1\"] = np.nan\n",
    "lofar[\"lr_type_1\"] = 0"
   ]
  },
  {
   "cell_type": "code",
   "execution_count": 88,
   "metadata": {
    "collapsed": true
   },
   "outputs": [],
   "source": [
    "# Only i matches\n",
    "lofar[\"lr_1\"][lr_only_i] = lofar[\"lr_i\"][lr_only_i]\n",
    "lofar[\"lr_index_1\"][lr_only_i] = lofar[\"lr_index_i\"][lr_only_i]\n",
    "lofar[\"lr_dist_1\"][lr_only_i] = lofar[\"lr_dist_i\"][lr_only_i]\n",
    "lofar[\"lr_type_1\"][lr_only_i] = 1\n",
    "\n",
    "# Only w1 matches\n",
    "lofar[\"lr_1\"][lr_only_w1] = lofar[\"lr_w1\"][lr_only_w1]\n",
    "lofar[\"lr_index_1\"][lr_only_w1] = lofar[\"lr_index_w1\"][lr_only_w1]\n",
    "lofar[\"lr_dist_1\"][lr_only_w1] = lofar[\"lr_dist_w1\"][lr_only_w1]\n",
    "lofar[\"lr_type_1\"][lr_only_w1] = 2\n",
    "\n",
    "# Both matches\n",
    "lofar[\"lr_1\"][lr_i_and_w1] = np.max([lofar[\"lr_i\"][lr_i_and_w1], lofar[\"lr_w1\"][lr_i_and_w1]], axis=0)\n",
    "lofar[\"lr_type_1\"][lr_i_and_w1] = np.argmax([lofar[\"lr_i\"][lr_i_and_w1], lofar[\"lr_w1\"][lr_i_and_w1]], axis=0) + 1\n",
    "\n",
    "c1 = (lofar[\"lr_type_1\"] == 1)\n",
    "c2 = (lofar[\"lr_type_1\"] == 2)\n",
    "lofar[\"lr_index_1\"][lr_i_and_w1 & c1] = lofar[\"lr_index_i\"][lr_i_and_w1 & c1]\n",
    "lofar[\"lr_index_1\"][lr_i_and_w1 & c2] = lofar[\"lr_index_w1\"][lr_i_and_w1 & c2]\n",
    "lofar[\"lr_dist_1\"][lr_i_and_w1 & c1] = lofar[\"lr_dist_i\"][lr_i_and_w1 & c1]\n",
    "lofar[\"lr_dist_1\"][lr_i_and_w1 & c2] = lofar[\"lr_dist_w1\"][lr_i_and_w1 & c2]"
   ]
  },
  {
   "cell_type": "markdown",
   "metadata": {},
   "source": [
    "Summary of the number of sources matches of each type"
   ]
  },
  {
   "cell_type": "code",
   "execution_count": 90,
   "metadata": {
    "collapsed": false
   },
   "outputs": [
    {
     "name": "stdout",
     "output_type": "stream",
     "text": [
      "match    sel-i:  1455\n",
      "match   sel-W1:  44228\n",
      "match     both:  45683\n",
      "match   i-only:  4172\n",
      "match  W1-only:  23681\n",
      "match      all:  73536\n",
      "         Total:  108381\n"
     ]
    }
   ],
   "source": [
    "print(\"match    sel-i: \", np.sum(lofar[\"lr_type_1\"][lr_i_and_w1] == 1))\n",
    "print(\"match   sel-W1: \", np.sum(lofar[\"lr_type_1\"][lr_i_and_w1] == 2))\n",
    "print(\"match     both: \", np.sum(lofar[\"lr_type_1\"][lr_i_and_w1] == 1) + \n",
    "                          np.sum(lofar[\"lr_type_1\"][lr_i_and_w1] == 2))\n",
    "print(\"match   i-only: \", np.sum(lofar[\"lr_type_1\"] == 1) - np.sum(lofar[\"lr_type_1\"][lr_i_and_w1] == 1))\n",
    "print(\"match  W1-only: \", np.sum(lofar[\"lr_type_1\"] == 2) - np.sum(lofar[\"lr_type_1\"][lr_i_and_w1] == 2))\n",
    "print(\"match      all: \", np.sum(lofar[\"lr_type_1\"] == 1) + \n",
    "                          np.sum(lofar[\"lr_type_1\"] == 2))\n",
    "print(\"         Total: \", len(lofar))"
   ]
  },
  {
   "cell_type": "markdown",
   "metadata": {},
   "source": [
    "The number of sources for which the match in i-band and W1-band are above the threshold but gives a different match to the combined catalogue."
   ]
  },
  {
   "cell_type": "code",
   "execution_count": 91,
   "metadata": {
    "collapsed": false
   },
   "outputs": [
    {
     "name": "stdout",
     "output_type": "stream",
     "text": [
      "5996\n"
     ]
    }
   ],
   "source": [
    "print(np.sum(lofar[\"lr_index_i\"][lr_i_and_w1] != lofar[\"lr_index_w1\"][lr_i_and_w1]))"
   ]
  },
  {
   "cell_type": "markdown",
   "metadata": {},
   "source": [
    "#### Duplicated sources\n",
    "\n",
    "This is the nymber of sources of the combined catalogue that are combined to multiple LOFAR sources. In the case of the catalogue of Gaussians the number can be very high."
   ]
  },
  {
   "cell_type": "code",
   "execution_count": 92,
   "metadata": {
    "collapsed": false
   },
   "outputs": [],
   "source": [
    "values, counts = np.unique(lofar[lofar[\"lr_type_1\"] != 0][\"lr_index_1\"], return_counts=True)"
   ]
  },
  {
   "cell_type": "code",
   "execution_count": 93,
   "metadata": {
    "collapsed": false
   },
   "outputs": [
    {
     "data": {
      "text/plain": [
       "1912"
      ]
     },
     "execution_count": 93,
     "metadata": {},
     "output_type": "execute_result"
    }
   ],
   "source": [
    "len(values[counts > 1])"
   ]
  },
  {
   "cell_type": "code",
   "execution_count": 94,
   "metadata": {
    "collapsed": false
   },
   "outputs": [],
   "source": [
    "n_dup, n_sour = np.unique(counts[counts > 1], return_counts=True)"
   ]
  },
  {
   "cell_type": "code",
   "execution_count": 95,
   "metadata": {
    "collapsed": false
   },
   "outputs": [
    {
     "data": {
      "text/plain": [
       "<matplotlib.text.Text at 0x7f905ee19fd0>"
      ]
     },
     "execution_count": 95,
     "metadata": {},
     "output_type": "execute_result"
    },
    {
     "data": {
      "image/png": "[encoded data removed]",
      "text/plain": [
       "<matplotlib.figure.Figure at 0x7f90e5988e80>"
      ]
     },
     "metadata": {},
     "output_type": "display_data"
    }
   ],
   "source": [
    "plt.rcParams[\"figure.figsize\"] = (6,6)\n",
    "semilogy(n_dup, n_sour, marker=\"x\")\n",
    "xlabel(\"Number of multiple matches\")\n",
    "ylabel(\"Number of sources in the category\")"
   ]
  },
  {
   "cell_type": "markdown",
   "metadata": {},
   "source": [
    "### Save intermediate data"
   ]
  },
  {
   "cell_type": "code",
   "execution_count": 97,
   "metadata": {
    "collapsed": false
   },
   "outputs": [],
   "source": [
    "if save_intermediate:\n",
    "    pickle.dump([bin_list_i, center_i, Q0_i, n_m_i, q_m_i], \n",
    "                open(\"{}/lofar_params_1i.pckl\".format(idp), 'wb'))\n",
    "    pickle.dump([bin_list_w1, center_w1, Q0_w1, n_m_w1, q_m_w1], \n",
    "                open(\"{}/lofar_params_1w1.pckl\".format(idp), 'wb'))\n",
    "    lofar.write(\"{}/lofar_m1.fits\".format(idp), format=\"fits\")"
   ]
  },
  {
   "cell_type": "markdown",
   "metadata": {},
   "source": [
    "## Second iteration using colour\n",
    "\n",
    "From now on we will take into account the effect of the colour. The sample was distributed in several categories according to the colour of the source and this is considered here.\n",
    "\n",
    "### Rusable parameters for all the iterations\n",
    "\n",
    "These parameters are derived from the underlying population and will not change.\n",
    "\n",
    "First we compute the number of galaxies in each bin for the combined catalogue"
   ]
  },
  {
   "cell_type": "code",
   "execution_count": 102,
   "metadata": {
    "collapsed": false
   },
   "outputs": [],
   "source": [
    "bin_list = [bin_list_w1 if i == 0 else bin_list_i for i in range(len(colour_bin_def))]\n",
    "centers = [center_w1 if i == 0 else center_i for i in range(len(colour_bin_def))]"
   ]
  },
  {
   "cell_type": "code",
   "execution_count": 98,
   "metadata": {
    "collapsed": true
   },
   "outputs": [],
   "source": [
    "numbers_combined_bins = np.array([np.sum(a[\"condition\"]) for a in colour_bin_def])"
   ]
  },
  {
   "cell_type": "code",
   "execution_count": 99,
   "metadata": {
    "collapsed": false
   },
   "outputs": [
    {
     "data": {
      "text/plain": [
       "array([ 821044, 3071319,   84707,   60082,  103264,  149390,  107874,\n",
       "        126702,  135867,  133622,  120776,  100308,   77175,   55963,\n",
       "         58777,   18318,    6775])"
      ]
     },
     "execution_count": 99,
     "metadata": {},
     "output_type": "execute_result"
    }
   ],
   "source": [
    "numbers_combined_bins"
   ]
  },
  {
   "cell_type": "markdown",
   "metadata": {},
   "source": [
    "Get the colour category and magnitudes for the matched LOFAR sources"
   ]
  },
  {
   "cell_type": "code",
   "execution_count": 100,
   "metadata": {
    "collapsed": true
   },
   "outputs": [],
   "source": [
    "n_m = []\n",
    "\n",
    "# W1 only sources\n",
    "n_m.append(get_n_m(combined[\"W1mag\"][combined[\"category\"] == 0], bin_list_w1, field.area))\n",
    "\n",
    "# Rest of the sources\n",
    "for i in range(1, len(colour_bin_def)):\n",
    "    n_m.append(get_n_m(combined[\"i\"][combined[\"category\"] == i], bin_list_i, field.area))"
   ]
  },
  {
   "cell_type": "code",
   "execution_count": 103,
   "metadata": {
    "collapsed": false
   },
   "outputs": [
    {
     "data": {
      "image/png": "[encoded data removed]",
      "text/plain": [
       "<matplotlib.figure.Figure at 0x7f90e5b83be0>"
      ]
     },
     "metadata": {},
     "output_type": "display_data"
    }
   ],
   "source": [
    "plt.rcParams[\"figure.figsize\"] = (15,15)\n",
    "for i, n_m_k in enumerate(n_m):\n",
    "    subplot(5,5,i+1)\n",
    "    plot(centers[i], n_m_k)"
   ]
  },
  {
   "cell_type": "markdown",
   "metadata": {},
   "source": [
    "### Parameters of the matched sample\n",
    "\n",
    "The parameters derived from the matched LOFAR galaxies: $q_0$, q(m) and the number of sources per category.\n",
    "\n",
    "The columns \"category\", \"W1mag\" and \"i\" will contain the properties of the matched galaxies and will be updated in each iteration to save space."
   ]
  },
  {
   "cell_type": "code",
   "execution_count": 104,
   "metadata": {
    "collapsed": true
   },
   "outputs": [],
   "source": [
    "lofar[\"category\"] = np.nan\n",
    "lofar[\"W1mag\"] = np.nan\n",
    "lofar[\"i\"] = np.nan"
   ]
  },
  {
   "cell_type": "code",
   "execution_count": 105,
   "metadata": {
    "collapsed": false
   },
   "outputs": [],
   "source": [
    "c = ~np.isnan(lofar[\"lr_index_1\"])\n",
    "indices = lofar[\"lr_index_1\"][c].astype(int)\n",
    "lofar[\"category\"][c] = combined[indices][\"category\"]\n",
    "lofar[\"W1mag\"][c] = combined[indices][\"W1mag\"]\n",
    "lofar[\"i\"][c] = combined[indices][\"i\"]"
   ]
  },
  {
   "cell_type": "markdown",
   "metadata": {},
   "source": [
    "The next parameter represent the number of matched LOFAR sources in each colour category."
   ]
  },
  {
   "cell_type": "code",
   "execution_count": 106,
   "metadata": {
    "collapsed": true
   },
   "outputs": [],
   "source": [
    "numbers_lofar_combined_bins = np.array([np.sum(lofar[\"category\"] == c) for c in range(len(numbers_combined_bins))])"
   ]
  },
  {
   "cell_type": "code",
   "execution_count": 107,
   "metadata": {
    "collapsed": false
   },
   "outputs": [
    {
     "data": {
      "text/plain": [
       "array([21212,  5627,   214,   174,   628,  2377,  3220,  4853,  5554,\n",
       "        5410,  4953,  4686,  4029,  3465,  4608,  1895,   631])"
      ]
     },
     "execution_count": 107,
     "metadata": {},
     "output_type": "execute_result"
    }
   ],
   "source": [
    "numbers_lofar_combined_bins"
   ]
  },
  {
   "cell_type": "markdown",
   "metadata": {},
   "source": [
    "The $Q_0$ for each category are obtained by dividing the number of sources in the category by the total number of sources in the sample."
   ]
  },
  {
   "cell_type": "code",
   "execution_count": 108,
   "metadata": {
    "collapsed": true
   },
   "outputs": [],
   "source": [
    "Q_0_colour = numbers_lofar_combined_bins/len(lofar) ### Q_0"
   ]
  },
  {
   "cell_type": "code",
   "execution_count": 109,
   "metadata": {
    "collapsed": true
   },
   "outputs": [],
   "source": [
    "q0_total = np.sum(Q_0_colour)"
   ]
  },
  {
   "cell_type": "code",
   "execution_count": 110,
   "metadata": {
    "collapsed": false
   },
   "outputs": [
    {
     "data": {
      "text/plain": [
       "0.67849530821823023"
      ]
     },
     "execution_count": 110,
     "metadata": {},
     "output_type": "execute_result"
    }
   ],
   "source": [
    "q0_total"
   ]
  },
  {
   "cell_type": "markdown",
   "metadata": {},
   "source": [
    "The q(m) is not estimated with the method of Fleuren et al. but with the most updated distributions and numbers for the matches."
   ]
  },
  {
   "cell_type": "code",
   "execution_count": 111,
   "metadata": {
    "collapsed": false
   },
   "outputs": [],
   "source": [
    "q_m = []\n",
    "radius = 15. \n",
    "\n",
    "# W1 only sources\n",
    "q_m.append(get_q_m(lofar[\"W1mag\"][lofar[\"category\"] == 0], \n",
    "                   bin_list_w1, \n",
    "                   numbers_lofar_combined_bins[0], \n",
    "                   n_m[0], \n",
    "                   field.area, \n",
    "                   radius=radius))\n",
    "\n",
    "# Rest of the sources\n",
    "for i in range(1, len(numbers_lofar_combined_bins)):\n",
    "    q_m.append(get_q_m(lofar[\"i\"][lofar[\"category\"] == i], \n",
    "                   bin_list_i, \n",
    "                   numbers_lofar_combined_bins[i], \n",
    "                   n_m[i], \n",
    "                   field.area, \n",
    "                   radius=radius))"
   ]
  },
  {
   "cell_type": "code",
   "execution_count": 112,
   "metadata": {
    "collapsed": false
   },
   "outputs": [
    {
     "data": {
      "image/png": "[encoded data removed]",
      "text/plain": [
       "<matplotlib.figure.Figure at 0x7f90e531beb8>"
      ]
     },
     "metadata": {},
     "output_type": "display_data"
    }
   ],
   "source": [
    "plt.rcParams[\"figure.figsize\"] = (15,15)\n",
    "for i, q_m_k in enumerate(q_m):\n",
    "    subplot(5,5,i+1)\n",
    "    plot(centers[i], q_m_k)"
   ]
  },
  {
   "cell_type": "markdown",
   "metadata": {},
   "source": [
    "### Save intermediate parameters"
   ]
  },
  {
   "cell_type": "code",
   "execution_count": 113,
   "metadata": {
    "collapsed": true
   },
   "outputs": [],
   "source": [
    "if save_intermediate:\n",
    "    pickle.dump([bin_list, centers, Q_0_colour, n_m, q_m], \n",
    "                open(\"{}/lofar_params_2.pckl\".format(idp), 'wb'))"
   ]
  },
  {
   "cell_type": "markdown",
   "metadata": {},
   "source": [
    "### Prepare for ML"
   ]
  },
  {
   "cell_type": "code",
   "execution_count": 114,
   "metadata": {
    "collapsed": true
   },
   "outputs": [],
   "source": [
    "selection = ~np.isnan(combined[\"category\"]) # Avoid the two dreaded sources with no actual data\n",
    "catalogue = combined[selection]"
   ]
  },
  {
   "cell_type": "code",
   "execution_count": 115,
   "metadata": {
    "collapsed": true
   },
   "outputs": [],
   "source": [
    "radius = 15"
   ]
  },
  {
   "cell_type": "code",
   "execution_count": 116,
   "metadata": {
    "collapsed": true
   },
   "outputs": [],
   "source": [
    "def apply_ml(i, likelihood_ratio_function):\n",
    "    idx_0 = idx_i[idx_lofar == i]\n",
    "    d2d_0 = d2d[idx_lofar == i]\n",
    "    \n",
    "    category = catalogue[\"category\"][idx_0].astype(int)\n",
    "    mag = catalogue[\"i\"][idx_0]\n",
    "    mag[category == 0] = catalogue[\"W1mag\"][idx_0][category == 0]\n",
    "    \n",
    "    lofar_ra = lofar[i][\"RA\"]\n",
    "    lofar_dec = lofar[i][\"DEC\"]\n",
    "    lofar_pa = lofar[i][\"PA\"]\n",
    "    lofar_maj_err = lofar[i][\"E_Maj\"]\n",
    "    lofar_min_err = lofar[i][\"E_Min\"]\n",
    "    c_ra = catalogue[\"ra\"][idx_0]\n",
    "    c_dec = catalogue[\"dec\"][idx_0]\n",
    "    c_ra_err = catalogue[\"raErr\"][idx_0]\n",
    "    c_dec_err = catalogue[\"decErr\"][idx_0]\n",
    "    \n",
    "    sigma = get_sigma(lofar_maj_err, lofar_min_err, lofar_pa, \n",
    "                      lofar_ra, lofar_dec, \n",
    "                      c_ra, c_dec, c_ra_err, c_dec_err)\n",
    "\n",
    "    lr_0 = likelihood_ratio_function(mag, d2d_0.arcsec, sigma, category)\n",
    "    \n",
    "    chosen_index = np.argmax(lr_0)\n",
    "    result = [combined_aux_index[selection][idx_0[chosen_index]], # Index\n",
    "              (d2d_0.arcsec)[chosen_index],                        # distance\n",
    "              lr_0[chosen_index]]                                  # LR\n",
    "    return result"
   ]
  },
  {
   "cell_type": "markdown",
   "metadata": {},
   "source": [
    "### Run the cross-match\n",
    "\n",
    "This will not need to be repeated after"
   ]
  },
  {
   "cell_type": "code",
   "execution_count": 117,
   "metadata": {
    "collapsed": true
   },
   "outputs": [],
   "source": [
    "idx_lofar, idx_i, d2d, d3d = search_around_sky(\n",
    "    coords_lofar, coords_combined[selection], radius*u.arcsec)"
   ]
  },
  {
   "cell_type": "code",
   "execution_count": 118,
   "metadata": {
    "collapsed": true
   },
   "outputs": [],
   "source": [
    "idx_lofar_unique = np.unique(idx_lofar)"
   ]
  },
  {
   "cell_type": "markdown",
   "metadata": {},
   "source": [
    "### Run the ML matching"
   ]
  },
  {
   "cell_type": "code",
   "execution_count": 119,
   "metadata": {
    "collapsed": false
   },
   "outputs": [],
   "source": [
    "likelihood_ratio = MultiMLEstimator(Q_0_colour, n_m, q_m, centers)"
   ]
  },
  {
   "cell_type": "code",
   "execution_count": 120,
   "metadata": {
    "collapsed": true
   },
   "outputs": [],
   "source": [
    "def ml(i):\n",
    "    return apply_ml(i, likelihood_ratio)"
   ]
  },
  {
   "cell_type": "code",
   "execution_count": 121,
   "metadata": {
    "collapsed": false
   },
   "outputs": [
    {
     "name": "stderr",
     "output_type": "stream",
     "text": [
      "100%|██████████| 104K/104K [36:24<00:00, 47.6it/s]\n",
      "103904it [00:00, 290287.96it/s]\n"
     ]
    }
   ],
   "source": [
    "res = parallel_process(idx_lofar_unique, ml, n_jobs=4)"
   ]
  },
  {
   "cell_type": "code",
   "execution_count": 122,
   "metadata": {
    "collapsed": true
   },
   "outputs": [],
   "source": [
    "lofar[\"lr_index_2\"] = np.nan\n",
    "lofar[\"lr_dist_2\"] = np.nan\n",
    "lofar[\"lr_2\"] = np.nan"
   ]
  },
  {
   "cell_type": "code",
   "execution_count": 123,
   "metadata": {
    "collapsed": false
   },
   "outputs": [],
   "source": [
    "(lofar[\"lr_index_2\"][idx_lofar_unique], \n",
    " lofar[\"lr_dist_2\"][idx_lofar_unique], \n",
    " lofar[\"lr_2\"][idx_lofar_unique]) = list(map(list, zip(*res)))"
   ]
  },
  {
   "cell_type": "markdown",
   "metadata": {},
   "source": [
    "Get the new threshold for the ML matching. FIX THIS"
   ]
  },
  {
   "cell_type": "code",
   "execution_count": 124,
   "metadata": {
    "collapsed": true
   },
   "outputs": [],
   "source": [
    "lofar[\"lr_2\"][np.isnan(lofar[\"lr_2\"])] = 0"
   ]
  },
  {
   "cell_type": "code",
   "execution_count": 126,
   "metadata": {
    "collapsed": false
   },
   "outputs": [],
   "source": [
    "threshold = np.percentile(lofar[\"lr_2\"], 100*(1 - q0_total))\n",
    "#manual_q0 = 0.65\n",
    "#threshold = np.percentile(lofar[\"lr_2\"], 100*(1 - manual_q0))"
   ]
  },
  {
   "cell_type": "code",
   "execution_count": 127,
   "metadata": {
    "collapsed": false
   },
   "outputs": [
    {
     "data": {
      "text/plain": [
       "0.0087984286828943943"
      ]
     },
     "execution_count": 127,
     "metadata": {},
     "output_type": "execute_result"
    }
   ],
   "source": [
    "threshold"
   ]
  },
  {
   "cell_type": "code",
   "execution_count": 128,
   "metadata": {
    "collapsed": false
   },
   "outputs": [
    {
     "data": {
      "image/png": "[encoded data removed]",
      "text/plain": [
       "<matplotlib.figure.Figure at 0x7f905c330a20>"
      ]
     },
     "metadata": {},
     "output_type": "display_data"
    }
   ],
   "source": [
    "plt.rcParams[\"figure.figsize\"] = (15,6)\n",
    "subplot(1,2,1)\n",
    "hist(lofar[lofar[\"lr_2\"] != 0][\"lr_2\"], bins=200)\n",
    "vlines([threshold_i], 0, 1000)\n",
    "ylim([0,1000])\n",
    "subplot(1,2,2)\n",
    "hist(np.log10(lofar[lofar[\"lr_2\"] != 0][\"lr_2\"]+1), bins=200)\n",
    "vlines(np.log10(threshold_i+1), 0, 1000)\n",
    "ticks, _ = xticks()\n",
    "xticks(ticks, [\"{:.1f}\".format(10**t-1) for t in ticks])\n",
    "ylim([0,1000]);"
   ]
  },
  {
   "cell_type": "code",
   "execution_count": 129,
   "metadata": {
    "collapsed": true
   },
   "outputs": [],
   "source": [
    "lofar[\"lr_index_sel_2\"] = lofar[\"lr_index_2\"]\n",
    "lofar[\"lr_index_sel_2\"][lofar[\"lr_2\"] < threshold] = np.nan"
   ]
  },
  {
   "cell_type": "code",
   "execution_count": 130,
   "metadata": {
    "collapsed": true
   },
   "outputs": [],
   "source": [
    "n_changes = np.sum((lofar[\"lr_index_sel_2\"] != lofar[\"lr_index_1\"]) & \n",
    "                   ~np.isnan(lofar[\"lr_index_sel_2\"]) &\n",
    "                   ~np.isnan(lofar[\"lr_index_1\"]))"
   ]
  },
  {
   "cell_type": "code",
   "execution_count": 131,
   "metadata": {
    "collapsed": false
   },
   "outputs": [
    {
     "data": {
      "text/plain": [
       "840"
      ]
     },
     "execution_count": 131,
     "metadata": {},
     "output_type": "execute_result"
    }
   ],
   "source": [
    "n_changes"
   ]
  },
  {
   "cell_type": "markdown",
   "metadata": {},
   "source": [
    "### Save intermediate data"
   ]
  },
  {
   "cell_type": "code",
   "execution_count": 134,
   "metadata": {
    "collapsed": false
   },
   "outputs": [],
   "source": [
    "if save_intermediate:\n",
    "    lofar.write(\"{}/lofar_m2.fits\".format(idp), format=\"fits\")"
   ]
  },
  {
   "cell_type": "markdown",
   "metadata": {},
   "source": [
    "## Save the combined data"
   ]
  },
  {
   "cell_type": "code",
   "execution_count": null,
   "metadata": {
    "collapsed": true
   },
   "outputs": [],
   "source": [
    "combined[\"lr_index_sel_2\"] = np.arange(len(combined)).astype(float)"
   ]
  },
  {
   "cell_type": "code",
   "execution_count": null,
   "metadata": {
    "collapsed": true
   },
   "outputs": [],
   "source": [
    "combined[\"i\"].fill_value = 1e+20\n",
    "combined[\"W1mag\"].fill_value = 1e+20\n",
    "combined[\"colour\"].fill_value = 1e+20\n",
    "combined[\"category\"].fill_value = 999999"
   ]
  },
  {
   "cell_type": "code",
   "execution_count": null,
   "metadata": {
    "collapsed": true
   },
   "outputs": [],
   "source": [
    "lofar.remove_column(\"i\")\n",
    "lofar.remove_column(\"category\")\n",
    "lofar.remove_column(\"W1mag\")"
   ]
  },
  {
   "cell_type": "code",
   "execution_count": null,
   "metadata": {
    "collapsed": true
   },
   "outputs": [],
   "source": [
    "lofar_combined = join(lofar, combined, join_type='left', keys='lr_index_sel_2')"
   ]
  },
  {
   "cell_type": "code",
   "execution_count": null,
   "metadata": {
    "collapsed": true
   },
   "outputs": [],
   "source": [
    "for col in lofar_combined.colnames:\n",
    "    try:\n",
    "        print(col, lofar_combined[col].fill_value)\n",
    "    except AttributeError:\n",
    "        print(col, \"NO_FILL\")"
   ]
  },
  {
   "cell_type": "code",
   "execution_count": null,
   "metadata": {
    "collapsed": true
   },
   "outputs": [],
   "source": [
    "lofar_combined.write(\"lofar_matched_gaus.fits\", format=\"fits\")"
   ]
  }
 ],
 "metadata": {
  "kernelspec": {
   "display_name": "Python 3 (py36)",
   "language": "python",
   "name": "py36"
  },
  "language_info": {
   "codemirror_mode": {
    "name": "ipython",
    "version": 3
   },
   "file_extension": ".py",
   "mimetype": "text/x-python",
   "name": "python",
   "nbconvert_exporter": "python",
   "pygments_lexer": "ipython3",
   "version": "3.6.0"
  }
 },
 "nbformat": 4,
 "nbformat_minor": 0
}
