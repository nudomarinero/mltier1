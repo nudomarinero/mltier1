{
 "cells": [
  {
   "cell_type": "markdown",
   "metadata": {},
   "source": [
    "# Compare the LR results before and after correcting the Gaussian code"
   ]
  },
  {
   "cell_type": "code",
   "execution_count": 2,
   "metadata": {},
   "outputs": [],
   "source": [
    "import numpy as np\n",
    "from astropy.table import Table, join\n",
    "import os\n",
    "from matplotlib import pyplot as plt"
   ]
  },
  {
   "cell_type": "markdown",
   "metadata": {},
   "source": [
    "## Load data"
   ]
  },
  {
   "cell_type": "code",
   "execution_count": 4,
   "metadata": {},
   "outputs": [],
   "source": [
    "old = Table.read(\"../lofar_pw_pdf.fits\")"
   ]
  },
  {
   "cell_type": "code",
   "execution_count": 5,
   "metadata": {},
   "outputs": [],
   "source": [
    "new = Table.read(\"../lofar_pw_corSigma.fits\")"
   ]
  },
  {
   "cell_type": "code",
   "execution_count": 6,
   "metadata": {},
   "outputs": [
    {
     "data": {
      "text/plain": [
       "318769"
      ]
     },
     "execution_count": 6,
     "metadata": {},
     "output_type": "execute_result"
    }
   ],
   "source": [
    "len(old)"
   ]
  },
  {
   "cell_type": "code",
   "execution_count": 7,
   "metadata": {},
   "outputs": [
    {
     "data": {
      "text/plain": [
       "325694"
      ]
     },
     "execution_count": 7,
     "metadata": {},
     "output_type": "execute_result"
    }
   ],
   "source": [
    "len(new)"
   ]
  },
  {
   "cell_type": "code",
   "execution_count": 8,
   "metadata": {},
   "outputs": [
    {
     "data": {
      "text/plain": [
       "['Source_Name',\n",
       " 'RA',\n",
       " 'E_RA',\n",
       " 'DEC',\n",
       " 'E_DEC',\n",
       " 'Peak_flux',\n",
       " 'E_Peak_flux',\n",
       " 'Total_flux',\n",
       " 'E_Total_flux',\n",
       " 'Maj',\n",
       " 'E_Maj',\n",
       " 'Min',\n",
       " 'E_Min',\n",
       " 'PA',\n",
       " 'E_PA',\n",
       " 'Isl_rms',\n",
       " 'S_Code',\n",
       " 'Mosaic_ID',\n",
       " 'AllWISE',\n",
       " 'objID',\n",
       " 'ra',\n",
       " 'dec',\n",
       " 'raErr',\n",
       " 'decErr',\n",
       " 'W1mag',\n",
       " 'W1magErr',\n",
       " 'i',\n",
       " 'iErr',\n",
       " 'colour',\n",
       " 'category',\n",
       " 'lr',\n",
       " 'lr_dist']"
      ]
     },
     "execution_count": 8,
     "metadata": {},
     "output_type": "execute_result"
    }
   ],
   "source": [
    "old.colnames"
   ]
  },
  {
   "cell_type": "code",
   "execution_count": 9,
   "metadata": {},
   "outputs": [],
   "source": [
    "pwl = join(old, new, \n",
    "           join_type='left', \n",
    "           keys='Source_Name', \n",
    "           uniq_col_name='{col_name}{table_name}', \n",
    "           table_names=['_old', '_new'])"
   ]
  },
  {
   "cell_type": "code",
   "execution_count": 10,
   "metadata": {},
   "outputs": [
    {
     "data": {
      "text/plain": [
       "(array([1.00000e+00, 0.00000e+00, 0.00000e+00, 1.00000e+00, 0.00000e+00,\n",
       "        1.00000e+00, 2.00000e+00, 5.00000e+00, 2.00000e+00, 1.30000e+01,\n",
       "        6.00000e+00, 7.00000e+00, 1.80000e+01, 3.70000e+01, 5.70000e+01,\n",
       "        8.90000e+01, 1.35000e+02, 2.16000e+02, 3.89000e+02, 7.63000e+02,\n",
       "        1.32600e+03, 2.74000e+03, 6.54800e+03, 1.66990e+04, 5.02190e+04,\n",
       "        1.87843e+05, 1.12860e+04, 5.62400e+03, 3.65700e+03, 2.55500e+03,\n",
       "        1.78100e+03, 1.24700e+03, 9.87000e+02, 6.21000e+02, 4.85000e+02,\n",
       "        3.42000e+02, 3.08000e+02, 2.37000e+02, 2.07000e+02, 1.57000e+02,\n",
       "        9.60000e+01, 9.30000e+01, 7.60000e+01, 8.00000e+01, 6.50000e+01,\n",
       "        3.90000e+01, 2.20000e+01, 1.90000e+01, 1.20000e+01, 6.00000e+00]),\n",
       " array([-3736.78453907, -3590.04282495, -3443.30111083, -3296.5593967 ,\n",
       "        -3149.81768258, -3003.07596845, -2856.33425433, -2709.5925402 ,\n",
       "        -2562.85082608, -2416.10911196, -2269.36739783, -2122.62568371,\n",
       "        -1975.88396958, -1829.14225546, -1682.40054134, -1535.65882721,\n",
       "        -1388.91711309, -1242.17539896, -1095.43368484,  -948.69197071,\n",
       "         -801.95025659,  -655.20854247,  -508.46682834,  -361.72511422,\n",
       "         -214.98340009,   -68.24168597,    78.50002815,   225.24174228,\n",
       "          371.9834564 ,   518.72517053,   665.46688465,   812.20859878,\n",
       "          958.9503129 ,  1105.69202702,  1252.43374115,  1399.17545527,\n",
       "         1545.9171694 ,  1692.65888352,  1839.40059764,  1986.14231177,\n",
       "         2132.88402589,  2279.62574002,  2426.36745414,  2573.10916827,\n",
       "         2719.85088239,  2866.59259651,  3013.33431064,  3160.07602476,\n",
       "         3306.81773889,  3453.55945301,  3600.30116713]),\n",
       " <a list of 50 Patch objects>)"
      ]
     },
     "execution_count": 10,
     "metadata": {},
     "output_type": "execute_result"
    },
    {
     "data": {
      "image/png": "[encoded data removed]",
      "text/plain": [
       "<matplotlib.figure.Figure at 0x7f01bec3e748>"
      ]
     },
     "metadata": {},
     "output_type": "display_data"
    }
   ],
   "source": [
    "A = pwl[\"lr_new\"]-pwl[\"lr_old\"]\n",
    "plt.hist(A[~np.isnan(A)], bins=50)"
   ]
  },
  {
   "cell_type": "code",
   "execution_count": 11,
   "metadata": {},
   "outputs": [],
   "source": [
    "cond = (pwl['ra_old'] == pwl['ra_new']) & (pwl['dec_old'] == pwl['dec_new'])"
   ]
  },
  {
   "cell_type": "code",
   "execution_count": 12,
   "metadata": {},
   "outputs": [
    {
     "data": {
      "text/plain": [
       "304332"
      ]
     },
     "execution_count": 12,
     "metadata": {},
     "output_type": "execute_result"
    }
   ],
   "source": [
    "# Galaxies with the same id (or lack of id)\n",
    "np.sum(cond)"
   ]
  },
  {
   "cell_type": "code",
   "execution_count": 13,
   "metadata": {},
   "outputs": [
    {
     "data": {
      "text/plain": [
       "14439"
      ]
     },
     "execution_count": 13,
     "metadata": {},
     "output_type": "execute_result"
    }
   ],
   "source": [
    "len(pwl) - np.sum(cond)"
   ]
  },
  {
   "cell_type": "code",
   "execution_count": 14,
   "metadata": {},
   "outputs": [
    {
     "data": {
      "text/html": [
       "&lt;Table masked=True length=12679&gt;\n",
       "<table id=\"table139645472206184\" class=\"table-striped table-bordered table-condensed\">\n",
       "<thead><tr><th>Source_Name</th><th>RA_old</th><th>E_RA_old</th><th>DEC_old</th><th>E_DEC_old</th><th>Peak_flux_old</th><th>E_Peak_flux_old</th><th>Total_flux_old</th><th>E_Total_flux_old</th><th>Maj_old</th><th>E_Maj_old</th><th>Min_old</th><th>E_Min_old</th><th>PA_old</th><th>E_PA_old</th><th>Isl_rms_old</th><th>S_Code_old</th><th>Mosaic_ID_old</th><th>AllWISE_old</th><th>objID_old</th><th>ra_old</th><th>dec_old</th><th>raErr_old</th><th>decErr_old</th><th>W1mag_old</th><th>W1magErr_old</th><th>i_old</th><th>iErr_old</th><th>colour_old</th><th>category_old</th><th>lr_old</th><th>lr_dist_old</th><th>RA_new</th><th>E_RA_new</th><th>DEC_new</th><th>E_DEC_new</th><th>Peak_flux_new</th><th>E_Peak_flux_new</th><th>Total_flux_new</th><th>E_Total_flux_new</th><th>Maj_new</th><th>E_Maj_new</th><th>Min_new</th><th>E_Min_new</th><th>PA_new</th><th>E_PA_new</th><th>Isl_rms_new</th><th>S_Code_new</th><th>Mosaic_ID_new</th><th>AllWISE_new</th><th>objID_new</th><th>ra_new</th><th>dec_new</th><th>raErr_new</th><th>decErr_new</th><th>W1mag_new</th><th>W1magErr_new</th><th>i_new</th><th>iErr_new</th><th>colour_new</th><th>category_new</th><th>lr_new</th><th>lr_dist_new</th></tr></thead>\n",
       "<thead><tr><th></th><th></th><th></th><th></th><th></th><th></th><th></th><th></th><th></th><th></th><th></th><th></th><th></th><th></th><th></th><th></th><th></th><th></th><th></th><th></th><th></th><th></th><th></th><th></th><th></th><th></th><th></th><th></th><th></th><th></th><th></th><th></th><th>deg</th><th>arcsec</th><th>deg</th><th>arcsec</th><th>mJy / beam</th><th>mJy / beam</th><th>mJy</th><th>mJy</th><th>arcsec</th><th>arcsec</th><th>arcsec</th><th>arcsec</th><th>deg</th><th>deg</th><th>mJy / beam</th><th></th><th></th><th></th><th></th><th></th><th></th><th></th><th></th><th></th><th></th><th></th><th></th><th></th><th></th><th></th><th></th></tr></thead>\n",
       "<thead><tr><th>str22</th><th>float64</th><th>float64</th><th>float64</th><th>float64</th><th>float64</th><th>float64</th><th>float64</th><th>float64</th><th>float64</th><th>float64</th><th>float64</th><th>float64</th><th>float64</th><th>float64</th><th>float64</th><th>str1</th><th>str11</th><th>str19</th><th>int64</th><th>float64</th><th>float64</th><th>float64</th><th>float64</th><th>float64</th><th>float64</th><th>float64</th><th>float64</th><th>float64</th><th>float64</th><th>float64</th><th>float64</th><th>float64</th><th>float64</th><th>float64</th><th>float64</th><th>float64</th><th>float64</th><th>float64</th><th>float64</th><th>float64</th><th>float64</th><th>float64</th><th>float64</th><th>float64</th><th>float64</th><th>float64</th><th>str1</th><th>str8</th><th>str19</th><th>int64</th><th>float64</th><th>float64</th><th>float64</th><th>float64</th><th>float64</th><th>float64</th><th>float64</th><th>float64</th><th>float64</th><th>float64</th><th>float64</th><th>float64</th></tr></thead>\n",
       "<tr><td>ILTJ104358.55+513354.6</td><td>160.99396170310192</td><td>0.3804751732950043</td><td>51.56517118870972</td><td>0.35519395523884045</td><td>0.7504358543374862</td><td>0.11003057760648959</td><td>0.7238821644431407</td><td>0.1929865180123449</td><td>6.052143496251171</td><td>0.9112500467753947</td><td>5.741264073240394</td><td>0.8197450714237257</td><td>112.23586180232195</td><td>114.35902138229292</td><td>0.11110970808658749</td><td>S</td><td>P4Hetdex16</td><td>N/A</td><td>999999</td><td>1e+20</td><td>1e+20</td><td>1e+20</td><td>1e+20</td><td>1e+20</td><td>1e+20</td><td>1e+20</td><td>1e+20</td><td>1e+20</td><td>1e+20</td><td>nan</td><td>nan</td><td>160.99396170310192</td><td>0.3804751732950043</td><td>51.56517118870972</td><td>0.35519395523884045</td><td>0.7504358543374862</td><td>0.11003057760648959</td><td>0.7238821644431407</td><td>0.1929865180123449</td><td>6.052143496251171</td><td>0.9112500467753947</td><td>5.741264073240394</td><td>0.8197450714237257</td><td>112.23586180232195</td><td>114.35902138229292</td><td>0.11110970808658749</td><td>S</td><td>P4Hetdex</td><td>N/A</td><td>999999</td><td>1e+20</td><td>1e+20</td><td>1e+20</td><td>1e+20</td><td>1e+20</td><td>1e+20</td><td>1e+20</td><td>1e+20</td><td>1e+20</td><td>1e+20</td><td>nan</td><td>nan</td></tr>\n",
       "<tr><td>ILTJ104406.52+513113.1</td><td>161.02716295073938</td><td>0.4011857454685031</td><td>51.52030892960141</td><td>0.2956757648741586</td><td>0.7270173923847574</td><td>0.10214151036916275</td><td>0.6074119548975849</td><td>0.1909636448440653</td><td>6.268112922677453</td><td>1.0178900114002445</td><td>4.801343377156147</td><td>0.5835977430401842</td><td>60.57505752252567</td><td>21.443186110238656</td><td>0.10890992416534573</td><td>S</td><td>P4Hetdex16</td><td>N/A</td><td>999999</td><td>1e+20</td><td>1e+20</td><td>1e+20</td><td>1e+20</td><td>1e+20</td><td>1e+20</td><td>1e+20</td><td>1e+20</td><td>1e+20</td><td>1e+20</td><td>nan</td><td>nan</td><td>161.02716295073938</td><td>0.4011857454685031</td><td>51.52030892960141</td><td>0.2956757648741586</td><td>0.7270173923847574</td><td>0.10214151036916275</td><td>0.6074119548975849</td><td>0.1909636448440653</td><td>6.268112922677453</td><td>1.0178900114002445</td><td>4.801343377156147</td><td>0.5835977430401842</td><td>60.57505752252567</td><td>21.443186110238656</td><td>0.10890992416534573</td><td>S</td><td>P4Hetdex</td><td>N/A</td><td>999999</td><td>1e+20</td><td>1e+20</td><td>1e+20</td><td>1e+20</td><td>1e+20</td><td>1e+20</td><td>1e+20</td><td>1e+20</td><td>1e+20</td><td>1e+20</td><td>nan</td><td>nan</td></tr>\n",
       "<tr><td>ILTJ104418.69+522635.8</td><td>161.07788017007587</td><td>0.1392443079737803</td><td>52.44328024264552</td><td>0.15365161017254791</td><td>1.8803603269742886</td><td>0.10945499310990824</td><td>1.8244981225922174</td><td>0.1916173331372365</td><td>6.083887081701809</td><td>0.36475149468082985</td><td>5.744506125661684</td><td>0.3246577502745283</td><td>13.250364279525344</td><td>39.6429350698305</td><td>0.11037105286959559</td><td>S</td><td>P4Hetdex16</td><td>N/A</td><td>999999</td><td>1e+20</td><td>1e+20</td><td>1e+20</td><td>1e+20</td><td>1e+20</td><td>1e+20</td><td>1e+20</td><td>1e+20</td><td>1e+20</td><td>1e+20</td><td>nan</td><td>nan</td><td>161.07788017007587</td><td>0.1392443079737803</td><td>52.44328024264552</td><td>0.15365161017254791</td><td>1.8803603269742886</td><td>0.10945499310990824</td><td>1.8244981225922174</td><td>0.1916173331372365</td><td>6.083887081701809</td><td>0.36475149468082985</td><td>5.744506125661684</td><td>0.3246577502745283</td><td>13.250364279525344</td><td>39.6429350698305</td><td>0.11037105286959559</td><td>S</td><td>P4Hetdex</td><td>N/A</td><td>999999</td><td>1e+20</td><td>1e+20</td><td>1e+20</td><td>1e+20</td><td>1e+20</td><td>1e+20</td><td>1e+20</td><td>1e+20</td><td>1e+20</td><td>1e+20</td><td>nan</td><td>nan</td></tr>\n",
       "<tr><td>ILTJ104435.58+523504.2</td><td>161.1482631171491</td><td>0.08568213610331692</td><td>52.58450341354888</td><td>0.0830429609908379</td><td>3.208150878287284</td><td>0.10862472207765825</td><td>3.065275865605974</td><td>0.19105289251250496</td><td>5.914684271250655</td><td>0.2018966289669094</td><td>5.818499590408209</td><td>0.19541653134798362</td><td>79.7336792381118</td><td>84.64457548122874</td><td>0.10991691669914871</td><td>S</td><td>P4Hetdex16</td><td>N/A</td><td>999999</td><td>1e+20</td><td>1e+20</td><td>1e+20</td><td>1e+20</td><td>1e+20</td><td>1e+20</td><td>1e+20</td><td>1e+20</td><td>1e+20</td><td>1e+20</td><td>nan</td><td>nan</td><td>161.1482631171491</td><td>0.08568213610331692</td><td>52.58450341354888</td><td>0.0830429609908379</td><td>3.208150878287284</td><td>0.10862472207765825</td><td>3.065275865605974</td><td>0.19105289251250496</td><td>5.914684271250655</td><td>0.2018966289669094</td><td>5.818499590408209</td><td>0.19541653134798362</td><td>79.7336792381118</td><td>84.64457548122874</td><td>0.10991691669914871</td><td>S</td><td>P4Hetdex</td><td>N/A</td><td>999999</td><td>1e+20</td><td>1e+20</td><td>1e+20</td><td>1e+20</td><td>1e+20</td><td>1e+20</td><td>1e+20</td><td>1e+20</td><td>1e+20</td><td>1e+20</td><td>nan</td><td>nan</td></tr>\n",
       "<tr><td>ILTJ104436.25+524735.2</td><td>161.15103385405467</td><td>1.2199617729336236</td><td>52.79312678166211</td><td>0.8644133872023749</td><td>0.3540097948942407</td><td>0.11011454494707756</td><td>0.5677568296586294</td><td>0.16598952916402196</td><td>8.661663562496447</td><td>2.9797587427210432</td><td>6.669417101265727</td><td>1.8757150060463206</td><td>107.53881858862735</td><td>53.67163232115898</td><td>0.10323095921194181</td><td>S</td><td>P4Hetdex16</td><td>N/A</td><td>999999</td><td>1e+20</td><td>1e+20</td><td>1e+20</td><td>1e+20</td><td>1e+20</td><td>1e+20</td><td>1e+20</td><td>1e+20</td><td>1e+20</td><td>1e+20</td><td>nan</td><td>nan</td><td>161.15103385405467</td><td>1.2199617729336236</td><td>52.79312678166211</td><td>0.8644133872023749</td><td>0.3540097948942407</td><td>0.11011454494707756</td><td>0.5677568296586294</td><td>0.16598952916402196</td><td>8.661663562496447</td><td>2.9797587427210432</td><td>6.669417101265727</td><td>1.8757150060463206</td><td>107.53881858862735</td><td>53.67163232115898</td><td>0.10323095921194181</td><td>S</td><td>P4Hetdex</td><td>N/A</td><td>999999</td><td>1e+20</td><td>1e+20</td><td>1e+20</td><td>1e+20</td><td>1e+20</td><td>1e+20</td><td>1e+20</td><td>1e+20</td><td>1e+20</td><td>1e+20</td><td>nan</td><td>nan</td></tr>\n",
       "<tr><td>ILTJ104444.07+511936.1</td><td>161.18360938477204</td><td>0.24009202735296814</td><td>51.326707066776294</td><td>0.27964659773273015</td><td>1.2490819284670485</td><td>0.11463794713995668</td><td>1.4963173845205207</td><td>0.18778394744352095</td><td>7.047989575236918</td><td>0.6893780970359981</td><td>6.122431132096382</td><td>0.5272378282351275</td><td>150.46446886540957</td><td>26.18714403351791</td><td>0.11065466242143884</td><td>S</td><td>P4Hetdex16</td><td>N/A</td><td>999999</td><td>1e+20</td><td>1e+20</td><td>1e+20</td><td>1e+20</td><td>1e+20</td><td>1e+20</td><td>1e+20</td><td>1e+20</td><td>1e+20</td><td>1e+20</td><td>nan</td><td>nan</td><td>161.18360938477204</td><td>0.24009202735296814</td><td>51.326707066776294</td><td>0.27964659773273015</td><td>1.2490819284670485</td><td>0.11463794713995668</td><td>1.4963173845205207</td><td>0.18778394744352095</td><td>7.047989575236918</td><td>0.6893780970359981</td><td>6.122431132096382</td><td>0.5272378282351275</td><td>150.46446886540957</td><td>26.18714403351791</td><td>0.11065466242143884</td><td>S</td><td>P4Hetdex</td><td>N/A</td><td>999999</td><td>1e+20</td><td>1e+20</td><td>1e+20</td><td>1e+20</td><td>1e+20</td><td>1e+20</td><td>1e+20</td><td>1e+20</td><td>1e+20</td><td>1e+20</td><td>nan</td><td>nan</td></tr>\n",
       "<tr><td>ILTJ104459.26+522548.7</td><td>161.24691576951935</td><td>0.15319821110047088</td><td>52.43019508431113</td><td>0.12370772586806064</td><td>2.078805373091584</td><td>0.11003620345428822</td><td>2.1631742131679084</td><td>0.1884511595995359</td><td>6.468146652899722</td><td>0.36115852258770487</td><td>5.7943461124981095</td><td>0.2907568683985586</td><td>92.4561145877511</td><td>18.4087689539321</td><td>0.10922510409727693</td><td>S</td><td>P4Hetdex16</td><td>N/A</td><td>999999</td><td>1e+20</td><td>1e+20</td><td>1e+20</td><td>1e+20</td><td>1e+20</td><td>1e+20</td><td>1e+20</td><td>1e+20</td><td>1e+20</td><td>1e+20</td><td>nan</td><td>nan</td><td>161.24691576951935</td><td>0.15319821110047088</td><td>52.43019508431113</td><td>0.12370772586806064</td><td>2.078805373091584</td><td>0.11003620345428822</td><td>2.1631742131679084</td><td>0.1884511595995359</td><td>6.468146652899722</td><td>0.36115852258770487</td><td>5.7943461124981095</td><td>0.2907568683985586</td><td>92.4561145877511</td><td>18.4087689539321</td><td>0.10922510409727693</td><td>S</td><td>P4Hetdex</td><td>N/A</td><td>999999</td><td>1e+20</td><td>1e+20</td><td>1e+20</td><td>1e+20</td><td>1e+20</td><td>1e+20</td><td>1e+20</td><td>1e+20</td><td>1e+20</td><td>1e+20</td><td>nan</td><td>nan</td></tr>\n",
       "<tr><td>ILTJ104505.08+530140.3</td><td>161.27118146589584</td><td>1.601209138617367</td><td>53.0278699329833</td><td>2.4242716705861094</td><td>0.3674352418591535</td><td>0.06448618761641643</td><td>7.117435452768374</td><td>0.06773581332541503</td><td>nan</td><td>nan</td><td>nan</td><td>nan</td><td>nan</td><td>nan</td><td>0.10877009481191635</td><td>S</td><td>P4Hetdex16</td><td>N/A</td><td>999999</td><td>1e+20</td><td>1e+20</td><td>1e+20</td><td>1e+20</td><td>1e+20</td><td>1e+20</td><td>1e+20</td><td>1e+20</td><td>1e+20</td><td>1e+20</td><td>nan</td><td>nan</td><td>161.27118146589584</td><td>1.601209138617367</td><td>53.0278699329833</td><td>2.4242716705861094</td><td>0.3674352418591535</td><td>0.06448618761641643</td><td>7.117435452768374</td><td>0.06773581332541503</td><td>31.952561397523215</td><td>5.717130991109009</td><td>21.83663454888869</td><td>3.759109988309131</td><td>0.752301043472845</td><td>23.92850660622191</td><td>0.10877009481191635</td><td>S</td><td>P4Hetdex</td><td>N/A</td><td>999999</td><td>1e+20</td><td>1e+20</td><td>1e+20</td><td>1e+20</td><td>1e+20</td><td>1e+20</td><td>1e+20</td><td>1e+20</td><td>1e+20</td><td>1e+20</td><td>nan</td><td>nan</td></tr>\n",
       "<tr><td>ILTJ104509.34+514531.1</td><td>161.28890899746335</td><td>0.3215004244592514</td><td>51.75865000558583</td><td>0.3087822159947033</td><td>0.7099355545937909</td><td>0.09271305269034723</td><td>0.5981837795488666</td><td>0.17132508811718583</td><td>6.001053684442445</td><td>0.8599360027680633</td><td>5.057016646140941</td><td>0.6018657789493743</td><td>46.16780908101893</td><td>31.05828598601022</td><td>0.09783437417354435</td><td>S</td><td>P4Hetdex16</td><td>N/A</td><td>999999</td><td>1e+20</td><td>1e+20</td><td>1e+20</td><td>1e+20</td><td>1e+20</td><td>1e+20</td><td>1e+20</td><td>1e+20</td><td>1e+20</td><td>1e+20</td><td>nan</td><td>nan</td><td>161.28890899746335</td><td>0.3215004244592514</td><td>51.75865000558583</td><td>0.3087822159947033</td><td>0.7099355545937909</td><td>0.09271305269034723</td><td>0.5981837795488666</td><td>0.17132508811718583</td><td>6.001053684442445</td><td>0.8599360027680633</td><td>5.057016646140941</td><td>0.6018657789493743</td><td>46.16780908101893</td><td>31.05828598601022</td><td>0.09783437417354435</td><td>S</td><td>P4Hetdex</td><td>N/A</td><td>999999</td><td>1e+20</td><td>1e+20</td><td>1e+20</td><td>1e+20</td><td>1e+20</td><td>1e+20</td><td>1e+20</td><td>1e+20</td><td>1e+20</td><td>1e+20</td><td>nan</td><td>nan</td></tr>\n",
       "<tr><td>...</td><td>...</td><td>...</td><td>...</td><td>...</td><td>...</td><td>...</td><td>...</td><td>...</td><td>...</td><td>...</td><td>...</td><td>...</td><td>...</td><td>...</td><td>...</td><td>...</td><td>...</td><td>...</td><td>...</td><td>...</td><td>...</td><td>...</td><td>...</td><td>...</td><td>...</td><td>...</td><td>...</td><td>...</td><td>...</td><td>...</td><td>...</td><td>...</td><td>...</td><td>...</td><td>...</td><td>...</td><td>...</td><td>...</td><td>...</td><td>...</td><td>...</td><td>...</td><td>...</td><td>...</td><td>...</td><td>...</td><td>...</td><td>...</td><td>...</td><td>...</td><td>...</td><td>...</td><td>...</td><td>...</td><td>...</td><td>...</td><td>...</td><td>...</td><td>...</td><td>...</td><td>...</td><td>...</td></tr>\n",
       "<tr><td>ILTJ152029.96+495917.8</td><td>230.12484821403467</td><td>0.03722151202149774</td><td>49.98829606972382</td><td>0.06506072273737616</td><td>8.682316929307623</td><td>0.12054750550305471</td><td>15.149193800545861</td><td>0.28763633993271837</td><td>8.749106824614495</td><td>0.15795677661758914</td><td>5.965037482290683</td><td>0.07876764057836</td><td>76.0001172927061</td><td>2.001076903456291</td><td>0.12054750550305471</td><td>M</td><td>P227+50</td><td>N/A</td><td>999999</td><td>1e+20</td><td>1e+20</td><td>1e+20</td><td>1e+20</td><td>1e+20</td><td>1e+20</td><td>1e+20</td><td>1e+20</td><td>1e+20</td><td>1e+20</td><td>nan</td><td>nan</td><td>230.12484821403467</td><td>0.03722151202149774</td><td>49.98829606972382</td><td>0.06506072273737616</td><td>8.682316929307623</td><td>0.12054750550305471</td><td>15.149193800545861</td><td>0.28763633993271837</td><td>8.749106824614495</td><td>0.15795677661758914</td><td>5.965037482290683</td><td>0.07876764057836</td><td>76.0001172927061</td><td>2.001076903456291</td><td>0.12054750550305471</td><td>M</td><td>P227+50</td><td>N/A</td><td>999999</td><td>1e+20</td><td>1e+20</td><td>1e+20</td><td>1e+20</td><td>1e+20</td><td>1e+20</td><td>1e+20</td><td>1e+20</td><td>1e+20</td><td>1e+20</td><td>nan</td><td>nan</td></tr>\n",
       "<tr><td>ILTJ152053.26+534624.4</td><td>230.22191225318585</td><td>0.6145211744323705</td><td>53.773453742727135</td><td>0.4788175314375589</td><td>1.3602823602543328</td><td>0.2397597629766541</td><td>1.8583078292366353</td><td>0.37867980106313837</td><td>7.91180361112263</td><td>1.5440828431314768</td><td>6.219759032679513</td><td>0.9900859453991127</td><td>64.9979317875435</td><td>35.76486982396624</td><td>0.22824716870673</td><td>S</td><td>P227+53</td><td>N/A</td><td>999999</td><td>1e+20</td><td>1e+20</td><td>1e+20</td><td>1e+20</td><td>1e+20</td><td>1e+20</td><td>1e+20</td><td>1e+20</td><td>1e+20</td><td>1e+20</td><td>nan</td><td>nan</td><td>230.22191225318585</td><td>0.6145211744323705</td><td>53.773453742727135</td><td>0.4788175314375589</td><td>1.3602823602543328</td><td>0.2397597629766541</td><td>1.8583078292366353</td><td>0.37867980106313837</td><td>7.91180361112263</td><td>1.5440828431314768</td><td>6.219759032679513</td><td>0.9900859453991127</td><td>64.9979317875435</td><td>35.76486982396624</td><td>0.22824716870673</td><td>S</td><td>P227+53</td><td>N/A</td><td>999999</td><td>1e+20</td><td>1e+20</td><td>1e+20</td><td>1e+20</td><td>1e+20</td><td>1e+20</td><td>1e+20</td><td>1e+20</td><td>1e+20</td><td>1e+20</td><td>nan</td><td>nan</td></tr>\n",
       "<tr><td>ILTJ152129.05+515755.4</td><td>230.37105039987154</td><td>0.025647087724637</td><td>51.96539795833628</td><td>0.04288014871828056</td><td>17.335821453611853</td><td>0.21187863603699952</td><td>21.18741786497023</td><td>0.48045551988396806</td><td>7.0827176947700385</td><td>0.10099830969432191</td><td>5.448543696816709</td><td>0.060355343450877265</td><td>90.58148999838481</td><td>2.2013324017455536</td><td>0.21187863603699952</td><td>M</td><td>P227+53</td><td>N/A</td><td>999999</td><td>1e+20</td><td>1e+20</td><td>1e+20</td><td>1e+20</td><td>1e+20</td><td>1e+20</td><td>1e+20</td><td>1e+20</td><td>1e+20</td><td>1e+20</td><td>nan</td><td>nan</td><td>230.37105039987154</td><td>0.025647087724637</td><td>51.96539795833628</td><td>0.04288014871828056</td><td>17.335821453611853</td><td>0.21187863603699952</td><td>21.18741786497023</td><td>0.48045551988396806</td><td>7.0827176947700385</td><td>0.10099830969432191</td><td>5.448543696816709</td><td>0.060355343450877265</td><td>90.58148999838481</td><td>2.2013324017455536</td><td>0.21187863603699952</td><td>M</td><td>P227+53</td><td>N/A</td><td>999999</td><td>1e+20</td><td>1e+20</td><td>1e+20</td><td>1e+20</td><td>1e+20</td><td>1e+20</td><td>1e+20</td><td>1e+20</td><td>1e+20</td><td>1e+20</td><td>nan</td><td>nan</td></tr>\n",
       "<tr><td>ILTJ152138.26+520831.4</td><td>230.40942772072216</td><td>0.2876561755724256</td><td>52.14207737034642</td><td>0.19003551227481258</td><td>1.7000159560797052</td><td>0.16478288589794218</td><td>1.4825424052304481</td><td>0.3022180511716143</td><td>6.2922282081368905</td><td>0.6899083013735393</td><td>4.991657902092878</td><td>0.42773632024198793</td><td>106.10673820373907</td><td>20.89622609414001</td><td>0.17283174383919686</td><td>S</td><td>P227+53</td><td>N/A</td><td>999999</td><td>1e+20</td><td>1e+20</td><td>1e+20</td><td>1e+20</td><td>1e+20</td><td>1e+20</td><td>1e+20</td><td>1e+20</td><td>1e+20</td><td>1e+20</td><td>nan</td><td>nan</td><td>230.40942772072216</td><td>0.2876561755724256</td><td>52.14207737034642</td><td>0.19003551227481258</td><td>1.7000159560797052</td><td>0.16478288589794218</td><td>1.4825424052304481</td><td>0.3022180511716143</td><td>6.2922282081368905</td><td>0.6899083013735393</td><td>4.991657902092878</td><td>0.42773632024198793</td><td>106.10673820373907</td><td>20.89622609414001</td><td>0.17283174383919686</td><td>S</td><td>P227+53</td><td>N/A</td><td>999999</td><td>1e+20</td><td>1e+20</td><td>1e+20</td><td>1e+20</td><td>1e+20</td><td>1e+20</td><td>1e+20</td><td>1e+20</td><td>1e+20</td><td>1e+20</td><td>nan</td><td>nan</td></tr>\n",
       "<tr><td>ILTJ152143.21+520106.4</td><td>230.43004053429638</td><td>0.5368960156911345</td><td>52.01846426571062</td><td>0.4613945714089374</td><td>5.143750660809247</td><td>0.9123487645832231</td><td>5.654568489739902</td><td>1.5452412617900468</td><td>7.107430204151674</td><td>1.4159681920356553</td><td>5.5707355958286975</td><td>0.8796980166224263</td><td>127.23608538297238</td><td>35.3340175742053</td><td>0.9024523315019906</td><td>S</td><td>P227+53</td><td>N/A</td><td>999999</td><td>1e+20</td><td>1e+20</td><td>1e+20</td><td>1e+20</td><td>1e+20</td><td>1e+20</td><td>1e+20</td><td>1e+20</td><td>1e+20</td><td>1e+20</td><td>nan</td><td>nan</td><td>230.43004053429638</td><td>0.5368960156911345</td><td>52.01846426571062</td><td>0.4613945714089374</td><td>5.143750660809247</td><td>0.9123487645832231</td><td>5.654568489739902</td><td>1.5452412617900468</td><td>7.107430204151674</td><td>1.4159681920356553</td><td>5.5707355958286975</td><td>0.8796980166224263</td><td>127.23608538297238</td><td>35.3340175742053</td><td>0.9024523315019906</td><td>S</td><td>P227+53</td><td>N/A</td><td>999999</td><td>1e+20</td><td>1e+20</td><td>1e+20</td><td>1e+20</td><td>1e+20</td><td>1e+20</td><td>1e+20</td><td>1e+20</td><td>1e+20</td><td>1e+20</td><td>nan</td><td>nan</td></tr>\n",
       "<tr><td>ILTJ152154.98+511925.1</td><td>230.4790780474188</td><td>0.19593362179459206</td><td>51.32366165729939</td><td>0.23063508724146933</td><td>2.349538681872924</td><td>0.18072055602370704</td><td>2.7621324178625897</td><td>0.2973111788475373</td><td>6.790805945467852</td><td>0.5434531804998639</td><td>6.236394104978554</td><td>0.46104423540206063</td><td>3.4206139792392594</td><td>40.348336172848</td><td>0.1746469351928681</td><td>S</td><td>P227+53</td><td>N/A</td><td>999999</td><td>1e+20</td><td>1e+20</td><td>1e+20</td><td>1e+20</td><td>1e+20</td><td>1e+20</td><td>1e+20</td><td>1e+20</td><td>1e+20</td><td>1e+20</td><td>nan</td><td>nan</td><td>230.4790780474188</td><td>0.19593362179459206</td><td>51.32366165729939</td><td>0.23063508724146933</td><td>2.349538681872924</td><td>0.18072055602370704</td><td>2.7621324178625897</td><td>0.2973111788475373</td><td>6.790805945467852</td><td>0.5434531804998639</td><td>6.236394104978554</td><td>0.46104423540206063</td><td>3.4206139792392594</td><td>40.348336172848</td><td>0.1746469351928681</td><td>S</td><td>P227+53</td><td>N/A</td><td>999999</td><td>1e+20</td><td>1e+20</td><td>1e+20</td><td>1e+20</td><td>1e+20</td><td>1e+20</td><td>1e+20</td><td>1e+20</td><td>1e+20</td><td>1e+20</td><td>nan</td><td>nan</td></tr>\n",
       "<tr><td>ILTJ152157.74+524715.2</td><td>230.49058845820875</td><td>0.643207077538589</td><td>52.787570266293606</td><td>0.8588062676925968</td><td>0.7124078161691768</td><td>0.1815158055864309</td><td>0.9330066833732312</td><td>0.2893476067704043</td><td>7.422524898829871</td><td>2.0238277522084624</td><td>6.3548237272972194</td><td>1.5130496950761525</td><td>1.291509683295203</td><td>74.34904271920153</td><td>0.17277093138545752</td><td>S</td><td>P227+53</td><td>N/A</td><td>999999</td><td>1e+20</td><td>1e+20</td><td>1e+20</td><td>1e+20</td><td>1e+20</td><td>1e+20</td><td>1e+20</td><td>1e+20</td><td>1e+20</td><td>1e+20</td><td>nan</td><td>nan</td><td>230.49058845820875</td><td>0.643207077538589</td><td>52.787570266293606</td><td>0.8588062676925968</td><td>0.7124078161691768</td><td>0.1815158055864309</td><td>0.9330066833732312</td><td>0.2893476067704043</td><td>7.422524898829871</td><td>2.0238277522084624</td><td>6.3548237272972194</td><td>1.5130496950761525</td><td>1.291509683295203</td><td>74.34904271920153</td><td>0.17277093138545752</td><td>S</td><td>P227+53</td><td>N/A</td><td>999999</td><td>1e+20</td><td>1e+20</td><td>1e+20</td><td>1e+20</td><td>1e+20</td><td>1e+20</td><td>1e+20</td><td>1e+20</td><td>1e+20</td><td>1e+20</td><td>nan</td><td>nan</td></tr>\n",
       "<tr><td>ILTJ152240.73+525728.8</td><td>230.66970948634108</td><td>1.7006681337892429</td><td>52.958001046417834</td><td>0.9610494654018784</td><td>0.7324545221121065</td><td>0.18003331337788836</td><td>2.289819815390047</td><td>0.23308638262876863</td><td>14.86681935851982</td><td>4.320545653000943</td><td>7.5741541986764735</td><td>1.5745556939920569</td><td>116.13082467588823</td><td>25.12824128707611</td><td>0.1816209842218086</td><td>S</td><td>P227+53</td><td>N/A</td><td>999999</td><td>1e+20</td><td>1e+20</td><td>1e+20</td><td>1e+20</td><td>1e+20</td><td>1e+20</td><td>1e+20</td><td>1e+20</td><td>1e+20</td><td>1e+20</td><td>nan</td><td>nan</td><td>230.66970948634108</td><td>1.7006681337892429</td><td>52.958001046417834</td><td>0.9610494654018784</td><td>0.7324545221121065</td><td>0.18003331337788836</td><td>2.289819815390047</td><td>0.23308638262876863</td><td>14.86681935851982</td><td>4.320545653000943</td><td>7.5741541986764735</td><td>1.5745556939920569</td><td>116.13082467588823</td><td>25.12824128707611</td><td>0.1816209842218086</td><td>S</td><td>P227+53</td><td>N/A</td><td>999999</td><td>1e+20</td><td>1e+20</td><td>1e+20</td><td>1e+20</td><td>1e+20</td><td>1e+20</td><td>1e+20</td><td>1e+20</td><td>1e+20</td><td>1e+20</td><td>nan</td><td>nan</td></tr>\n",
       "<tr><td>ILTJ152337.32+523922.7</td><td>230.90550269444554</td><td>0.17370906033346753</td><td>52.656307196951765</td><td>0.15638177004415502</td><td>3.222109364760001</td><td>0.20299577806930055</td><td>3.3891084586057296</td><td>0.3459729485049387</td><td>6.346237865424089</td><td>0.4116454173654634</td><td>5.9701601936769695</td><td>0.3653192568938889</td><td>106.81620972635247</td><td>46.03068876041295</td><td>0.20068121375516057</td><td>S</td><td>P227+53</td><td>N/A</td><td>999999</td><td>1e+20</td><td>1e+20</td><td>1e+20</td><td>1e+20</td><td>1e+20</td><td>1e+20</td><td>1e+20</td><td>1e+20</td><td>1e+20</td><td>1e+20</td><td>nan</td><td>nan</td><td>230.90550269444554</td><td>0.17370906033346753</td><td>52.656307196951765</td><td>0.15638177004415502</td><td>3.222109364760001</td><td>0.20299577806930055</td><td>3.3891084586057296</td><td>0.3459729485049387</td><td>6.346237865424089</td><td>0.4116454173654634</td><td>5.9701601936769695</td><td>0.3653192568938889</td><td>106.81620972635247</td><td>46.03068876041295</td><td>0.20068121375516057</td><td>S</td><td>P227+53</td><td>N/A</td><td>999999</td><td>1e+20</td><td>1e+20</td><td>1e+20</td><td>1e+20</td><td>1e+20</td><td>1e+20</td><td>1e+20</td><td>1e+20</td><td>1e+20</td><td>1e+20</td><td>nan</td><td>nan</td></tr>\n",
       "<tr><td>ILTJ152419.22+523536.1</td><td>231.0800664187888</td><td>0.14067545366080925</td><td>52.59336774314981</td><td>0.11938343216287275</td><td>4.461245306752376</td><td>0.21571539424938707</td><td>4.916950454229268</td><td>0.3623642833263276</td><td>6.604212351624555</td><td>0.333671267857945</td><td>6.011786561646778</td><td>0.27819918126441257</td><td>79.93510531121898</td><td>24.68290977990122</td><td>0.2112516958732158</td><td>S</td><td>P227+53</td><td>N/A</td><td>999999</td><td>1e+20</td><td>1e+20</td><td>1e+20</td><td>1e+20</td><td>1e+20</td><td>1e+20</td><td>1e+20</td><td>1e+20</td><td>1e+20</td><td>1e+20</td><td>nan</td><td>nan</td><td>231.0800664187888</td><td>0.14067545366080925</td><td>52.59336774314981</td><td>0.11938343216287275</td><td>4.461245306752376</td><td>0.21571539424938707</td><td>4.916950454229268</td><td>0.3623642833263276</td><td>6.604212351624555</td><td>0.333671267857945</td><td>6.011786561646778</td><td>0.27819918126441257</td><td>79.93510531121898</td><td>24.68290977990122</td><td>0.2112516958732158</td><td>S</td><td>P227+53</td><td>N/A</td><td>999999</td><td>1e+20</td><td>1e+20</td><td>1e+20</td><td>1e+20</td><td>1e+20</td><td>1e+20</td><td>1e+20</td><td>1e+20</td><td>1e+20</td><td>1e+20</td><td>nan</td><td>nan</td></tr>\n",
       "</table>"
      ],
      "text/plain": [
       "<Table masked=True length=12679>\n",
       "     Source_Name             RA_old       ...  lr_new lr_dist_new\n",
       "                                          ...                    \n",
       "        str22               float64       ... float64   float64  \n",
       "---------------------- ------------------ ... ------- -----------\n",
       "ILTJ104358.55+513354.6 160.99396170310192 ...     nan         nan\n",
       "ILTJ104406.52+513113.1 161.02716295073938 ...     nan         nan\n",
       "ILTJ104418.69+522635.8 161.07788017007587 ...     nan         nan\n",
       "ILTJ104435.58+523504.2  161.1482631171491 ...     nan         nan\n",
       "ILTJ104436.25+524735.2 161.15103385405467 ...     nan         nan\n",
       "ILTJ104444.07+511936.1 161.18360938477204 ...     nan         nan\n",
       "ILTJ104459.26+522548.7 161.24691576951935 ...     nan         nan\n",
       "ILTJ104505.08+530140.3 161.27118146589584 ...     nan         nan\n",
       "ILTJ104509.34+514531.1 161.28890899746335 ...     nan         nan\n",
       "                   ...                ... ...     ...         ...\n",
       "ILTJ152029.96+495917.8 230.12484821403467 ...     nan         nan\n",
       "ILTJ152053.26+534624.4 230.22191225318585 ...     nan         nan\n",
       "ILTJ152129.05+515755.4 230.37105039987154 ...     nan         nan\n",
       "ILTJ152138.26+520831.4 230.40942772072216 ...     nan         nan\n",
       "ILTJ152143.21+520106.4 230.43004053429638 ...     nan         nan\n",
       "ILTJ152154.98+511925.1  230.4790780474188 ...     nan         nan\n",
       "ILTJ152157.74+524715.2 230.49058845820875 ...     nan         nan\n",
       "ILTJ152240.73+525728.8 230.66970948634108 ...     nan         nan\n",
       "ILTJ152337.32+523922.7 230.90550269444554 ...     nan         nan\n",
       "ILTJ152419.22+523536.1  231.0800664187888 ...     nan         nan"
      ]
     },
     "execution_count": 14,
     "metadata": {},
     "output_type": "execute_result"
    }
   ],
   "source": [
    "pwl[cond & np.isnan(pwl[\"lr_new\"])]"
   ]
  },
  {
   "cell_type": "code",
   "execution_count": null,
   "metadata": {},
   "outputs": [],
   "source": []
  }
 ],
 "metadata": {
  "kernelspec": {
   "display_name": "Python 3",
   "language": "python",
   "name": "python3"
  },
  "language_info": {
   "codemirror_mode": {
    "name": "ipython",
    "version": 3
   },
   "file_extension": ".py",
   "mimetype": "text/x-python",
   "name": "python",
   "nbconvert_exporter": "python",
   "pygments_lexer": "ipython3",
   "version": "3.6.6"
  }
 },
 "nbformat": 4,
 "nbformat_minor": 2
}
