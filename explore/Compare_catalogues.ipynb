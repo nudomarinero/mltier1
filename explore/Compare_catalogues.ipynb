{
 "cells": [
  {
   "cell_type": "markdown",
   "metadata": {},
   "source": [
    "# Compare the LR results before and after correcting the Gaussian code"
   ]
  },
  {
   "cell_type": "code",
   "execution_count": 2,
   "metadata": {},
   "outputs": [],
   "source": [
    "import numpy as np\n",
    "from astropy.table import Table, join\n",
    "import os\n",
    "from matplotlib import pyplot as plt"
   ]
  },
  {
   "cell_type": "markdown",
   "metadata": {},
   "source": [
    "## Load data"
   ]
  },
  {
   "cell_type": "code",
   "execution_count": 3,
   "metadata": {},
   "outputs": [],
   "source": [
    "old = Table.read(\"../lofar_pw_pdf.fits\")"
   ]
  },
  {
   "cell_type": "code",
   "execution_count": 4,
   "metadata": {},
   "outputs": [],
   "source": [
    "new = Table.read(\"../lofar_pw_corSigma2.fits\")"
   ]
  },
  {
   "cell_type": "code",
   "execution_count": 5,
   "metadata": {},
   "outputs": [
    {
     "data": {
      "text/plain": [
       "318769"
      ]
     },
     "execution_count": 5,
     "metadata": {},
     "output_type": "execute_result"
    }
   ],
   "source": [
    "len(old)"
   ]
  },
  {
   "cell_type": "code",
   "execution_count": 6,
   "metadata": {},
   "outputs": [
    {
     "data": {
      "text/plain": [
       "325694"
      ]
     },
     "execution_count": 6,
     "metadata": {},
     "output_type": "execute_result"
    }
   ],
   "source": [
    "len(new)"
   ]
  },
  {
   "cell_type": "code",
   "execution_count": 7,
   "metadata": {},
   "outputs": [
    {
     "data": {
      "text/plain": [
       "['Source_Name',\n",
       " 'RA',\n",
       " 'E_RA',\n",
       " 'DEC',\n",
       " 'E_DEC',\n",
       " 'Peak_flux',\n",
       " 'E_Peak_flux',\n",
       " 'Total_flux',\n",
       " 'E_Total_flux',\n",
       " 'Maj',\n",
       " 'E_Maj',\n",
       " 'Min',\n",
       " 'E_Min',\n",
       " 'PA',\n",
       " 'E_PA',\n",
       " 'Isl_rms',\n",
       " 'S_Code',\n",
       " 'Mosaic_ID',\n",
       " 'AllWISE',\n",
       " 'objID',\n",
       " 'ra',\n",
       " 'dec',\n",
       " 'raErr',\n",
       " 'decErr',\n",
       " 'W1mag',\n",
       " 'W1magErr',\n",
       " 'i',\n",
       " 'iErr',\n",
       " 'colour',\n",
       " 'category',\n",
       " 'lr',\n",
       " 'lr_dist']"
      ]
     },
     "execution_count": 7,
     "metadata": {},
     "output_type": "execute_result"
    }
   ],
   "source": [
    "old.colnames"
   ]
  },
  {
   "cell_type": "code",
   "execution_count": 8,
   "metadata": {},
   "outputs": [],
   "source": [
    "pwl = join(old, new, \n",
    "           join_type='left', \n",
    "           keys='Source_Name', \n",
    "           uniq_col_name='{col_name}{table_name}', \n",
    "           table_names=['_old', '_new'])"
   ]
  },
  {
   "cell_type": "code",
   "execution_count": 9,
   "metadata": {},
   "outputs": [
    {
     "data": {
      "text/plain": [
       "(array([1.0000e+00, 0.0000e+00, 0.0000e+00, 1.0000e+00, 0.0000e+00,\n",
       "        1.0000e+00, 2.0000e+00, 5.0000e+00, 2.0000e+00, 1.3000e+01,\n",
       "        6.0000e+00, 7.0000e+00, 1.8000e+01, 3.7000e+01, 5.7000e+01,\n",
       "        8.9000e+01, 1.3600e+02, 2.1500e+02, 3.8800e+02, 7.6600e+02,\n",
       "        1.3190e+03, 2.7430e+03, 6.5370e+03, 1.6630e+04, 5.0014e+04,\n",
       "        1.8802e+05, 1.1361e+04, 5.6380e+03, 3.6740e+03, 2.5560e+03,\n",
       "        1.7790e+03, 1.2510e+03, 9.8700e+02, 6.2100e+02, 4.8600e+02,\n",
       "        3.4100e+02, 3.0900e+02, 2.3400e+02, 2.1000e+02, 1.5600e+02,\n",
       "        9.8000e+01, 9.2000e+01, 7.5000e+01, 8.1000e+01, 6.5000e+01,\n",
       "        3.9000e+01, 2.2000e+01, 1.9000e+01, 1.2000e+01, 6.0000e+00]),\n",
       " array([-3736.70262835, -3589.96255223, -3443.22247611, -3296.48239999,\n",
       "        -3149.74232388, -3003.00224776, -2856.26217164, -2709.52209552,\n",
       "        -2562.7820194 , -2416.04194328, -2269.30186716, -2122.56179104,\n",
       "        -1975.82171492, -1829.08163881, -1682.34156269, -1535.60148657,\n",
       "        -1388.86141045, -1242.12133433, -1095.38125821,  -948.64118209,\n",
       "         -801.90110597,  -655.16102986,  -508.42095374,  -361.68087762,\n",
       "         -214.9408015 ,   -68.20072538,    78.53935074,   225.27942686,\n",
       "          372.01950298,   518.7595791 ,   665.49965521,   812.23973133,\n",
       "          958.97980745,  1105.71988357,  1252.45995969,  1399.20003581,\n",
       "         1545.94011193,  1692.68018805,  1839.42026417,  1986.16034028,\n",
       "         2132.9004164 ,  2279.64049252,  2426.38056864,  2573.12064476,\n",
       "         2719.86072088,  2866.600797  ,  3013.34087312,  3160.08094924,\n",
       "         3306.82102535,  3453.56110147,  3600.30117759]),\n",
       " <a list of 50 Patch objects>)"
      ]
     },
     "execution_count": 9,
     "metadata": {},
     "output_type": "execute_result"
    },
    {
     "data": {
      "image/png": "[encoded data removed]",
      "text/plain": [
       "<Figure size 432x288 with 1 Axes>"
      ]
     },
     "metadata": {},
     "output_type": "display_data"
    }
   ],
   "source": [
    "A = pwl[\"lr_new\"]-pwl[\"lr_old\"]\n",
    "plt.hist(A[~np.isnan(A)], bins=50)"
   ]
  },
  {
   "cell_type": "code",
   "execution_count": 10,
   "metadata": {},
   "outputs": [],
   "source": [
    "cond_equal = (pwl['ra_old'] == pwl['ra_new']) & (pwl['dec_old'] == pwl['dec_new'])"
   ]
  },
  {
   "cell_type": "code",
   "execution_count": 11,
   "metadata": {},
   "outputs": [
    {
     "data": {
      "text/plain": [
       "304456"
      ]
     },
     "execution_count": 11,
     "metadata": {},
     "output_type": "execute_result"
    }
   ],
   "source": [
    "# Galaxies with the same id (or lack of id)\n",
    "np.sum(cond_equal)"
   ]
  },
  {
   "cell_type": "code",
   "execution_count": 12,
   "metadata": {},
   "outputs": [
    {
     "data": {
      "text/plain": [
       "14315"
      ]
     },
     "execution_count": 12,
     "metadata": {},
     "output_type": "execute_result"
    }
   ],
   "source": [
    "len(pwl) - np.sum(cond_equal)"
   ]
  },
  {
   "cell_type": "code",
   "execution_count": 13,
   "metadata": {},
   "outputs": [
    {
     "data": {
      "text/plain": [
       "12679"
      ]
     },
     "execution_count": 13,
     "metadata": {},
     "output_type": "execute_result"
    }
   ],
   "source": [
    "len(pwl[cond_equal & np.isnan(pwl[\"lr_new\"])])"
   ]
  },
  {
   "cell_type": "code",
   "execution_count": 14,
   "metadata": {},
   "outputs": [
    {
     "data": {
      "text/html": [
       "<i>Table masked=True length=9056</i>\n",
       "<table id=\"table139932027634856\" class=\"table-striped table-bordered table-condensed\">\n",
       "<thead><tr><th>Source_Name</th><th>lr_new</th><th>lr_old</th></tr></thead>\n",
       "<thead><tr><th>bytes22</th><th>float64</th><th>float64</th></tr></thead>\n",
       "<tr><td>ILTJ104342.76+514429.5</td><td>0.16371812388139326</td><td>5.537339232287084</td></tr>\n",
       "<tr><td>ILTJ104347.01+523145.1</td><td>6.3356148447456215</td><td>nan</td></tr>\n",
       "<tr><td>ILTJ104402.61+520559.3</td><td>0.8487011081136199</td><td>0.24317063290041152</td></tr>\n",
       "<tr><td>ILTJ104408.30+520810.1</td><td>0.6829406657567488</td><td>44.87985693105901</td></tr>\n",
       "<tr><td>ILTJ104430.21+515641.4</td><td>3.243677353089976</td><td>nan</td></tr>\n",
       "<tr><td>ILTJ104438.12+521539.4</td><td>1.4157836636428658</td><td>nan</td></tr>\n",
       "<tr><td>ILTJ104441.57+522653.1</td><td>190.922771830242</td><td>nan</td></tr>\n",
       "<tr><td>ILTJ104452.36+515310.9</td><td>0.012839376548004511</td><td>6.155546925231096</td></tr>\n",
       "<tr><td>ILTJ104453.73+523335.7</td><td>0.5383814489687626</td><td>37.752436707272736</td></tr>\n",
       "<tr><td>ILTJ104454.49+512929.6</td><td>33.61196264387292</td><td>nan</td></tr>\n",
       "<tr><td>...</td><td>...</td><td>...</td></tr>\n",
       "<tr><td>ILTJ152057.28+514050.1</td><td>1.4231745630089583</td><td>nan</td></tr>\n",
       "<tr><td>ILTJ152101.35+515730.0</td><td>0.8821755976390199</td><td>0.2561313788349177</td></tr>\n",
       "<tr><td>ILTJ152130.13+514123.5</td><td>0.35808614665418326</td><td>0.5530703819499533</td></tr>\n",
       "<tr><td>ILTJ152141.59+520056.0</td><td>0.8783190357280495</td><td>nan</td></tr>\n",
       "<tr><td>ILTJ152150.49+512636.6</td><td>0.02514119540565891</td><td>15.961615405313696</td></tr>\n",
       "<tr><td>ILTJ152236.56+530916.6</td><td>0.39844712520998915</td><td>1.9384501988731115</td></tr>\n",
       "<tr><td>ILTJ152258.62+523341.9</td><td>698.0161738060556</td><td>nan</td></tr>\n",
       "<tr><td>ILTJ152310.69+514953.9</td><td>1.9093279948171022</td><td>nan</td></tr>\n",
       "<tr><td>ILTJ152341.84+530758.0</td><td>53.59971102683735</td><td>nan</td></tr>\n",
       "<tr><td>ILTJ152357.82+522958.6</td><td>0.4705344019316573</td><td>4.098512953031133</td></tr>\n",
       "</table>"
      ],
      "text/plain": [
       "<Table masked=True length=9056>\n",
       "     Source_Name              lr_new               lr_old      \n",
       "       bytes22               float64              float64      \n",
       "---------------------- -------------------- -------------------\n",
       "ILTJ104342.76+514429.5  0.16371812388139326   5.537339232287084\n",
       "ILTJ104347.01+523145.1   6.3356148447456215                 nan\n",
       "ILTJ104402.61+520559.3   0.8487011081136199 0.24317063290041152\n",
       "ILTJ104408.30+520810.1   0.6829406657567488   44.87985693105901\n",
       "ILTJ104430.21+515641.4    3.243677353089976                 nan\n",
       "ILTJ104438.12+521539.4   1.4157836636428658                 nan\n",
       "ILTJ104441.57+522653.1     190.922771830242                 nan\n",
       "ILTJ104452.36+515310.9 0.012839376548004511   6.155546925231096\n",
       "ILTJ104453.73+523335.7   0.5383814489687626  37.752436707272736\n",
       "ILTJ104454.49+512929.6    33.61196264387292                 nan\n",
       "                   ...                  ...                 ...\n",
       "ILTJ152057.28+514050.1   1.4231745630089583                 nan\n",
       "ILTJ152101.35+515730.0   0.8821755976390199  0.2561313788349177\n",
       "ILTJ152130.13+514123.5  0.35808614665418326  0.5530703819499533\n",
       "ILTJ152141.59+520056.0   0.8783190357280495                 nan\n",
       "ILTJ152150.49+512636.6  0.02514119540565891  15.961615405313696\n",
       "ILTJ152236.56+530916.6  0.39844712520998915  1.9384501988731115\n",
       "ILTJ152258.62+523341.9    698.0161738060556                 nan\n",
       "ILTJ152310.69+514953.9   1.9093279948171022                 nan\n",
       "ILTJ152341.84+530758.0    53.59971102683735                 nan\n",
       "ILTJ152357.82+522958.6   0.4705344019316573   4.098512953031133"
      ]
     },
     "execution_count": 14,
     "metadata": {},
     "output_type": "execute_result"
    }
   ],
   "source": [
    "pwl[~cond_equal & ~np.isnan(pwl[\"lr_new\"]) & ~pwl[\"lr_new\"].mask][\"Source_Name\", \"lr_new\", \"lr_old\"]"
   ]
  },
  {
   "cell_type": "code",
   "execution_count": 15,
   "metadata": {},
   "outputs": [
    {
     "name": "stderr",
     "output_type": "stream",
     "text": [
      "/home/jsm/programs/soft/anaconda3/lib/python3.6/site-packages/astropy/table/column.py:965: RuntimeWarning: invalid value encountered in greater_equal\n",
      "  return getattr(self.data, op)(other)\n",
      "/home/jsm/programs/soft/anaconda3/lib/python3.6/site-packages/astropy/table/column.py:965: RuntimeWarning: invalid value encountered in less\n",
      "  return getattr(self.data, op)(other)\n"
     ]
    }
   ],
   "source": [
    "condition_matchold_nomatchnew = (\n",
    "    ~cond_equal & \n",
    "    (pwl[\"lr_old\"] >= 0.639) & \n",
    "    (np.isnan(pwl[\"lr_new\"]) | \n",
    "    pwl[\"lr_new\"].mask |\n",
    "    (pwl[\"lr_new\"] < 0.601))\n",
    ")\n",
    "condition_nomatchold_matchnew = (\n",
    "    ~cond_equal & \n",
    "    ((pwl[\"lr_old\"] < 0.639) | np.isnan(pwl[\"lr_old\"])) &\n",
    "    ~np.isnan(pwl[\"lr_new\"]) & \n",
    "    ~pwl[\"lr_new\"].mask &\n",
    "    (pwl[\"lr_new\"] >= 0.601)\n",
    "    )\n",
    "condition_matchold_matchnew = (\n",
    "    ~cond_equal & \n",
    "    (pwl[\"lr_old\"] >= 0.639) &\n",
    "    ~np.isnan(pwl[\"lr_new\"]) & \n",
    "    ~pwl[\"lr_new\"].mask &\n",
    "    (pwl[\"lr_new\"] >= 0.601)\n",
    "    )"
   ]
  },
  {
   "cell_type": "code",
   "execution_count": 16,
   "metadata": {},
   "outputs": [
    {
     "data": {
      "text/plain": [
       "4302"
      ]
     },
     "execution_count": 16,
     "metadata": {},
     "output_type": "execute_result"
    }
   ],
   "source": [
    "len(pwl[condition_matchold_nomatchnew])"
   ]
  },
  {
   "cell_type": "code",
   "execution_count": 17,
   "metadata": {},
   "outputs": [
    {
     "data": {
      "text/plain": [
       "4842"
      ]
     },
     "execution_count": 17,
     "metadata": {},
     "output_type": "execute_result"
    }
   ],
   "source": [
    "len(pwl[condition_nomatchold_matchnew])"
   ]
  },
  {
   "cell_type": "code",
   "execution_count": 18,
   "metadata": {},
   "outputs": [
    {
     "data": {
      "text/plain": [
       "434"
      ]
     },
     "execution_count": 18,
     "metadata": {},
     "output_type": "execute_result"
    }
   ],
   "source": [
    "len(pwl[condition_matchold_matchnew])"
   ]
  },
  {
   "cell_type": "code",
   "execution_count": 19,
   "metadata": {},
   "outputs": [],
   "source": [
    "cat, counts = np.unique(pwl[condition_nomatchold_matchnew][\"category_new\"], return_counts=True)"
   ]
  },
  {
   "cell_type": "code",
   "execution_count": 20,
   "metadata": {},
   "outputs": [
    {
     "name": "stderr",
     "output_type": "stream",
     "text": [
      "/home/jsm/programs/soft/anaconda3/lib/python3.6/site-packages/matplotlib/axes/_axes.py:6462: UserWarning: The 'normed' kwarg is deprecated, and has been replaced by the 'density' kwarg.\n",
      "  warnings.warn(\"The 'normed' kwarg is deprecated, and has been \"\n"
     ]
    },
    {
     "data": {
      "image/png": "[encoded data removed]",
      "text/plain": [
       "<Figure size 432x288 with 1 Axes>"
      ]
     },
     "metadata": {},
     "output_type": "display_data"
    }
   ],
   "source": [
    "plt.hist(pwl[\"category_new\"][pwl[\"category_new\"] != 1e20], bins=16, alpha=0.5, normed=True)\n",
    "plt.hist(pwl[condition_nomatchold_matchnew][\"category_new\"], bins=16, alpha=0.5, normed=True);"
   ]
  },
  {
   "cell_type": "code",
   "execution_count": 21,
   "metadata": {},
   "outputs": [
    {
     "name": "stderr",
     "output_type": "stream",
     "text": [
      "/home/jsm/programs/soft/anaconda3/lib/python3.6/site-packages/matplotlib/axes/_axes.py:6462: UserWarning: The 'normed' kwarg is deprecated, and has been replaced by the 'density' kwarg.\n",
      "  warnings.warn(\"The 'normed' kwarg is deprecated, and has been \"\n"
     ]
    },
    {
     "data": {
      "image/png": "[encoded data removed]",
      "text/plain": [
       "<Figure size 432x288 with 1 Axes>"
      ]
     },
     "metadata": {},
     "output_type": "display_data"
    }
   ],
   "source": [
    "plt.hist(pwl[\"category_old\"][pwl[\"category_old\"] != 1e20], bins=16, alpha=0.5, normed=True)\n",
    "plt.hist(pwl[condition_matchold_nomatchnew][\"category_old\"], bins=16, alpha=0.5, normed=True);"
   ]
  },
  {
   "cell_type": "code",
   "execution_count": 22,
   "metadata": {},
   "outputs": [
    {
     "name": "stderr",
     "output_type": "stream",
     "text": [
      "/home/jsm/programs/soft/anaconda3/lib/python3.6/site-packages/matplotlib/axes/_axes.py:6462: UserWarning: The 'normed' kwarg is deprecated, and has been replaced by the 'density' kwarg.\n",
      "  warnings.warn(\"The 'normed' kwarg is deprecated, and has been \"\n"
     ]
    },
    {
     "data": {
      "image/png": "[encoded data removed]",
      "text/plain": [
       "<Figure size 432x288 with 1 Axes>"
      ]
     },
     "metadata": {},
     "output_type": "display_data"
    }
   ],
   "source": [
    "plt.hist(pwl[\"category_new\"][pwl[\"category_new\"] != 1e20], bins=16, alpha=0.5, normed=True)\n",
    "plt.hist(pwl[condition_matchold_matchnew][\"category_new\"], bins=16, alpha=0.5, normed=True);"
   ]
  },
  {
   "cell_type": "markdown",
   "metadata": {},
   "source": [
    "## Comparison with the released dataset"
   ]
  },
  {
   "cell_type": "code",
   "execution_count": 23,
   "metadata": {},
   "outputs": [],
   "source": [
    "released = Table.read(\"../data/LOFAR_HBA_T1_DR1_merge_ID_optical_f_v1.2.fits\")"
   ]
  },
  {
   "cell_type": "code",
   "execution_count": 24,
   "metadata": {},
   "outputs": [
    {
     "data": {
      "text/plain": [
       "318520"
      ]
     },
     "execution_count": 24,
     "metadata": {},
     "output_type": "execute_result"
    }
   ],
   "source": [
    "len(released)"
   ]
  },
  {
   "cell_type": "code",
   "execution_count": 25,
   "metadata": {},
   "outputs": [
    {
     "data": {
      "text/plain": [
       "325694"
      ]
     },
     "execution_count": 25,
     "metadata": {},
     "output_type": "execute_result"
    }
   ],
   "source": [
    "len(new)"
   ]
  },
  {
   "cell_type": "code",
   "execution_count": 26,
   "metadata": {},
   "outputs": [],
   "source": [
    "new_rel = join(released, new, \n",
    "           join_type='left', \n",
    "           keys='Source_Name', \n",
    "           uniq_col_name='{col_name}{table_name}', \n",
    "           table_names=['_rel', '_new'])"
   ]
  },
  {
   "cell_type": "code",
   "execution_count": 27,
   "metadata": {},
   "outputs": [
    {
     "data": {
      "text/plain": [
       "318521"
      ]
     },
     "execution_count": 27,
     "metadata": {},
     "output_type": "execute_result"
    }
   ],
   "source": [
    "len(new_rel)"
   ]
  },
  {
   "cell_type": "code",
   "execution_count": 28,
   "metadata": {},
   "outputs": [
    {
     "data": {
      "text/plain": [
       "['Source_Name',\n",
       " 'RA_rel',\n",
       " 'E_RA_rel',\n",
       " 'DEC_rel',\n",
       " 'E_DEC_rel',\n",
       " 'Peak_flux_rel',\n",
       " 'E_Peak_flux_rel',\n",
       " 'Total_flux_rel',\n",
       " 'E_Total_flux_rel',\n",
       " 'Maj_rel',\n",
       " 'E_Maj_rel',\n",
       " 'Min_rel',\n",
       " 'E_Min_rel',\n",
       " 'DC_Maj',\n",
       " 'E_DC_Maj',\n",
       " 'DC_Min',\n",
       " 'E_DC_Min',\n",
       " 'PA_rel',\n",
       " 'E_PA_rel',\n",
       " 'DC_PA',\n",
       " 'E_DC_PA',\n",
       " 'Isl_rms_rel',\n",
       " 'S_Code_rel',\n",
       " 'Mosaic_ID_rel',\n",
       " 'Masked_Fraction',\n",
       " 'ID_flag',\n",
       " 'ID_name',\n",
       " 'ID_ra',\n",
       " 'ID_dec',\n",
       " 'ML_LR',\n",
       " 'LGZ_Size',\n",
       " 'LGZ_Width',\n",
       " 'LGZ_PA',\n",
       " 'LGZ_Assoc',\n",
       " 'LGZ_Assoc_Qual',\n",
       " 'LGZ_ID_Qual',\n",
       " 'Deblended_from',\n",
       " 'AllWISE_rel',\n",
       " 'objID_rel',\n",
       " 'gFApFlux',\n",
       " 'gFApFluxErr',\n",
       " 'gFApMag',\n",
       " 'gFApMagErr',\n",
       " 'rFApFlux',\n",
       " 'rFApFluxErr',\n",
       " 'rFApMag',\n",
       " 'rFApMagErr',\n",
       " 'iFApFlux',\n",
       " 'iFApFluxErr',\n",
       " 'iFApMag',\n",
       " 'iFApMagErr',\n",
       " 'zFApFlux',\n",
       " 'zFApFluxErr',\n",
       " 'zFApMag',\n",
       " 'zFApMagErr',\n",
       " 'yFApFlux',\n",
       " 'yFApFluxErr',\n",
       " 'yFApMag',\n",
       " 'yFApMagErr',\n",
       " 'gFPSFFlux',\n",
       " 'gFPSFFluxErr',\n",
       " 'rFPSFFlux',\n",
       " 'rFPSFFluxErr',\n",
       " 'iFPSFFlux',\n",
       " 'iFPSFFluxErr',\n",
       " 'zFPSFFlux',\n",
       " 'zFPSFFluxErr',\n",
       " 'yFPSFFlux',\n",
       " 'yFPSFFluxErr',\n",
       " 'gFKronFlux',\n",
       " 'gFKronFluxErr',\n",
       " 'rFKronFlux',\n",
       " 'rFKronFluxErr',\n",
       " 'iFKronFlux',\n",
       " 'iFKronFluxErr',\n",
       " 'zFKronFlux',\n",
       " 'zFKronFluxErr',\n",
       " 'yFKronFlux',\n",
       " 'yFKronFluxErr',\n",
       " 'logPSFLikelihood',\n",
       " 'w1Flux',\n",
       " 'w1FluxErr',\n",
       " 'w1Mag',\n",
       " 'w1MagErr',\n",
       " 'w2Flux',\n",
       " 'w2FluxErr',\n",
       " 'w2Mag',\n",
       " 'w2MagErr',\n",
       " 'w3Flux',\n",
       " 'w3FluxErr',\n",
       " 'w3Mag',\n",
       " 'w3MagErr',\n",
       " 'w4Flux',\n",
       " 'w4FluxErr',\n",
       " 'w4Mag',\n",
       " 'w4MagErr',\n",
       " 'XrayClass',\n",
       " '2RXS_ID',\n",
       " 'XMMSL2_ID',\n",
       " 'IRClass',\n",
       " 'z_spec',\n",
       " 'z_source',\n",
       " 'specAGN',\n",
       " 'mqcAGN',\n",
       " 'EBV',\n",
       " 'objName',\n",
       " 'z_best',\n",
       " 'z_best_source',\n",
       " 'z1_median',\n",
       " 'z1_min',\n",
       " 'z1_max',\n",
       " 'z1_area',\n",
       " 'z2_median',\n",
       " 'z2_min',\n",
       " 'z2_max',\n",
       " 'z2_area',\n",
       " 'za_hb',\n",
       " 'za_eazy',\n",
       " 'zm_eazy',\n",
       " 'zpeak_eazy',\n",
       " 'chi_r_eazy',\n",
       " 'l68_eazy',\n",
       " 'u68_eazy',\n",
       " 'nfilt_eazy',\n",
       " 'za_atlas',\n",
       " 'zm_atlas',\n",
       " 'zpeak_atlas',\n",
       " 'chi_r_atlas',\n",
       " 'l68_atlas',\n",
       " 'u68_atlas',\n",
       " 'nfilt_atlas',\n",
       " 'za_cosmos',\n",
       " 'zm_cosmos',\n",
       " 'zpeak_cosmos',\n",
       " 'chi_r_cosmos',\n",
       " 'l68_cosmos',\n",
       " 'u68_cosmos',\n",
       " 'nfilt_cosmos',\n",
       " 'chi_r_stellar',\n",
       " 'stellar_type',\n",
       " 'z_gpz',\n",
       " 'z_gpz_err',\n",
       " 'PanSTARRS_missing',\n",
       " 'RA_new',\n",
       " 'E_RA_new',\n",
       " 'DEC_new',\n",
       " 'E_DEC_new',\n",
       " 'Peak_flux_new',\n",
       " 'E_Peak_flux_new',\n",
       " 'Total_flux_new',\n",
       " 'E_Total_flux_new',\n",
       " 'Maj_new',\n",
       " 'E_Maj_new',\n",
       " 'Min_new',\n",
       " 'E_Min_new',\n",
       " 'PA_new',\n",
       " 'E_PA_new',\n",
       " 'Isl_rms_new',\n",
       " 'S_Code_new',\n",
       " 'Mosaic_ID_new',\n",
       " 'AllWISE_new',\n",
       " 'objID_new',\n",
       " 'ra',\n",
       " 'dec',\n",
       " 'raErr',\n",
       " 'decErr',\n",
       " 'W1mag',\n",
       " 'W1magErr',\n",
       " 'i',\n",
       " 'iErr',\n",
       " 'colour',\n",
       " 'category',\n",
       " 'lr',\n",
       " 'lr_dist']"
      ]
     },
     "execution_count": 28,
     "metadata": {},
     "output_type": "execute_result"
    }
   ],
   "source": [
    "new_rel.colnames"
   ]
  },
  {
   "cell_type": "code",
   "execution_count": 29,
   "metadata": {},
   "outputs": [
    {
     "data": {
      "image/png": "[encoded data removed]",
      "text/plain": [
       "<Figure size 432x288 with 1 Axes>"
      ]
     },
     "metadata": {},
     "output_type": "display_data"
    }
   ],
   "source": [
    "A = new_rel[\"lr\"]-new_rel[\"ML_LR\"]\n",
    "plt.hist(A[~np.isnan(A)], bins=50);"
   ]
  },
  {
   "cell_type": "code",
   "execution_count": 30,
   "metadata": {},
   "outputs": [],
   "source": [
    "cond_equal_rel = (new_rel['ID_ra'] == new_rel['ra']) & (new_rel['ID_dec'] == new_rel['dec'])"
   ]
  },
  {
   "cell_type": "code",
   "execution_count": 31,
   "metadata": {},
   "outputs": [
    {
     "data": {
      "text/plain": [
       "221741"
      ]
     },
     "execution_count": 31,
     "metadata": {},
     "output_type": "execute_result"
    }
   ],
   "source": [
    "np.sum(cond_equal_rel)"
   ]
  },
  {
   "cell_type": "code",
   "execution_count": 32,
   "metadata": {},
   "outputs": [
    {
     "name": "stdout",
     "output_type": "stream",
     "text": [
      "1 217865\n",
      "2 818\n",
      "31 2570\n",
      "32 25\n",
      "41 437\n",
      "42 26\n"
     ]
    }
   ],
   "source": [
    "n, c = np.unique(new_rel[cond_equal_rel][\"ID_flag\"], return_counts=True)\n",
    "for i, no in enumerate(n):\n",
    "    print(no, c[i])"
   ]
  },
  {
   "cell_type": "code",
   "execution_count": 33,
   "metadata": {},
   "outputs": [
    {
     "name": "stdout",
     "output_type": "stream",
     "text": [
      "0 3401\n",
      "1 81866\n",
      "2 147\n",
      "31 7649\n",
      "32 1745\n",
      "41 1612\n",
      "42 360\n"
     ]
    }
   ],
   "source": [
    "n, c = np.unique(new_rel[~cond_equal_rel][\"ID_flag\"], return_counts=True)\n",
    "for i, no in enumerate(n):\n",
    "    print(no, c[i])"
   ]
  },
  {
   "cell_type": "code",
   "execution_count": 34,
   "metadata": {},
   "outputs": [
    {
     "data": {
      "image/png": "[encoded data removed]",
      "text/plain": [
       "<Figure size 432x288 with 1 Axes>"
      ]
     },
     "metadata": {},
     "output_type": "display_data"
    }
   ],
   "source": [
    "#new_rel[cond_equal_rel][\"ML_LR\"]-new_rel[cond_equal_rel][\"lr\"]\n",
    "A = new_rel[cond_equal_rel][\"ML_LR\"]-new_rel[cond_equal_rel][\"lr\"]\n",
    "plt.hist(A[~np.isnan(A)], bins=50);"
   ]
  },
  {
   "cell_type": "code",
   "execution_count": 35,
   "metadata": {},
   "outputs": [
    {
     "data": {
      "image/png": "[encoded data removed]",
      "text/plain": [
       "<Figure size 432x288 with 1 Axes>"
      ]
     },
     "metadata": {},
     "output_type": "display_data"
    }
   ],
   "source": [
    "#new_rel[cond_equal_rel][\"ML_LR\"]-new_rel[cond_equal_rel][\"lr\"]\n",
    "A = new_rel[~cond_equal_rel][\"ML_LR\"]-new_rel[~cond_equal_rel][\"lr\"]\n",
    "plt.hist(A[~np.isnan(A)], bins=50);"
   ]
  },
  {
   "cell_type": "code",
   "execution_count": 36,
   "metadata": {},
   "outputs": [
    {
     "name": "stdout",
     "output_type": "stream",
     "text": [
      "3516\n"
     ]
    },
    {
     "name": "stderr",
     "output_type": "stream",
     "text": [
      "/home/jsm/programs/soft/anaconda3/lib/python3.6/site-packages/astropy/table/column.py:965: RuntimeWarning: invalid value encountered in greater\n",
      "  return getattr(self.data, op)(other)\n"
     ]
    },
    {
     "data": {
      "image/png": "[encoded data removed]",
      "text/plain": [
       "<Figure size 432x288 with 1 Axes>"
      ]
     },
     "metadata": {},
     "output_type": "display_data"
    }
   ],
   "source": [
    "A = new_rel[~cond_equal_rel][\"ML_LR\"]-new_rel[~cond_equal_rel][\"lr\"]\n",
    "print(len(A[~np.isnan(A)]))\n",
    "plt.hist(np.log(A[~np.isnan(A) & (A > 0)]), bins=50);"
   ]
  },
  {
   "cell_type": "code",
   "execution_count": 37,
   "metadata": {},
   "outputs": [
    {
     "data": {
      "text/html": [
       "<i>Table masked=True length=3405</i>\n",
       "<table id=\"table139932025715568\" class=\"table-striped table-bordered table-condensed\">\n",
       "<thead><tr><th>Source_Name</th><th>ID_ra</th><th>ID_dec</th><th>ra</th><th>dec</th><th>ML_LR</th><th>lr</th><th>AllWISE_rel</th><th>objID_rel</th><th>AllWISE_new</th><th>objID_new</th></tr></thead>\n",
       "<thead><tr><th>bytes22</th><th>float64</th><th>float64</th><th>float64</th><th>float64</th><th>float64</th><th>float64</th><th>bytes19</th><th>int64</th><th>bytes19</th><th>int64</th></tr></thead>\n",
       "<tr><td>ILTJ104342.76+514429.5</td><td>160.9277465</td><td>51.7417131</td><td>1e+20</td><td>1e+20</td><td>5.537339232287084</td><td>0.16371812388139326</td><td>J104342.65+514430.1</td><td>--</td><td>N/A</td><td>999999</td></tr>\n",
       "<tr><td>ILTJ104408.30+520810.1</td><td>161.03902868</td><td>52.13662989</td><td>161.03416622</td><td>52.13575063</td><td>44.87985693105901</td><td>0.6829406657567488</td><td>J104409.36+520811.8</td><td>170561610391084676</td><td>J104408.23+520809.0</td><td>170561610341853607</td></tr>\n",
       "<tr><td>ILTJ104452.36+515310.9</td><td>161.2152109</td><td>51.8851658</td><td>1e+20</td><td>1e+20</td><td>6.155546925231096</td><td>0.012839376548004511</td><td>J104451.65+515306.5</td><td>--</td><td>N/A</td><td>999999</td></tr>\n",
       "<tr><td>ILTJ104453.73+523335.7</td><td>161.2224991</td><td>52.5597151</td><td>1e+20</td><td>1e+20</td><td>37.752436707272736</td><td>0.5383814489687626</td><td>J104453.39+523334.9</td><td>--</td><td>N/A</td><td>999999</td></tr>\n",
       "<tr><td>ILTJ104526.17+520219.0</td><td>161.3594484</td><td>52.04066965</td><td>1e+20</td><td>1e+20</td><td>4.746462153667252</td><td>0.4617324165951388</td><td>J104526.26+520226.1</td><td>170441613593829411</td><td>N/A</td><td>999999</td></tr>\n",
       "<tr><td>ILTJ104536.42+513559.4</td><td>161.40177011</td><td>51.60013845</td><td>161.4021373</td><td>51.600998</td><td>23.942246037407507</td><td>9.02197467263449</td><td>N/A</td><td>169921614018530873</td><td>J104536.51+513603.5</td><td>999999</td></tr>\n",
       "<tr><td>ILTJ104602.28+520325.8</td><td>161.50791259</td><td>52.05742772</td><td>1e+20</td><td>1e+20</td><td>1.3498601639121925</td><td>0.19212989148891213</td><td>N/A</td><td>170461615079489572</td><td>N/A</td><td>999999</td></tr>\n",
       "<tr><td>ILTJ104632.62+511440.5</td><td>161.6359099</td><td>51.2443176</td><td>1e+20</td><td>1e+20</td><td>29.849905273084016</td><td>0.21605703903076048</td><td>J104632.61+511439.5</td><td>--</td><td>N/A</td><td>999999</td></tr>\n",
       "<tr><td>ILTJ104636.57+535130.4</td><td>161.65455634</td><td>53.85782169</td><td>1e+20</td><td>1e+20</td><td>3.529148367928834</td><td>0.5168723917869738</td><td>J104637.08+535128.2</td><td>172631616546810142</td><td>N/A</td><td>999999</td></tr>\n",
       "<tr><td>ILTJ104643.05+471816.0</td><td>161.67949804</td><td>47.30499791</td><td>1e+20</td><td>1e+20</td><td>1.3034293022528005</td><td>0.32375026282928127</td><td>N/A</td><td>164761616795116656</td><td>N/A</td><td>999999</td></tr>\n",
       "<tr><td>...</td><td>...</td><td>...</td><td>...</td><td>...</td><td>...</td><td>...</td><td>...</td><td>...</td><td>...</td><td>...</td></tr>\n",
       "<tr><td>ILTJ151837.35+503745.2</td><td>229.65649864</td><td>50.6294051</td><td>1e+20</td><td>1e+20</td><td>1.961694385519501</td><td>0.3625139610844613</td><td>N/A</td><td>168752296562116055</td><td>N/A</td><td>999999</td></tr>\n",
       "<tr><td>ILTJ151909.61+531710.6</td><td>229.78841897</td><td>53.28656422</td><td>1e+20</td><td>1e+20</td><td>740.7153921858144</td><td>0.05744337616032716</td><td>J151909.20+531711.7</td><td>171942297883954423</td><td>N/A</td><td>999999</td></tr>\n",
       "<tr><td>ILTJ151911.79+491208.2</td><td>229.80038147</td><td>49.20235354</td><td>1e+20</td><td>1e+20</td><td>0.6695631696481854</td><td>0.39941644304862317</td><td>N/A</td><td>167042298005113327</td><td>N/A</td><td>999999</td></tr>\n",
       "<tr><td>ILTJ151922.64+522403.9</td><td>229.84423061</td><td>52.40239076</td><td>1e+20</td><td>1e+20</td><td>20.35937558354337</td><td>2.6632388399517264e-10</td><td>J151922.61+522408.2</td><td>170882298443053546</td><td>N/A</td><td>999999</td></tr>\n",
       "<tr><td>ILTJ151923.48+540211.5</td><td>229.8456033</td><td>54.0370848</td><td>1e+20</td><td>1e+20</td><td>1.239356294828972</td><td>0.5080769373094771</td><td>J151922.94+540213.5</td><td>--</td><td>N/A</td><td>999999</td></tr>\n",
       "<tr><td>ILTJ151923.77+520226.8</td><td>229.8480175</td><td>52.04164975</td><td>1e+20</td><td>1e+20</td><td>1.0173464763236753</td><td>0.5663984013526557</td><td>J151923.53+520229.5</td><td>170452298480570672</td><td>N/A</td><td>999999</td></tr>\n",
       "<tr><td>ILTJ151930.73+493756.3</td><td>229.8777873</td><td>49.6326008</td><td>1e+20</td><td>1e+20</td><td>10.127195314490827</td><td>0.3181391186727454</td><td>J151930.66+493757.3</td><td>--</td><td>N/A</td><td>999999</td></tr>\n",
       "<tr><td>ILTJ152104.00+531044.7</td><td>230.2703111</td><td>53.18009912</td><td>1e+20</td><td>1e+20</td><td>15.243633617523516</td><td>9.190551823180484e-19</td><td>N/A</td><td>171812302699786972</td><td>N/A</td><td>999999</td></tr>\n",
       "<tr><td>ILTJ152236.56+530916.6</td><td>230.6520696</td><td>53.1560783</td><td>1e+20</td><td>1e+20</td><td>1.9384501988731115</td><td>0.39844712520998915</td><td>J152236.49+530921.8</td><td>--</td><td>N/A</td><td>999999</td></tr>\n",
       "<tr><td>ILTJ152357.82+522958.6</td><td>230.9918819</td><td>52.4980761</td><td>1e+20</td><td>1e+20</td><td>4.098512953031133</td><td>0.4705344019316573</td><td>J152358.05+522953.0</td><td>--</td><td>N/A</td><td>999999</td></tr>\n",
       "</table>"
      ],
      "text/plain": [
       "<Table masked=True length=3405>\n",
       "     Source_Name          ID_ra     ...     AllWISE_new         objID_new     \n",
       "       bytes22           float64    ...       bytes19             int64       \n",
       "---------------------- ------------ ... ------------------- ------------------\n",
       "ILTJ104342.76+514429.5  160.9277465 ...                 N/A             999999\n",
       "ILTJ104408.30+520810.1 161.03902868 ... J104408.23+520809.0 170561610341853607\n",
       "ILTJ104452.36+515310.9  161.2152109 ...                 N/A             999999\n",
       "ILTJ104453.73+523335.7  161.2224991 ...                 N/A             999999\n",
       "ILTJ104526.17+520219.0  161.3594484 ...                 N/A             999999\n",
       "ILTJ104536.42+513559.4 161.40177011 ... J104536.51+513603.5             999999\n",
       "ILTJ104602.28+520325.8 161.50791259 ...                 N/A             999999\n",
       "ILTJ104632.62+511440.5  161.6359099 ...                 N/A             999999\n",
       "ILTJ104636.57+535130.4 161.65455634 ...                 N/A             999999\n",
       "ILTJ104643.05+471816.0 161.67949804 ...                 N/A             999999\n",
       "                   ...          ... ...                 ...                ...\n",
       "ILTJ151837.35+503745.2 229.65649864 ...                 N/A             999999\n",
       "ILTJ151909.61+531710.6 229.78841897 ...                 N/A             999999\n",
       "ILTJ151911.79+491208.2 229.80038147 ...                 N/A             999999\n",
       "ILTJ151922.64+522403.9 229.84423061 ...                 N/A             999999\n",
       "ILTJ151923.48+540211.5  229.8456033 ...                 N/A             999999\n",
       "ILTJ151923.77+520226.8  229.8480175 ...                 N/A             999999\n",
       "ILTJ151930.73+493756.3  229.8777873 ...                 N/A             999999\n",
       "ILTJ152104.00+531044.7  230.2703111 ...                 N/A             999999\n",
       "ILTJ152236.56+530916.6  230.6520696 ...                 N/A             999999\n",
       "ILTJ152357.82+522958.6  230.9918819 ...                 N/A             999999"
      ]
     },
     "execution_count": 37,
     "metadata": {},
     "output_type": "execute_result"
    }
   ],
   "source": [
    "new_rel[~cond_equal_rel & \n",
    "        (new_rel[\"ID_flag\"] == 1) &\n",
    "        ~np.isnan(new_rel[\"ML_LR\"])\n",
    "       ]['Source_Name', \n",
    "         'ID_ra', 'ID_dec', 'ra', 'dec', \n",
    "         'ML_LR', 'lr',\n",
    "         'AllWISE_rel', 'objID_rel', 'AllWISE_new', 'objID_new']"
   ]
  },
  {
   "cell_type": "code",
   "execution_count": 40,
   "metadata": {},
   "outputs": [
    {
     "name": "stderr",
     "output_type": "stream",
     "text": [
      "/home/jsm/programs/soft/anaconda3/lib/python3.6/site-packages/astropy/table/column.py:965: RuntimeWarning: invalid value encountered in greater_equal\n",
      "  return getattr(self.data, op)(other)\n"
     ]
    },
    {
     "data": {
      "text/html": [
       "<i>Table masked=True length=1105</i>\n",
       "<table id=\"table139932025433392\" class=\"table-striped table-bordered table-condensed\">\n",
       "<thead><tr><th>Source_Name</th><th>ID_ra</th><th>ID_dec</th><th>ra</th><th>dec</th><th>ML_LR</th><th>lr</th><th>AllWISE_rel</th><th>objID_rel</th><th>AllWISE_new</th><th>objID_new</th></tr></thead>\n",
       "<thead><tr><th>bytes22</th><th>float64</th><th>float64</th><th>float64</th><th>float64</th><th>float64</th><th>float64</th><th>bytes19</th><th>int64</th><th>bytes19</th><th>int64</th></tr></thead>\n",
       "<tr><td>ILTJ104402.61+520559.3</td><td>nan</td><td>nan</td><td>161.01321751</td><td>52.10025142</td><td>nan</td><td>0.8487011081136199</td><td></td><td>--</td><td>J104403.13+520600.7</td><td>170521610133431106</td></tr>\n",
       "<tr><td>ILTJ104626.33+520514.1</td><td>nan</td><td>nan</td><td>161.6101856</td><td>52.0865205</td><td>nan</td><td>9.630834382892596</td><td></td><td>--</td><td>J104626.44+520511.4</td><td>999999</td></tr>\n",
       "<tr><td>ILTJ104725.04+522851.0</td><td>nan</td><td>nan</td><td>161.85513889</td><td>52.48121887</td><td>nan</td><td>0.9872251818981672</td><td></td><td>--</td><td>J104725.12+522852.0</td><td>170971618551698320</td></tr>\n",
       "<tr><td>ILTJ104729.94+523538.1</td><td>nan</td><td>nan</td><td>161.87471304</td><td>52.5932495</td><td>nan</td><td>2.134796697568764</td><td></td><td>--</td><td>J104729.95+523537.6</td><td>171111618747362594</td></tr>\n",
       "<tr><td>ILTJ104807.84+535523.3</td><td>nan</td><td>nan</td><td>162.031823</td><td>53.922524</td><td>nan</td><td>1.678013435179235</td><td></td><td>--</td><td>J104807.63+535521.0</td><td>999999</td></tr>\n",
       "<tr><td>ILTJ104849.81+480921.9</td><td>nan</td><td>nan</td><td>162.2089545</td><td>48.15628722</td><td>nan</td><td>5.771863405620874</td><td></td><td>--</td><td>J104849.93+480922.2</td><td>165781622090058223</td></tr>\n",
       "<tr><td>ILTJ104907.94+514559.6</td><td>nan</td><td>nan</td><td>162.2824885</td><td>51.7660243</td><td>nan</td><td>0.7525892172341231</td><td></td><td>--</td><td>J104907.79+514557.6</td><td>999999</td></tr>\n",
       "<tr><td>ILTJ104915.69+480621.7</td><td>nan</td><td>nan</td><td>162.31561874</td><td>48.1071124</td><td>nan</td><td>1.9700114885007287</td><td></td><td>--</td><td>J104915.72+480625.4</td><td>165721623156619228</td></tr>\n",
       "<tr><td>ILTJ104941.76+471111.7</td><td>nan</td><td>nan</td><td>162.42308343</td><td>47.18630098</td><td>nan</td><td>0.6154948514438827</td><td></td><td>--</td><td>N/A</td><td>164621624230964302</td></tr>\n",
       "<tr><td>ILTJ104955.46+520706.5</td><td>nan</td><td>nan</td><td>162.48040218</td><td>52.11908918</td><td>nan</td><td>36.965472415784944</td><td></td><td>--</td><td>J104955.28+520709.2</td><td>170541624803073620</td></tr>\n",
       "<tr><td>...</td><td>...</td><td>...</td><td>...</td><td>...</td><td>...</td><td>...</td><td>...</td><td>...</td><td>...</td><td>...</td></tr>\n",
       "<tr><td>ILTJ151452.18+492403.0</td><td>nan</td><td>nan</td><td>228.7178394</td><td>49.4019465</td><td>nan</td><td>0.7104133392698131</td><td></td><td>--</td><td>J151452.28+492407.0</td><td>999999</td></tr>\n",
       "<tr><td>ILTJ151503.50+490043.5</td><td>nan</td><td>nan</td><td>228.76245509</td><td>49.01162115</td><td>nan</td><td>2.3659190295155703</td><td></td><td>--</td><td>J151503.18+490042.9</td><td>166812287626034576</td></tr>\n",
       "<tr><td>ILTJ151614.12+532104.0</td><td>nan</td><td>nan</td><td>229.05988561</td><td>53.35193738</td><td>nan</td><td>1.717912946455109</td><td></td><td>--</td><td>J151614.35+532104.8</td><td>172022290599793079</td></tr>\n",
       "<tr><td>ILTJ151624.46+534622.4</td><td>nan</td><td>nan</td><td>229.10147206</td><td>53.77243962</td><td>nan</td><td>0.8335969775459082</td><td></td><td>--</td><td>J151624.37+534621.0</td><td>172522291015027653</td></tr>\n",
       "<tr><td>ILTJ151631.33+484905.9</td><td>nan</td><td>nan</td><td>229.1313717</td><td>48.8177297</td><td>nan</td><td>0.6813296318136637</td><td></td><td>--</td><td>J151631.52+484903.8</td><td>999999</td></tr>\n",
       "<tr><td>ILTJ151635.34+505723.2</td><td>nan</td><td>nan</td><td>229.1474737</td><td>50.9556669</td><td>nan</td><td>1.6278554977292738</td><td></td><td>--</td><td>J151635.39+505720.4</td><td>999999</td></tr>\n",
       "<tr><td>ILTJ151927.59+510759.3</td><td>nan</td><td>nan</td><td>229.8661017</td><td>51.1334678</td><td>nan</td><td>0.6317232225081639</td><td></td><td>--</td><td>J151927.86+510800.4</td><td>999999</td></tr>\n",
       "<tr><td>ILTJ151934.90+492311.6</td><td>nan</td><td>nan</td><td>229.89469944</td><td>49.38683014</td><td>nan</td><td>0.7561734661453436</td><td></td><td>--</td><td>N/A</td><td>167262298950564910</td></tr>\n",
       "<tr><td>ILTJ152002.86+522923.8</td><td>nan</td><td>nan</td><td>230.0109754</td><td>52.48988734</td><td>nan</td><td>1.4165402537340124</td><td></td><td>--</td><td>N/A</td><td>170982300109118578</td></tr>\n",
       "<tr><td>ILTJ152101.35+515730.0</td><td>nan</td><td>nan</td><td>230.25715678</td><td>51.95810797</td><td>nan</td><td>0.8821755976390199</td><td></td><td>--</td><td>J152101.61+515729.0</td><td>170352302571790422</td></tr>\n",
       "</table>"
      ],
      "text/plain": [
       "<Table masked=True length=1105>\n",
       "     Source_Name        ID_ra  ...     AllWISE_new         objID_new     \n",
       "       bytes22         float64 ...       bytes19             int64       \n",
       "---------------------- ------- ... ------------------- ------------------\n",
       "ILTJ104402.61+520559.3     nan ... J104403.13+520600.7 170521610133431106\n",
       "ILTJ104626.33+520514.1     nan ... J104626.44+520511.4             999999\n",
       "ILTJ104725.04+522851.0     nan ... J104725.12+522852.0 170971618551698320\n",
       "ILTJ104729.94+523538.1     nan ... J104729.95+523537.6 171111618747362594\n",
       "ILTJ104807.84+535523.3     nan ... J104807.63+535521.0             999999\n",
       "ILTJ104849.81+480921.9     nan ... J104849.93+480922.2 165781622090058223\n",
       "ILTJ104907.94+514559.6     nan ... J104907.79+514557.6             999999\n",
       "ILTJ104915.69+480621.7     nan ... J104915.72+480625.4 165721623156619228\n",
       "ILTJ104941.76+471111.7     nan ...                 N/A 164621624230964302\n",
       "ILTJ104955.46+520706.5     nan ... J104955.28+520709.2 170541624803073620\n",
       "                   ...     ... ...                 ...                ...\n",
       "ILTJ151452.18+492403.0     nan ... J151452.28+492407.0             999999\n",
       "ILTJ151503.50+490043.5     nan ... J151503.18+490042.9 166812287626034576\n",
       "ILTJ151614.12+532104.0     nan ... J151614.35+532104.8 172022290599793079\n",
       "ILTJ151624.46+534622.4     nan ... J151624.37+534621.0 172522291015027653\n",
       "ILTJ151631.33+484905.9     nan ... J151631.52+484903.8             999999\n",
       "ILTJ151635.34+505723.2     nan ... J151635.39+505720.4             999999\n",
       "ILTJ151927.59+510759.3     nan ... J151927.86+510800.4             999999\n",
       "ILTJ151934.90+492311.6     nan ...                 N/A 167262298950564910\n",
       "ILTJ152002.86+522923.8     nan ...                 N/A 170982300109118578\n",
       "ILTJ152101.35+515730.0     nan ... J152101.61+515729.0 170352302571790422"
      ]
     },
     "execution_count": 40,
     "metadata": {},
     "output_type": "execute_result"
    }
   ],
   "source": [
    "new_rel[~cond_equal_rel & \n",
    "        (new_rel[\"ID_flag\"] == 1) &\n",
    "        np.isnan(new_rel[\"ML_LR\"]) &\n",
    "        (new_rel[\"lr\"] >= 0.601)\n",
    "       ]['Source_Name', \n",
    "         'ID_ra', 'ID_dec', 'ra', 'dec', \n",
    "         'ML_LR', 'lr',\n",
    "         'AllWISE_rel', 'objID_rel', 'AllWISE_new', 'objID_new']"
   ]
  },
  {
   "cell_type": "code",
   "execution_count": 42,
   "metadata": {},
   "outputs": [
    {
     "name": "stderr",
     "output_type": "stream",
     "text": [
      "/home/jsm/programs/soft/anaconda3/lib/python3.6/site-packages/astropy/table/column.py:965: RuntimeWarning: invalid value encountered in greater_equal\n",
      "  return getattr(self.data, op)(other)\n"
     ]
    },
    {
     "data": {
      "text/html": [
       "<i>Table masked=True length=514</i>\n",
       "<table id=\"table139932024448784\" class=\"table-striped table-bordered table-condensed\">\n",
       "<thead><tr><th>Source_Name</th><th>ID_ra</th><th>ID_dec</th><th>ra</th><th>dec</th><th>ML_LR</th><th>lr</th><th>AllWISE_rel</th><th>objID_rel</th><th>AllWISE_new</th><th>objID_new</th></tr></thead>\n",
       "<thead><tr><th>bytes22</th><th>float64</th><th>float64</th><th>float64</th><th>float64</th><th>float64</th><th>float64</th><th>bytes19</th><th>int64</th><th>bytes19</th><th>int64</th></tr></thead>\n",
       "<tr><td>ILTJ104408.30+520810.1</td><td>161.03902868</td><td>52.13662989</td><td>161.03416622</td><td>52.13575063</td><td>44.87985693105901</td><td>0.6829406657567488</td><td>J104409.36+520811.8</td><td>170561610391084676</td><td>J104408.23+520809.0</td><td>170561610341853607</td></tr>\n",
       "<tr><td>ILTJ104536.42+513559.4</td><td>161.40177011</td><td>51.60013845</td><td>161.4021373</td><td>51.600998</td><td>23.942246037407507</td><td>9.02197467263449</td><td>N/A</td><td>169921614018530873</td><td>J104536.51+513603.5</td><td>999999</td></tr>\n",
       "<tr><td>ILTJ104900.69+531754.5</td><td>162.25432702</td><td>53.29846533</td><td>162.25191328</td><td>53.29869858</td><td>252.15333165972388</td><td>22.347861368745498</td><td>J104900.99+531754.8</td><td>171951622543668960</td><td>J104900.22+531755.9</td><td>171951622519829158</td></tr>\n",
       "<tr><td>ILTJ105126.64+512419.6</td><td>162.86096615</td><td>51.40539059</td><td>162.8613191</td><td>51.406204</td><td>33.34066790400077</td><td>13.607429049811778</td><td>N/A</td><td>169681628609997203</td><td>J105126.71+512422.3</td><td>999999</td></tr>\n",
       "<tr><td>ILTJ105140.07+533717.8</td><td>162.91714356</td><td>53.6216557</td><td>162.91718682</td><td>53.62237582</td><td>16.161746312858988</td><td>59.79277370951574</td><td>N/A</td><td>172341629170686397</td><td>J105140.11+533719.7</td><td>172341629172017745</td></tr>\n",
       "<tr><td>ILTJ105219.97+465300.7</td><td>163.0842367</td><td>46.8838075</td><td>163.0817154</td><td>46.8839099</td><td>39.67212091324443</td><td>1.0372302172353316</td><td>J105220.21+465301.7</td><td>--</td><td>J105219.61+465302.0</td><td>999999</td></tr>\n",
       "<tr><td>ILTJ105305.54+532038.8</td><td>163.27300403</td><td>53.34494172</td><td>163.27079312</td><td>53.34469974</td><td>1.6263624862819794</td><td>1.3058098357994128</td><td>N/A</td><td>172011632730474659</td><td>J105305.16+532040.9</td><td>172011632708354375</td></tr>\n",
       "<tr><td>ILTJ105337.96+484341.7</td><td>163.40691547</td><td>48.7284473</td><td>163.406306</td><td>48.7277752</td><td>3.3388444728767688</td><td>0.9283329005523906</td><td>N/A</td><td>166471634068224767</td><td>J105337.51+484339.9</td><td>999999</td></tr>\n",
       "<tr><td>ILTJ105356.36+502805.1</td><td>163.48488585</td><td>50.46823768</td><td>163.4845896</td><td>50.4674726</td><td>18.461695514702665</td><td>22.170445192725865</td><td>N/A</td><td>168561634848962557</td><td>J105356.30+502802.9</td><td>999999</td></tr>\n",
       "<tr><td>ILTJ105435.13+522022.1</td><td>163.64616706</td><td>52.33979673</td><td>163.6459818</td><td>52.3395526</td><td>112.78567134519517</td><td>88.19190264635621</td><td>J105435.03+522022.3</td><td>170801636464168519</td><td>J105435.03+522022.3</td><td>999999</td></tr>\n",
       "<tr><td>...</td><td>...</td><td>...</td><td>...</td><td>...</td><td>...</td><td>...</td><td>...</td><td>...</td><td>...</td><td>...</td></tr>\n",
       "<tr><td>ILTJ150055.23+502212.3</td><td>225.22847244</td><td>50.37021717</td><td>225.22999955</td><td>50.3693587</td><td>37.909048293628835</td><td>15.21146162518777</td><td>N/A</td><td>168442252284924940</td><td>J150055.15+502210.0</td><td>168442252299973912</td></tr>\n",
       "<tr><td>ILTJ150154.43+510426.7</td><td>225.47530811</td><td>51.07419653</td><td>225.47642131</td><td>51.07373956</td><td>135.31932882215062</td><td>2.984359866785337</td><td>J150154.20+510426.6</td><td>169282254752599699</td><td>N/A</td><td>169282254764749239</td></tr>\n",
       "<tr><td>ILTJ150317.70+495325.7</td><td>225.82377731</td><td>49.8906778</td><td>225.8247209</td><td>49.890564</td><td>10.437583394136245</td><td>12.079058908053634</td><td>N/A</td><td>167862258240149388</td><td>J150317.93+495326.0</td><td>999999</td></tr>\n",
       "<tr><td>ILTJ150624.69+504226.9</td><td>226.60309716</td><td>50.70746888</td><td>226.60187469</td><td>50.7068618</td><td>17.99126480782518</td><td>13.110828211379078</td><td>N/A</td><td>168842266031949775</td><td>J150624.52+504225.3</td><td>168842266018958941</td></tr>\n",
       "<tr><td>ILTJ150817.87+492913.7</td><td>227.07294499</td><td>49.48891431</td><td>227.07383649</td><td>49.48696684</td><td>771.2484559411863</td><td>1.3891810469698704</td><td>J150817.52+492918.4</td><td>167382270729087333</td><td>N/A</td><td>167382270738475057</td></tr>\n",
       "<tr><td>ILTJ150838.72+482641.5</td><td>227.16030433</td><td>48.44479122</td><td>227.16164497</td><td>48.4456931</td><td>1.4925220283233196</td><td>23.092091204777343</td><td>N/A</td><td>166132271603294451</td><td>J150838.81+482643.5</td><td>166132271616765534</td></tr>\n",
       "<tr><td>ILTJ150934.69+533143.3</td><td>227.39388</td><td>53.52873667</td><td>227.39435861</td><td>53.52735839</td><td>10.423175949144177</td><td>4.299572073595108</td><td>N/A</td><td>172232273938675263</td><td>J150934.58+533139.2</td><td>172232273941513419</td></tr>\n",
       "<tr><td>ILTJ151206.66+493609.0</td><td>228.02849991</td><td>49.60229498</td><td>228.0278935</td><td>49.6024052</td><td>170.1341661736553</td><td>166.95122744607983</td><td>J151206.69+493608.6</td><td>167522280284563415</td><td>J151206.69+493608.6</td><td>999999</td></tr>\n",
       "<tr><td>ILTJ151406.21+483009.1</td><td>228.52612313</td><td>48.50274972</td><td>228.5273012</td><td>48.5020894</td><td>4.176432147499432</td><td>1.9541305499952786</td><td>N/A</td><td>166202285261304038</td><td>J151406.55+483007.5</td><td>999999</td></tr>\n",
       "<tr><td>ILTJ151659.31+513712.9</td><td>229.24737288</td><td>51.62014144</td><td>229.2474943</td><td>51.6201849</td><td>80.77740984560955</td><td>46.9428844530635</td><td>J151659.39+513712.6</td><td>169942292474944901</td><td>J151659.39+513712.6</td><td>999999</td></tr>\n",
       "</table>"
      ],
      "text/plain": [
       "<Table masked=True length=514>\n",
       "     Source_Name          ID_ra     ...     AllWISE_new         objID_new     \n",
       "       bytes22           float64    ...       bytes19             int64       \n",
       "---------------------- ------------ ... ------------------- ------------------\n",
       "ILTJ104408.30+520810.1 161.03902868 ... J104408.23+520809.0 170561610341853607\n",
       "ILTJ104536.42+513559.4 161.40177011 ... J104536.51+513603.5             999999\n",
       "ILTJ104900.69+531754.5 162.25432702 ... J104900.22+531755.9 171951622519829158\n",
       "ILTJ105126.64+512419.6 162.86096615 ... J105126.71+512422.3             999999\n",
       "ILTJ105140.07+533717.8 162.91714356 ... J105140.11+533719.7 172341629172017745\n",
       "ILTJ105219.97+465300.7  163.0842367 ... J105219.61+465302.0             999999\n",
       "ILTJ105305.54+532038.8 163.27300403 ... J105305.16+532040.9 172011632708354375\n",
       "ILTJ105337.96+484341.7 163.40691547 ... J105337.51+484339.9             999999\n",
       "ILTJ105356.36+502805.1 163.48488585 ... J105356.30+502802.9             999999\n",
       "ILTJ105435.13+522022.1 163.64616706 ... J105435.03+522022.3             999999\n",
       "                   ...          ... ...                 ...                ...\n",
       "ILTJ150055.23+502212.3 225.22847244 ... J150055.15+502210.0 168442252299973912\n",
       "ILTJ150154.43+510426.7 225.47530811 ...                 N/A 169282254764749239\n",
       "ILTJ150317.70+495325.7 225.82377731 ... J150317.93+495326.0             999999\n",
       "ILTJ150624.69+504226.9 226.60309716 ... J150624.52+504225.3 168842266018958941\n",
       "ILTJ150817.87+492913.7 227.07294499 ...                 N/A 167382270738475057\n",
       "ILTJ150838.72+482641.5 227.16030433 ... J150838.81+482643.5 166132271616765534\n",
       "ILTJ150934.69+533143.3    227.39388 ... J150934.58+533139.2 172232273941513419\n",
       "ILTJ151206.66+493609.0 228.02849991 ... J151206.69+493608.6             999999\n",
       "ILTJ151406.21+483009.1 228.52612313 ... J151406.55+483007.5             999999\n",
       "ILTJ151659.31+513712.9 229.24737288 ... J151659.39+513712.6             999999"
      ]
     },
     "execution_count": 42,
     "metadata": {},
     "output_type": "execute_result"
    }
   ],
   "source": [
    "new_rel[~cond_equal_rel & \n",
    "        (new_rel[\"ID_flag\"] == 1) &\n",
    "        ~np.isnan(new_rel[\"ML_LR\"]) &\n",
    "        (new_rel[\"lr\"] >= 0.601)\n",
    "       ]['Source_Name', \"cat\"\n",
    "\n",
    "#['Source_Name', \n",
    "#         'ID_ra', 'ID_dec', 'ra', 'dec', \n",
    "#         'ML_LR', 'lr',\n",
    "#         'AllWISE_rel', 'objID_rel', 'AllWISE_new', 'objID_new']"
   ]
  },
  {
   "cell_type": "code",
   "execution_count": 43,
   "metadata": {},
   "outputs": [
    {
     "name": "stderr",
     "output_type": "stream",
     "text": [
      "/home/jsm/programs/soft/anaconda3/lib/python3.6/site-packages/astropy/table/column.py:965: RuntimeWarning: invalid value encountered in greater_equal\n",
      "  return getattr(self.data, op)(other)\n"
     ]
    },
    {
     "data": {
      "text/html": [
       "<i>Table masked=True length=7964</i>\n",
       "<table id=\"table139932021540568\" class=\"table-striped table-bordered table-condensed\">\n",
       "<thead><tr><th>Source_Name</th><th>ID_ra</th><th>ID_dec</th><th>ra</th><th>dec</th><th>ML_LR</th><th>lr</th><th>AllWISE_rel</th><th>objID_rel</th><th>AllWISE_new</th><th>objID_new</th></tr></thead>\n",
       "<thead><tr><th>bytes22</th><th>float64</th><th>float64</th><th>float64</th><th>float64</th><th>float64</th><th>float64</th><th>bytes19</th><th>int64</th><th>bytes19</th><th>int64</th></tr></thead>\n",
       "<tr><td>ILTJ104324.59+520940.6</td><td>160.852818</td><td>52.1633518</td><td>--</td><td>--</td><td>nan</td><td>--</td><td>J104324.67+520948.0</td><td>--</td><td>--</td><td>--</td></tr>\n",
       "<tr><td>ILTJ104416.07+514856.3</td><td>nan</td><td>nan</td><td>161.06550381</td><td>51.81457981</td><td>nan</td><td>0.8415016990170879</td><td></td><td>--</td><td>J104415.74+514853.7</td><td>170171610655238222</td></tr>\n",
       "<tr><td>ILTJ104438.12+521539.4</td><td>161.16096728</td><td>52.26041943</td><td>161.15876045</td><td>52.26146925</td><td>nan</td><td>1.4157836636428658</td><td>J104438.60+521537.4</td><td>170711611610293207</td><td>N/A</td><td>170711611588574487</td></tr>\n",
       "<tr><td>ILTJ104445.73+512432.7</td><td>nan</td><td>nan</td><td>--</td><td>--</td><td>nan</td><td>--</td><td></td><td>--</td><td>--</td><td>--</td></tr>\n",
       "<tr><td>ILTJ104446.61+515809.9</td><td>nan</td><td>nan</td><td>161.19434083</td><td>51.96981773</td><td>nan</td><td>1.8333573969635009</td><td></td><td>--</td><td>J104446.56+515810.5</td><td>170361611943154515</td></tr>\n",
       "<tr><td>ILTJ104450.87+513440.6</td><td>161.21347655</td><td>51.57830926</td><td>--</td><td>--</td><td>nan</td><td>--</td><td>J104451.21+513442.4</td><td>169891612135234672</td><td>--</td><td>--</td></tr>\n",
       "<tr><td>ILTJ104457.95+520959.8</td><td>nan</td><td>nan</td><td>161.24211191</td><td>52.16710304</td><td>nan</td><td>1.0705149777214265</td><td></td><td>--</td><td>J104458.08+521000.9</td><td>170601612421661249</td></tr>\n",
       "<tr><td>ILTJ104521.56+521723.3</td><td>nan</td><td>nan</td><td>161.34062342</td><td>52.29014906</td><td>nan</td><td>0.9101795825549296</td><td></td><td>--</td><td>J104521.77+521724.7</td><td>170741613406578878</td></tr>\n",
       "<tr><td>ILTJ104524.38+515747.5</td><td>nan</td><td>nan</td><td>161.35134192</td><td>51.96323531</td><td>nan</td><td>4.771331238318556</td><td></td><td>--</td><td>N/A</td><td>170351613513816587</td></tr>\n",
       "<tr><td>ILTJ104526.30+530303.6</td><td>nan</td><td>nan</td><td>161.3586649</td><td>53.0499452</td><td>nan</td><td>1.0470219332321926</td><td></td><td>--</td><td>J104526.07+530259.8</td><td>999999</td></tr>\n",
       "<tr><td>...</td><td>...</td><td>...</td><td>...</td><td>...</td><td>...</td><td>...</td><td>...</td><td>...</td><td>...</td><td>...</td></tr>\n",
       "<tr><td>ILTJ151923.19+494535.7</td><td>nan</td><td>nan</td><td>--</td><td>--</td><td>nan</td><td>--</td><td></td><td>--</td><td>--</td><td>--</td></tr>\n",
       "<tr><td>ILTJ152002.15+503514.9</td><td>nan</td><td>nan</td><td>230.0105</td><td>50.5883663</td><td>nan</td><td>0.9154442044003932</td><td></td><td>--</td><td>J152002.52+503518.1</td><td>999999</td></tr>\n",
       "<tr><td>ILTJ152014.21+502131.5</td><td>nan</td><td>nan</td><td>230.0587852</td><td>50.3585304</td><td>nan</td><td>0.8878800344875523</td><td></td><td>--</td><td>J152014.10+502130.7</td><td>999999</td></tr>\n",
       "<tr><td>ILTJ152057.28+514050.1</td><td>nan</td><td>nan</td><td>230.23848969</td><td>51.68053465</td><td>nan</td><td>1.4231745630089583</td><td></td><td>--</td><td>J152057.23+514049.8</td><td>170012302385357300</td></tr>\n",
       "<tr><td>ILTJ152107.83+524130.9</td><td>230.28533513</td><td>52.694015</td><td>--</td><td>--</td><td>nan</td><td>--</td><td>J152108.50+524138.3</td><td>171232302854463491</td><td>--</td><td>--</td></tr>\n",
       "<tr><td>ILTJ152123.57+512527.5</td><td>nan</td><td>nan</td><td>230.35052104</td><td>51.42367654</td><td>nan</td><td>1.9987234808476724</td><td></td><td>--</td><td>J152124.03+512526.5</td><td>169702303506979144</td></tr>\n",
       "<tr><td>ILTJ152158.70+530135.4</td><td>nan</td><td>nan</td><td>--</td><td>--</td><td>nan</td><td>--</td><td></td><td>--</td><td>--</td><td>--</td></tr>\n",
       "<tr><td>ILTJ152239.67+515016.9</td><td>230.6647252</td><td>51.8396437</td><td>--</td><td>--</td><td>nan</td><td>--</td><td>J152239.53+515022.7</td><td>--</td><td>--</td><td>--</td></tr>\n",
       "<tr><td>ILTJ152314.88+521140.7</td><td>230.8121859</td><td>52.1945692</td><td>--</td><td>--</td><td>nan</td><td>--</td><td>J152314.92+521140.4</td><td>--</td><td>--</td><td>--</td></tr>\n",
       "<tr><td>ILTJ152328.43+525502.6</td><td>nan</td><td>nan</td><td>--</td><td>--</td><td>nan</td><td>--</td><td></td><td>--</td><td>--</td><td>--</td></tr>\n",
       "</table>"
      ],
      "text/plain": [
       "<Table masked=True length=7964>\n",
       "     Source_Name          ID_ra     ...     AllWISE_new         objID_new     \n",
       "       bytes22           float64    ...       bytes19             int64       \n",
       "---------------------- ------------ ... ------------------- ------------------\n",
       "ILTJ104324.59+520940.6   160.852818 ...                  --                 --\n",
       "ILTJ104416.07+514856.3          nan ... J104415.74+514853.7 170171610655238222\n",
       "ILTJ104438.12+521539.4 161.16096728 ...                 N/A 170711611588574487\n",
       "ILTJ104445.73+512432.7          nan ...                  --                 --\n",
       "ILTJ104446.61+515809.9          nan ... J104446.56+515810.5 170361611943154515\n",
       "ILTJ104450.87+513440.6 161.21347655 ...                  --                 --\n",
       "ILTJ104457.95+520959.8          nan ... J104458.08+521000.9 170601612421661249\n",
       "ILTJ104521.56+521723.3          nan ... J104521.77+521724.7 170741613406578878\n",
       "ILTJ104524.38+515747.5          nan ...                 N/A 170351613513816587\n",
       "ILTJ104526.30+530303.6          nan ... J104526.07+530259.8             999999\n",
       "                   ...          ... ...                 ...                ...\n",
       "ILTJ151923.19+494535.7          nan ...                  --                 --\n",
       "ILTJ152002.15+503514.9          nan ... J152002.52+503518.1             999999\n",
       "ILTJ152014.21+502131.5          nan ... J152014.10+502130.7             999999\n",
       "ILTJ152057.28+514050.1          nan ... J152057.23+514049.8 170012302385357300\n",
       "ILTJ152107.83+524130.9 230.28533513 ...                  --                 --\n",
       "ILTJ152123.57+512527.5          nan ... J152124.03+512526.5 169702303506979144\n",
       "ILTJ152158.70+530135.4          nan ...                  --                 --\n",
       "ILTJ152239.67+515016.9  230.6647252 ...                  --                 --\n",
       "ILTJ152314.88+521140.7  230.8121859 ...                  --                 --\n",
       "ILTJ152328.43+525502.6          nan ...                  --                 --"
      ]
     },
     "execution_count": 43,
     "metadata": {},
     "output_type": "execute_result"
    }
   ],
   "source": [
    "new_rel[~cond_equal_rel & \n",
    "        (new_rel[\"ID_flag\"] != 1) &\n",
    "        np.isnan(new_rel[\"ML_LR\"]) &\n",
    "        (new_rel[\"lr\"] >= 0.601)\n",
    "       ]['Source_Name', \n",
    "         'ID_ra', 'ID_dec', 'ra', 'dec', \n",
    "         'ML_LR', 'lr',\n",
    "         'AllWISE_rel', 'objID_rel', 'AllWISE_new', 'objID_new']"
   ]
  },
  {
   "cell_type": "code",
   "execution_count": 44,
   "metadata": {},
   "outputs": [],
   "source": [
    "def compute_phi(radio_ra, radio_dec, opt_ra, opt_dec):\n",
    "    \"\"\"Compute the angle (in radians) between two sources\n",
    "    \"\"\"\n",
    "    cosadj = np.cos(np.deg2rad(0.5*(radio_dec + opt_dec)))\n",
    "    phi = np.arctan2(((opt_ra - radio_ra)*cosadj), (opt_dec - radio_dec))\n",
    "    return phi"
   ]
  },
  {
   "cell_type": "code",
   "execution_count": 52,
   "metadata": {},
   "outputs": [],
   "source": [
    "new_rel[\"phi_old\"] = np.rad2deg(compute_phi(new_rel[\"RA_rel\"], new_rel[\"DEC_rel\"], new_rel[\"ID_ra\"], new_rel[\"ID_dec\"]))"
   ]
  },
  {
   "cell_type": "code",
   "execution_count": 53,
   "metadata": {},
   "outputs": [],
   "source": [
    "new_rel[\"phi_new\"] = np.rad2deg(compute_phi(new_rel[\"RA_rel\"], new_rel[\"DEC_rel\"], new_rel[\"ra\"], new_rel[\"dec\"]))"
   ]
  },
  {
   "cell_type": "code",
   "execution_count": 55,
   "metadata": {},
   "outputs": [
    {
     "name": "stderr",
     "output_type": "stream",
     "text": [
      "/home/jsm/programs/soft/anaconda3/lib/python3.6/site-packages/astropy/table/column.py:965: RuntimeWarning: invalid value encountered in greater_equal\n",
      "  return getattr(self.data, op)(other)\n"
     ]
    }
   ],
   "source": [
    "changes = new_rel[~cond_equal_rel & \n",
    "        (new_rel[\"ID_flag\"] == 1) &\n",
    "        ~np.isnan(new_rel[\"ML_LR\"]) &\n",
    "        (new_rel[\"lr\"] >= 0.601)\n",
    "       ]\n",
    "#[\"Source_Name\", \"phi_old\", \"phi_new\", \"PA_rel\",  \"Maj_rel\", \"lr\", \"ML_LR\"]"
   ]
  },
  {
   "cell_type": "code",
   "execution_count": 60,
   "metadata": {},
   "outputs": [
    {
     "data": {
      "image/png": "[encoded data removed]",
      "text/plain": [
       "<Figure size 432x288 with 1 Axes>"
      ]
     },
     "metadata": {},
     "output_type": "display_data"
    }
   ],
   "source": [
    "plt.hist(np.abs(changes[\"phi_old\"] - changes[\"PA_rel\"]), bins=45, alpha=0.5);\n",
    "plt.hist(np.abs(changes[\"phi_new\"] - changes[\"PA_rel\"]), bins=45, alpha=0.5);"
   ]
  },
  {
   "cell_type": "code",
   "execution_count": 76,
   "metadata": {},
   "outputs": [
    {
     "data": {
      "image/png": "[encoded data removed]",
      "text/plain": [
       "<Figure size 432x288 with 1 Axes>"
      ]
     },
     "metadata": {},
     "output_type": "display_data"
    }
   ],
   "source": [
    "plt.hist(new_rel[\"phi_old\"][~np.isnan(new_rel[\"phi_old\"])], bins=45, alpha=0.5);\n",
    "plt.hist(new_rel[\"phi_new\"][~np.isnan(new_rel[\"phi_new\"])& (new_rel[\"ra\"] != 1e20)], bins=45, alpha=0.5);"
   ]
  },
  {
   "cell_type": "code",
   "execution_count": 81,
   "metadata": {},
   "outputs": [
    {
     "data": {
      "image/png": "[encoded data removed]",
      "text/plain": [
       "<Figure size 432x288 with 1 Axes>"
      ]
     },
     "metadata": {},
     "output_type": "display_data"
    }
   ],
   "source": [
    "plt.hist(new_rel[\"PA_rel\"][~np.isnan(new_rel[\"PA_rel\"])], bins=45, alpha=0.5);"
   ]
  },
  {
   "cell_type": "code",
   "execution_count": 88,
   "metadata": {},
   "outputs": [
    {
     "data": {
      "image/png": "[encoded data removed]",
      "text/plain": [
       "<Figure size 432x288 with 1 Axes>"
      ]
     },
     "metadata": {},
     "output_type": "display_data"
    }
   ],
   "source": [
    "cond1 = ~np.isnan(new_rel[\"phi_old\"]) & ~np.isnan(new_rel[\"PA_rel\"])\n",
    "angle = np.abs(new_rel[\"phi_old\"][cond1] - new_rel[\"PA_rel\"][cond1])\n",
    "angle[angle >= 180] = angle[angle >= 180] - 180\n",
    "angle[angle >= 90] = 180 - angle[angle >= 90]\n",
    "plt.hist(angle, bins=45, alpha=0.5);\n",
    "cond2 = ~np.isnan(new_rel[\"phi_new\"]) & ~np.isnan(new_rel[\"PA_rel\"])\n",
    "angle2 = np.abs(new_rel[\"phi_new\"][cond1] - new_rel[\"PA_rel\"][cond1])\n",
    "angle2[angle2 >= 180] = angle2[angle2 >= 180] - 180\n",
    "angle2[angle2 >= 90] = 180 - angle2[angle2 >= 90]\n",
    "plt.hist(angle2, bins=45, alpha=0.5);\n",
    "#plt.hist(np.abs(new_rel[\"phi_new\"] - new_rel[\"PA_rel\"]), bins=45, alpha=0.5);"
   ]
  },
  {
   "cell_type": "code",
   "execution_count": 85,
   "metadata": {},
   "outputs": [
    {
     "data": {
      "text/html": [
       "&lt;MaskedColumn name=&apos;PA_rel&apos; dtype=&apos;float64&apos; length=231717&gt;\n",
       "<table>\n",
       "<tr><td>nan</td></tr>\n",
       "<tr><td>94.63378795805019</td></tr>\n",
       "<tr><td>141.35908107158016</td></tr>\n",
       "<tr><td>23.158849328934885</td></tr>\n",
       "<tr><td>129.2707940997737</td></tr>\n",
       "<tr><td>62.29326398726961</td></tr>\n",
       "<tr><td>95.91524804737941</td></tr>\n",
       "<tr><td>66.5865937637745</td></tr>\n",
       "<tr><td>160.98002631336445</td></tr>\n",
       "<tr><td>76.15706035323043</td></tr>\n",
       "<tr><td>147.00574072007296</td></tr>\n",
       "<tr><td>154.53435145459358</td></tr>\n",
       "<tr><td>...</td></tr>\n",
       "<tr><td>97.03066175969411</td></tr>\n",
       "<tr><td>nan</td></tr>\n",
       "<tr><td>95.2514173142356</td></tr>\n",
       "<tr><td>136.11325754751297</td></tr>\n",
       "<tr><td>50.744067875222306</td></tr>\n",
       "<tr><td>98.22953578168179</td></tr>\n",
       "<tr><td>148.59859205553676</td></tr>\n",
       "<tr><td>64.87757971028594</td></tr>\n",
       "<tr><td>17.834758982610957</td></tr>\n",
       "<tr><td>88.476103460928</td></tr>\n",
       "<tr><td>158.2651496826891</td></tr>\n",
       "<tr><td>91.12276041662071</td></tr>\n",
       "</table>"
      ],
      "text/plain": [
       "<MaskedColumn name='PA_rel' dtype='float64' length=231717>\n",
       "               nan\n",
       " 94.63378795805019\n",
       "141.35908107158016\n",
       "23.158849328934885\n",
       " 129.2707940997737\n",
       " 62.29326398726961\n",
       " 95.91524804737941\n",
       "  66.5865937637745\n",
       "160.98002631336445\n",
       " 76.15706035323043\n",
       "147.00574072007296\n",
       "154.53435145459358\n",
       "               ...\n",
       " 97.03066175969411\n",
       "               nan\n",
       "  95.2514173142356\n",
       "136.11325754751297\n",
       "50.744067875222306\n",
       " 98.22953578168179\n",
       "148.59859205553676\n",
       " 64.87757971028594\n",
       "17.834758982610957\n",
       "   88.476103460928\n",
       " 158.2651496826891\n",
       " 91.12276041662071"
      ]
     },
     "execution_count": 85,
     "metadata": {},
     "output_type": "execute_result"
    }
   ],
   "source": [
    "new_rel[\"PA_rel\"][cond1]"
   ]
  },
  {
   "cell_type": "code",
   "execution_count": null,
   "metadata": {},
   "outputs": [],
   "source": []
  }
 ],
 "metadata": {
  "kernelspec": {
   "display_name": "Python 3",
   "language": "python",
   "name": "python3"
  },
  "language_info": {
   "codemirror_mode": {
    "name": "ipython",
    "version": 3
   },
   "file_extension": ".py",
   "mimetype": "text/x-python",
   "name": "python",
   "nbconvert_exporter": "python",
   "pygments_lexer": "ipython3",
   "version": "3.6.8"
  }
 },
 "nbformat": 4,
 "nbformat_minor": 2
}
