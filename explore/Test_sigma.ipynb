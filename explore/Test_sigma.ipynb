{
 "cells": [
  {
   "cell_type": "code",
   "execution_count": null,
   "metadata": {},
   "outputs": [],
   "source": []
  },
  {
   "cell_type": "code",
   "execution_count": 36,
   "metadata": {},
   "outputs": [],
   "source": [
    "import numpy as np\n",
    "from numpy.linalg import det"
   ]
  },
  {
   "cell_type": "code",
   "execution_count": 2,
   "metadata": {},
   "outputs": [
    {
     "name": "stdout",
     "output_type": "stream",
     "text": [
      "Using matplotlib backend: Qt5Agg\n",
      "Populating the interactive namespace from numpy and matplotlib\n"
     ]
    }
   ],
   "source": [
    "%pylab"
   ]
  },
  {
   "cell_type": "code",
   "execution_count": 1,
   "metadata": {},
   "outputs": [],
   "source": [
    "def R(theta):\n",
    "    \"\"\"Rotation matrix.\n",
    "    Input:\n",
    "      - theta: angle in degrees\n",
    "    \"\"\"\n",
    "    theta_rad = np.deg2rad(theta)\n",
    "    c = np.cos(theta_rad)\n",
    "    s = np.sin(theta_rad)\n",
    "    return np.array([[c, -s], [s, c]])"
   ]
  },
  {
   "cell_type": "code",
   "execution_count": 2,
   "metadata": {},
   "outputs": [],
   "source": [
    "def get_sigma(maj_error, min_error, pos_angle, \n",
    "              radio_ra, radio_dec, \n",
    "              opt_ra, opt_dec, opt_ra_err, opt_dec_err, \n",
    "              additional_error=0.6):\n",
    "    \"\"\"\n",
    "    Get the covariance matrix between an elongated \n",
    "    radio source and an optical source.\n",
    "    \n",
    "    Input:\n",
    "    * maj_error: error in the major axis of the radio Gaussian in arsecs\n",
    "    * min_error: error in the minor axis of the radio Gaussian in arsecs\n",
    "    * pos_angle: position angle of the radio Gaussian in degrees\n",
    "    * radio_ra: Right ascension of the radio source in degrees\n",
    "    * radio_dec: Declination of the radio source in degrees\n",
    "    * opt_ra: Right ascension of the optical source in degrees\n",
    "    * opt_dec: Declination of the optical source in degrees\n",
    "    * opt_ra_err: Error in right ascension of the optical source in degrees\n",
    "    * opt_dec_err: Error in declination of the optical source in degrees\n",
    "    * additonal_error: Additonal term to add to the error. By default\n",
    "        it adds an astrometic error of 0.6 arcsecs.\n",
    "    \n",
    "    Output:\n",
    "    * sigma: Combined covariance matrix\n",
    "    \"\"\"\n",
    "    factor = 0.60056120439322491 # sqrt(2.0) / sqrt(8.0 * log(2)); see Condon(1997) for derivation of adjustment factor\n",
    "    majerr = factor * maj_error\n",
    "    minerr = factor * min_error\n",
    "    # angle between the radio and the optical sources\n",
    "    cosadj = np.cos(np.deg2rad(0.5*(radio_dec + opt_dec)))\n",
    "    phi = np.arctan2((opt_dec - radio_dec), ((opt_ra - radio_ra)*cosadj))\n",
    "    # angle from direction of major axis to vector joining LOFAR source and optical source\n",
    "    alpha = np.pi/2.0 - phi - np.deg2rad(pos_angle) \n",
    "    # Covariance matrices\n",
    "    sigma_radio_nr = np.array([[majerr**2, 0], [0, minerr**2]])\n",
    "    sigma_optical_nr = np.array([[opt_ra_err**2, 0], [0, opt_dec_err**2]])\n",
    "    # Rotate the covariance matrices\n",
    "    R_radio = R(alpha)\n",
    "    sigma_radio = R_radio @ sigma_radio_nr @ R_radio.T\n",
    "    R_optical = R(-phi)\n",
    "    sigma_optical = R_optical @ sigma_optical_nr @ R_optical.T\n",
    "    # Additional error\n",
    "    sigma_additonal_error = np.array([[additional_error**2, 0], [0, additional_error**2]])\n",
    "    sigma = sigma_radio + sigma_optical + sigma_additonal_error\n",
    "    return sigma"
   ]
  },
  {
   "cell_type": "code",
   "execution_count": 3,
   "metadata": {},
   "outputs": [],
   "source": [
    "def get_sigma_all(maj_error, min_error, pos_angle, \n",
    "              radio_ra, radio_dec, \n",
    "              opt_ra, opt_dec, opt_ra_err, opt_dec_err, \n",
    "              additional_error=0.6):\n",
    "    \"\"\"Apply the get_sigma function in parallel and return the determinant of \n",
    "    the covariance matrix and its [1,1] term (or [0,0] in Python)\n",
    "    \"\"\"\n",
    "    n = len(opt_ra)\n",
    "    det_sigma = np.empty(n)\n",
    "    sigma_0_0 = np.empty(n)\n",
    "    for i in range(n):\n",
    "        sigma = get_sigma(maj_error, min_error, pos_angle, \n",
    "              radio_ra, radio_dec, \n",
    "              opt_ra[i], opt_dec[i], opt_ra_err[i], opt_dec_err[i], \n",
    "              additional_error=additional_error)\n",
    "        det_sigma[i] = det(sigma)\n",
    "        sigma_0_0[i] = sigma[0,0]\n",
    "    return sigma_0_0, det_sigma"
   ]
  },
  {
   "cell_type": "code",
   "execution_count": 4,
   "metadata": {},
   "outputs": [],
   "source": [
    "def get_sigma_all_old(maj_error, min_error, pos_angle, \n",
    "              radio_ra, radio_dec, \n",
    "              opt_ra, opt_dec, opt_ra_err, opt_dec_err, \n",
    "              additonal_error=0.6):\n",
    "    \"\"\"\n",
    "    Get the combined error and the axes components between an elongated \n",
    "    radio source and an optical source.\n",
    "    \n",
    "    Input:\n",
    "    * maj_error: error in the major axis of the radio Gaussian in arsecs\n",
    "    * min_error: error in the minor axis of the radio Gaussian in arsecs\n",
    "    * pos_angle: position angle of the radio Gaussian in degrees\n",
    "    * radio_ra: Right ascension of the radio source in degrees\n",
    "    * radio_dec: Declination of the radio source in degrees\n",
    "    * opt_ra: Right ascension of the optical source in degrees\n",
    "    * opt_dec: Declination of the optical source in degrees\n",
    "    * opt_ra_err: Error in right ascension of the optical source in degrees\n",
    "    * opt_dec_err: Error in declination of the optical source in degrees\n",
    "    * additonal_error: Additonal term to add to the error. By default\n",
    "        it adds an astrometic error of 0.6 arcsecs.\n",
    "    \n",
    "    Output:\n",
    "    * sigma: Combined error\n",
    "    * sigma_maj: Error in the major axis direction\n",
    "    * sigma_min: Error in the minor axis direction\n",
    "    \"\"\"\n",
    "    factor = 0.60056120439322491 # sqrt(2.0) / sqrt(8.0 * log(2)); see Condon(1997) for derivation of adjustment factor\n",
    "    majerr = factor * maj_error\n",
    "    minerr = factor * min_error\n",
    "    cosadj = np.cos(np.deg2rad(0.5*(radio_dec + opt_dec)))\n",
    "    phi = np.arctan2((opt_dec - radio_dec), ((opt_ra - radio_ra)*cosadj))\n",
    "    # angle from direction of major axis to vector joining LOFAR source and optical source\n",
    "    sigma = np.pi/2.0 - phi - np.deg2rad(pos_angle) \n",
    "    \n",
    "    maj_squared = ((majerr * np.cos(sigma))**2 + \n",
    "                   (opt_ra_err * np.cos(phi))**2 +\n",
    "                   additonal_error**2/2.\n",
    "                   )\n",
    "    min_squared = ((minerr * np.sin(sigma))**2 + \n",
    "                   (opt_dec_err * np.sin(phi))**2 +\n",
    "                   additonal_error**2/2.\n",
    "                   )\n",
    "    return np.sqrt(maj_squared + min_squared), np.sqrt(maj_squared), np.sqrt(min_squared)"
   ]
  },
  {
   "cell_type": "code",
   "execution_count": 5,
   "metadata": {},
   "outputs": [],
   "source": [
    "def compare_sigma(maj_error, min_error, pos_angle, \n",
    "              radio_ra, radio_dec, \n",
    "              opt_ra, opt_dec, opt_ra_err, opt_dec_err, \n",
    "              additional_error=0.6):\n",
    "    factor = 0.60056120439322491 # sqrt(2.0) / sqrt(8.0 * log(2)); see Condon(1997) for derivation of adjustment factor\n",
    "    majerr = factor * maj_error\n",
    "    minerr = factor * min_error\n",
    "    # angle between the radio and the optical sources\n",
    "    cosadj = np.cos(np.deg2rad(0.5*(radio_dec + opt_dec)))\n",
    "    phi = np.arctan2((opt_dec - radio_dec), ((opt_ra - radio_ra)*cosadj))\n",
    "    # angle from direction of major axis to vector joining LOFAR source and optical source\n",
    "    alpha = np.pi/2.0 - phi - np.deg2rad(pos_angle) \n",
    "    \n",
    "    # Old\n",
    "    maj_squared = ((majerr * np.cos(alpha))**2 + \n",
    "                   (opt_ra_err * np.cos(phi))**2 +\n",
    "                   additional_error**2/2.\n",
    "                   )\n",
    "    min_squared = ((minerr * np.sin(alpha))**2 + \n",
    "                   (opt_dec_err * np.sin(phi))**2 +\n",
    "                   additional_error**2/2.\n",
    "                   )\n",
    "    # Covariance matrices\n",
    "    sigma_radio_nr = np.array([[majerr**2, 0], [0, minerr**2]])\n",
    "    sigma_optical_nr = np.array([[opt_ra_err**2, 0], [0, opt_dec_err**2]])\n",
    "    # Rotate the covariance matrices\n",
    "    R_radio = R(alpha)\n",
    "    sigma_radio = R_radio @ sigma_radio_nr @ R_radio.T\n",
    "    R_optical = R(-phi)\n",
    "    sigma_optical = R_optical @ sigma_optical_nr @ R_optical.T\n",
    "    # Additional error\n",
    "    sigma_additonal_error = np.array([[additional_error**2, 0], [0, additional_error**2]])\n",
    "    sigma = sigma_radio + sigma_optical + sigma_additonal_error\n",
    "    print(np.sqrt(maj_squared + min_squared), np.sqrt(maj_squared), np.sqrt(min_squared))\n",
    "    print(sigma, det(sigma), sigma[0,0])    "
   ]
  },
  {
   "cell_type": "code",
   "execution_count": 6,
   "metadata": {},
   "outputs": [
    {
     "ename": "NameError",
     "evalue": "name 'np' is not defined",
     "output_type": "error",
     "traceback": [
      "\u001b[0;31m---------------------------------------------------------------------------\u001b[0m",
      "\u001b[0;31mNameError\u001b[0m                                 Traceback (most recent call last)",
      "\u001b[0;32m<ipython-input-6-1ebb8ba4bc9c>\u001b[0m in \u001b[0;36m<module>\u001b[0;34m()\u001b[0m\n\u001b[1;32m      1\u001b[0m compare_sigma(2.1946708811720677, 0.4100846697008271, 50.06371279231633, 185.15272884697757, 50.50747173493889,\n\u001b[0;32m----> 2\u001b[0;31m               185.14997539, 50.51034594, 0.04323999956250191, 0.05682000145316124)\n\u001b[0m",
      "\u001b[0;32m<ipython-input-5-1ab568cb2789>\u001b[0m in \u001b[0;36mcompare_sigma\u001b[0;34m(maj_error, min_error, pos_angle, radio_ra, radio_dec, opt_ra, opt_dec, opt_ra_err, opt_dec_err, additional_error)\u001b[0m\n\u001b[1;32m      7\u001b[0m     \u001b[0mminerr\u001b[0m \u001b[0;34m=\u001b[0m \u001b[0mfactor\u001b[0m \u001b[0;34m*\u001b[0m \u001b[0mmin_error\u001b[0m\u001b[0;34m\u001b[0m\u001b[0m\n\u001b[1;32m      8\u001b[0m     \u001b[0;31m# angle between the radio and the optical sources\u001b[0m\u001b[0;34m\u001b[0m\u001b[0;34m\u001b[0m\u001b[0m\n\u001b[0;32m----> 9\u001b[0;31m     \u001b[0mcosadj\u001b[0m \u001b[0;34m=\u001b[0m \u001b[0mnp\u001b[0m\u001b[0;34m.\u001b[0m\u001b[0mcos\u001b[0m\u001b[0;34m(\u001b[0m\u001b[0mnp\u001b[0m\u001b[0;34m.\u001b[0m\u001b[0mdeg2rad\u001b[0m\u001b[0;34m(\u001b[0m\u001b[0;36m0.5\u001b[0m\u001b[0;34m*\u001b[0m\u001b[0;34m(\u001b[0m\u001b[0mradio_dec\u001b[0m \u001b[0;34m+\u001b[0m \u001b[0mopt_dec\u001b[0m\u001b[0;34m)\u001b[0m\u001b[0;34m)\u001b[0m\u001b[0;34m)\u001b[0m\u001b[0;34m\u001b[0m\u001b[0m\n\u001b[0m\u001b[1;32m     10\u001b[0m     \u001b[0mphi\u001b[0m \u001b[0;34m=\u001b[0m \u001b[0mnp\u001b[0m\u001b[0;34m.\u001b[0m\u001b[0marctan2\u001b[0m\u001b[0;34m(\u001b[0m\u001b[0;34m(\u001b[0m\u001b[0mopt_dec\u001b[0m \u001b[0;34m-\u001b[0m \u001b[0mradio_dec\u001b[0m\u001b[0;34m)\u001b[0m\u001b[0;34m,\u001b[0m \u001b[0;34m(\u001b[0m\u001b[0;34m(\u001b[0m\u001b[0mopt_ra\u001b[0m \u001b[0;34m-\u001b[0m \u001b[0mradio_ra\u001b[0m\u001b[0;34m)\u001b[0m\u001b[0;34m*\u001b[0m\u001b[0mcosadj\u001b[0m\u001b[0;34m)\u001b[0m\u001b[0;34m)\u001b[0m\u001b[0;34m\u001b[0m\u001b[0m\n\u001b[1;32m     11\u001b[0m     \u001b[0;31m# angle from direction of major axis to vector joining LOFAR source and optical source\u001b[0m\u001b[0;34m\u001b[0m\u001b[0;34m\u001b[0m\u001b[0m\n",
      "\u001b[0;31mNameError\u001b[0m: name 'np' is not defined"
     ]
    }
   ],
   "source": [
    "compare_sigma(2.1946708811720677, 0.4100846697008271, 50.06371279231633, 185.15272884697757, 50.50747173493889,\n",
    "              185.14997539, 50.51034594, 0.04323999956250191, 0.05682000145316124)"
   ]
  },
  {
   "cell_type": "code",
   "execution_count": 2,
   "metadata": {},
   "outputs": [],
   "source": [
    "from matplotlib import pyplot as plt\n"
   ]
  },
  {
   "cell_type": "code",
   "execution_count": 3,
   "metadata": {},
   "outputs": [
    {
     "ename": "NameError",
     "evalue": "name 'patches' is not defined",
     "output_type": "error",
     "traceback": [
      "\u001b[0;31m---------------------------------------------------------------------------\u001b[0m",
      "\u001b[0;31mNameError\u001b[0m                                 Traceback (most recent call last)",
      "\u001b[0;32m<ipython-input-3-d5c064d2aa4e>\u001b[0m in \u001b[0;36m<module>\u001b[0;34m()\u001b[0m\n\u001b[1;32m      1\u001b[0m \u001b[0mfig\u001b[0m \u001b[0;34m=\u001b[0m \u001b[0mplt\u001b[0m\u001b[0;34m.\u001b[0m\u001b[0mfigure\u001b[0m\u001b[0;34m(\u001b[0m\u001b[0;34m)\u001b[0m\u001b[0;34m\u001b[0m\u001b[0m\n\u001b[1;32m      2\u001b[0m \u001b[0max\u001b[0m \u001b[0;34m=\u001b[0m \u001b[0mfig\u001b[0m\u001b[0;34m.\u001b[0m\u001b[0madd_subplot\u001b[0m\u001b[0;34m(\u001b[0m\u001b[0;36m111\u001b[0m\u001b[0;34m,\u001b[0m \u001b[0maspect\u001b[0m\u001b[0;34m=\u001b[0m\u001b[0;34m'auto'\u001b[0m\u001b[0;34m)\u001b[0m\u001b[0;34m\u001b[0m\u001b[0m\n\u001b[0;32m----> 3\u001b[0;31m e1 = patches.Ellipse((185.15272884697757, 50.50747173493889), \n\u001b[0m\u001b[1;32m      4\u001b[0m                      \u001b[0;36m2.1946708811720677\u001b[0m\u001b[0;34m/\u001b[0m\u001b[0;36m3600.\u001b[0m\u001b[0;34m,\u001b[0m \u001b[0;36m0.4100846697008271\u001b[0m\u001b[0;34m/\u001b[0m\u001b[0;36m3600.\u001b[0m\u001b[0;34m,\u001b[0m\u001b[0;34m\u001b[0m\u001b[0m\n\u001b[1;32m      5\u001b[0m                      angle=np.deg2rad(50.06371279231633), linewidth=2, fill=False, zorder=2)\n",
      "\u001b[0;31mNameError\u001b[0m: name 'patches' is not defined"
     ]
    },
    {
     "data": {
      "image/png": "[encoded data removed]",
      "text/plain": [
       "<Figure size 432x288 with 1 Axes>"
      ]
     },
     "metadata": {
      "needs_background": "light"
     },
     "output_type": "display_data"
    }
   ],
   "source": [
    "fig = plt.figure()\n",
    "ax = fig.add_subplot(111, aspect='auto')\n",
    "e1 = patches.Ellipse((185.15272884697757, 50.50747173493889), \n",
    "                     2.1946708811720677/3600., 0.4100846697008271/3600.,\n",
    "                     angle=np.deg2rad(50.06371279231633), linewidth=2, fill=False, zorder=2)\n",
    "e2 = patches.Ellipse((185.14997539, 50.51034594), \n",
    "                     0.04323999956250191/3600., 0.05682000145316124/3600.,\n",
    "                     angle=np.deg2rad(0.), linewidth=2, fill=False, zorder=2)\n",
    "ax.add_patch(e1)\n",
    "ax.add_patch(e2)"
   ]
  },
  {
   "cell_type": "code",
   "execution_count": null,
   "metadata": {},
   "outputs": [],
   "source": [
    "10619585 8.146669821114509 6.205941702040493e-07\n",
    "10619584 11.165577527224745 6.205941702040493e-07\n",
    "[2.09247864 2.12776272 2.09805469] \n",
    "[0.88298441 0.96200201 0.88976522] \n",
    "[2.08069841e-14 2.78922734e-08 1.14443646e-16] \n",
    "[1.44815998 0.80857455 0.67887615] \n",
    "[1.38456969 0.64243816 0.46820454] \n",
    "[0.42442206 0.49098473 0.49158655] \n",
    "[3.34175321e-14 4.56806505e-23 4.69443288e-70]\n",
    "(lofar_maj_err, lofar_min_err, lofar_pa, \n",
    "        lofar_ra, lofar_dec, c_ra, c_dec, c_ra_err, c_dec_err)\n",
    "(2.1946708811720677, 0.4100846697008271, 50.06371279231633, 185.15272884697757, 50.50747173493889, <MaskedColumn name='ra' dtype='float64' length=3>\n",
    "185.14894305\n",
    "185.15581771\n",
    "185.14997539, <MaskedColumn name='dec' dtype='float64' length=3>\n",
    "50.50551663\n",
    "50.50634841\n",
    "50.51034594, <MaskedColumn name='raErr' dtype='float64' length=3>\n",
    "0.01865999959409237\n",
    " 0.1769299954175949\n",
    "0.04323999956250191, <MaskedColumn name='decErr' dtype='float64' length=3>\n",
    "0.017410000786185265\n",
    "  0.1769299954175949\n",
    " 0.05682000145316124)"
   ]
  },
  {
   "cell_type": "markdown",
   "metadata": {},
   "source": [
    "## Main individual tests"
   ]
  },
  {
   "cell_type": "code",
   "execution_count": 5,
   "metadata": {},
   "outputs": [],
   "source": [
    "import numpy as np"
   ]
  },
  {
   "cell_type": "markdown",
   "metadata": {},
   "source": [
    "Test the computation of the angle between the two sources"
   ]
  },
  {
   "cell_type": "code",
   "execution_count": 18,
   "metadata": {},
   "outputs": [],
   "source": [
    "def compute_phi(radio_ra, radio_dec, opt_ra, opt_dec):\n",
    "    \"\"\"Compute the angle (in radians) between two sources\n",
    "    \"\"\"\n",
    "    cosadj = np.cos(np.deg2rad(0.5*(radio_dec + opt_dec)))\n",
    "    phi = np.arctan2(((opt_ra - radio_ra)*cosadj), (opt_dec - radio_dec))\n",
    "    return phi"
   ]
  },
  {
   "cell_type": "code",
   "execution_count": 19,
   "metadata": {},
   "outputs": [],
   "source": [
    "test_positions = [\n",
    "    ([2, 2, 1, 3], -45),\n",
    "    ([2, 2, 2, 3], 0),\n",
    "    ([2, 2, 3, 3], 45),\n",
    "    ([2, 2, 1, 2], -90),\n",
    "    ([2, 2, 3, 2], 90),\n",
    "    ([2, 2, 1, 1], -135),\n",
    "    ([2, 2, 2, 1], 180),\n",
    "    ([2, 2, 3, 1], 135)\n",
    "]"
   ]
  },
  {
   "cell_type": "code",
   "execution_count": 20,
   "metadata": {},
   "outputs": [
    {
     "name": "stdout",
     "output_type": "stream",
     "text": [
      "-44.97272057688162 -45\n",
      "0.0 0\n",
      "44.97272057688162 45\n",
      "-90.0 -90\n",
      "90.0 90\n",
      "-135.00981859852072 -135\n",
      "180.0 180\n",
      "135.00981859852072 135\n"
     ]
    }
   ],
   "source": [
    "for pos, angle in test_positions:\n",
    "    print(np.rad2deg(compute_phi(*pos)), angle)"
   ]
  },
  {
   "cell_type": "markdown",
   "metadata": {},
   "source": [
    "Test the computation of alpha, the angle between the radio major axis and the line"
   ]
  },
  {
   "cell_type": "code",
   "execution_count": null,
   "metadata": {},
   "outputs": [],
   "source": [
    "alpha = np.pi/2.0 - phi - np.deg2rad(pos_angle) "
   ]
  },
  {
   "cell_type": "code",
   "execution_count": 21,
   "metadata": {},
   "outputs": [],
   "source": [
    "test_angles = [\n",
    "    ((-45, -45), 0),\n",
    "    ((-45, 0), 45),\n",
    "    ((-45, -90), -45),\n",
    "    ((90, 0), -90),\n",
    "    ((90, 90), 0),\n",
    "    ((90, 135), 45),\n",
    "]"
   ]
  },
  {
   "cell_type": "code",
   "execution_count": 23,
   "metadata": {},
   "outputs": [
    {
     "name": "stdout",
     "output_type": "stream",
     "text": [
      "180.0 0\n",
      "135.0 45\n",
      "225.0 -45\n",
      "0.0 -90\n",
      "-90.0 0\n",
      "-135.0 45\n"
     ]
    }
   ],
   "source": [
    "for fpa, alpha in test_angles:\n",
    "    alpha_comp = np.rad2deg(np.pi/2.0 - np.deg2rad(fpa[0]) - np.deg2rad(fpa[1])) # Old angles\n",
    "    print(alpha_comp, alpha)"
   ]
  },
  {
   "cell_type": "code",
   "execution_count": 27,
   "metadata": {},
   "outputs": [
    {
     "name": "stdout",
     "output_type": "stream",
     "text": [
      "-0.0 0\n",
      "45.0 45\n",
      "-45.0 -45\n",
      "-90.0 -90\n",
      "-0.0 0\n",
      "45.0 45\n"
     ]
    }
   ],
   "source": [
    "for fpa, alpha in test_angles:\n",
    "    alpha_comp = -np.rad2deg(np.deg2rad(fpa[0]) - np.deg2rad(fpa[1])) # Corrected\n",
    "    print(alpha_comp, alpha)"
   ]
  },
  {
   "cell_type": "markdown",
   "metadata": {},
   "source": [
    "Test the rotation of the radio covariance"
   ]
  },
  {
   "cell_type": "code",
   "execution_count": 29,
   "metadata": {},
   "outputs": [],
   "source": [
    "test_sigma_rotation_radio = [\n",
    "    (([[2,0],[0,0.5]], 0), 2),\n",
    "    (([[2,0],[0,0.5]], -90), 0.5)\n",
    "]"
   ]
  },
  {
   "cell_type": "code",
   "execution_count": 30,
   "metadata": {},
   "outputs": [
    {
     "name": "stdout",
     "output_type": "stream",
     "text": [
      "2.0 2\n",
      "0.5 0.5\n"
     ]
    }
   ],
   "source": [
    "for params, maj_e in test_sigma_rotation_radio:\n",
    "    Rot = R(params[1])\n",
    "    sigma_rot = Rot @ params[0] @ Rot.T\n",
    "    print(sigma_rot[0,0], maj_e)"
   ]
  },
  {
   "cell_type": "markdown",
   "metadata": {},
   "source": [
    "Test the rotation of the optical Covariance"
   ]
  },
  {
   "cell_type": "code",
   "execution_count": 31,
   "metadata": {},
   "outputs": [],
   "source": [
    "test_sigma_rotation_optical = [\n",
    "    (([[2,0],[0,0.5]], -45), 1),\n",
    "    (([[2,0],[0,0.5]], 45), 1),\n",
    "    (([[2,0],[0,0.5]], 0), 2),\n",
    "    (([[2,0],[0,0.5]], -90), 0.5),\n",
    "    (([[0.5,0],[0,2]], -45), 1),\n",
    "    (([[0.5,0],[0,2]], 45), 1),\n",
    "    (([[0.5,0],[0,2]], 0), 0.5),\n",
    "    (([[0.5,0],[0,2]], -90), 2),\n",
    "]"
   ]
  },
  {
   "cell_type": "code",
   "execution_count": 32,
   "metadata": {},
   "outputs": [
    {
     "name": "stdout",
     "output_type": "stream",
     "text": [
      "1.2500000000000002 1\n",
      "1.2500000000000002 1\n",
      "2.0 2\n",
      "0.5 0.5\n",
      "1.2499999999999998 1\n",
      "1.2499999999999998 1\n",
      "0.5 0.5\n",
      "2.0 2\n"
     ]
    }
   ],
   "source": [
    "for params, maj_e in test_sigma_rotation_optical:\n",
    "    Rot = R(params[1])\n",
    "    sigma_rot = Rot @ params[0] @ Rot.T\n",
    "    print(sigma_rot[0,0], maj_e)"
   ]
  },
  {
   "cell_type": "markdown",
   "metadata": {},
   "source": [
    "Compare the new implementation and the old one"
   ]
  },
  {
   "cell_type": "code",
   "execution_count": 39,
   "metadata": {},
   "outputs": [],
   "source": [
    "def compare_sigma_new(maj_error, min_error, pos_angle, \n",
    "              radio_ra, radio_dec, \n",
    "              opt_ra, opt_dec, opt_ra_err, opt_dec_err, \n",
    "              additional_error=0.6):\n",
    "    factor = 0.60056120439322491 # sqrt(2.0) / sqrt(8.0 * log(2)); see Condon(1997) for derivation of adjustment factor\n",
    "    majerr = factor * maj_error\n",
    "    minerr = factor * min_error\n",
    "    # angle between the radio and the optical sources\n",
    "    cosadj = np.cos(np.deg2rad(0.5*(radio_dec + opt_dec)))\n",
    "    phi = np.arctan2(((opt_ra - radio_ra)*cosadj), (opt_dec - radio_dec))\n",
    "    # angle from direction of major axis to vector joining LOFAR source and optical source\n",
    "    alpha = -(np.deg2rad(phi) - np.deg2rad(pos_angle))\n",
    "    \n",
    "    # Old\n",
    "    phi2 = np.arctan2((opt_dec - radio_dec), ((opt_ra - radio_ra)*cosadj))\n",
    "    # angle from direction of major axis to vector joining LOFAR source and optical source\n",
    "    sigma2 = np.pi/2.0 - phi2 - np.deg2rad(pos_angle) \n",
    "    \n",
    "    maj_squared = ((majerr * np.cos(sigma2))**2 + \n",
    "                   (opt_ra_err * np.cos(phi2))**2 +\n",
    "                   additional_error**2/2.\n",
    "                   )\n",
    "    min_squared = ((minerr * np.sin(sigma2))**2 + \n",
    "                   (opt_dec_err * np.sin(phi2))**2 +\n",
    "                   additional_error**2/2.\n",
    "                   )\n",
    "    # Covariance matrices\n",
    "    sigma_radio_nr = np.array([[majerr**2, 0], [0, minerr**2]])\n",
    "    sigma_optical_nr = np.array([[opt_dec_err**2, 0], [0, opt_ra_err**2]])\n",
    "    # Rotate the covariance matrices\n",
    "    R_radio = R(alpha)\n",
    "    sigma_radio = R_radio @ sigma_radio_nr @ R_radio.T\n",
    "    R_optical = R(phi)\n",
    "    sigma_optical = R_optical @ sigma_optical_nr @ R_optical.T\n",
    "    # Additional error\n",
    "    sigma_additonal_error = np.array([[additional_error**2, 0], [0, additional_error**2]])\n",
    "    sigma = sigma_radio + sigma_optical + sigma_additonal_error\n",
    "    print(np.sqrt(maj_squared + min_squared), np.sqrt(maj_squared), np.sqrt(min_squared))\n",
    "    print(sigma, det(sigma), sigma[0,0]) "
   ]
  },
  {
   "cell_type": "code",
   "execution_count": 40,
   "metadata": {},
   "outputs": [
    {
     "name": "stdout",
     "output_type": "stream",
     "text": [
      "0.6788761491234668 0.46820453743047535 0.4915865508516503\n",
      "[[2.10004405 0.02583039]\n",
      " [0.02583039 0.42292258]] 0.8874888436809194 2.100044050730553\n"
     ]
    }
   ],
   "source": [
    "compare_sigma_new(2.1946708811720677, 0.4100846697008271, 50.06371279231633, 185.15272884697757, 50.50747173493889,\n",
    "              185.14997539, 50.51034594, 0.04323999956250191, 0.05682000145316124)"
   ]
  },
  {
   "cell_type": "code",
   "execution_count": 41,
   "metadata": {},
   "outputs": [],
   "source": [
    "def compare_sigma_new_implementations(maj_error, min_error, pos_angle, \n",
    "              radio_ra, radio_dec, \n",
    "              opt_ra, opt_dec, opt_ra_err, opt_dec_err, \n",
    "              additional_error=0.6):\n",
    "    factor = 0.60056120439322491 # sqrt(2.0) / sqrt(8.0 * log(2)); see Condon(1997) for derivation of adjustment factor\n",
    "    majerr = factor * maj_error\n",
    "    minerr = factor * min_error\n",
    "    # angle between the radio and the optical sources\n",
    "    cosadj = np.cos(np.deg2rad(0.5*(radio_dec + opt_dec)))\n",
    "    phi = np.arctan2(((opt_ra - radio_ra)*cosadj), (opt_dec - radio_dec))\n",
    "    # angle from direction of major axis to vector joining LOFAR source and optical source\n",
    "    alpha = -(np.deg2rad(phi) - np.deg2rad(pos_angle))\n",
    "    \n",
    "    # Covariance matrices\n",
    "    sigma_radio_nr = np.array([[majerr**2, 0], [0, minerr**2]])\n",
    "    sigma_optical_nr = np.array([[opt_dec_err**2, 0], [0, opt_ra_err**2]])\n",
    "    # Rotate the covariance matrices\n",
    "    R_radio = R(alpha)\n",
    "    sigma_radio = R_radio @ sigma_radio_nr @ R_radio.T\n",
    "    R_optical = R(phi)\n",
    "    sigma_optical = R_optical @ sigma_optical_nr @ R_optical.T\n",
    "    # Additional error\n",
    "    sigma_additonal_error = np.array([[additional_error**2, 0], [0, additional_error**2]])\n",
    "    sigma = sigma_radio + sigma_optical + sigma_additonal_error\n",
    "    print(sigma, det(sigma), sigma[0,0])\n",
    "    #### Previous new implementation\n",
    "    phi = np.arctan2((opt_dec - radio_dec), ((opt_ra - radio_ra)*cosadj))\n",
    "    # angle from direction of major axis to vector joining LOFAR source and optical source\n",
    "    alpha = np.pi/2.0 - phi - np.deg2rad(pos_angle) \n",
    "    # Covariance matrices\n",
    "    sigma_radio_nr = np.array([[majerr**2, 0], [0, minerr**2]])\n",
    "    sigma_optical_nr = np.array([[opt_ra_err**2, 0], [0, opt_dec_err**2]])\n",
    "    # Rotate the covariance matrices\n",
    "    R_radio = R(alpha)\n",
    "    sigma_radio = R_radio @ sigma_radio_nr @ R_radio.T\n",
    "    R_optical = R(-phi)\n",
    "    sigma_optical = R_optical @ sigma_optical_nr @ R_optical.T\n",
    "    # Additional error\n",
    "    sigma_additonal_error = np.array([[additional_error**2, 0], [0, additional_error**2]])\n",
    "    sigma = sigma_radio + sigma_optical + sigma_additonal_error\n",
    "    print(sigma, det(sigma), sigma[0,0])"
   ]
  },
  {
   "cell_type": "code",
   "execution_count": 42,
   "metadata": {},
   "outputs": [
    {
     "name": "stdout",
     "output_type": "stream",
     "text": [
      "[[2.10004405 0.02583039]\n",
      " [0.02583039 0.42292258]] 0.8874888436809194 2.100044050730553\n",
      "[[ 2.09805469 -0.04151227]\n",
      " [-0.04151227  0.42491194]] 0.8897652213771526 2.0980546927451607\n"
     ]
    }
   ],
   "source": [
    "compare_sigma_new_implementations(2.1946708811720677, 0.4100846697008271, 50.06371279231633, 185.15272884697757, 50.50747173493889,\n",
    "              185.14997539, 50.51034594, 0.04323999956250191, 0.05682000145316124)"
   ]
  },
  {
   "cell_type": "code",
   "execution_count": null,
   "metadata": {},
   "outputs": [],
   "source": []
  }
 ],
 "metadata": {
  "kernelspec": {
   "display_name": "Python 3",
   "language": "python",
   "name": "python3"
  },
  "language_info": {
   "codemirror_mode": {
    "name": "ipython",
    "version": 3
   },
   "file_extension": ".py",
   "mimetype": "text/x-python",
   "name": "python",
   "nbconvert_exporter": "python",
   "pygments_lexer": "ipython3",
   "version": "3.6.6"
  }
 },
 "nbformat": 4,
 "nbformat_minor": 2
}
