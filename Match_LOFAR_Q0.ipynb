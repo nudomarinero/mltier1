{
 "cells": [
  {
   "cell_type": "markdown",
   "metadata": {},
   "source": [
    "# ML match for LOFAR and the combined PanSTARRS WISE catalogue: Compute the $Q_0$"
   ]
  },
  {
   "cell_type": "markdown",
   "metadata": {},
   "source": [
    "## Configuration\n",
    "\n",
    "### Load libraries and setup"
   ]
  },
  {
   "cell_type": "code",
   "execution_count": 1,
   "metadata": {
    "collapsed": true
   },
   "outputs": [],
   "source": [
    "import numpy as np\n",
    "from astropy.table import Table\n",
    "from astropy import units as u\n",
    "from astropy.coordinates import SkyCoord, search_around_sky\n",
    "from IPython.display import clear_output"
   ]
  },
  {
   "cell_type": "code",
   "execution_count": 2,
   "metadata": {},
   "outputs": [],
   "source": [
    "from mltier1 import Field, Q_0, parallel_process, describe"
   ]
  },
  {
   "cell_type": "code",
   "execution_count": 3,
   "metadata": {
    "collapsed": true
   },
   "outputs": [],
   "source": [
    "%load_ext autoreload"
   ]
  },
  {
   "cell_type": "code",
   "execution_count": 4,
   "metadata": {
    "collapsed": true
   },
   "outputs": [],
   "source": [
    "%autoreload"
   ]
  },
  {
   "cell_type": "code",
   "execution_count": 5,
   "metadata": {
    "collapsed": true
   },
   "outputs": [],
   "source": [
    "from IPython.display import clear_output"
   ]
  },
  {
   "cell_type": "code",
   "execution_count": 6,
   "metadata": {},
   "outputs": [
    {
     "name": "stdout",
     "output_type": "stream",
     "text": [
      "Populating the interactive namespace from numpy and matplotlib\n"
     ]
    }
   ],
   "source": [
    "%pylab inline"
   ]
  },
  {
   "cell_type": "markdown",
   "metadata": {},
   "source": [
    "### Area limits"
   ]
  },
  {
   "cell_type": "code",
   "execution_count": 7,
   "metadata": {
    "collapsed": true
   },
   "outputs": [],
   "source": [
    "# Busy week Hatfield 2017\n",
    "ra_down = 170.\n",
    "ra_up = 190.\n",
    "dec_down = 46.8\n",
    "dec_up = 55.9"
   ]
  },
  {
   "cell_type": "code",
   "execution_count": 8,
   "metadata": {
    "collapsed": true
   },
   "outputs": [],
   "source": [
    "field = Field(170.0, 190.0, 46.8, 55.9)"
   ]
  },
  {
   "cell_type": "markdown",
   "metadata": {},
   "source": [
    "## Load data"
   ]
  },
  {
   "cell_type": "code",
   "execution_count": 9,
   "metadata": {},
   "outputs": [],
   "source": [
    "combined = Table.read(\"pw.fits\")"
   ]
  },
  {
   "cell_type": "code",
   "execution_count": 10,
   "metadata": {},
   "outputs": [],
   "source": [
    "lofar_all = Table.read(\"data/LOFAR_HBA_T1_DR1_catalog_v0.9.srl.fits\")"
   ]
  },
  {
   "cell_type": "code",
   "execution_count": 11,
   "metadata": {},
   "outputs": [
    {
     "data": {
      "text/plain": [
       "array(['AllWISE', 'objID', 'ra', 'dec', 'raErr', 'decErr', 'W1mag',\n",
       "       'W1magErr', 'i', 'iErr'],\n",
       "      dtype='<U8')"
      ]
     },
     "execution_count": 11,
     "metadata": {},
     "output_type": "execute_result"
    }
   ],
   "source": [
    "np.array(combined.colnames)"
   ]
  },
  {
   "cell_type": "code",
   "execution_count": 12,
   "metadata": {},
   "outputs": [
    {
     "data": {
      "text/plain": [
       "array(['Source_Name', 'RA', 'E_RA', 'E_RA_tot', 'DEC', 'E_DEC',\n",
       "       'E_DEC_tot', 'Peak_flux', 'E_Peak_flux', 'E_Peak_flux_tot',\n",
       "       'Total_flux', 'E_Total_flux', 'E_Total_flux_tot', 'Maj', 'E_Maj',\n",
       "       'Min', 'E_Min', 'PA', 'E_PA', 'Isl_rms', 'S_Code', 'Mosaic_ID',\n",
       "       'Isl_id'],\n",
       "      dtype='<U16')"
      ]
     },
     "execution_count": 12,
     "metadata": {},
     "output_type": "execute_result"
    }
   ],
   "source": [
    "np.array(lofar_all.colnames)"
   ]
  },
  {
   "cell_type": "markdown",
   "metadata": {},
   "source": [
    "### Filter catalogues"
   ]
  },
  {
   "cell_type": "code",
   "execution_count": 13,
   "metadata": {},
   "outputs": [],
   "source": [
    "lofar = field.filter_catalogue(lofar_all, colnames=(\"RA\", \"DEC\"))"
   ]
  },
  {
   "cell_type": "markdown",
   "metadata": {},
   "source": [
    "### Sky coordinates"
   ]
  },
  {
   "cell_type": "code",
   "execution_count": 15,
   "metadata": {},
   "outputs": [],
   "source": [
    "coords_combined = SkyCoord(combined['ra'], \n",
    "                           combined['dec'], \n",
    "                           unit=(u.deg, u.deg), \n",
    "                           frame='icrs')"
   ]
  },
  {
   "cell_type": "code",
   "execution_count": 17,
   "metadata": {},
   "outputs": [],
   "source": [
    "coords_lofar = SkyCoord(lofar['RA'], \n",
    "                       lofar['DEC'], \n",
    "                       unit=(u.deg, u.deg), \n",
    "                       frame='icrs')"
   ]
  },
  {
   "cell_type": "markdown",
   "metadata": {},
   "source": [
    "### Summary of galaxy types in the combined catalogue"
   ]
  },
  {
   "cell_type": "code",
   "execution_count": 18,
   "metadata": {},
   "outputs": [
    {
     "data": {
      "text/plain": [
       "8196213"
      ]
     },
     "execution_count": 18,
     "metadata": {},
     "output_type": "execute_result"
    }
   ],
   "source": [
    "combined_matched = (~np.isnan(combined[\"i\"]) & \n",
    "                    ~np.isnan(combined[\"W1mag\"]))\n",
    "np.sum(combined_matched) # Matches"
   ]
  },
  {
   "cell_type": "code",
   "execution_count": 19,
   "metadata": {},
   "outputs": [
    {
     "data": {
      "text/plain": [
       "18583323"
      ]
     },
     "execution_count": 19,
     "metadata": {},
     "output_type": "execute_result"
    }
   ],
   "source": [
    "combined_panstarrs = (~np.isnan(combined[\"i\"]) & \n",
    "                      np.isnan(combined[\"W1mag\"]))\n",
    "np.sum(combined_panstarrs) # Only PanSTARSS"
   ]
  },
  {
   "cell_type": "code",
   "execution_count": 20,
   "metadata": {},
   "outputs": [
    {
     "data": {
      "text/plain": [
       "5023475"
      ]
     },
     "execution_count": 20,
     "metadata": {},
     "output_type": "execute_result"
    }
   ],
   "source": [
    "combined_wise =(np.isnan(combined[\"i\"]) & \n",
    "                ~np.isnan(combined[\"W1mag\"]))\n",
    "np.sum(combined_wise) # Only WISE"
   ]
  },
  {
   "cell_type": "code",
   "execution_count": 21,
   "metadata": {
    "collapsed": true
   },
   "outputs": [],
   "source": [
    "combined_i = combined_matched | combined_panstarrs\n",
    "combined_w1 = combined_matched | combined_wise"
   ]
  },
  {
   "cell_type": "markdown",
   "metadata": {
    "collapsed": true
   },
   "source": [
    "## $Q_0$ dependence on the radius\n",
    "\n",
    "We will iterate 10 times for each radius. However, the error is so small that a direct computation can be accurate to 4 significant figures."
   ]
  },
  {
   "cell_type": "code",
   "execution_count": 22,
   "metadata": {
    "collapsed": true
   },
   "outputs": [],
   "source": [
    "n_iter = 10"
   ]
  },
  {
   "cell_type": "code",
   "execution_count": 23,
   "metadata": {
    "collapsed": true
   },
   "outputs": [],
   "source": [
    "rads = list(range(1,26))"
   ]
  },
  {
   "cell_type": "markdown",
   "metadata": {},
   "source": [
    "### i-band"
   ]
  },
  {
   "cell_type": "code",
   "execution_count": 24,
   "metadata": {
    "collapsed": true
   },
   "outputs": [],
   "source": [
    "q_0_comp_i = Q_0(coords_lofar, coords_combined[combined_i], field)"
   ]
  },
  {
   "cell_type": "code",
   "execution_count": 25,
   "metadata": {},
   "outputs": [
    {
     "name": "stdout",
     "output_type": "stream",
     "text": [
      " 1 0.37348 +/- 0.00016 [0.37315 0.37367]\n",
      " 2 0.46354 +/- 0.00027 [0.46293 0.46389]\n",
      " 3 0.48792 +/- 0.00042 [0.48730 0.48857]\n",
      " 4 0.50089 +/- 0.00040 [0.50030 0.50186]\n",
      " 5 0.50898 +/- 0.00046 [0.50817 0.50977]\n",
      " 6 0.51341 +/- 0.00056 [0.51219 0.51410]\n",
      " 7 0.51868 +/- 0.00115 [0.51724 0.52079]\n",
      " 8 0.52172 +/- 0.00084 [0.52023 0.52278]\n",
      " 9 0.52678 +/- 0.00112 [0.52505 0.52852]\n",
      "10 0.52792 +/- 0.00103 [0.52662 0.53005]\n",
      "11 0.53245 +/- 0.00141 [0.53091 0.53509]\n",
      "12 0.53549 +/- 0.00197 [0.53326 0.53850]\n",
      "13 0.53666 +/- 0.00245 [0.53223 0.54035]\n",
      "14 0.53918 +/- 0.00291 [0.53258 0.54253]\n",
      "15 0.54248 +/- 0.00206 [0.53861 0.54618]\n",
      "16 0.54512 +/- 0.00316 [0.54005 0.55060]\n",
      "17 0.54650 +/- 0.00243 [0.54162 0.55107]\n",
      "18 0.55247 +/- 0.00208 [0.54860 0.55578]\n",
      "19 0.55060 +/- 0.00354 [0.54374 0.55574]\n",
      "20 0.55354 +/- 0.00502 [0.54651 0.56213]\n",
      "21 0.55774 +/- 0.00430 [0.54972 0.56514]\n",
      "22 0.56159 +/- 0.00335 [0.55384 0.56464]\n",
      "23 0.56286 +/- 0.00507 [0.55291 0.57044]\n",
      "24 0.57024 +/- 0.00404 [0.56448 0.57610]\n",
      "25 0.57276 +/- 0.00619 [0.56419 0.58633]\n"
     ]
    }
   ],
   "source": [
    "q_0_rad_i = []\n",
    "for radius in rads:\n",
    "    q_0_rad_aux = []\n",
    "    for i in range(n_iter):\n",
    "        out = q_0_comp_i(radius=radius)\n",
    "        q_0_rad_aux.append(out)\n",
    "    q_0_rad_i.append(np.mean(q_0_rad_aux))\n",
    "    print(\"{:2d} {:7.5f} +/- {:7.5f} [{:7.5f} {:7.5f}]\".format(radius, \n",
    "            np.mean(q_0_rad_aux), np.std(q_0_rad_aux), \n",
    "            np.min(q_0_rad_aux), np.max(q_0_rad_aux)))"
   ]
  },
  {
   "cell_type": "code",
   "execution_count": 26,
   "metadata": {},
   "outputs": [
    {
     "data": {
      "image/png": "[encoded data removed]",
      "text/plain": [
       "<matplotlib.figure.Figure at 0x7fba9bc51f28>"
      ]
     },
     "metadata": {},
     "output_type": "display_data"
    }
   ],
   "source": [
    "plt.rcParams[\"figure.figsize\"] = (5,5)\n",
    "plot(rads, q_0_rad_i)\n",
    "xlabel(\"Radius (arcsecs)\")\n",
    "ylabel(\"$Q_0 i-band$\")\n",
    "ylim([0, 1]);"
   ]
  },
  {
   "cell_type": "markdown",
   "metadata": {},
   "source": [
    "### W1-band"
   ]
  },
  {
   "cell_type": "code",
   "execution_count": 27,
   "metadata": {},
   "outputs": [],
   "source": [
    "q_0_comp_w1 = Q_0(coords_lofar, coords_combined[combined_w1], field)"
   ]
  },
  {
   "cell_type": "code",
   "execution_count": 28,
   "metadata": {},
   "outputs": [
    {
     "name": "stdout",
     "output_type": "stream",
     "text": [
      " 1 0.45846 +/- 0.00012 [0.45827 0.45865]\n",
      " 2 0.60391 +/- 0.00018 [0.60372 0.60435]\n",
      " 3 0.65122 +/- 0.00018 [0.65086 0.65142]\n",
      " 4 0.67652 +/- 0.00019 [0.67605 0.67673]\n",
      " 5 0.69308 +/- 0.00017 [0.69281 0.69326]\n",
      " 6 0.70593 +/- 0.00034 [0.70529 0.70644]\n",
      " 7 0.71865 +/- 0.00046 [0.71799 0.71931]\n",
      " 8 0.73138 +/- 0.00058 [0.73022 0.73222]\n",
      " 9 0.74451 +/- 0.00042 [0.74402 0.74530]\n",
      "10 0.75463 +/- 0.00049 [0.75383 0.75565]\n",
      "11 0.76279 +/- 0.00056 [0.76192 0.76408]\n",
      "12 0.76629 +/- 0.00080 [0.76474 0.76786]\n",
      "13 0.77010 +/- 0.00049 [0.76952 0.77104]\n",
      "14 0.77427 +/- 0.00062 [0.77354 0.77520]\n",
      "15 0.77638 +/- 0.00095 [0.77476 0.77824]\n",
      "16 0.77795 +/- 0.00069 [0.77648 0.77903]\n",
      "17 0.77799 +/- 0.00095 [0.77659 0.77964]\n",
      "18 0.77742 +/- 0.00140 [0.77524 0.77984]\n",
      "19 0.77702 +/- 0.00104 [0.77571 0.77956]\n",
      "20 0.77724 +/- 0.00110 [0.77552 0.77918]\n",
      "21 0.77485 +/- 0.00183 [0.77195 0.77841]\n",
      "22 0.77331 +/- 0.00251 [0.76867 0.77819]\n",
      "23 0.77071 +/- 0.00155 [0.76798 0.77325]\n",
      "24 0.76833 +/- 0.00210 [0.76482 0.77282]\n",
      "25 0.76279 +/- 0.00320 [0.75620 0.76839]\n"
     ]
    }
   ],
   "source": [
    "q_0_rad_w1 = []\n",
    "for radius in rads:\n",
    "    q_0_rad_aux = []\n",
    "    for i in range(n_iter):\n",
    "        out = q_0_comp_w1(radius=radius)\n",
    "        q_0_rad_aux.append(out)\n",
    "    q_0_rad_w1.append(np.mean(q_0_rad_aux))\n",
    "    print(\"{:2d} {:7.5f} +/- {:7.5f} [{:7.5f} {:7.5f}]\".format(radius, \n",
    "            np.mean(q_0_rad_aux), np.std(q_0_rad_aux), \n",
    "            np.min(q_0_rad_aux), np.max(q_0_rad_aux)))"
   ]
  },
  {
   "cell_type": "code",
   "execution_count": 29,
   "metadata": {},
   "outputs": [
    {
     "data": {
      "image/png": "[encoded data removed]",
      "text/plain": [
       "<matplotlib.figure.Figure at 0x7fba5e7da390>"
      ]
     },
     "metadata": {},
     "output_type": "display_data"
    }
   ],
   "source": [
    "plt.rcParams[\"figure.figsize\"] = (5,5)\n",
    "plot(rads, q_0_rad_w1)\n",
    "xlabel(\"Radius (arcsecs)\")\n",
    "ylabel(\"$Q_0 W1-band$\")\n",
    "ylim([0, 1]);"
   ]
  },
  {
   "cell_type": "code",
   "execution_count": null,
   "metadata": {
    "collapsed": true
   },
   "outputs": [],
   "source": []
  }
 ],
 "metadata": {
  "kernelspec": {
   "display_name": "Python 3",
   "language": "python",
   "name": "python3"
  },
  "language_info": {
   "codemirror_mode": {
    "name": "ipython",
    "version": 3
   },
   "file_extension": ".py",
   "mimetype": "text/x-python",
   "name": "python",
   "nbconvert_exporter": "python",
   "pygments_lexer": "ipython3",
   "version": "3.6.1"
  }
 },
 "nbformat": 4,
 "nbformat_minor": 1
}
