{
 "cells": [
  {
   "cell_type": "markdown",
   "metadata": {},
   "source": [
    "# ML match for LOFAR and the combined PanSTARRS WISE catalogue: Compute the $Q_0$"
   ]
  },
  {
   "cell_type": "markdown",
   "metadata": {},
   "source": [
    "## Configuration\n",
    "\n",
    "### Load libraries and setup"
   ]
  },
  {
   "cell_type": "code",
   "execution_count": 1,
   "metadata": {
    "collapsed": true
   },
   "outputs": [],
   "source": [
    "import numpy as np\n",
    "from astropy.table import Table\n",
    "from astropy import units as u\n",
    "from astropy.coordinates import SkyCoord, search_around_sky\n",
    "from IPython.display import clear_output"
   ]
  },
  {
   "cell_type": "code",
   "execution_count": 2,
   "metadata": {
    "collapsed": true
   },
   "outputs": [],
   "source": [
    "from mltier1 import Field, Q_0, parallel_process, describe"
   ]
  },
  {
   "cell_type": "code",
   "execution_count": 3,
   "metadata": {
    "collapsed": true
   },
   "outputs": [],
   "source": [
    "%load_ext autoreload"
   ]
  },
  {
   "cell_type": "code",
   "execution_count": 4,
   "metadata": {
    "collapsed": true
   },
   "outputs": [],
   "source": [
    "%autoreload"
   ]
  },
  {
   "cell_type": "code",
   "execution_count": 5,
   "metadata": {
    "collapsed": true
   },
   "outputs": [],
   "source": [
    "from IPython.display import clear_output"
   ]
  },
  {
   "cell_type": "code",
   "execution_count": 6,
   "metadata": {
    "collapsed": false
   },
   "outputs": [
    {
     "name": "stdout",
     "output_type": "stream",
     "text": [
      "Populating the interactive namespace from numpy and matplotlib\n"
     ]
    }
   ],
   "source": [
    "%pylab inline"
   ]
  },
  {
   "cell_type": "markdown",
   "metadata": {},
   "source": [
    "### Area limits"
   ]
  },
  {
   "cell_type": "code",
   "execution_count": 7,
   "metadata": {
    "collapsed": true
   },
   "outputs": [],
   "source": [
    "# Busy week Hatfield 2017\n",
    "ra_down = 170.\n",
    "ra_up = 190.\n",
    "dec_down = 46.8\n",
    "dec_up = 55.9"
   ]
  },
  {
   "cell_type": "code",
   "execution_count": 8,
   "metadata": {
    "collapsed": true
   },
   "outputs": [],
   "source": [
    "field = Field(170.0, 190.0, 46.8, 55.9)"
   ]
  },
  {
   "cell_type": "markdown",
   "metadata": {},
   "source": [
    "## Load data"
   ]
  },
  {
   "cell_type": "code",
   "execution_count": 9,
   "metadata": {
    "collapsed": true
   },
   "outputs": [],
   "source": [
    "combined = Table.read(\"pw.fits\")"
   ]
  },
  {
   "cell_type": "code",
   "execution_count": 10,
   "metadata": {
    "collapsed": true
   },
   "outputs": [],
   "source": [
    "#lofar_all = Table.read(\"data/LOFAR_HBA_T1_DR1_catalog_v0.9.srl.fits\")\n",
    "lofar_all = Table.read(\"data/LOFAR_HBA_T1_DR1_merge_ID_optical_v0.8.fits\")"
   ]
  },
  {
   "cell_type": "code",
   "execution_count": 11,
   "metadata": {
    "collapsed": false
   },
   "outputs": [
    {
     "data": {
      "text/plain": [
       "array(['AllWISE', 'objID', 'ra', 'dec', 'raErr', 'decErr', 'W1mag',\n",
       "       'W1magErr', 'i', 'iErr'],\n",
       "      dtype='<U8')"
      ]
     },
     "execution_count": 11,
     "metadata": {},
     "output_type": "execute_result"
    }
   ],
   "source": [
    "np.array(combined.colnames)"
   ]
  },
  {
   "cell_type": "code",
   "execution_count": 12,
   "metadata": {
    "collapsed": false
   },
   "outputs": [
    {
     "data": {
      "text/plain": [
       "array(['Source_Name', 'RA', 'E_RA', 'DEC', 'E_DEC', 'Peak_flux',\n",
       "       'E_Peak_flux', 'Total_flux', 'E_Total_flux', 'Maj', 'E_Maj', 'Min',\n",
       "       'E_Min', 'DC_Maj', 'E_DC_Maj', 'DC_Min', 'E_DC_Min', 'PA', 'E_PA',\n",
       "       'DC_PA', 'E_DC_PA', 'Isl_rms', 'S_Code', 'Mosaic_ID',\n",
       "       'Masked_Fraction', 'ID_flag', 'ID_name', 'ID_ra', 'ID_dec', 'ML_LR',\n",
       "       'LGZ_Size', 'LGZ_Width', 'LGZ_PA', 'LGZ_Assoc', 'LGZ_Assoc_Qual',\n",
       "       'LGZ_ID_Qual', 'AllWISE', 'objID', 'gFApFlux', 'gFApFluxErr',\n",
       "       'gFApMag', 'gFApMagErr', 'rFApFlux', 'rFApFluxErr', 'rFApMag',\n",
       "       'rFApMagErr', 'iFApFlux', 'iFApFluxErr', 'iFApMag', 'iFApMagErr',\n",
       "       'zFApFlux', 'zFApFluxErr', 'zFApMag', 'zFApMagErr', 'yFApFlux',\n",
       "       'yFApFluxErr', 'yFApMag', 'yFApMagErr', 'w1Flux', 'w1FluxErr',\n",
       "       'w1Mag', 'w1MagErr', 'w2Flux', 'w2FluxErr', 'w2Mag', 'w2MagErr',\n",
       "       'w3Flux', 'w3FluxErr', 'w3Mag', 'w3MagErr', 'w4Flux', 'w4FluxErr',\n",
       "       'w4Mag', 'w4MagErr', 'XrayClass', '2RXS_ID', 'XMMSL2_ID', 'IRClass',\n",
       "       'z_spec', 'z_source', 'specAGN', 'mqcAGN', 'EBV', 'objName',\n",
       "       'z_best', 'z_best_source', 'z1_median', 'z1_min', 'z1_max',\n",
       "       'z1_area', 'z2_median', 'z2_min', 'z2_max', 'z2_area', 'chi_r_eazy',\n",
       "       'chi_r_atlas', 'chi_r_cosmos', 'chi_r_stellar', 'stellar_type',\n",
       "       'z_gpz', 'z_gpz_err'],\n",
       "      dtype='<U15')"
      ]
     },
     "execution_count": 12,
     "metadata": {},
     "output_type": "execute_result"
    }
   ],
   "source": [
    "np.array(lofar_all.colnames)"
   ]
  },
  {
   "cell_type": "markdown",
   "metadata": {},
   "source": [
    "### Filter catalogues"
   ]
  },
  {
   "cell_type": "code",
   "execution_count": 13,
   "metadata": {
    "collapsed": true
   },
   "outputs": [],
   "source": [
    "lofar_aux = lofar_all[~np.isnan(lofar_all['Maj'])]"
   ]
  },
  {
   "cell_type": "code",
   "execution_count": 14,
   "metadata": {
    "collapsed": true
   },
   "outputs": [],
   "source": [
    "lofar = field.filter_catalogue(lofar_aux[(lofar_aux['Maj'] < 30.) &\n",
    "                                         (lofar_aux['ID_flag'] == 1)], \n",
    "                               colnames=(\"RA\", \"DEC\"))"
   ]
  },
  {
   "cell_type": "markdown",
   "metadata": {},
   "source": [
    "### Sky coordinates"
   ]
  },
  {
   "cell_type": "code",
   "execution_count": 15,
   "metadata": {
    "collapsed": false
   },
   "outputs": [],
   "source": [
    "coords_combined = SkyCoord(combined['ra'], \n",
    "                           combined['dec'], \n",
    "                           unit=(u.deg, u.deg), \n",
    "                           frame='icrs')"
   ]
  },
  {
   "cell_type": "code",
   "execution_count": 16,
   "metadata": {
    "collapsed": true
   },
   "outputs": [],
   "source": [
    "coords_lofar = SkyCoord(lofar['RA'], \n",
    "                       lofar['DEC'], \n",
    "                       unit=(u.deg, u.deg), \n",
    "                       frame='icrs')"
   ]
  },
  {
   "cell_type": "markdown",
   "metadata": {},
   "source": [
    "### Summary of galaxy types in the combined catalogue"
   ]
  },
  {
   "cell_type": "code",
   "execution_count": 17,
   "metadata": {
    "collapsed": false
   },
   "outputs": [
    {
     "data": {
      "text/plain": [
       "8196213"
      ]
     },
     "execution_count": 17,
     "metadata": {},
     "output_type": "execute_result"
    }
   ],
   "source": [
    "combined_matched = (~np.isnan(combined[\"i\"]) & \n",
    "                    ~np.isnan(combined[\"W1mag\"]))\n",
    "np.sum(combined_matched) # Matches"
   ]
  },
  {
   "cell_type": "code",
   "execution_count": 18,
   "metadata": {
    "collapsed": false
   },
   "outputs": [
    {
     "data": {
      "text/plain": [
       "13454849"
      ]
     },
     "execution_count": 18,
     "metadata": {},
     "output_type": "execute_result"
    }
   ],
   "source": [
    "combined_panstarrs = (~np.isnan(combined[\"i\"]) & \n",
    "                      np.isnan(combined[\"W1mag\"]))\n",
    "np.sum(combined_panstarrs) # Only PanSTARSS"
   ]
  },
  {
   "cell_type": "code",
   "execution_count": 19,
   "metadata": {
    "collapsed": false
   },
   "outputs": [
    {
     "data": {
      "text/plain": [
       "5023475"
      ]
     },
     "execution_count": 19,
     "metadata": {},
     "output_type": "execute_result"
    }
   ],
   "source": [
    "combined_wise =(np.isnan(combined[\"i\"]) & \n",
    "                ~np.isnan(combined[\"W1mag\"]))\n",
    "np.sum(combined_wise) # Only WISE"
   ]
  },
  {
   "cell_type": "code",
   "execution_count": 20,
   "metadata": {
    "collapsed": true
   },
   "outputs": [],
   "source": [
    "combined_i = combined_matched | combined_panstarrs\n",
    "combined_w1 = combined_matched | combined_wise"
   ]
  },
  {
   "cell_type": "markdown",
   "metadata": {
    "collapsed": true
   },
   "source": [
    "## $Q_0$ dependence on the radius\n",
    "\n",
    "We will iterate 10 times for each radius. However, the error is so small that a direct computation can be accurate to 4 significant figures."
   ]
  },
  {
   "cell_type": "code",
   "execution_count": 21,
   "metadata": {
    "collapsed": true
   },
   "outputs": [],
   "source": [
    "n_iter = 10"
   ]
  },
  {
   "cell_type": "code",
   "execution_count": 22,
   "metadata": {
    "collapsed": true
   },
   "outputs": [],
   "source": [
    "rads = list(range(1,26))"
   ]
  },
  {
   "cell_type": "markdown",
   "metadata": {},
   "source": [
    "### i-band"
   ]
  },
  {
   "cell_type": "code",
   "execution_count": 23,
   "metadata": {
    "collapsed": true
   },
   "outputs": [],
   "source": [
    "q_0_comp_i = Q_0(coords_lofar, coords_combined[combined_i], field)"
   ]
  },
  {
   "cell_type": "code",
   "execution_count": 24,
   "metadata": {
    "collapsed": false
   },
   "outputs": [
    {
     "name": "stdout",
     "output_type": "stream",
     "text": [
      " 1 0.39416 +/- 0.00018 [0.39395 0.39453]\n",
      " 2 0.48341 +/- 0.00015 [0.48313 0.48368]\n",
      " 3 0.50341 +/- 0.00029 [0.50283 0.50389]\n",
      " 4 0.51244 +/- 0.00057 [0.51171 0.51382]\n",
      " 5 0.51767 +/- 0.00047 [0.51698 0.51835]\n",
      " 6 0.52033 +/- 0.00074 [0.51903 0.52178]\n",
      " 7 0.52212 +/- 0.00072 [0.52085 0.52325]\n",
      " 8 0.52557 +/- 0.00093 [0.52453 0.52728]\n",
      " 9 0.52914 +/- 0.00102 [0.52748 0.53145]\n",
      "10 0.53035 +/- 0.00071 [0.52862 0.53130]\n",
      "11 0.53297 +/- 0.00227 [0.52914 0.53675]\n",
      "12 0.53529 +/- 0.00171 [0.53281 0.53775]\n",
      "13 0.53556 +/- 0.00153 [0.53397 0.53931]\n",
      "14 0.53923 +/- 0.00239 [0.53543 0.54248]\n",
      "15 0.53991 +/- 0.00301 [0.53618 0.54549]\n",
      "16 0.54070 +/- 0.00308 [0.53607 0.54550]\n",
      "17 0.54471 +/- 0.00267 [0.53900 0.54840]\n",
      "18 0.54894 +/- 0.00429 [0.54378 0.55702]\n",
      "19 0.54513 +/- 0.00398 [0.54033 0.55521]\n",
      "20 0.54732 +/- 0.00452 [0.54058 0.55561]\n",
      "21 0.55536 +/- 0.00431 [0.54458 0.55987]\n",
      "22 0.55809 +/- 0.00564 [0.54508 0.56579]\n",
      "23 0.55459 +/- 0.00627 [0.54407 0.56626]\n",
      "24 0.56449 +/- 0.00719 [0.54647 0.57282]\n",
      "25 0.56499 +/- 0.00871 [0.54897 0.57933]\n"
     ]
    }
   ],
   "source": [
    "q_0_rad_i = []\n",
    "for radius in rads:\n",
    "    q_0_rad_aux = []\n",
    "    for i in range(n_iter):\n",
    "        out = q_0_comp_i(radius=radius)\n",
    "        q_0_rad_aux.append(out)\n",
    "    q_0_rad_i.append(np.mean(q_0_rad_aux))\n",
    "    print(\"{:2d} {:7.5f} +/- {:7.5f} [{:7.5f} {:7.5f}]\".format(radius, \n",
    "            np.mean(q_0_rad_aux), np.std(q_0_rad_aux), \n",
    "            np.min(q_0_rad_aux), np.max(q_0_rad_aux)))"
   ]
  },
  {
   "cell_type": "code",
   "execution_count": 25,
   "metadata": {
    "collapsed": false
   },
   "outputs": [
    {
     "data": {
      "image/png": "[encoded data removed]",
      "text/plain": [
       "<matplotlib.figure.Figure at 0x7f32894d45f8>"
      ]
     },
     "metadata": {},
     "output_type": "display_data"
    }
   ],
   "source": [
    "plt.rcParams[\"figure.figsize\"] = (5,5)\n",
    "plot(rads, q_0_rad_i)\n",
    "xlabel(\"Radius (arcsecs)\")\n",
    "ylabel(\"$Q_0 i-band$\")\n",
    "ylim([0, 1]);"
   ]
  },
  {
   "cell_type": "markdown",
   "metadata": {},
   "source": [
    "### W1-band"
   ]
  },
  {
   "cell_type": "code",
   "execution_count": 26,
   "metadata": {
    "collapsed": true
   },
   "outputs": [],
   "source": [
    "q_0_comp_w1 = Q_0(coords_lofar, coords_combined[combined_w1], field)"
   ]
  },
  {
   "cell_type": "code",
   "execution_count": 27,
   "metadata": {
    "collapsed": false
   },
   "outputs": [
    {
     "name": "stdout",
     "output_type": "stream",
     "text": [
      " 1 0.48528 +/- 0.00013 [0.48502 0.48546]\n",
      " 2 0.63373 +/- 0.00010 [0.63358 0.63391]\n",
      " 3 0.67774 +/- 0.00018 [0.67742 0.67798]\n",
      " 4 0.69997 +/- 0.00025 [0.69936 0.70034]\n",
      " 5 0.71345 +/- 0.00042 [0.71300 0.71422]\n",
      " 6 0.72368 +/- 0.00034 [0.72299 0.72415]\n",
      " 7 0.73504 +/- 0.00033 [0.73461 0.73573]\n",
      " 8 0.74619 +/- 0.00047 [0.74556 0.74696]\n",
      " 9 0.75823 +/- 0.00030 [0.75797 0.75892]\n",
      "10 0.76719 +/- 0.00046 [0.76662 0.76809]\n",
      "11 0.77414 +/- 0.00034 [0.77366 0.77459]\n",
      "12 0.77706 +/- 0.00069 [0.77573 0.77812]\n",
      "13 0.78045 +/- 0.00086 [0.77838 0.78151]\n",
      "14 0.78377 +/- 0.00064 [0.78290 0.78479]\n",
      "15 0.78532 +/- 0.00083 [0.78416 0.78703]\n",
      "16 0.78580 +/- 0.00095 [0.78438 0.78740]\n",
      "17 0.78524 +/- 0.00114 [0.78276 0.78676]\n",
      "18 0.78352 +/- 0.00110 [0.78125 0.78569]\n",
      "19 0.78376 +/- 0.00123 [0.78201 0.78612]\n",
      "20 0.78243 +/- 0.00187 [0.77898 0.78465]\n",
      "21 0.77945 +/- 0.00138 [0.77685 0.78243]\n",
      "22 0.77808 +/- 0.00188 [0.77507 0.78093]\n",
      "23 0.77228 +/- 0.00195 [0.76921 0.77522]\n",
      "24 0.77022 +/- 0.00298 [0.76421 0.77438]\n",
      "25 0.76521 +/- 0.00238 [0.76185 0.76875]\n"
     ]
    }
   ],
   "source": [
    "q_0_rad_w1 = []\n",
    "for radius in rads:\n",
    "    q_0_rad_aux = []\n",
    "    for i in range(n_iter):\n",
    "        out = q_0_comp_w1(radius=radius)\n",
    "        q_0_rad_aux.append(out)\n",
    "    q_0_rad_w1.append(np.mean(q_0_rad_aux))\n",
    "    print(\"{:2d} {:7.5f} +/- {:7.5f} [{:7.5f} {:7.5f}]\".format(radius, \n",
    "            np.mean(q_0_rad_aux), np.std(q_0_rad_aux), \n",
    "            np.min(q_0_rad_aux), np.max(q_0_rad_aux)))"
   ]
  },
  {
   "cell_type": "code",
   "execution_count": 28,
   "metadata": {
    "collapsed": false
   },
   "outputs": [
    {
     "data": {
      "image/png": "[encoded data removed]",
      "text/plain": [
       "<matplotlib.figure.Figure at 0x7f3319f91898>"
      ]
     },
     "metadata": {},
     "output_type": "display_data"
    }
   ],
   "source": [
    "plt.rcParams[\"figure.figsize\"] = (5,5)\n",
    "plot(rads, q_0_rad_w1)\n",
    "xlabel(\"Radius (arcsecs)\")\n",
    "ylabel(\"$Q_0 W1-band$\")\n",
    "ylim([0, 1]);"
   ]
  },
  {
   "cell_type": "code",
   "execution_count": null,
   "metadata": {
    "collapsed": true
   },
   "outputs": [],
   "source": []
  }
 ],
 "metadata": {
  "kernelspec": {
   "display_name": "Python 3",
   "language": "python",
   "name": "python3"
  },
  "language_info": {
   "codemirror_mode": {
    "name": "ipython",
    "version": 3
   },
   "file_extension": ".py",
   "mimetype": "text/x-python",
   "name": "python",
   "nbconvert_exporter": "python",
   "pygments_lexer": "ipython3",
   "version": "3.6.1"
  }
 },
 "nbformat": 4,
 "nbformat_minor": 1
}
