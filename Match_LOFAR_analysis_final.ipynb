{
 "cells": [
  {
   "cell_type": "markdown",
   "metadata": {},
   "source": [
    "# Analysis of the final catalogue of matched sources"
   ]
  },
  {
   "cell_type": "markdown",
   "metadata": {},
   "source": [
    "We will analyse the changes in the classification using the new sigma and the new catalogue without the galaxies that went to LGZ"
   ]
  },
  {
   "cell_type": "markdown",
   "metadata": {},
   "source": [
    "## Configuration\n",
    "\n",
    "### Load libraries and setup"
   ]
  },
  {
   "cell_type": "code",
   "execution_count": 1,
   "metadata": {
    "collapsed": true
   },
   "outputs": [],
   "source": [
    "import numpy as np\n",
    "from astropy.table import Table, join\n",
    "from astropy import units as u\n",
    "from astropy.coordinates import SkyCoord, search_around_sky\n",
    "from IPython.display import clear_output\n",
    "import pickle\n",
    "import os"
   ]
  },
  {
   "cell_type": "code",
   "execution_count": 2,
   "metadata": {
    "collapsed": true
   },
   "outputs": [],
   "source": [
    "from mltier1 import (get_center, Field, parallel_process, describe)"
   ]
  },
  {
   "cell_type": "code",
   "execution_count": 3,
   "metadata": {
    "collapsed": true
   },
   "outputs": [],
   "source": [
    "%load_ext autoreload"
   ]
  },
  {
   "cell_type": "code",
   "execution_count": 4,
   "metadata": {
    "collapsed": true
   },
   "outputs": [],
   "source": [
    "%autoreload"
   ]
  },
  {
   "cell_type": "code",
   "execution_count": 5,
   "metadata": {
    "collapsed": true
   },
   "outputs": [],
   "source": [
    "from IPython.display import clear_output"
   ]
  },
  {
   "cell_type": "code",
   "execution_count": 6,
   "metadata": {
    "collapsed": false
   },
   "outputs": [
    {
     "name": "stdout",
     "output_type": "stream",
     "text": [
      "Populating the interactive namespace from numpy and matplotlib\n"
     ]
    }
   ],
   "source": [
    "%pylab inline"
   ]
  },
  {
   "cell_type": "code",
   "execution_count": 7,
   "metadata": {
    "collapsed": true
   },
   "outputs": [],
   "source": [
    "def most_common(a, n=2):\n",
    "    u, c = np.unique(a, return_counts=True)\n",
    "    order = np.argsort(c)\n",
    "    for i in range(n):\n",
    "        print(c[order][-(i+1)], u[order][-(i+1)])"
   ]
  },
  {
   "cell_type": "markdown",
   "metadata": {},
   "source": [
    "### General configuration"
   ]
  },
  {
   "cell_type": "code",
   "execution_count": 8,
   "metadata": {
    "collapsed": true
   },
   "outputs": [],
   "source": [
    "save_intermediate = True\n",
    "plot_intermediate = True"
   ]
  },
  {
   "cell_type": "code",
   "execution_count": 9,
   "metadata": {
    "collapsed": true
   },
   "outputs": [],
   "source": [
    "idp = \"idata/final_analysis_pdf_v0.8\""
   ]
  },
  {
   "cell_type": "code",
   "execution_count": 10,
   "metadata": {
    "collapsed": true
   },
   "outputs": [],
   "source": [
    "if not os.path.isdir(idp):\n",
    "    os.makedirs(idp)"
   ]
  },
  {
   "cell_type": "markdown",
   "metadata": {},
   "source": [
    "## Load data"
   ]
  },
  {
   "cell_type": "code",
   "execution_count": 11,
   "metadata": {
    "collapsed": true
   },
   "outputs": [],
   "source": [
    "pwli = Table.read(\"lofar_pw_pdf.fits\")"
   ]
  },
  {
   "cell_type": "code",
   "execution_count": 12,
   "metadata": {
    "collapsed": false
   },
   "outputs": [
    {
     "data": {
      "text/plain": [
       "['Source_Name',\n",
       " 'RA',\n",
       " 'E_RA',\n",
       " 'DEC',\n",
       " 'E_DEC',\n",
       " 'Peak_flux',\n",
       " 'E_Peak_flux',\n",
       " 'Total_flux',\n",
       " 'E_Total_flux',\n",
       " 'Maj',\n",
       " 'E_Maj',\n",
       " 'Min',\n",
       " 'E_Min',\n",
       " 'PA',\n",
       " 'E_PA',\n",
       " 'Isl_rms',\n",
       " 'S_Code',\n",
       " 'Mosaic_ID',\n",
       " 'AllWISE',\n",
       " 'objID',\n",
       " 'ra',\n",
       " 'dec',\n",
       " 'raErr',\n",
       " 'decErr',\n",
       " 'W1mag',\n",
       " 'W1magErr',\n",
       " 'i',\n",
       " 'iErr',\n",
       " 'colour',\n",
       " 'category',\n",
       " 'lr',\n",
       " 'lr_dist']"
      ]
     },
     "execution_count": 12,
     "metadata": {},
     "output_type": "execute_result"
    }
   ],
   "source": [
    "pwli.colnames"
   ]
  },
  {
   "cell_type": "code",
   "execution_count": 13,
   "metadata": {
    "collapsed": true
   },
   "outputs": [],
   "source": [
    "lofar_all = Table.read(\"data/LOFAR_HBA_T1_DR1_merge_ID_optical_v0.8.fits\")"
   ]
  },
  {
   "cell_type": "markdown",
   "metadata": {},
   "source": [
    "#### Join data tables"
   ]
  },
  {
   "cell_type": "code",
   "execution_count": 14,
   "metadata": {
    "collapsed": false
   },
   "outputs": [],
   "source": [
    "pwl = join(pwli, lofar_all[['Source_Name', 'AllWISE', 'objID', 'ML_LR', \n",
    "                            'ID_flag', 'ID_name', 'ID_ra', 'ID_dec', \n",
    "                            'LGZ_Size', 'LGZ_Width', 'LGZ_PA', 'LGZ_Assoc', \n",
    "                            'LGZ_Assoc_Qual', 'LGZ_ID_Qual']], \n",
    "           join_type='left', \n",
    "           keys='Source_Name', \n",
    "           uniq_col_name='{col_name}{table_name}', \n",
    "           table_names=['', '_input'])"
   ]
  },
  {
   "cell_type": "code",
   "execution_count": 15,
   "metadata": {
    "collapsed": true
   },
   "outputs": [],
   "source": [
    "colour_limits = [0.0, 0.5, 1.0, 1.25, 1.5, 1.75, 2.0, 2.25, 2.5, 2.75, 3.0, 3.5, 4.0]"
   ]
  },
  {
   "cell_type": "code",
   "execution_count": 16,
   "metadata": {
    "collapsed": true
   },
   "outputs": [],
   "source": [
    "bin_list, centers, Q_0_colour, n_m, q_m = pickle.load(open(\"lofar_params.pckl\", \"rb\"))"
   ]
  },
  {
   "cell_type": "code",
   "execution_count": 17,
   "metadata": {
    "collapsed": false
   },
   "outputs": [],
   "source": [
    "def smooth(a):\n",
    "    g=np.gradient(a)\n",
    "    return np.nanmean(g.reshape(len(g)//10, 10), axis=1)"
   ]
  },
  {
   "cell_type": "code",
   "execution_count": 18,
   "metadata": {
    "collapsed": false
   },
   "outputs": [
    {
     "data": {
      "image/png": "[encoded data removed]",
      "text/plain": [
       "<matplotlib.figure.Figure at 0x7f9539aecc18>"
      ]
     },
     "metadata": {},
     "output_type": "display_data"
    }
   ],
   "source": [
    "for i in range(16):\n",
    "    subplot(4,4,i+1)\n",
    "    plot(smooth(q_m[i])/smooth(n_m[i]))\n",
    "    plot(smooth(np.gradient(q_m[i]))/smooth(np.gradient(n_m[i])))"
   ]
  },
  {
   "cell_type": "code",
   "execution_count": 19,
   "metadata": {
    "collapsed": true
   },
   "outputs": [],
   "source": [
    "from astropy.stats import bayesian_blocks"
   ]
  },
  {
   "cell_type": "code",
   "execution_count": 20,
   "metadata": {
    "collapsed": false
   },
   "outputs": [
    {
     "name": "stderr",
     "output_type": "stream",
     "text": [
      "WARNING: p0 does not seem to accurately represent the false positive rate for event data. It is highly recommended that you run random trials on signal-free noise to calibrate ncp_prior to achieve a desired false positive rate. [astropy.stats.bayesian_blocks]\n",
      "/disk2/jsm/prog/anaconda/envs/py36/lib/python3.6/site-packages/astropy/stats/bayesian_blocks.py:435: RuntimeWarning: divide by zero encountered in log\n",
      "  return N_k * (np.log(N_k) - np.log(T_k))\n"
     ]
    },
    {
     "data": {
      "text/plain": [
       "array([ -8.43984245e-04,  -2.03550417e-05,  -9.81361631e-07,\n",
       "        -3.72202907e-08,  -1.42326983e-09,  -5.01997107e-11,\n",
       "        -1.11235385e-12,  -2.92156497e-14,  -5.41712794e-16,\n",
       "        -7.07648183e-18,  -1.45595204e-19,  -6.50199737e-20,\n",
       "         8.75703426e-04])"
      ]
     },
     "execution_count": 20,
     "metadata": {},
     "output_type": "execute_result"
    }
   ],
   "source": [
    "bayesian_blocks(np.gradient(q_m[10]))"
   ]
  },
  {
   "cell_type": "markdown",
   "metadata": {},
   "source": [
    "#### Explore and repair data"
   ]
  },
  {
   "cell_type": "code",
   "execution_count": 21,
   "metadata": {
    "collapsed": false
   },
   "outputs": [
    {
     "name": "stdout",
     "output_type": "stream",
     "text": [
      "Source_Name N/A <U88\n",
      "RA 1e+20 >f8\n",
      "E_RA 1e+20 >f8\n",
      "DEC 1e+20 >f8\n",
      "E_DEC 1e+20 >f8\n",
      "Peak_flux 1e+20 >f8\n",
      "E_Peak_flux 1e+20 >f8\n",
      "Total_flux 1e+20 >f8\n",
      "E_Total_flux 1e+20 >f8\n",
      "Maj 1e+20 >f8\n",
      "E_Maj 1e+20 >f8\n",
      "Min 1e+20 >f8\n",
      "E_Min 1e+20 >f8\n",
      "PA 1e+20 >f8\n",
      "E_PA 1e+20 >f8\n",
      "Isl_rms 1e+20 >f8\n",
      "S_Code N/A <U1\n",
      "Mosaic_ID N/A <U11\n",
      "AllWISE N/A <U19\n",
      "objID 999999 >i8\n",
      "ra 1e+20 >f8\n",
      "dec 1e+20 >f8\n",
      "raErr 1e+20 >f8\n",
      "decErr 1e+20 >f8\n",
      "W1mag 1e+20 >f8\n",
      "W1magErr 1e+20 >f8\n",
      "i 1e+20 >f8\n",
      "iErr 1e+20 >f8\n",
      "colour 1e+20 >f8\n",
      "category 1e+20 >f8\n",
      "lr 1e+20 >f8\n",
      "lr_dist 1e+20 >f8\n",
      "AllWISE_input N/A <U19\n",
      "objID_input 999999 >i8\n",
      "ML_LR 1e+20 >f8\n",
      "ID_flag 999999 >i8\n",
      "ID_name N/A <U27\n",
      "ID_ra 1e+20 >f8\n",
      "ID_dec 1e+20 >f8\n",
      "LGZ_Size 1e+20 >f8\n",
      "LGZ_Width 1e+20 >f8\n",
      "LGZ_PA 1e+20 >f8\n",
      "LGZ_Assoc 1e+20 >f8\n",
      "LGZ_Assoc_Qual 1e+20 >f8\n",
      "LGZ_ID_Qual 1e+20 >f8\n"
     ]
    }
   ],
   "source": [
    "for col in pwl.colnames:\n",
    "    fv = pwl[col].fill_value\n",
    "    typ = pwl[col].dtype\n",
    "    print(col, fv, typ)\n",
    "    # Restore NaNs\n",
    "    if fv == 1e+20:\n",
    "        pwl[col][(pwl[col] == fv)] = np.nan\n",
    "#     if (isinstance(fv, np.float64) and (fv != 1e+20)):\n",
    "#         print(col, fv)\n",
    "#         pwl[col].fill_value = 1e+20"
   ]
  },
  {
   "cell_type": "code",
   "execution_count": 22,
   "metadata": {
    "collapsed": true
   },
   "outputs": [],
   "source": [
    "pwl[\"colour\"][(pwl[\"colour\"] == 1e+20)] = np.nan"
   ]
  },
  {
   "cell_type": "code",
   "execution_count": 23,
   "metadata": {
    "collapsed": false
   },
   "outputs": [
    {
     "name": "stdout",
     "output_type": "stream",
     "text": [
      "2.128 +/- 0.814; median: 2.068; limits: [-1.640, 9.281]; N=318771 (172386 NaN; 0 masked)\n"
     ]
    },
    {
     "name": "stderr",
     "output_type": "stream",
     "text": [
      "/disk2/jsm/prog/anaconda/envs/py36/lib/python3.6/site-packages/numpy/lib/function_base.py:4125: UserWarning: Warning: 'partition' will ignore the 'mask' of the MaskedColumn.\n",
      "  part.partition(kth)\n"
     ]
    }
   ],
   "source": [
    "describe(pwl[\"colour\"])"
   ]
  },
  {
   "cell_type": "markdown",
   "metadata": {},
   "source": [
    "Change the AllWISE_input that are '' to 'N/A'. That comes from a previous error with the fill value."
   ]
  },
  {
   "cell_type": "code",
   "execution_count": 24,
   "metadata": {
    "collapsed": false
   },
   "outputs": [],
   "source": [
    "pwl[\"AllWISE_input\"][pwl[\"AllWISE_input\"] == \"\"] = \"N/A\""
   ]
  },
  {
   "cell_type": "markdown",
   "metadata": {},
   "source": [
    "### Create the additional columns for the types of matches"
   ]
  },
  {
   "cell_type": "code",
   "execution_count": 25,
   "metadata": {
    "collapsed": true
   },
   "outputs": [],
   "source": [
    "threshold_sel = 0.358"
   ]
  },
  {
   "cell_type": "code",
   "execution_count": 26,
   "metadata": {
    "collapsed": false
   },
   "outputs": [
    {
     "name": "stderr",
     "output_type": "stream",
     "text": [
      "/disk2/jsm/prog/anaconda/envs/py36/lib/python3.6/site-packages/astropy/table/column.py:928: RuntimeWarning: invalid value encountered in less\n",
      "  return getattr(self.data, oper)(other)\n"
     ]
    }
   ],
   "source": [
    "cond_mlr = (pwl['ID_flag'] == 1) & (pwl['Maj'] < 30.)"
   ]
  },
  {
   "cell_type": "code",
   "execution_count": 27,
   "metadata": {
    "collapsed": true
   },
   "outputs": [],
   "source": [
    "pwlaux = pwl[cond_mlr].filled()"
   ]
  },
  {
   "cell_type": "markdown",
   "metadata": {},
   "source": [
    "Matched sources"
   ]
  },
  {
   "cell_type": "code",
   "execution_count": 28,
   "metadata": {
    "collapsed": false
   },
   "outputs": [],
   "source": [
    "pwlaux_match = pwlaux[~np.isnan(pwlaux['ML_LR'])]"
   ]
  },
  {
   "cell_type": "code",
   "execution_count": 29,
   "metadata": {
    "collapsed": false
   },
   "outputs": [
    {
     "data": {
      "text/plain": [
       "218600"
      ]
     },
     "execution_count": 29,
     "metadata": {},
     "output_type": "execute_result"
    }
   ],
   "source": [
    "len(pwlaux_match)"
   ]
  },
  {
   "cell_type": "code",
   "execution_count": 30,
   "metadata": {
    "collapsed": false
   },
   "outputs": [
    {
     "name": "stdout",
     "output_type": "stream",
     "text": [
      "217070\n"
     ]
    }
   ],
   "source": [
    "cond_match = (\n",
    "    ~np.isnan(pwlaux_match['lr']) &\n",
    "    (pwlaux_match['lr'] >= threshold_sel) &\n",
    "    (\n",
    "        (pwlaux_match[\"AllWISE_input\"] != \"N/A\") |\n",
    "         ~np.isnan(pwlaux_match['objID_input'])\n",
    "    ) &\n",
    "    (\n",
    "        ( \n",
    "            (pwlaux_match[\"AllWISE\"] == pwlaux_match[\"AllWISE_input\"]) &\n",
    "            (pwlaux_match[\"objID\"] == pwlaux_match[\"objID_input\"]) &\n",
    "            ~np.isnan(pwlaux_match[\"objID\"]) &\n",
    "            (pwlaux_match[\"AllWISE\"] != \"N/A\")\n",
    "        ) |\n",
    "        ( \n",
    "            (pwlaux_match[\"AllWISE\"] == pwlaux_match[\"AllWISE_input\"]) &\n",
    "            np.isnan(pwlaux_match[\"objID\"])\n",
    "        ) |\n",
    "        ( \n",
    "            (pwlaux_match[\"AllWISE\"] == \"N/A\") &\n",
    "            (pwlaux_match[\"objID\"] == pwlaux_match[\"objID_input\"])\n",
    "        )\n",
    "    )\n",
    "        \n",
    ")\n",
    "m_m = np.sum(cond_match)\n",
    "print(m_m)"
   ]
  },
  {
   "cell_type": "code",
   "execution_count": 31,
   "metadata": {
    "collapsed": false
   },
   "outputs": [
    {
     "name": "stdout",
     "output_type": "stream",
     "text": [
      "512\n"
     ]
    }
   ],
   "source": [
    "cond_diffmatch = (\n",
    "    ~np.isnan(pwlaux_match['lr']) &\n",
    "    (pwlaux_match['lr'] >= threshold_sel) &\n",
    "    (\n",
    "        (pwlaux_match[\"AllWISE_input\"] != \"N/A\") |\n",
    "         ~np.isnan(pwlaux_match['objID_input'])\n",
    "    ) &\n",
    "    (\n",
    "        ( \n",
    "            (pwlaux_match[\"AllWISE\"] != pwlaux_match[\"AllWISE_input\"]) |\n",
    "            (pwlaux_match[\"objID\"] != pwlaux_match[\"objID_input\"])\n",
    "        ) \n",
    "    )\n",
    "\n",
    ")\n",
    "m_dm = np.sum(cond_diffmatch)\n",
    "print(m_dm)"
   ]
  },
  {
   "cell_type": "code",
   "execution_count": 32,
   "metadata": {
    "collapsed": false
   },
   "outputs": [
    {
     "name": "stdout",
     "output_type": "stream",
     "text": [
      "1021\n"
     ]
    }
   ],
   "source": [
    "cond_nomatch = (\n",
    "    np.isnan(pwlaux_match['lr']) |\n",
    "    (pwlaux_match['lr'] < threshold_sel)\n",
    ")\n",
    "m_nm = np.sum(cond_nomatch)\n",
    "print(m_nm)"
   ]
  },
  {
   "cell_type": "code",
   "execution_count": 33,
   "metadata": {
    "collapsed": false
   },
   "outputs": [
    {
     "data": {
      "text/plain": [
       "218603"
      ]
     },
     "execution_count": 33,
     "metadata": {},
     "output_type": "execute_result"
    }
   ],
   "source": [
    "m_nm + m_dm + m_m"
   ]
  },
  {
   "cell_type": "markdown",
   "metadata": {},
   "source": [
    "Non-matched sources"
   ]
  },
  {
   "cell_type": "code",
   "execution_count": 34,
   "metadata": {
    "collapsed": true
   },
   "outputs": [],
   "source": [
    "pwlaux_nomatch = pwlaux[np.isnan(pwlaux['ML_LR'])]"
   ]
  },
  {
   "cell_type": "code",
   "execution_count": 35,
   "metadata": {
    "collapsed": false
   },
   "outputs": [
    {
     "data": {
      "text/plain": [
       "81522"
      ]
     },
     "execution_count": 35,
     "metadata": {},
     "output_type": "execute_result"
    }
   ],
   "source": [
    "len(pwlaux_nomatch)"
   ]
  },
  {
   "cell_type": "code",
   "execution_count": 36,
   "metadata": {
    "collapsed": false
   },
   "outputs": [
    {
     "name": "stdout",
     "output_type": "stream",
     "text": [
      "4316\n"
     ]
    },
    {
     "name": "stderr",
     "output_type": "stream",
     "text": [
      "/disk2/jsm/prog/anaconda/envs/py36/lib/python3.6/site-packages/astropy/table/column.py:928: RuntimeWarning: invalid value encountered in greater_equal\n",
      "  return getattr(self.data, oper)(other)\n"
     ]
    }
   ],
   "source": [
    "cond2_match = (\n",
    "    ~np.isnan(pwlaux_nomatch['lr']) &\n",
    "    (pwlaux_nomatch['lr'] >= threshold_sel)   \n",
    ")\n",
    "m2_m = np.sum(cond2_match)\n",
    "print(m2_m)"
   ]
  },
  {
   "cell_type": "code",
   "execution_count": 37,
   "metadata": {
    "collapsed": false
   },
   "outputs": [
    {
     "name": "stdout",
     "output_type": "stream",
     "text": [
      "77206\n"
     ]
    },
    {
     "name": "stderr",
     "output_type": "stream",
     "text": [
      "/disk2/jsm/prog/anaconda/envs/py36/lib/python3.6/site-packages/astropy/table/column.py:928: RuntimeWarning: invalid value encountered in less\n",
      "  return getattr(self.data, oper)(other)\n"
     ]
    }
   ],
   "source": [
    "cond2_nomatch = (\n",
    "    np.isnan(pwlaux_nomatch['lr']) |\n",
    "    (pwlaux_nomatch['lr'] < threshold_sel)\n",
    ")\n",
    "m2_nm = np.sum(cond2_nomatch)\n",
    "print(m2_nm)"
   ]
  },
  {
   "cell_type": "code",
   "execution_count": 38,
   "metadata": {
    "collapsed": false
   },
   "outputs": [
    {
     "data": {
      "text/plain": [
       "81522"
      ]
     },
     "execution_count": 38,
     "metadata": {},
     "output_type": "execute_result"
    }
   ],
   "source": [
    "m2_nm + m2_m"
   ]
  },
  {
   "cell_type": "code",
   "execution_count": 39,
   "metadata": {
    "collapsed": false
   },
   "outputs": [
    {
     "data": {
      "text/plain": [
       "300125"
      ]
     },
     "execution_count": 39,
     "metadata": {},
     "output_type": "execute_result"
    }
   ],
   "source": [
    "m2_nm + m2_m + m_nm + m_dm + m_m"
   ]
  },
  {
   "cell_type": "markdown",
   "metadata": {},
   "source": [
    "Diagnostic columns"
   ]
  },
  {
   "cell_type": "code",
   "execution_count": 40,
   "metadata": {
    "collapsed": true
   },
   "outputs": [],
   "source": [
    "pwl['match_code'] = 0"
   ]
  },
  {
   "cell_type": "code",
   "execution_count": 41,
   "metadata": {
    "collapsed": true
   },
   "outputs": [],
   "source": [
    "pwl['match_code'][np.isin(pwl[\"Source_Name\"], pwl[cond_mlr & ~np.isnan(pwl['ML_LR'])][cond_diffmatch][\"Source_Name\"])] = 2"
   ]
  },
  {
   "cell_type": "code",
   "execution_count": 42,
   "metadata": {
    "collapsed": false
   },
   "outputs": [],
   "source": [
    "pwl['match_code'][np.isin(pwl[\"Source_Name\"], pwl[cond_mlr & ~np.isnan(pwl['ML_LR'])][cond_match][\"Source_Name\"])]=1"
   ]
  },
  {
   "cell_type": "code",
   "execution_count": 43,
   "metadata": {
    "collapsed": true
   },
   "outputs": [],
   "source": [
    "pwl['match_code'][np.isin(pwl[\"Source_Name\"], pwl[cond_mlr & ~np.isnan(pwl['ML_LR'])][cond_nomatch][\"Source_Name\"])] = 3"
   ]
  },
  {
   "cell_type": "code",
   "execution_count": 44,
   "metadata": {
    "collapsed": true
   },
   "outputs": [],
   "source": [
    "pwl['match_code'][np.isin(pwl[\"Source_Name\"], pwl[cond_mlr & np.isnan(pwl['ML_LR'])][cond2_match][\"Source_Name\"])] = 4"
   ]
  },
  {
   "cell_type": "code",
   "execution_count": 45,
   "metadata": {
    "collapsed": true
   },
   "outputs": [],
   "source": [
    "pwl['match_code'][np.isin(pwl[\"Source_Name\"], pwl[cond_mlr & np.isnan(pwl['ML_LR'])][cond2_nomatch][\"Source_Name\"])] = 5"
   ]
  },
  {
   "cell_type": "code",
   "execution_count": 46,
   "metadata": {
    "collapsed": false
   },
   "outputs": [
    {
     "name": "stdout",
     "output_type": "stream",
     "text": [
      "0 18649\n",
      "1 217070\n",
      "2 509\n",
      "3 1021\n",
      "4 4316\n",
      "5 77206\n"
     ]
    }
   ],
   "source": [
    "for i in range(6):\n",
    "    print(i, np.sum(pwl['match_code'] == i))"
   ]
  },
  {
   "cell_type": "markdown",
   "metadata": {},
   "source": [
    "### Study the 3 repeated sources"
   ]
  },
  {
   "cell_type": "markdown",
   "metadata": {},
   "source": [
    "3 sources that are in group 1 and 2"
   ]
  },
  {
   "cell_type": "code",
   "execution_count": 47,
   "metadata": {
    "collapsed": true
   },
   "outputs": [],
   "source": [
    "pwl['match_code2'] = 0\n",
    "pwl['match_code2'][np.isin(pwl[\"Source_Name\"], pwl[cond_mlr & ~np.isnan(pwl['ML_LR'])][cond_match][\"Source_Name\"])]=1"
   ]
  },
  {
   "cell_type": "code",
   "execution_count": 48,
   "metadata": {
    "collapsed": false
   },
   "outputs": [
    {
     "data": {
      "text/html": [
       "&lt;Table masked=True length=3&gt;\n",
       "<table id=\"table140279022630392\" class=\"table-striped table-bordered table-condensed\">\n",
       "<thead><tr><th>Source_Name</th><th>AllWISE</th><th>AllWISE_input</th><th>objID</th><th>objID_input</th></tr></thead>\n",
       "<thead><tr><th>str88</th><th>str19</th><th>str19</th><th>int64</th><th>int64</th></tr></thead>\n",
       "<tr><td>ILTJ105150.16+472306.9</td><td>N/A</td><td>J105150.11+472306.4</td><td>164861629587942860</td><td>164861629587942860</td></tr>\n",
       "<tr><td>ILTJ124446.75+545233.0</td><td>N/A</td><td>J124446.79+545232.8</td><td>173851911952891597</td><td>173851911952891597</td></tr>\n",
       "<tr><td>ILTJ131700.45+490748.4</td><td>N/A</td><td>J131700.38+490748.1</td><td>166951992516796699</td><td>166951992516796699</td></tr>\n",
       "</table>"
      ],
      "text/plain": [
       "<Table masked=True length=3>\n",
       "     Source_Name       AllWISE ...       objID           objID_input    \n",
       "        str88           str19  ...       int64              int64       \n",
       "---------------------- ------- ... ------------------ ------------------\n",
       "ILTJ105150.16+472306.9     N/A ... 164861629587942860 164861629587942860\n",
       "ILTJ124446.75+545233.0     N/A ... 173851911952891597 173851911952891597\n",
       "ILTJ131700.45+490748.4     N/A ... 166951992516796699 166951992516796699"
      ]
     },
     "execution_count": 48,
     "metadata": {},
     "output_type": "execute_result"
    }
   ],
   "source": [
    "t = pwl[np.isin(pwl[\"Source_Name\"], pwl[cond_mlr & ~np.isnan(pwl['ML_LR'])][cond_diffmatch][\"Source_Name\"])]\n",
    "t[t['match_code2'] != 0][['Source_Name', \"AllWISE\", \"AllWISE_input\", \"objID\", \"objID_input\"]]"
   ]
  },
  {
   "cell_type": "code",
   "execution_count": 49,
   "metadata": {
    "collapsed": false
   },
   "outputs": [
    {
     "data": {
      "text/html": [
       "&lt;Table masked=True length=1&gt;\n",
       "<table id=\"table140279023473496\" class=\"table-striped table-bordered table-condensed\">\n",
       "<thead><tr><th>Source_Name</th><th>RA</th><th>E_RA</th><th>DEC</th><th>E_DEC</th><th>Peak_flux</th><th>E_Peak_flux</th><th>Total_flux</th><th>E_Total_flux</th><th>Maj</th><th>E_Maj</th><th>Min</th><th>E_Min</th><th>PA</th><th>E_PA</th><th>Isl_rms</th><th>S_Code</th><th>Mosaic_ID</th><th>AllWISE</th><th>objID</th><th>ra</th><th>dec</th><th>raErr</th><th>decErr</th><th>W1mag</th><th>W1magErr</th><th>i</th><th>iErr</th><th>colour</th><th>category</th><th>lr</th><th>lr_dist</th><th>AllWISE_input</th><th>objID_input</th><th>ML_LR</th><th>ID_flag</th><th>ID_name</th><th>ID_ra</th><th>ID_dec</th><th>LGZ_Size</th><th>LGZ_Width</th><th>LGZ_PA</th><th>LGZ_Assoc</th><th>LGZ_Assoc_Qual</th><th>LGZ_ID_Qual</th><th>match_code</th><th>match_code2</th></tr></thead>\n",
       "<thead><tr><th>str88</th><th>float64</th><th>float64</th><th>float64</th><th>float64</th><th>float64</th><th>float64</th><th>float64</th><th>float64</th><th>float64</th><th>float64</th><th>float64</th><th>float64</th><th>float64</th><th>float64</th><th>float64</th><th>str1</th><th>str11</th><th>str19</th><th>int64</th><th>float64</th><th>float64</th><th>float64</th><th>float64</th><th>float64</th><th>float64</th><th>float64</th><th>float64</th><th>float64</th><th>float64</th><th>float64</th><th>float64</th><th>str19</th><th>int64</th><th>float64</th><th>int64</th><th>str27</th><th>float64</th><th>float64</th><th>float64</th><th>float64</th><th>float64</th><th>float64</th><th>float64</th><th>float64</th><th>int64</th><th>int64</th></tr></thead>\n",
       "<tr><td>ILTJ105150.16+472306.9</td><td>162.958997743</td><td>0.144574540402</td><td>47.3852535063</td><td>0.135700150377</td><td>1.0400645428</td><td>0.0620059670136</td><td>0.88200388277</td><td>0.113680644158</td><td>5.65331936162</td><td>0.345452470339</td><td>5.40066860218</td><td>0.314129798109</td><td>113.261924388</td><td>53.196333999</td><td>0.0649695139145</td><td>S</td><td>P3Hetdex16</td><td>N/A</td><td>164861629587942860</td><td>162.95880637</td><td>47.38512028</td><td>0.0451599992812</td><td>0.0261400006711</td><td>nan</td><td>nan</td><td>18.5082593446</td><td>0.0200500003994</td><td>nan</td><td>1.0</td><td>67.0586944523</td><td>0.669040319887</td><td>J105150.11+472306.4</td><td>164861629587942860</td><td>7.67859626092</td><td>1</td><td>PSO J105150.107+472306.380</td><td>162.95880637</td><td>47.38512028</td><td>nan</td><td>nan</td><td>nan</td><td>nan</td><td>nan</td><td>nan</td><td>1</td><td>1</td></tr>\n",
       "</table>"
      ],
      "text/plain": [
       "<Table masked=True length=1>\n",
       "     Source_Name             RA           E_RA      ... match_code match_code2\n",
       "        str88             float64       float64     ...   int64       int64   \n",
       "---------------------- ------------- -------------- ... ---------- -----------\n",
       "ILTJ105150.16+472306.9 162.958997743 0.144574540402 ...          1           1"
      ]
     },
     "execution_count": 49,
     "metadata": {},
     "output_type": "execute_result"
    }
   ],
   "source": [
    "pwl[pwl[\"objID\"] == 164861629587942860]"
   ]
  },
  {
   "cell_type": "markdown",
   "metadata": {},
   "source": [
    "## Analyse changes in the matches"
   ]
  },
  {
   "cell_type": "code",
   "execution_count": 50,
   "metadata": {
    "collapsed": false
   },
   "outputs": [
    {
     "name": "stdout",
     "output_type": "stream",
     "text": [
      "102267 N/A\n",
      "4 J132633.11+484745.9\n",
      "2 J132959.54+471558.1\n",
      "2 J140250.06+491021.4\n",
      "2 J113321.11+470145.2\n",
      "2 J113234.86+530404.6\n",
      "2 J114607.72+472940.5\n",
      "2 J120601.09+472843.3\n",
      "2 J150913.19+523142.4\n",
      "2 J120534.28+503221.7\n"
     ]
    }
   ],
   "source": [
    "most_common(pwl[\"AllWISE_input\"].filled(), n=10)"
   ]
  },
  {
   "cell_type": "markdown",
   "metadata": {},
   "source": [
    "Save data for tests"
   ]
  },
  {
   "cell_type": "code",
   "execution_count": 51,
   "metadata": {
    "collapsed": false
   },
   "outputs": [
    {
     "data": {
      "text/plain": [
       "0"
      ]
     },
     "execution_count": 51,
     "metadata": {},
     "output_type": "execute_result"
    }
   ],
   "source": [
    "np.sum(~np.isnan(pwl[\"colour\"]) & (pwl[\"match_code\"] == 3))"
   ]
  },
  {
   "cell_type": "code",
   "execution_count": 52,
   "metadata": {
    "collapsed": false
   },
   "outputs": [
    {
     "data": {
      "text/plain": [
       "<matplotlib.legend.Legend at 0x7f954133b4e0>"
      ]
     },
     "execution_count": 52,
     "metadata": {},
     "output_type": "execute_result"
    },
    {
     "data": {
      "image/png": "[encoded data removed]",
      "text/plain": [
       "<matplotlib.figure.Figure at 0x7f95414e9dd8>"
      ]
     },
     "metadata": {},
     "output_type": "display_data"
    }
   ],
   "source": [
    "subplot(1,2,1)\n",
    "val, bins, _ = hist(pwl[\"colour\"][~np.isnan(pwl[\"colour\"]) & (pwl[\"match_code\"] != 0)], \n",
    "                    bins=50, normed=True, alpha=0.5, label=\"Total\")\n",
    "val, bins, _ = hist(pwl[\"colour\"][~np.isnan(pwl[\"colour\"]) & (pwl[\"match_code\"] == 4)], \n",
    "                    bins=bins, normed=True, alpha=0.5, label=\"New matches\")\n",
    "xlabel(\"Colour\")\n",
    "ylabel(\"N normed\")\n",
    "legend()\n",
    "subplot(1,2,2)\n",
    "val, bins, _ = hist(pwl[\"colour\"][~np.isnan(pwl[\"colour\"]) & (pwl[\"match_code\"] != 0)], \n",
    "                    bins=bins, normed=True, alpha=0.5, label=\"Total\")\n",
    "val, bins, _ = hist(pwl[\"colour\"][~np.isnan(pwl[\"colour\"]) & (pwl[\"match_code\"] == 2)], \n",
    "                    bins=bins, normed=True, alpha=0.5, label=\"Different match\")\n",
    "xlabel(\"Colour\")\n",
    "ylabel(\"N normed\")\n",
    "legend()"
   ]
  },
  {
   "cell_type": "markdown",
   "metadata": {
    "collapsed": true
   },
   "source": [
    "## Additional description of the data"
   ]
  },
  {
   "cell_type": "code",
   "execution_count": 69,
   "metadata": {
    "collapsed": false
   },
   "outputs": [
    {
     "name": "stdout",
     "output_type": "stream",
     "text": [
      "513.417 +/- 678.597; median: 249.663; limits: [1.291, 5209.663]; N=300623 (81490 NaN; 0 masked)\n"
     ]
    }
   ],
   "source": [
    "describe(pwlaux['ML_LR'])"
   ]
  },
  {
   "cell_type": "code",
   "execution_count": 70,
   "metadata": {
    "collapsed": false
   },
   "outputs": [
    {
     "name": "stdout",
     "output_type": "stream",
     "text": [
      "559.391 +/- 1009.254; median: 137.720; limits: [0.000, 10404.787]; N=300623 (12224 NaN; 0 masked)\n"
     ]
    }
   ],
   "source": [
    "describe(pwlaux['lr'])"
   ]
  },
  {
   "cell_type": "code",
   "execution_count": 71,
   "metadata": {
    "collapsed": false
   },
   "outputs": [
    {
     "data": {
      "text/plain": [
       "300623"
      ]
     },
     "execution_count": 71,
     "metadata": {},
     "output_type": "execute_result"
    }
   ],
   "source": [
    "len(pwlaux)"
   ]
  },
  {
   "cell_type": "code",
   "execution_count": 72,
   "metadata": {
    "collapsed": false
   },
   "outputs": [
    {
     "data": {
      "text/plain": [
       "6019"
      ]
     },
     "execution_count": 72,
     "metadata": {},
     "output_type": "execute_result"
    }
   ],
   "source": [
    "np.sum(\n",
    "    (pwlaux[\"AllWISE\"] != pwlaux[\"AllWISE_input\"]) |\n",
    "    (pwlaux[\"objID\"] != pwlaux[\"objID_input\"])  \n",
    "      )"
   ]
  },
  {
   "cell_type": "code",
   "execution_count": 73,
   "metadata": {
    "collapsed": false
   },
   "outputs": [
    {
     "data": {
      "text/plain": [
       "2551"
      ]
     },
     "execution_count": 73,
     "metadata": {},
     "output_type": "execute_result"
    }
   ],
   "source": [
    "np.sum(\n",
    "    (pwlaux[\"AllWISE\"] != pwlaux[\"AllWISE_input\"]) &\n",
    "    (pwlaux[\"objID\"] != pwlaux[\"objID_input\"])  \n",
    "      )"
   ]
  },
  {
   "cell_type": "code",
   "execution_count": 74,
   "metadata": {
    "collapsed": false
   },
   "outputs": [
    {
     "data": {
      "text/plain": [
       "96"
      ]
     },
     "execution_count": 74,
     "metadata": {},
     "output_type": "execute_result"
    }
   ],
   "source": [
    "np.sum(\n",
    "    (pwl[cond_mlr].filled()[\"AllWISE\"] != pwl[cond_mlr][\"AllWISE_input\"]) &\n",
    "    (pwl[cond_mlr].filled()[\"objID\"] == pwl[cond_mlr][\"objID_input\"])  \n",
    "      )"
   ]
  },
  {
   "cell_type": "code",
   "execution_count": 75,
   "metadata": {
    "collapsed": false
   },
   "outputs": [
    {
     "data": {
      "text/plain": [
       "212"
      ]
     },
     "execution_count": 75,
     "metadata": {},
     "output_type": "execute_result"
    }
   ],
   "source": [
    "np.sum(\n",
    "    (pwl[cond_mlr].filled()[\"AllWISE\"] == pwl[cond_mlr][\"AllWISE_input\"]) &\n",
    "    (pwl[cond_mlr].filled()[\"objID\"] != pwl[cond_mlr][\"objID_input\"])  \n",
    "      )"
   ]
  },
  {
   "cell_type": "code",
   "execution_count": 76,
   "metadata": {
    "collapsed": false
   },
   "outputs": [
    {
     "name": "stdout",
     "output_type": "stream",
     "text": [
      "AllWISE\n",
      "90589 N/A\n",
      "2 J114351.84+534758.6\n",
      "2 J121406.39+462302.4\n",
      "AllWISE_input\n",
      "92739 N/A\n",
      "1 J121404.24+554324.9\n",
      "1 J121404.58+541509.0\n",
      "objID\n",
      "144664 999999\n",
      "2 163352016837856893\n",
      "2 163971633340322080\n",
      "objID_input\n",
      "146362 999999\n",
      "1 167041976433181499\n",
      "1 167041974666874572\n"
     ]
    }
   ],
   "source": [
    "for i in [\"AllWISE\", \"AllWISE_input\", \"objID\", \"objID_input\"]:\n",
    "    print(i)\n",
    "    most_common(pwl[cond_mlr][i].filled(), n=3)"
   ]
  },
  {
   "cell_type": "code",
   "execution_count": 77,
   "metadata": {
    "collapsed": false
   },
   "outputs": [
    {
     "data": {
      "text/plain": [
       "array([ 0.21493265,  0.04089325,  0.001     ,  0.00569206,  0.02510625,\n",
       "        0.03587855,  0.0513815 ,  0.05742317,  0.05541292,  0.05003769,\n",
       "        0.04789634,  0.04209503,  0.03628279,  0.04824595,  0.01839814,\n",
       "        0.00593242])"
      ]
     },
     "execution_count": 77,
     "metadata": {},
     "output_type": "execute_result"
    }
   ],
   "source": [
    "Q_0_colour"
   ]
  },
  {
   "cell_type": "code",
   "execution_count": 78,
   "metadata": {
    "collapsed": false
   },
   "outputs": [
    {
     "data": {
      "text/plain": [
       "0.73660870087729835"
      ]
     },
     "execution_count": 78,
     "metadata": {},
     "output_type": "execute_result"
    }
   ],
   "source": [
    "np.sum(Q_0_colour)"
   ]
  },
  {
   "cell_type": "code",
   "execution_count": null,
   "metadata": {
    "collapsed": true
   },
   "outputs": [],
   "source": []
  }
 ],
 "metadata": {
  "kernelspec": {
   "display_name": "Python 3",
   "language": "python",
   "name": "python3"
  },
  "language_info": {
   "codemirror_mode": {
    "name": "ipython",
    "version": 3
   },
   "file_extension": ".py",
   "mimetype": "text/x-python",
   "name": "python",
   "nbconvert_exporter": "python",
   "pygments_lexer": "ipython3",
   "version": "3.6.1"
  }
 },
 "nbformat": 4,
 "nbformat_minor": 1
}
