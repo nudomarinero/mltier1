{
 "cells": [
  {
   "cell_type": "markdown",
   "metadata": {},
   "source": [
    "# Analysis of the final catalogue of matched sources"
   ]
  },
  {
   "cell_type": "markdown",
   "metadata": {},
   "source": [
    "We will analyse the changes in the classification using the new sigma and the new catalogue without the galaxies that went to LGZ"
   ]
  },
  {
   "cell_type": "markdown",
   "metadata": {},
   "source": [
    "## Configuration\n",
    "\n",
    "### Load libraries and setup"
   ]
  },
  {
   "cell_type": "code",
   "execution_count": 1,
   "metadata": {
    "collapsed": true
   },
   "outputs": [],
   "source": [
    "import numpy as np\n",
    "from astropy.table import Table, join\n",
    "from astropy import units as u\n",
    "from astropy.coordinates import SkyCoord, search_around_sky\n",
    "from IPython.display import clear_output\n",
    "import pickle\n",
    "import os"
   ]
  },
  {
   "cell_type": "code",
   "execution_count": 2,
   "metadata": {
    "collapsed": true
   },
   "outputs": [],
   "source": [
    "from mltier1 import (get_center, Field, parallel_process, describe)"
   ]
  },
  {
   "cell_type": "code",
   "execution_count": 3,
   "metadata": {
    "collapsed": true
   },
   "outputs": [],
   "source": [
    "%load_ext autoreload"
   ]
  },
  {
   "cell_type": "code",
   "execution_count": 4,
   "metadata": {
    "collapsed": true
   },
   "outputs": [],
   "source": [
    "%autoreload"
   ]
  },
  {
   "cell_type": "code",
   "execution_count": 5,
   "metadata": {
    "collapsed": true
   },
   "outputs": [],
   "source": [
    "from IPython.display import clear_output"
   ]
  },
  {
   "cell_type": "code",
   "execution_count": 6,
   "metadata": {
    "collapsed": false
   },
   "outputs": [
    {
     "name": "stdout",
     "output_type": "stream",
     "text": [
      "Populating the interactive namespace from numpy and matplotlib\n"
     ]
    }
   ],
   "source": [
    "%pylab inline"
   ]
  },
  {
   "cell_type": "code",
   "execution_count": 7,
   "metadata": {
    "collapsed": true
   },
   "outputs": [],
   "source": [
    "def most_common(a, n=2):\n",
    "    u, c = np.unique(a, return_counts=True)\n",
    "    order = np.argsort(c)\n",
    "    for i in range(n):\n",
    "        print(c[order][-(i+1)], u[order][-(i+1)])"
   ]
  },
  {
   "cell_type": "markdown",
   "metadata": {},
   "source": [
    "### General configuration"
   ]
  },
  {
   "cell_type": "code",
   "execution_count": 8,
   "metadata": {
    "collapsed": true
   },
   "outputs": [],
   "source": [
    "save_intermediate = True\n",
    "plot_intermediate = True"
   ]
  },
  {
   "cell_type": "code",
   "execution_count": 9,
   "metadata": {
    "collapsed": true
   },
   "outputs": [],
   "source": [
    "idp = \"idata/final_analysis_pdf_v1.0\""
   ]
  },
  {
   "cell_type": "code",
   "execution_count": 10,
   "metadata": {
    "collapsed": true
   },
   "outputs": [],
   "source": [
    "if not os.path.isdir(idp):\n",
    "    os.makedirs(idp)"
   ]
  },
  {
   "cell_type": "markdown",
   "metadata": {},
   "source": [
    "## Load data"
   ]
  },
  {
   "cell_type": "code",
   "execution_count": 11,
   "metadata": {
    "collapsed": true
   },
   "outputs": [],
   "source": [
    "pwli = Table.read(\"lofar_pw_pdf.fits\")"
   ]
  },
  {
   "cell_type": "code",
   "execution_count": 12,
   "metadata": {
    "collapsed": false
   },
   "outputs": [
    {
     "data": {
      "text/plain": [
       "['Source_Name',\n",
       " 'RA',\n",
       " 'E_RA',\n",
       " 'DEC',\n",
       " 'E_DEC',\n",
       " 'Peak_flux',\n",
       " 'E_Peak_flux',\n",
       " 'Total_flux',\n",
       " 'E_Total_flux',\n",
       " 'Maj',\n",
       " 'E_Maj',\n",
       " 'Min',\n",
       " 'E_Min',\n",
       " 'PA',\n",
       " 'E_PA',\n",
       " 'Isl_rms',\n",
       " 'S_Code',\n",
       " 'Mosaic_ID',\n",
       " 'AllWISE',\n",
       " 'objID',\n",
       " 'ra',\n",
       " 'dec',\n",
       " 'raErr',\n",
       " 'decErr',\n",
       " 'W1mag',\n",
       " 'W1magErr',\n",
       " 'i',\n",
       " 'iErr',\n",
       " 'colour',\n",
       " 'category',\n",
       " 'lr',\n",
       " 'lr_dist']"
      ]
     },
     "execution_count": 12,
     "metadata": {},
     "output_type": "execute_result"
    }
   ],
   "source": [
    "pwli.colnames"
   ]
  },
  {
   "cell_type": "code",
   "execution_count": 13,
   "metadata": {
    "collapsed": true
   },
   "outputs": [],
   "source": [
    "lofar_all = Table.read(\"data/LOFAR_HBA_T1_DR1_merge_ID_optical_v1.0.fits\")"
   ]
  },
  {
   "cell_type": "markdown",
   "metadata": {},
   "source": [
    "#### Join data tables"
   ]
  },
  {
   "cell_type": "code",
   "execution_count": 14,
   "metadata": {
    "collapsed": false
   },
   "outputs": [
    {
     "name": "stderr",
     "output_type": "stream",
     "text": [
      "WARNING: MergeConflictWarning: Cannot merge meta key 'DATE-HDU' types <class 'str'> and <class 'str'>, choosing DATE-HDU='2018-02-27T12:05:08' [astropy.utils.metadata]\n"
     ]
    }
   ],
   "source": [
    "pwl = join(pwli, lofar_all[['Source_Name', 'AllWISE', 'objID', 'ML_LR', \n",
    "                            'ID_flag', 'ID_name', 'ID_ra', 'ID_dec', \n",
    "                            'LGZ_Size', 'LGZ_Width', 'LGZ_PA', 'LGZ_Assoc', \n",
    "                            'LGZ_Assoc_Qual', 'LGZ_ID_Qual']], \n",
    "           join_type='left', \n",
    "           keys='Source_Name', \n",
    "           uniq_col_name='{col_name}{table_name}', \n",
    "           table_names=['', '_input'])"
   ]
  },
  {
   "cell_type": "code",
   "execution_count": 15,
   "metadata": {
    "collapsed": true
   },
   "outputs": [],
   "source": [
    "colour_limits = [0.0, 0.5, 1.0, 1.25, 1.5, 1.75, 2.0, 2.25, 2.5, 2.75, 3.0, 3.5, 4.0]"
   ]
  },
  {
   "cell_type": "code",
   "execution_count": 16,
   "metadata": {
    "collapsed": true
   },
   "outputs": [],
   "source": [
    "bin_list, centers, Q_0_colour, n_m, q_m = pickle.load(open(\"lofar_params.pckl\", \"rb\"))"
   ]
  },
  {
   "cell_type": "markdown",
   "metadata": {},
   "source": [
    "#### Explore and repair data"
   ]
  },
  {
   "cell_type": "code",
   "execution_count": 17,
   "metadata": {
    "collapsed": false
   },
   "outputs": [
    {
     "name": "stdout",
     "output_type": "stream",
     "text": [
      "Source_Name N/A <U22\n",
      "RA 1e+20 >f8\n",
      "E_RA 1e+20 >f8\n",
      "DEC 1e+20 >f8\n",
      "E_DEC 1e+20 >f8\n",
      "Peak_flux 1e+20 >f8\n",
      "E_Peak_flux 1e+20 >f8\n",
      "Total_flux 1e+20 >f8\n",
      "E_Total_flux 1e+20 >f8\n",
      "Maj 1e+20 >f8\n",
      "E_Maj 1e+20 >f8\n",
      "Min 1e+20 >f8\n",
      "E_Min 1e+20 >f8\n",
      "PA 1e+20 >f8\n",
      "E_PA 1e+20 >f8\n",
      "Isl_rms 1e+20 >f8\n",
      "S_Code N/A <U1\n",
      "Mosaic_ID N/A <U11\n",
      "AllWISE N/A <U19\n",
      "objID 999999 >i8\n",
      "ra 1e+20 >f8\n",
      "dec 1e+20 >f8\n",
      "raErr 1e+20 >f8\n",
      "decErr 1e+20 >f8\n",
      "W1mag 1e+20 >f8\n",
      "W1magErr 1e+20 >f8\n",
      "i 1e+20 >f8\n",
      "iErr 1e+20 >f8\n",
      "colour 1e+20 >f8\n",
      "category 1e+20 >f8\n",
      "lr 1e+20 >f8\n",
      "lr_dist 1e+20 >f8\n",
      "AllWISE_input N/A <U19\n",
      "objID_input 999999 >i8\n",
      "ML_LR 1e+20 >f8\n",
      "ID_flag 999999 >i8\n",
      "ID_name N/A <U27\n",
      "ID_ra 1e+20 >f8\n",
      "ID_dec 1e+20 >f8\n",
      "LGZ_Size 1e+20 >f8\n",
      "LGZ_Width 1e+20 >f8\n",
      "LGZ_PA 1e+20 >f8\n",
      "LGZ_Assoc 1e+20 >f8\n",
      "LGZ_Assoc_Qual 1e+20 >f8\n",
      "LGZ_ID_Qual 1e+20 >f8\n"
     ]
    }
   ],
   "source": [
    "for col in pwl.colnames:\n",
    "    fv = pwl[col].fill_value\n",
    "    typ = pwl[col].dtype\n",
    "    print(col, fv, typ)\n",
    "    # Restore NaNs\n",
    "    if fv == 1e+20:\n",
    "        pwl[col][(pwl[col] == fv)] = np.nan\n",
    "#     if (isinstance(fv, np.float64) and (fv != 1e+20)):\n",
    "#         print(col, fv)\n",
    "#         pwl[col].fill_value = 1e+20"
   ]
  },
  {
   "cell_type": "code",
   "execution_count": 18,
   "metadata": {
    "collapsed": true
   },
   "outputs": [],
   "source": [
    "pwl[\"colour\"][(pwl[\"colour\"] == 1e+20)] = np.nan"
   ]
  },
  {
   "cell_type": "code",
   "execution_count": 19,
   "metadata": {
    "collapsed": false
   },
   "outputs": [
    {
     "name": "stdout",
     "output_type": "stream",
     "text": [
      "2.128 +/- 0.814; median: 2.068; limits: [-1.640, 9.281]; N=318771 (172386 NaN; 0 masked)\n"
     ]
    },
    {
     "name": "stderr",
     "output_type": "stream",
     "text": [
      "/home/jsm/programs/soft/anaconda3/lib/python3.6/site-packages/numpy/lib/function_base.py:4147: UserWarning: Warning: 'partition' will ignore the 'mask' of the MaskedColumn.\n",
      "  part.partition(kth)\n"
     ]
    }
   ],
   "source": [
    "describe(pwl[\"colour\"])"
   ]
  },
  {
   "cell_type": "markdown",
   "metadata": {},
   "source": [
    "Change the AllWISE_input that are '' to 'N/A'. That comes from a previous error with the fill value."
   ]
  },
  {
   "cell_type": "code",
   "execution_count": 20,
   "metadata": {
    "collapsed": false
   },
   "outputs": [],
   "source": [
    "pwl[\"AllWISE_input\"][pwl[\"AllWISE_input\"] == \"\"] = \"N/A\""
   ]
  },
  {
   "cell_type": "markdown",
   "metadata": {},
   "source": [
    "## Plots for the paper"
   ]
  },
  {
   "cell_type": "markdown",
   "metadata": {},
   "source": [
    "### q(m) over n(m) depending on the colour (not used)"
   ]
  },
  {
   "cell_type": "code",
   "execution_count": 21,
   "metadata": {
    "collapsed": false
   },
   "outputs": [
    {
     "data": {
      "image/png": "[encoded data removed]",
      "text/plain": [
       "<matplotlib.figure.Figure at 0x7f331a325c88>"
      ]
     },
     "metadata": {},
     "output_type": "display_data"
    }
   ],
   "source": [
    "plt.rcParams[\"figure.figsize\"] = (12,10)\n",
    "\n",
    "from matplotlib import cm\n",
    "from matplotlib.collections import LineCollection\n",
    "\n",
    "cm_subsection = linspace(0., 1., 16) \n",
    "colors = [ cm.viridis(x) for x in cm_subsection ]\n",
    "\n",
    "low = np.nonzero(centers[1] >= 15)[0][0]\n",
    "high = np.nonzero(centers[1] >= 22.2)[0][0]\n",
    "\n",
    "fig, a = plt.subplots()\n",
    "\n",
    "for i, q_m_k in enumerate(q_m):\n",
    "    #plot(centers[i], q_m_old[i]/n_m_old[i])\n",
    "    a = subplot(4,4,i+1)\n",
    "    if i not in [-1]:\n",
    "        q_m_aux = q_m[i]/np.sum(q_m[i])\n",
    "        lwidths = (q_m_aux/np.max(q_m_aux)*10).astype(float) \n",
    "        #print(lwidths)\n",
    "        \n",
    "        y_aux = q_m_k/n_m[i]\n",
    "        factor = np.max(y_aux[low:high])\n",
    "        y = y_aux\n",
    "        #print(y)\n",
    "        x = centers[i]\n",
    "        \n",
    "        points = np.array([x, y]).T.reshape(-1, 1, 2)\n",
    "        segments = np.concatenate([points[:-1], points[1:]], axis=1)\n",
    "        lc = LineCollection(segments, linewidths=lwidths, color=colors[i])\n",
    "        \n",
    "        a.add_collection(lc)\n",
    "        \n",
    "        #plot(centers[i], x/factor, color=colors[i-1])\n",
    "        xlim([12, 30])\n",
    "        if i == 0:\n",
    "            xlim([10, 23])\n",
    "        ylim([0, 1.2*factor])\n",
    "\n",
    "subplots_adjust(left=0.125, \n",
    "                bottom=0.1, \n",
    "                right=0.9, \n",
    "                top=0.9,\n",
    "                wspace=0.4, \n",
    "                hspace=0.2)"
   ]
  },
  {
   "cell_type": "markdown",
   "metadata": {},
   "source": [
    "Explanation of the KDE used in the computing of the q(m) and n(m):\n",
    "* https://jakevdp.github.io/blog/2013/12/01/kernel-density-estimation/"
   ]
  },
  {
   "cell_type": "markdown",
   "metadata": {},
   "source": [
    "### Figure 3 of the paper\n",
    "\n",
    "Help from:\n",
    "* https://stackoverflow.com/questions/19877666/add-legends-to-linecollection-plot\n",
    "* https://matplotlib.org/users/mathtext.html#mathtext-tutorial"
   ]
  },
  {
   "cell_type": "code",
   "execution_count": 22,
   "metadata": {
    "collapsed": false
   },
   "outputs": [
    {
     "data": {
      "image/png": "[encoded data removed]",
      "text/plain": [
       "<matplotlib.figure.Figure at 0x7f3319b1fc88>"
      ]
     },
     "metadata": {},
     "output_type": "display_data"
    }
   ],
   "source": [
    "save = False\n",
    "save_pdf = True\n",
    "\n",
    "plt.rcParams[\"figure.figsize\"] = (6, 6)\n",
    "\n",
    "from matplotlib import cm\n",
    "from matplotlib.collections import LineCollection\n",
    "from matplotlib.lines import Line2D\n",
    "\n",
    "cm_subsection = linspace(0., 1., 16) \n",
    "colors = [ cm.viridis(x) for x in cm_subsection ]\n",
    "\n",
    "low = np.nonzero(centers[1] >= 15)[0][0]\n",
    "high = np.nonzero(centers[1] >= 22.2)[0][0]\n",
    "\n",
    "cm_subsection = linspace(0., 1., 14) \n",
    "colors = [ cm.jet(x) for x in cm_subsection ]\n",
    "\n",
    "fig, a = plt.subplots()\n",
    "lcs = []\n",
    "proxies = []\n",
    "\n",
    "def make_proxy(zvalue, scalar_mappable, **kwargs):\n",
    "    color = scalar_mappable.cmap(scalar_mappable.norm(zvalue))\n",
    "    return Line2D([0, 1], [0, 1], color=color, **kwargs)\n",
    "\n",
    "for i, q_m_k in enumerate(q_m):\n",
    "    #plot(centers[i], q_m_old[i]/n_m_old[i])\n",
    "    q_m_aux = q_m[i]/np.sum(q_m[i])\n",
    "    lwidths = (q_m_aux/np.max(q_m_aux)*10).astype(float)\n",
    "    if save_pdf and (i<6): # Solve problems with the line with in pdfs\n",
    "        lwidths[lwidths < 0.005] = 0\n",
    "    #print(lwidths)\n",
    "\n",
    "    y_aux = q_m_k/n_m[i]\n",
    "    factor = np.max(y_aux[low:high])\n",
    "    y = y_aux\n",
    "    #print(y)\n",
    "    x = centers[i]\n",
    "\n",
    "    points = np.array([x, y]).T.reshape(-1, 1, 2)\n",
    "    segments = np.concatenate([points[:-1], points[1:]], axis=1)\n",
    "    #lc = LineCollection(segments, linewidths=lwidths, color=colors[i])\n",
    "    \n",
    "    if i not in [0]:  \n",
    "        if i == 1:\n",
    "            color = \"k\"\n",
    "        else:\n",
    "            color = colors[i-2]\n",
    "            \n",
    "        lcs.append(LineCollection(segments, linewidths=lwidths, color=color))\n",
    "        proxies.append(Line2D([0, 1], [0, 1], color=color, lw=5))\n",
    "        \n",
    "        a.add_collection(lcs[-1])\n",
    "        xlim([16, 26])\n",
    "        ylim([0, 700000])\n",
    "        xlabel(\"$i$ magnitude\")\n",
    "        ylabel(\"$q(m,c)/n(m,c)$\")\n",
    "\n",
    "        \n",
    "        \n",
    "inset = plt.axes([0.285, 0.6, .2, .25])\n",
    "q_m_aux = q_m[0]/np.sum(q_m[0])\n",
    "lwidths = (q_m_aux/np.max(q_m_aux)*10).astype(float)\n",
    "y_aux = q_m[0]/n_m[0]\n",
    "factor = np.max(y_aux[low:high])\n",
    "y = y_aux\n",
    "x = centers[0]\n",
    "points = np.array([x, y]).T.reshape(-1, 1, 2)\n",
    "segments = np.concatenate([points[:-1], points[1:]], axis=1)\n",
    "lc = LineCollection(segments, linewidths=lwidths, color=\"k\")\n",
    "proxy = Line2D([0, 1], [0, 1], color=\"k\", lw=5)\n",
    "inset.add_collection(lc)\n",
    "xlim([15, 23])\n",
    "ylim([0, 10000])\n",
    "xlabel(\"$W1$ magnitude\")\n",
    "ylabel(\"$q(m)/n(m)$\")\n",
    "inset.legend([proxy], [\"only $W1$\"], fontsize=\"x-small\")\n",
    "        \n",
    "\n",
    "    #ylim([0, 1.2*factor])\n",
    "        \n",
    "#print(lcs)\n",
    "\n",
    "# a.legend(proxies, [\"$i-W1 < 0.0$\", \n",
    "#              \"$0.0 \\leq i-W1 < 0.5$\", \n",
    "#              \"$0.5 \\leq i-W1 < 1.0$\", \n",
    "#              \"$1.0 \\leq i-W1 < 1.25$\", \n",
    "#              \"$1.25 \\leq i-W1 < 1.5$\", \n",
    "#              \"$1.5 \\leq i-W1 < 1.75$\", \n",
    "#              \"$1.75 \\leq i-W1 < 2.0$\", \n",
    "#              \"$2.0 \\leq i-W1 < 2.25$\",\n",
    "#              \"$2.25 \\leq i-W1 < 2.5$\",\n",
    "#              \"$2.5 \\leq i-W1 < 2.75$\",\n",
    "#              \"$2.75 \\leq i-W1 < 3.0$\",\n",
    "#              \"$3.0 \\leq i-W1 < 3.5$\",\n",
    "#              \"$3.5 \\leq i-W1 < 4.0$\",\n",
    "#              \"$i-W1 \\geq 4.0$\"])\n",
    "\n",
    "# a.legend(proxies, [\"only $i$\",\n",
    "#                    \"$i-W1 \\in (-\\infty, 0.0)$\", \n",
    "#                    \"$i-W1 \\in [0.0, 0.5)$\",\n",
    "#                    \"$i-W1 \\in [0.5, 1.0)$\",\n",
    "#                    \"$i-W1 \\in [1.0, 1.25)$\",\n",
    "#                    \"$i-W1 \\in [1.25, 1.5)$\",\n",
    "#                    \"$i-W1 \\in [1.5, 1.75)$\",\n",
    "#                    \"$i-W1 \\in [1.75, 2.0)$\",\n",
    "#                    \"$i-W1 \\in [2.0, 2.25)$\",\n",
    "#                    \"$i-W1 \\in [2.25, 2.5)$\",\n",
    "#                    \"$i-W1 \\in [2.5, 2.75)$\",\n",
    "#                    \"$i-W1 \\in [2.75, 3.0)$\",\n",
    "#                    \"$i-W1 \\in [3.0, 3.5)$\",\n",
    "#                    \"$i-W1 \\in [3.5, 4.0)$\",\n",
    "#                    \"$i-W1 \\in [4.0, \\infty)$\"],\n",
    "#         fontsize=\"xx-small\")\n",
    "\n",
    "a.legend(proxies, [\"only $i$\",\n",
    "                   \"$(-\\infty, 0.0)$\", \n",
    "                   \"$[0.0, 0.5)$\",\n",
    "                   \"$[0.5, 1.0)$\",\n",
    "                   \"$[1.0, 1.25)$\",\n",
    "                   \"$[1.25, 1.5)$\",\n",
    "                   \"$[1.5, 1.75)$\",\n",
    "                   \"$[1.75, 2.0)$\",\n",
    "                   \"$[2.0, 2.25)$\",\n",
    "                   \"$[2.25, 2.5)$\",\n",
    "                   \"$[2.5, 2.75)$\",\n",
    "                   \"$[2.75, 3.0)$\",\n",
    "                   \"$[3.0, 3.5)$\",\n",
    "                   \"$[3.5, 4.0)$\",\n",
    "                   \"$[4.0, \\infty)$\"],\n",
    "        fontsize=\"x-small\",\n",
    "        title=\"$i-W1$\")\n",
    "\n",
    "subplots_adjust(left=0.15, \n",
    "                bottom=0.1, \n",
    "                right=0.9, \n",
    "                top=0.9,\n",
    "                wspace=0.4, \n",
    "                hspace=0.2)\n",
    "\n",
    "if save:\n",
    "    plt.savefig(\"idata/q_n_m.png\")\n",
    "    plt.savefig(\"idata/q_n_m.svg\")\n",
    "    plt.savefig(\"idata/q_n_m_high.png\", dpi=800)\n",
    "if save_pdf:\n",
    "    plt.savefig(\"idata/q_n_m.pdf\")"
   ]
  },
  {
   "cell_type": "markdown",
   "metadata": {},
   "source": [
    "### Figure 4 of the paper: completeness and reliability"
   ]
  },
  {
   "cell_type": "code",
   "execution_count": 23,
   "metadata": {
    "collapsed": true
   },
   "outputs": [],
   "source": [
    "q0 = np.sum(Q_0_colour)"
   ]
  },
  {
   "cell_type": "code",
   "execution_count": 24,
   "metadata": {
    "collapsed": true
   },
   "outputs": [],
   "source": [
    "def completeness(lr, threshold, q0):\n",
    "    n = len(lr)\n",
    "    lrt = lr[lr < threshold]\n",
    "    return 1. - np.sum((q0 * lrt)/(q0 * lrt + (1 - q0)))/float(n)/q0\n",
    "\n",
    "def reliability(lr, threshold, q0):\n",
    "    n = len(lr)\n",
    "    lrt = lr[lr > threshold]\n",
    "    return 1. - np.sum((1. - q0)/(q0 * lrt + (1 - q0)))/float(n)/q0\n",
    "\n",
    "completeness_v = np.vectorize(completeness, excluded=[0])\n",
    "reliability_v = np.vectorize(reliability, excluded=[0])"
   ]
  },
  {
   "cell_type": "code",
   "execution_count": 25,
   "metadata": {
    "collapsed": false
   },
   "outputs": [],
   "source": [
    "pwl[\"lrt\"] = pwl[\"lr\"]\n",
    "pwl[\"lrt\"][np.isnan(pwl[\"lr\"])] = 0"
   ]
  },
  {
   "cell_type": "code",
   "execution_count": 26,
   "metadata": {
    "collapsed": true
   },
   "outputs": [],
   "source": [
    "n_test = 100\n",
    "threshold_mean = np.percentile(pwl[\"lrt\"], 100*(1 - q0))"
   ]
  },
  {
   "cell_type": "code",
   "execution_count": 27,
   "metadata": {
    "collapsed": false
   },
   "outputs": [
    {
     "name": "stderr",
     "output_type": "stream",
     "text": [
      "/home/jsm/programs/soft/anaconda3/lib/python3.6/site-packages/numpy/lib/function_base.py:2834: UserWarning: Warning: converting a masked element to nan.\n",
      "  res = array(outputs, copy=False, subok=True, dtype=otypes[0])\n"
     ]
    }
   ],
   "source": [
    "thresholds = np.arange(0., 10., 0.01)\n",
    "thresholds_fine = np.arange(0.1, 2., 0.001)\n",
    "completeness_t = completeness_v(pwl[\"lrt\"], thresholds, q0)\n",
    "reliability_t = reliability_v(pwl[\"lrt\"], thresholds, q0)\n",
    "average_t = (completeness_t + reliability_t)/2"
   ]
  },
  {
   "cell_type": "code",
   "execution_count": 28,
   "metadata": {
    "collapsed": true
   },
   "outputs": [],
   "source": [
    "completeness_t_fine = completeness_v(pwl[\"lrt\"], thresholds_fine, q0)\n",
    "reliability_t_fine = reliability_v(pwl[\"lrt\"], thresholds_fine, q0)\n",
    "average_t_fine = (completeness_t_fine + reliability_t_fine)/2"
   ]
  },
  {
   "cell_type": "code",
   "execution_count": 29,
   "metadata": {
    "collapsed": false
   },
   "outputs": [
    {
     "data": {
      "text/plain": [
       "0.3580000000000002"
      ]
     },
     "execution_count": 29,
     "metadata": {},
     "output_type": "execute_result"
    }
   ],
   "source": [
    "thresholds_fine[np.argmax(average_t_fine)]"
   ]
  },
  {
   "cell_type": "code",
   "execution_count": 30,
   "metadata": {
    "collapsed": false
   },
   "outputs": [
    {
     "data": {
      "text/plain": [
       "0.6390000000000005"
      ]
     },
     "execution_count": 30,
     "metadata": {},
     "output_type": "execute_result"
    }
   ],
   "source": [
    "thresholds_fine[np.argmin(np.abs(completeness_t_fine-reliability_t_fine))]"
   ]
  },
  {
   "cell_type": "code",
   "execution_count": 31,
   "metadata": {
    "collapsed": false
   },
   "outputs": [
    {
     "data": {
      "text/plain": [
       "226627"
      ]
     },
     "execution_count": 31,
     "metadata": {},
     "output_type": "execute_result"
    }
   ],
   "source": [
    "np.sum(pwl[\"lrt\"] >= 0.358)"
   ]
  },
  {
   "cell_type": "code",
   "execution_count": 32,
   "metadata": {
    "collapsed": false
   },
   "outputs": [
    {
     "data": {
      "text/plain": [
       "225018"
      ]
     },
     "execution_count": 32,
     "metadata": {},
     "output_type": "execute_result"
    }
   ],
   "source": [
    "np.sum(pwl[\"lrt\"] >= 0.639)"
   ]
  },
  {
   "cell_type": "code",
   "execution_count": 39,
   "metadata": {},
   "outputs": [
    {
     "data": {
      "text/plain": [
       "0.7058923176825997"
      ]
     },
     "execution_count": 39,
     "metadata": {},
     "output_type": "execute_result"
    }
   ],
   "source": [
    "np.sum(pwl[\"lrt\"] >= 0.639)/len(pwl)"
   ]
  },
  {
   "cell_type": "code",
   "execution_count": 33,
   "metadata": {
    "collapsed": true
   },
   "outputs": [],
   "source": [
    "threshold_sel = 0.639"
   ]
  },
  {
   "cell_type": "code",
   "execution_count": 34,
   "metadata": {
    "collapsed": false
   },
   "outputs": [
    {
     "name": "stderr",
     "output_type": "stream",
     "text": [
      "/home/jsm/programs/soft/anaconda3/lib/python3.6/site-packages/numpy/lib/function_base.py:2834: UserWarning: Warning: converting a masked element to nan.\n",
      "  res = array(outputs, copy=False, subok=True, dtype=otypes[0])\n"
     ]
    }
   ],
   "source": [
    "thresholds_fine = np.arange(0.0, 2., 0.001)\n",
    "completeness_t_fine = completeness_v(pwl[\"lrt\"], thresholds_fine, q0)\n",
    "reliability_t_fine = reliability_v(pwl[\"lrt\"], thresholds_fine, q0)"
   ]
  },
  {
   "cell_type": "code",
   "execution_count": 40,
   "metadata": {
    "collapsed": false
   },
   "outputs": [
    {
     "data": {
      "image/png": "[encoded data removed]",
      "text/plain": [
       "<matplotlib.figure.Figure at 0x7f3319c046a0>"
      ]
     },
     "metadata": {},
     "output_type": "display_data"
    }
   ],
   "source": [
    "plt.rcParams[\"figure.figsize\"] = (4, 4)\n",
    "\n",
    "plot(thresholds_fine, completeness_t_fine, \"-\", label=\"Completeness\")\n",
    "plot(thresholds_fine, reliability_t_fine, \"-\", label=\"Reliability\")\n",
    "text(0.66, 0.971, \"0.639\")\n",
    "#plot(thresholds_fine, average_t_fine, \"-\", label=\"average\")\n",
    "vlines(threshold_sel, 0.9, 1., \"k\", linestyles=\"dashed\", label=\"Threshold\\nselected\")\n",
    "#vlines(threshold_mean, 0.9, 1., \"y\", linestyles=\"dashed\")\n",
    "ylim([0.97, 1.])\n",
    "xlim([0.0, 1.2])\n",
    "legend(fontsize=\"small\")\n",
    "xlabel(\"Threshold\")\n",
    "ylabel(\"Completeness/Reliability\")\n",
    "\n",
    "subplots_adjust(left=0.2, \n",
    "                bottom=0.1, \n",
    "                right=0.95, \n",
    "                top=0.9,\n",
    "                wspace=0.4, \n",
    "                hspace=0.2)\n",
    "\n",
    "save = True\n",
    "if save:\n",
    "    plt.savefig(\"idata/completeness_reliability.png\")\n",
    "    plt.savefig(\"idata/completeness_reliability.svg\")\n",
    "    plt.savefig(\"idata/completeness_reliability.pdf\")\n",
    "    plt.savefig(\"idata/completeness_reliability_high.png\", dpi=800)"
   ]
  },
  {
   "cell_type": "markdown",
   "metadata": {},
   "source": [
    "### N_LOFAR"
   ]
  },
  {
   "cell_type": "code",
   "execution_count": 41,
   "metadata": {},
   "outputs": [],
   "source": [
    "cond_mlr = (pwl['ID_flag'] == 1)"
   ]
  },
  {
   "cell_type": "code",
   "execution_count": 42,
   "metadata": {},
   "outputs": [
    {
     "data": {
      "text/plain": [
       "318771"
      ]
     },
     "execution_count": 42,
     "metadata": {},
     "output_type": "execute_result"
    }
   ],
   "source": [
    "len(pwl)"
   ]
  },
  {
   "cell_type": "code",
   "execution_count": 43,
   "metadata": {},
   "outputs": [
    {
     "data": {
      "text/plain": [
       "92144"
      ]
     },
     "execution_count": 43,
     "metadata": {},
     "output_type": "execute_result"
    }
   ],
   "source": [
    "np.sum(np.isnan(pwl[\"category\"]))"
   ]
  },
  {
   "cell_type": "code",
   "execution_count": 44,
   "metadata": {},
   "outputs": [
    {
     "data": {
      "text/plain": [
       "78011"
      ]
     },
     "execution_count": 44,
     "metadata": {},
     "output_type": "execute_result"
    }
   ],
   "source": [
    "np.sum(np.isnan(pwl[\"category\"][cond_mlr]))"
   ]
  },
  {
   "cell_type": "code",
   "execution_count": 45,
   "metadata": {},
   "outputs": [
    {
     "name": "stdout",
     "output_type": "stream",
     "text": [
      "0.0 67241 66205\n",
      "1.0 13001 12240\n",
      "2.0 358 343\n",
      "3.0 1754 1717\n",
      "4.0 7076 6928\n",
      "5.0 9692 9485\n",
      "6.0 15021 14698\n",
      "7.0 17437 17030\n",
      "8.0 17334 16934\n",
      "9.0 16266 15923\n",
      "10.0 15046 14741\n",
      "11.0 13090 12856\n",
      "12.0 11203 10996\n",
      "13.0 14636 14373\n",
      "14.0 5569 5454\n",
      "15.0 1903 1859\n"
     ]
    }
   ],
   "source": [
    "n_c, n_c_mlr = [], []\n",
    "for i in np.unique(pwl[\"category\"][~np.isnan(pwl[\"category\"])]):\n",
    "    n_c.append(np.sum((pwl[\"category\"] == i)))\n",
    "    n_c_mlr.append(np.sum((pwl[\"category\"][cond_mlr] == i)))\n",
    "    print(i, n_c[-1], n_c_mlr[-1])"
   ]
  },
  {
   "cell_type": "code",
   "execution_count": 46,
   "metadata": {},
   "outputs": [
    {
     "name": "stdout",
     "output_type": "stream",
     "text": [
      "226627 221782\n",
      "226627 240760\n",
      " 0  67241  66205 29.670 29.851 1.54%\n",
      " 1  13001  12240  5.737  5.519 5.85%\n",
      " 2    358    343  0.158  0.155 4.19%\n",
      " 3   1754   1717  0.774  0.774 2.11%\n",
      " 4   7076   6928  3.122  3.124 2.09%\n",
      " 5   9692   9485  4.277  4.277 2.14%\n",
      " 6  15021  14698  6.628  6.627 2.15%\n",
      " 7  17437  17030  7.694  7.679 2.33%\n",
      " 8  17334  16934  7.649  7.635 2.31%\n",
      " 9  16266  15923  7.177  7.180 2.11%\n",
      "10  15046  14741  6.639  6.647 2.03%\n",
      "11  13090  12856  5.776  5.797 1.79%\n",
      "12  11203  10996  4.943  4.958 1.85%\n",
      "13  14636  14373  6.458  6.481 1.80%\n",
      "14   5569   5454  2.457  2.459 2.07%\n",
      "15   1903   1859  0.840  0.838 2.31%\n"
     ]
    }
   ],
   "source": [
    "total_n_c = np.sum(n_c)\n",
    "total_n_c_mlr = np.sum(n_c_mlr)\n",
    "print(total_n_c, total_n_c_mlr)\n",
    "print(len(pwl)-np.sum(np.isnan(pwl[\"category\"])), len(pwl)-np.sum(np.isnan(pwl[\"category\"][cond_mlr])))\n",
    "for i in range(16):\n",
    "    print(\"{:2d} {:6d} {:6d} {:6.3f} {:6.3f} {:.2%}\".format(i, \n",
    "                                                     n_c[i], \n",
    "                                                     n_c_mlr[i],\n",
    "                                                     n_c[i]/total_n_c*100, \n",
    "                                                     n_c_mlr[i]/total_n_c_mlr*100,\n",
    "                                                     (n_c[i]-n_c_mlr[i])/n_c[i]\n",
    "         ))"
   ]
  },
  {
   "cell_type": "code",
   "execution_count": 47,
   "metadata": {},
   "outputs": [
    {
     "data": {
      "text/plain": [
       "226627"
      ]
     },
     "execution_count": 47,
     "metadata": {},
     "output_type": "execute_result"
    }
   ],
   "source": [
    "total_n_c"
   ]
  },
  {
   "cell_type": "markdown",
   "metadata": {},
   "source": [
    "### Fractions"
   ]
  },
  {
   "cell_type": "markdown",
   "metadata": {},
   "source": [
    "Load the full catalogue of galaxies and work out the fraction of matched LOFAR. It will be necessary to work in the restricted area with both the pw and the lofar matched catalogue.\n",
    "The fractions could be corrected if the relative fractions of sources of each type change between the full area and the restricted area for the LOFAR matches."
   ]
  },
  {
   "cell_type": "code",
   "execution_count": 48,
   "metadata": {},
   "outputs": [],
   "source": [
    "field = Field(170.0, 190.0, 46.8, 55.9)"
   ]
  },
  {
   "cell_type": "code",
   "execution_count": 49,
   "metadata": {},
   "outputs": [],
   "source": [
    "combined = Table.read(\"pw.fits\")"
   ]
  },
  {
   "cell_type": "code",
   "execution_count": 50,
   "metadata": {},
   "outputs": [],
   "source": [
    "combined = field.filter_catalogue(combined, \n",
    "                               colnames=(\"ra\", \"dec\"))"
   ]
  },
  {
   "cell_type": "code",
   "execution_count": 51,
   "metadata": {},
   "outputs": [],
   "source": [
    "combined[\"colour\"] = combined[\"i\"] - combined[\"W1mag\"]"
   ]
  },
  {
   "cell_type": "code",
   "execution_count": 52,
   "metadata": {},
   "outputs": [],
   "source": [
    "colour_limits = [0.0, 0.5, 1.0, 1.25, 1.5, 1.75, 2.0, 2.25, 2.5, 2.75, 3.0, 3.5, 4.0]"
   ]
  },
  {
   "cell_type": "code",
   "execution_count": 53,
   "metadata": {},
   "outputs": [],
   "source": [
    "combined_panstarrs = (~np.isnan(combined[\"i\"]) & np.isnan(combined[\"W1mag\"])) # Sources with only i-band\n",
    "combined_wise =(np.isnan(combined[\"i\"]) & ~np.isnan(combined[\"W1mag\"])) # Sources with only W1-band"
   ]
  },
  {
   "cell_type": "code",
   "execution_count": 54,
   "metadata": {},
   "outputs": [
    {
     "name": "stderr",
     "output_type": "stream",
     "text": [
      "/home/jsm/programs/soft/anaconda3/lib/python3.6/site-packages/astropy/table/column.py:954: RuntimeWarning: invalid value encountered in less\n",
      "  return getattr(self.data, op)(other)\n",
      "/home/jsm/programs/soft/anaconda3/lib/python3.6/site-packages/astropy/table/column.py:954: RuntimeWarning: invalid value encountered in greater_equal\n",
      "  return getattr(self.data, op)(other)\n"
     ]
    }
   ],
   "source": [
    "# Start with the W1-only, i-only and \"less than lower colour\" bins\n",
    "colour_bin_def = [{\"name\":\"only W1\", \"condition\": combined_wise},\n",
    "                  {\"name\":\"only i\", \"condition\": combined_panstarrs},\n",
    "                  {\"name\":\"-inf to {}\".format(colour_limits[0]), \n",
    "                   \"condition\": (combined[\"colour\"] < colour_limits[0])}]\n",
    "\n",
    "# Get the colour bins\n",
    "for i in range(len(colour_limits)-1):\n",
    "    name = \"{} to {}\".format(colour_limits[i], colour_limits[i+1])\n",
    "    condition = ((combined[\"colour\"] >= colour_limits[i]) & \n",
    "                 (combined[\"colour\"] < colour_limits[i+1]))\n",
    "    colour_bin_def.append({\"name\":name, \"condition\":condition})\n",
    "\n",
    "# Add the \"more than higher colour\" bin\n",
    "colour_bin_def.append({\"name\":\"{} to inf\".format(colour_limits[-1]), \n",
    "                       \"condition\": (combined[\"colour\"] >= colour_limits[-1])})"
   ]
  },
  {
   "cell_type": "code",
   "execution_count": 55,
   "metadata": {},
   "outputs": [],
   "source": [
    "combined[\"category\"] = np.nan\n",
    "for i in range(len(colour_bin_def)):\n",
    "    combined[\"category\"][colour_bin_def[i][\"condition\"]] = i"
   ]
  },
  {
   "cell_type": "code",
   "execution_count": 56,
   "metadata": {},
   "outputs": [],
   "source": [
    "numbers_combined_bins = np.array([np.sum(a[\"condition\"]) for a in colour_bin_def])"
   ]
  },
  {
   "cell_type": "code",
   "execution_count": 57,
   "metadata": {},
   "outputs": [
    {
     "data": {
      "text/plain": [
       "array([ 669839, 1778426,  123221,   86953,  127155,   91489,  106076,\n",
       "        112638,  109949,   98183,   81055,   61913,   44390,   46507,\n",
       "         14347,    5536])"
      ]
     },
     "execution_count": 57,
     "metadata": {},
     "output_type": "execute_result"
    }
   ],
   "source": [
    "numbers_combined_bins"
   ]
  },
  {
   "cell_type": "code",
   "execution_count": 58,
   "metadata": {},
   "outputs": [
    {
     "name": "stderr",
     "output_type": "stream",
     "text": [
      "/home/jsm/programs/soft/anaconda3/lib/python3.6/site-packages/astropy/table/column.py:954: RuntimeWarning: invalid value encountered in greater_equal\n",
      "  return getattr(self.data, op)(other)\n",
      "/home/jsm/programs/soft/anaconda3/lib/python3.6/site-packages/astropy/table/column.py:954: RuntimeWarning: invalid value encountered in less_equal\n",
      "  return getattr(self.data, op)(other)\n"
     ]
    }
   ],
   "source": [
    "pwlf = field.filter_catalogue(pwl[cond_mlr], \n",
    "                               colnames=(\"ra\", \"dec\"))"
   ]
  },
  {
   "cell_type": "code",
   "execution_count": 59,
   "metadata": {},
   "outputs": [
    {
     "name": "stderr",
     "output_type": "stream",
     "text": [
      "/home/jsm/programs/soft/anaconda3/lib/python3.6/site-packages/astropy/table/column.py:954: RuntimeWarning: invalid value encountered in greater_equal\n",
      "  return getattr(self.data, op)(other)\n",
      "/home/jsm/programs/soft/anaconda3/lib/python3.6/site-packages/astropy/table/column.py:954: RuntimeWarning: invalid value encountered in less_equal\n",
      "  return getattr(self.data, op)(other)\n"
     ]
    }
   ],
   "source": [
    "pwlf_all = field.filter_catalogue(pwl, \n",
    "                               colnames=(\"ra\", \"dec\"))"
   ]
  },
  {
   "cell_type": "code",
   "execution_count": 60,
   "metadata": {},
   "outputs": [
    {
     "name": "stderr",
     "output_type": "stream",
     "text": [
      "/home/jsm/programs/soft/anaconda3/lib/python3.6/site-packages/numpy/lib/function_base.py:4033: RuntimeWarning: All-NaN slice encountered\n",
      "  r = func(a, **kwargs)\n",
      "/home/jsm/programs/soft/anaconda3/lib/python3.6/site-packages/numpy/core/fromnumeric.py:664: UserWarning: Warning: 'partition' will ignore the 'mask' of the MaskedColumn.\n",
      "  a.partition(kth, axis=axis, kind=kind, order=order)\n"
     ]
    },
    {
     "name": "stdout",
     "output_type": "stream",
     "text": [
      " 0    nan  20066  669839  0.030 +/-  0.000\n",
      " 1    nan   4091 1778426  0.002 +/-  0.000\n",
      " 2  -0.66    101  123221  0.001 +/-  0.000\n",
      " 3   0.26    543   86953  0.006 +/-  0.000\n",
      " 4   0.78   2358  127155  0.019 +/-  0.000\n",
      " 5   1.13   3351   91489  0.037 +/-  0.001\n",
      " 6   1.38   4803  106076  0.045 +/-  0.001\n",
      " 7   1.63   5375  112638  0.048 +/-  0.001\n",
      " 8   1.87   5174  109949  0.047 +/-  0.001\n",
      " 9   2.12   4659   98183  0.047 +/-  0.001\n",
      "10   2.37   4485   81055  0.055 +/-  0.001\n",
      "11   2.62   3915   61913  0.063 +/-  0.001\n",
      "12   2.86   3382   44390  0.076 +/-  0.001\n",
      "13   3.19   4501   46507  0.097 +/-  0.001\n",
      "14   3.67   1715   14347  0.120 +/-  0.003\n",
      "15   4.31    555    5536  0.100 +/-  0.004\n"
     ]
    }
   ],
   "source": [
    "lofar_c, pw_c, lofar_c_all = [], [], []\n",
    "avg_colour = []\n",
    "for i in range(16):\n",
    "    lofar_c.append(np.sum(pwlf[\"category\"] == i))\n",
    "    lofar_c_all.append(np.sum(pwlf_all[\"category\"] == i))\n",
    "    pw_c.append(np.sum(combined[\"category\"] == i))\n",
    "    avg_colour.append(np.nanmedian(combined[\"colour\"][combined[\"category\"] == i]))\n",
    "    print(\"{:2d} {:6.2f} {:6d} {:7d} {:6.3f} +/- {:6.3f}\".format(i, avg_colour[-1],\n",
    "                                                                 lofar_c_all[-1], pw_c[-1], \n",
    "                                             lofar_c_all[-1]/pw_c[-1], np.sqrt(lofar_c_all[-1])/pw_c[-1]))\n",
    "    #print(\"{:2d} {:6d} {:7d} {:5.3f}\".format(i, lofar_c[-1], pw_c[-1], lofar_c[-1]/pw_c[-1]))"
   ]
  },
  {
   "cell_type": "code",
   "execution_count": 61,
   "metadata": {},
   "outputs": [
    {
     "data": {
      "text/plain": [
       "0.7933275842582065"
      ]
     },
     "execution_count": 61,
     "metadata": {},
     "output_type": "execute_result"
    }
   ],
   "source": [
    "np.sum(np.array(lofar_c_all)/np.array(pw_c))"
   ]
  },
  {
   "cell_type": "code",
   "execution_count": 62,
   "metadata": {},
   "outputs": [
    {
     "data": {
      "text/plain": [
       "0.019415478133624833"
      ]
     },
     "execution_count": 62,
     "metadata": {},
     "output_type": "execute_result"
    }
   ],
   "source": [
    "np.sum(np.array(lofar_c_all))/np.sum(np.array(pw_c))"
   ]
  },
  {
   "cell_type": "code",
   "execution_count": 63,
   "metadata": {},
   "outputs": [
    {
     "data": {
      "text/plain": [
       "0.08960083245284356"
      ]
     },
     "execution_count": 63,
     "metadata": {},
     "output_type": "execute_result"
    }
   ],
   "source": [
    "len(pwl)/len(combined)"
   ]
  },
  {
   "cell_type": "code",
   "execution_count": 66,
   "metadata": {},
   "outputs": [
    {
     "data": {
      "image/png": "[encoded data removed]",
      "text/plain": [
       "<matplotlib.figure.Figure at 0x7f3319b57780>"
      ]
     },
     "metadata": {},
     "output_type": "display_data"
    }
   ],
   "source": [
    "lc = np.array(lofar_c_all)\n",
    "pc = np.array(pw_c)\n",
    "\n",
    "plt.rcParams[\"figure.figsize\"] = (4, 4)\n",
    "\n",
    "cm_subsection = linspace(0., 1., 14) \n",
    "colors = [ cm.jet(x) for x in cm_subsection ]\n",
    "\n",
    "# i-only\n",
    "plot([0,0], [0,lc[1]/pc[1]*100], marker=\",\", ls=\"-\", color=\"k\")\n",
    "scatter([0], lc[1]/pc[1]*100, s=lc[1]/10, c=\"k\")\n",
    "plot([0], lc[1]/pc[1]*100, marker=\".\", ls=\"\", color=\"w\", ms=2)\n",
    "\n",
    "# w1-only\n",
    "plot([15,15], [0,lc[0]/pc[0]*100], marker=\",\", ls=\"-\", color=\"k\")\n",
    "scatter([15], lc[0]/pc[0]*100, s=lc[0]/10, c=\"k\")\n",
    "plot([15], lc[0]/pc[0]*100, marker=\".\", ls=\"\", color=\"w\", ms=2)\n",
    "\n",
    "# colours\n",
    "for i in range(14):\n",
    "    plot([i+1,i+1], [0,lc[i+2]/pc[i+2]*100], marker=\",\", ls=\"-\", color=colors[i])\n",
    "    scatter([i+1], lc[i+2]/pc[i+2]*100, s=lc[i+2]/10, c=colors[i])\n",
    "    if i == 0:\n",
    "        plot([i+1], lc[i+2]/pc[i+2]*100, marker=\".\", ls=\"\", color=\"w\", ms=1)\n",
    "    else:\n",
    "        plot([i+1], lc[i+2]/pc[i+2]*100, marker=\".\", ls=\"\", color=\"w\", ms=2)\n",
    "\n",
    "#text(0.66, 0.971, \"0.639\")\n",
    "ylim([0., 14.])\n",
    "xlim([-0.5, 15.5])\n",
    "#legend(fontsize=\"small\")\n",
    "xlabel(\"Colour category\")\n",
    "ylabel(\"Fraction of galaxies detected by LoTSS\\n(per cent)\")\n",
    "\n",
    "\n",
    "xt = [\"$i$ only\",\n",
    "       \"$(-\\infty, 0.0)$\", \n",
    "       \"$[0.0, 0.5)$\",\n",
    "       \"$[0.5, 1.0)$\",\n",
    "       \"$[1.0, 1.25)$\",\n",
    "       \"$[1.25, 1.5)$\",\n",
    "       \"$[1.5, 1.75)$\",\n",
    "       \"$[1.75, 2.0)$\",\n",
    "       \"$[2.0, 2.25)$\",\n",
    "       \"$[2.25, 2.5)$\",\n",
    "       \"$[2.5, 2.75)$\",\n",
    "       \"$[2.75, 3.0)$\",\n",
    "       \"$[3.0, 3.5)$\",\n",
    "       \"$[3.5, 4.0)$\",\n",
    "       \"$[4.0, \\infty)$\", \n",
    "     \"$W1$ only\"]\n",
    "xticks(np.arange(16), xt, rotation=90)\n",
    "\n",
    "subplots_adjust(left=0.2, \n",
    "                bottom=0.3, \n",
    "                right=0.95, \n",
    "                top=0.9,\n",
    "                wspace=0.4, \n",
    "                hspace=0.2)\n",
    "\n",
    "save = True\n",
    "if save:\n",
    "    plt.savefig(\"idata/fractiono.png\")\n",
    "    plt.savefig(\"idata/fractiono.svg\")\n",
    "    plt.savefig(\"idata/fractiono.pdf\")\n",
    "    plt.savefig(\"idata/fractiono_high.png\", dpi=800)"
   ]
  },
  {
   "cell_type": "code",
   "execution_count": 67,
   "metadata": {},
   "outputs": [
    {
     "data": {
      "image/png": "[encoded data removed]",
      "text/plain": [
       "<matplotlib.figure.Figure at 0x7f331a141be0>"
      ]
     },
     "metadata": {},
     "output_type": "display_data"
    }
   ],
   "source": [
    "plt.rcParams[\"figure.figsize\"] = (4, 4)\n",
    "\n",
    "cm_subsection = linspace(0., 1., 14) \n",
    "colors = [ cm.jet(x) for x in cm_subsection ]\n",
    "\n",
    "# # i-only\n",
    "# plot([0,0], [0,lc[1]/pc[1]*100], marker=\",\", ls=\"-\", color=\"k\")\n",
    "# scatter([0], lc[1]/pc[1]*100, s=lc[1]/10, c=\"k\")\n",
    "# plot([0], lc[1]/pc[1]*100, marker=\".\", ls=\"\", color=\"w\", ms=2)\n",
    "\n",
    "# # w1-only\n",
    "# plot([15,15], [0,lc[0]/pc[0]*100], marker=\",\", ls=\"-\", color=\"k\")\n",
    "# scatter([15], lc[0]/pc[0]*100, s=lc[0]/10, c=\"k\")\n",
    "# plot([15], lc[0]/pc[0]*100, marker=\".\", ls=\"\", color=\"w\", ms=2)\n",
    "\n",
    "# colours\n",
    "for i in range(14):\n",
    "    #plot([avg_colour[i+2],avg_colour[i+2]], [0,lc[i+2]/pc[i+2]*100], marker=\",\", ls=\"-\", color=colors[i])\n",
    "    scatter(avg_colour[i+2], lc[i+2]/pc[i+2]*100, s=lc[i+2]/10, c=colors[i])\n",
    "    if i == 0:\n",
    "        plot(avg_colour[i+2], lc[i+2]/pc[i+2]*100, marker=\".\", ls=\"\", color=\"w\", ms=1)\n",
    "    else:\n",
    "        plot(avg_colour[i+2], lc[i+2]/pc[i+2]*100, marker=\".\", ls=\"\", color=\"w\", ms=2)\n",
    "\n",
    "#text(0.66, 0.971, \"0.639\")\n",
    "ylim([0., 14.])\n",
    "#xlim([-0.5, 13.5])\n",
    "#legend(fontsize=\"small\")\n",
    "xlabel(\"$i-W1$\")\n",
    "ylabel(\"Fraction of galaxies detected by LoTSS\\n(per cent)\")\n",
    "\n",
    "\n",
    "# xt = [\"$(-\\infty, 0.0)$\", \n",
    "#        \"$[0.0, 0.5)$\",\n",
    "#        \"$[0.5, 1.0)$\",\n",
    "#        \"$[1.0, 1.25)$\",\n",
    "#        \"$[1.25, 1.5)$\",\n",
    "#        \"$[1.5, 1.75)$\",\n",
    "#        \"$[1.75, 2.0)$\",\n",
    "#        \"$[2.0, 2.25)$\",\n",
    "#        \"$[2.25, 2.5)$\",\n",
    "#        \"$[2.5, 2.75)$\",\n",
    "#        \"$[2.75, 3.0)$\",\n",
    "#        \"$[3.0, 3.5)$\",\n",
    "#        \"$[3.5, 4.0)$\",\n",
    "#        \"$[4.0, \\infty)$\"]\n",
    "# xticks(np.arange(14), xt, rotation=90)\n",
    "\n",
    "subplots_adjust(left=0.2, \n",
    "                bottom=0.1, \n",
    "                right=0.95, \n",
    "                top=0.9,\n",
    "                wspace=0.4, \n",
    "                hspace=0.2)\n",
    "\n",
    "save = True\n",
    "if save:\n",
    "    plt.savefig(\"idata/fraction.png\")\n",
    "    plt.savefig(\"idata/fraction.svg\")\n",
    "    plt.savefig(\"idata/fraction.pdf\")\n",
    "    plt.savefig(\"idata/fraction_high.png\", dpi=800)"
   ]
  },
  {
   "cell_type": "markdown",
   "metadata": {},
   "source": [
    "### Create the additional columns for the types of matches"
   ]
  },
  {
   "cell_type": "code",
   "execution_count": 45,
   "metadata": {
    "collapsed": true
   },
   "outputs": [],
   "source": [
    "threshold_sel = 0.639"
   ]
  },
  {
   "cell_type": "code",
   "execution_count": 46,
   "metadata": {
    "collapsed": false
   },
   "outputs": [
    {
     "name": "stderr",
     "output_type": "stream",
     "text": [
      "/disk2/jsm/prog/anaconda/envs/py36/lib/python3.6/site-packages/astropy/table/column.py:928: RuntimeWarning: invalid value encountered in less\n",
      "  return getattr(self.data, oper)(other)\n"
     ]
    }
   ],
   "source": [
    "cond_mlr = (pwl['ID_flag'] == 1) & (pwl['Maj'] < 30.)"
   ]
  },
  {
   "cell_type": "code",
   "execution_count": 47,
   "metadata": {
    "collapsed": true
   },
   "outputs": [],
   "source": [
    "pwlaux = pwl[cond_mlr].filled()"
   ]
  },
  {
   "cell_type": "markdown",
   "metadata": {},
   "source": [
    "Matched sources"
   ]
  },
  {
   "cell_type": "code",
   "execution_count": 48,
   "metadata": {
    "collapsed": false
   },
   "outputs": [],
   "source": [
    "pwlaux_match = pwlaux[~np.isnan(pwlaux['ML_LR'])]"
   ]
  },
  {
   "cell_type": "code",
   "execution_count": 49,
   "metadata": {
    "collapsed": false
   },
   "outputs": [
    {
     "data": {
      "text/plain": [
       "218600"
      ]
     },
     "execution_count": 49,
     "metadata": {},
     "output_type": "execute_result"
    }
   ],
   "source": [
    "len(pwlaux_match)"
   ]
  },
  {
   "cell_type": "code",
   "execution_count": 50,
   "metadata": {
    "collapsed": false
   },
   "outputs": [
    {
     "name": "stdout",
     "output_type": "stream",
     "text": [
      "216970\n"
     ]
    }
   ],
   "source": [
    "cond_match = (\n",
    "    ~np.isnan(pwlaux_match['lr']) &\n",
    "    (pwlaux_match['lr'] >= threshold_sel) &\n",
    "    (\n",
    "        (pwlaux_match[\"AllWISE_input\"] != \"N/A\") |\n",
    "         ~np.isnan(pwlaux_match['objID_input'])\n",
    "    ) &\n",
    "    (\n",
    "        ( \n",
    "            (pwlaux_match[\"AllWISE\"] == pwlaux_match[\"AllWISE_input\"]) &\n",
    "            (pwlaux_match[\"objID\"] == pwlaux_match[\"objID_input\"]) &\n",
    "            ~np.isnan(pwlaux_match[\"objID\"]) &\n",
    "            (pwlaux_match[\"AllWISE\"] != \"N/A\")\n",
    "        ) |\n",
    "        ( \n",
    "            (pwlaux_match[\"AllWISE\"] == pwlaux_match[\"AllWISE_input\"]) &\n",
    "            np.isnan(pwlaux_match[\"objID\"])\n",
    "        ) |\n",
    "        ( \n",
    "            (pwlaux_match[\"AllWISE\"] == \"N/A\") &\n",
    "            (pwlaux_match[\"objID\"] == pwlaux_match[\"objID_input\"])\n",
    "        )\n",
    "    )\n",
    "        \n",
    ")\n",
    "m_m = np.sum(cond_match)\n",
    "print(m_m)"
   ]
  },
  {
   "cell_type": "code",
   "execution_count": 51,
   "metadata": {
    "collapsed": false
   },
   "outputs": [
    {
     "name": "stdout",
     "output_type": "stream",
     "text": [
      "509\n"
     ]
    }
   ],
   "source": [
    "cond_diffmatch = (\n",
    "    ~np.isnan(pwlaux_match['lr']) &\n",
    "    (pwlaux_match['lr'] >= threshold_sel) &\n",
    "    (\n",
    "        (pwlaux_match[\"AllWISE_input\"] != \"N/A\") |\n",
    "         ~np.isnan(pwlaux_match['objID_input'])\n",
    "    ) &\n",
    "    (\n",
    "        ( \n",
    "            (pwlaux_match[\"AllWISE\"] != pwlaux_match[\"AllWISE_input\"]) |\n",
    "            (pwlaux_match[\"objID\"] != pwlaux_match[\"objID_input\"])\n",
    "        ) \n",
    "    )\n",
    "\n",
    ")\n",
    "m_dm = np.sum(cond_diffmatch)\n",
    "print(m_dm)"
   ]
  },
  {
   "cell_type": "code",
   "execution_count": 52,
   "metadata": {
    "collapsed": false
   },
   "outputs": [
    {
     "name": "stdout",
     "output_type": "stream",
     "text": [
      "1124\n"
     ]
    }
   ],
   "source": [
    "cond_nomatch = (\n",
    "    np.isnan(pwlaux_match['lr']) |\n",
    "    (pwlaux_match['lr'] < threshold_sel)\n",
    ")\n",
    "m_nm = np.sum(cond_nomatch)\n",
    "print(m_nm)"
   ]
  },
  {
   "cell_type": "code",
   "execution_count": 53,
   "metadata": {
    "collapsed": false
   },
   "outputs": [
    {
     "data": {
      "text/plain": [
       "218603"
      ]
     },
     "execution_count": 53,
     "metadata": {},
     "output_type": "execute_result"
    }
   ],
   "source": [
    "m_nm + m_dm + m_m"
   ]
  },
  {
   "cell_type": "code",
   "execution_count": 54,
   "metadata": {
    "collapsed": false
   },
   "outputs": [
    {
     "data": {
      "text/plain": [
       "218603"
      ]
     },
     "execution_count": 54,
     "metadata": {},
     "output_type": "execute_result"
    }
   ],
   "source": [
    "217070+512+1021"
   ]
  },
  {
   "cell_type": "markdown",
   "metadata": {},
   "source": [
    "Non-matched sources"
   ]
  },
  {
   "cell_type": "code",
   "execution_count": 55,
   "metadata": {
    "collapsed": true
   },
   "outputs": [],
   "source": [
    "pwlaux_nomatch = pwlaux[np.isnan(pwlaux['ML_LR'])]"
   ]
  },
  {
   "cell_type": "code",
   "execution_count": 56,
   "metadata": {
    "collapsed": false
   },
   "outputs": [
    {
     "data": {
      "text/plain": [
       "81522"
      ]
     },
     "execution_count": 56,
     "metadata": {},
     "output_type": "execute_result"
    }
   ],
   "source": [
    "len(pwlaux_nomatch)"
   ]
  },
  {
   "cell_type": "code",
   "execution_count": 57,
   "metadata": {
    "collapsed": false
   },
   "outputs": [
    {
     "name": "stdout",
     "output_type": "stream",
     "text": [
      "2904\n"
     ]
    },
    {
     "name": "stderr",
     "output_type": "stream",
     "text": [
      "/disk2/jsm/prog/anaconda/envs/py36/lib/python3.6/site-packages/astropy/table/column.py:928: RuntimeWarning: invalid value encountered in greater_equal\n",
      "  return getattr(self.data, oper)(other)\n"
     ]
    }
   ],
   "source": [
    "cond2_match = (\n",
    "    ~np.isnan(pwlaux_nomatch['lr']) &\n",
    "    (pwlaux_nomatch['lr'] >= threshold_sel)   \n",
    ")\n",
    "m2_m = np.sum(cond2_match)\n",
    "print(m2_m)"
   ]
  },
  {
   "cell_type": "code",
   "execution_count": 58,
   "metadata": {
    "collapsed": false
   },
   "outputs": [
    {
     "name": "stdout",
     "output_type": "stream",
     "text": [
      "78618\n"
     ]
    },
    {
     "name": "stderr",
     "output_type": "stream",
     "text": [
      "/disk2/jsm/prog/anaconda/envs/py36/lib/python3.6/site-packages/astropy/table/column.py:928: RuntimeWarning: invalid value encountered in less\n",
      "  return getattr(self.data, oper)(other)\n"
     ]
    }
   ],
   "source": [
    "cond2_nomatch = (\n",
    "    np.isnan(pwlaux_nomatch['lr']) |\n",
    "    (pwlaux_nomatch['lr'] < threshold_sel)\n",
    ")\n",
    "m2_nm = np.sum(cond2_nomatch)\n",
    "print(m2_nm)"
   ]
  },
  {
   "cell_type": "code",
   "execution_count": 38,
   "metadata": {
    "collapsed": false
   },
   "outputs": [
    {
     "data": {
      "text/plain": [
       "81522"
      ]
     },
     "execution_count": 38,
     "metadata": {},
     "output_type": "execute_result"
    }
   ],
   "source": [
    "m2_nm + m2_m"
   ]
  },
  {
   "cell_type": "code",
   "execution_count": 39,
   "metadata": {
    "collapsed": false
   },
   "outputs": [
    {
     "data": {
      "text/plain": [
       "300125"
      ]
     },
     "execution_count": 39,
     "metadata": {},
     "output_type": "execute_result"
    }
   ],
   "source": [
    "m2_nm + m2_m + m_nm + m_dm + m_m"
   ]
  },
  {
   "cell_type": "markdown",
   "metadata": {},
   "source": [
    "Diagnostic columns"
   ]
  },
  {
   "cell_type": "code",
   "execution_count": 40,
   "metadata": {
    "collapsed": true
   },
   "outputs": [],
   "source": [
    "pwl['match_code'] = 0"
   ]
  },
  {
   "cell_type": "code",
   "execution_count": 41,
   "metadata": {
    "collapsed": true
   },
   "outputs": [],
   "source": [
    "pwl['match_code'][np.isin(pwl[\"Source_Name\"], pwl[cond_mlr & ~np.isnan(pwl['ML_LR'])][cond_diffmatch][\"Source_Name\"])] = 2"
   ]
  },
  {
   "cell_type": "code",
   "execution_count": 42,
   "metadata": {
    "collapsed": false
   },
   "outputs": [],
   "source": [
    "pwl['match_code'][np.isin(pwl[\"Source_Name\"], pwl[cond_mlr & ~np.isnan(pwl['ML_LR'])][cond_match][\"Source_Name\"])]=1"
   ]
  },
  {
   "cell_type": "code",
   "execution_count": 43,
   "metadata": {
    "collapsed": true
   },
   "outputs": [],
   "source": [
    "pwl['match_code'][np.isin(pwl[\"Source_Name\"], pwl[cond_mlr & ~np.isnan(pwl['ML_LR'])][cond_nomatch][\"Source_Name\"])] = 3"
   ]
  },
  {
   "cell_type": "code",
   "execution_count": 44,
   "metadata": {
    "collapsed": true
   },
   "outputs": [],
   "source": [
    "pwl['match_code'][np.isin(pwl[\"Source_Name\"], pwl[cond_mlr & np.isnan(pwl['ML_LR'])][cond2_match][\"Source_Name\"])] = 4"
   ]
  },
  {
   "cell_type": "code",
   "execution_count": 45,
   "metadata": {
    "collapsed": true
   },
   "outputs": [],
   "source": [
    "pwl['match_code'][np.isin(pwl[\"Source_Name\"], pwl[cond_mlr & np.isnan(pwl['ML_LR'])][cond2_nomatch][\"Source_Name\"])] = 5"
   ]
  },
  {
   "cell_type": "code",
   "execution_count": 46,
   "metadata": {
    "collapsed": false
   },
   "outputs": [
    {
     "name": "stdout",
     "output_type": "stream",
     "text": [
      "0 18649\n",
      "1 217070\n",
      "2 509\n",
      "3 1021\n",
      "4 4316\n",
      "5 77206\n"
     ]
    }
   ],
   "source": [
    "for i in range(6):\n",
    "    print(i, np.sum(pwl['match_code'] == i))"
   ]
  },
  {
   "cell_type": "markdown",
   "metadata": {},
   "source": [
    "### Study the 3 repeated sources"
   ]
  },
  {
   "cell_type": "markdown",
   "metadata": {},
   "source": [
    "3 sources that are in group 1 and 2"
   ]
  },
  {
   "cell_type": "code",
   "execution_count": 47,
   "metadata": {
    "collapsed": true
   },
   "outputs": [],
   "source": [
    "pwl['match_code2'] = 0\n",
    "pwl['match_code2'][np.isin(pwl[\"Source_Name\"], pwl[cond_mlr & ~np.isnan(pwl['ML_LR'])][cond_match][\"Source_Name\"])]=1"
   ]
  },
  {
   "cell_type": "code",
   "execution_count": 48,
   "metadata": {
    "collapsed": false
   },
   "outputs": [
    {
     "data": {
      "text/html": [
       "&lt;Table masked=True length=3&gt;\n",
       "<table id=\"table140279022630392\" class=\"table-striped table-bordered table-condensed\">\n",
       "<thead><tr><th>Source_Name</th><th>AllWISE</th><th>AllWISE_input</th><th>objID</th><th>objID_input</th></tr></thead>\n",
       "<thead><tr><th>str88</th><th>str19</th><th>str19</th><th>int64</th><th>int64</th></tr></thead>\n",
       "<tr><td>ILTJ105150.16+472306.9</td><td>N/A</td><td>J105150.11+472306.4</td><td>164861629587942860</td><td>164861629587942860</td></tr>\n",
       "<tr><td>ILTJ124446.75+545233.0</td><td>N/A</td><td>J124446.79+545232.8</td><td>173851911952891597</td><td>173851911952891597</td></tr>\n",
       "<tr><td>ILTJ131700.45+490748.4</td><td>N/A</td><td>J131700.38+490748.1</td><td>166951992516796699</td><td>166951992516796699</td></tr>\n",
       "</table>"
      ],
      "text/plain": [
       "<Table masked=True length=3>\n",
       "     Source_Name       AllWISE ...       objID           objID_input    \n",
       "        str88           str19  ...       int64              int64       \n",
       "---------------------- ------- ... ------------------ ------------------\n",
       "ILTJ105150.16+472306.9     N/A ... 164861629587942860 164861629587942860\n",
       "ILTJ124446.75+545233.0     N/A ... 173851911952891597 173851911952891597\n",
       "ILTJ131700.45+490748.4     N/A ... 166951992516796699 166951992516796699"
      ]
     },
     "execution_count": 48,
     "metadata": {},
     "output_type": "execute_result"
    }
   ],
   "source": [
    "t = pwl[np.isin(pwl[\"Source_Name\"], pwl[cond_mlr & ~np.isnan(pwl['ML_LR'])][cond_diffmatch][\"Source_Name\"])]\n",
    "t[t['match_code2'] != 0][['Source_Name', \"AllWISE\", \"AllWISE_input\", \"objID\", \"objID_input\"]]"
   ]
  },
  {
   "cell_type": "code",
   "execution_count": 49,
   "metadata": {
    "collapsed": false
   },
   "outputs": [
    {
     "data": {
      "text/html": [
       "&lt;Table masked=True length=1&gt;\n",
       "<table id=\"table140279023473496\" class=\"table-striped table-bordered table-condensed\">\n",
       "<thead><tr><th>Source_Name</th><th>RA</th><th>E_RA</th><th>DEC</th><th>E_DEC</th><th>Peak_flux</th><th>E_Peak_flux</th><th>Total_flux</th><th>E_Total_flux</th><th>Maj</th><th>E_Maj</th><th>Min</th><th>E_Min</th><th>PA</th><th>E_PA</th><th>Isl_rms</th><th>S_Code</th><th>Mosaic_ID</th><th>AllWISE</th><th>objID</th><th>ra</th><th>dec</th><th>raErr</th><th>decErr</th><th>W1mag</th><th>W1magErr</th><th>i</th><th>iErr</th><th>colour</th><th>category</th><th>lr</th><th>lr_dist</th><th>AllWISE_input</th><th>objID_input</th><th>ML_LR</th><th>ID_flag</th><th>ID_name</th><th>ID_ra</th><th>ID_dec</th><th>LGZ_Size</th><th>LGZ_Width</th><th>LGZ_PA</th><th>LGZ_Assoc</th><th>LGZ_Assoc_Qual</th><th>LGZ_ID_Qual</th><th>match_code</th><th>match_code2</th></tr></thead>\n",
       "<thead><tr><th>str88</th><th>float64</th><th>float64</th><th>float64</th><th>float64</th><th>float64</th><th>float64</th><th>float64</th><th>float64</th><th>float64</th><th>float64</th><th>float64</th><th>float64</th><th>float64</th><th>float64</th><th>float64</th><th>str1</th><th>str11</th><th>str19</th><th>int64</th><th>float64</th><th>float64</th><th>float64</th><th>float64</th><th>float64</th><th>float64</th><th>float64</th><th>float64</th><th>float64</th><th>float64</th><th>float64</th><th>float64</th><th>str19</th><th>int64</th><th>float64</th><th>int64</th><th>str27</th><th>float64</th><th>float64</th><th>float64</th><th>float64</th><th>float64</th><th>float64</th><th>float64</th><th>float64</th><th>int64</th><th>int64</th></tr></thead>\n",
       "<tr><td>ILTJ105150.16+472306.9</td><td>162.958997743</td><td>0.144574540402</td><td>47.3852535063</td><td>0.135700150377</td><td>1.0400645428</td><td>0.0620059670136</td><td>0.88200388277</td><td>0.113680644158</td><td>5.65331936162</td><td>0.345452470339</td><td>5.40066860218</td><td>0.314129798109</td><td>113.261924388</td><td>53.196333999</td><td>0.0649695139145</td><td>S</td><td>P3Hetdex16</td><td>N/A</td><td>164861629587942860</td><td>162.95880637</td><td>47.38512028</td><td>0.0451599992812</td><td>0.0261400006711</td><td>nan</td><td>nan</td><td>18.5082593446</td><td>0.0200500003994</td><td>nan</td><td>1.0</td><td>67.0586944523</td><td>0.669040319887</td><td>J105150.11+472306.4</td><td>164861629587942860</td><td>7.67859626092</td><td>1</td><td>PSO J105150.107+472306.380</td><td>162.95880637</td><td>47.38512028</td><td>nan</td><td>nan</td><td>nan</td><td>nan</td><td>nan</td><td>nan</td><td>1</td><td>1</td></tr>\n",
       "</table>"
      ],
      "text/plain": [
       "<Table masked=True length=1>\n",
       "     Source_Name             RA           E_RA      ... match_code match_code2\n",
       "        str88             float64       float64     ...   int64       int64   \n",
       "---------------------- ------------- -------------- ... ---------- -----------\n",
       "ILTJ105150.16+472306.9 162.958997743 0.144574540402 ...          1           1"
      ]
     },
     "execution_count": 49,
     "metadata": {},
     "output_type": "execute_result"
    }
   ],
   "source": [
    "pwl[pwl[\"objID\"] == 164861629587942860]"
   ]
  },
  {
   "cell_type": "markdown",
   "metadata": {},
   "source": [
    "## Analyse changes in the matches"
   ]
  },
  {
   "cell_type": "code",
   "execution_count": 50,
   "metadata": {
    "collapsed": false
   },
   "outputs": [
    {
     "name": "stdout",
     "output_type": "stream",
     "text": [
      "102267 N/A\n",
      "4 J132633.11+484745.9\n",
      "2 J132959.54+471558.1\n",
      "2 J140250.06+491021.4\n",
      "2 J113321.11+470145.2\n",
      "2 J113234.86+530404.6\n",
      "2 J114607.72+472940.5\n",
      "2 J120601.09+472843.3\n",
      "2 J150913.19+523142.4\n",
      "2 J120534.28+503221.7\n"
     ]
    }
   ],
   "source": [
    "most_common(pwl[\"AllWISE_input\"].filled(), n=10)"
   ]
  },
  {
   "cell_type": "markdown",
   "metadata": {},
   "source": [
    "Save data for tests"
   ]
  },
  {
   "cell_type": "code",
   "execution_count": 51,
   "metadata": {
    "collapsed": false
   },
   "outputs": [
    {
     "data": {
      "text/plain": [
       "0"
      ]
     },
     "execution_count": 51,
     "metadata": {},
     "output_type": "execute_result"
    }
   ],
   "source": [
    "np.sum(~np.isnan(pwl[\"colour\"]) & (pwl[\"match_code\"] == 3))"
   ]
  },
  {
   "cell_type": "code",
   "execution_count": 52,
   "metadata": {
    "collapsed": false
   },
   "outputs": [
    {
     "data": {
      "text/plain": [
       "<matplotlib.legend.Legend at 0x7f954133b4e0>"
      ]
     },
     "execution_count": 52,
     "metadata": {},
     "output_type": "execute_result"
    },
    {
     "data": {
      "image/png": "[encoded data removed]",
      "text/plain": [
       "<matplotlib.figure.Figure at 0x7f95414e9dd8>"
      ]
     },
     "metadata": {},
     "output_type": "display_data"
    }
   ],
   "source": [
    "subplot(1,2,1)\n",
    "val, bins, _ = hist(pwl[\"colour\"][~np.isnan(pwl[\"colour\"]) & (pwl[\"match_code\"] != 0)], \n",
    "                    bins=50, normed=True, alpha=0.5, label=\"Total\")\n",
    "val, bins, _ = hist(pwl[\"colour\"][~np.isnan(pwl[\"colour\"]) & (pwl[\"match_code\"] == 4)], \n",
    "                    bins=bins, normed=True, alpha=0.5, label=\"New matches\")\n",
    "xlabel(\"Colour\")\n",
    "ylabel(\"N normed\")\n",
    "legend()\n",
    "subplot(1,2,2)\n",
    "val, bins, _ = hist(pwl[\"colour\"][~np.isnan(pwl[\"colour\"]) & (pwl[\"match_code\"] != 0)], \n",
    "                    bins=bins, normed=True, alpha=0.5, label=\"Total\")\n",
    "val, bins, _ = hist(pwl[\"colour\"][~np.isnan(pwl[\"colour\"]) & (pwl[\"match_code\"] == 2)], \n",
    "                    bins=bins, normed=True, alpha=0.5, label=\"Different match\")\n",
    "xlabel(\"Colour\")\n",
    "ylabel(\"N normed\")\n",
    "legend()"
   ]
  },
  {
   "cell_type": "markdown",
   "metadata": {},
   "source": [
    "## Additional description of the data"
   ]
  },
  {
   "cell_type": "code",
   "execution_count": 69,
   "metadata": {
    "collapsed": false
   },
   "outputs": [
    {
     "name": "stdout",
     "output_type": "stream",
     "text": [
      "513.417 +/- 678.597; median: 249.663; limits: [1.291, 5209.663]; N=300623 (81490 NaN; 0 masked)\n"
     ]
    }
   ],
   "source": [
    "describe(pwlaux['ML_LR'])"
   ]
  },
  {
   "cell_type": "code",
   "execution_count": 70,
   "metadata": {
    "collapsed": false
   },
   "outputs": [
    {
     "name": "stdout",
     "output_type": "stream",
     "text": [
      "559.391 +/- 1009.254; median: 137.720; limits: [0.000, 10404.787]; N=300623 (12224 NaN; 0 masked)\n"
     ]
    }
   ],
   "source": [
    "describe(pwlaux['lr'])"
   ]
  },
  {
   "cell_type": "code",
   "execution_count": 71,
   "metadata": {
    "collapsed": false
   },
   "outputs": [
    {
     "data": {
      "text/plain": [
       "300623"
      ]
     },
     "execution_count": 71,
     "metadata": {},
     "output_type": "execute_result"
    }
   ],
   "source": [
    "len(pwlaux)"
   ]
  },
  {
   "cell_type": "code",
   "execution_count": 72,
   "metadata": {
    "collapsed": false
   },
   "outputs": [
    {
     "data": {
      "text/plain": [
       "6019"
      ]
     },
     "execution_count": 72,
     "metadata": {},
     "output_type": "execute_result"
    }
   ],
   "source": [
    "np.sum(\n",
    "    (pwlaux[\"AllWISE\"] != pwlaux[\"AllWISE_input\"]) |\n",
    "    (pwlaux[\"objID\"] != pwlaux[\"objID_input\"])  \n",
    "      )"
   ]
  },
  {
   "cell_type": "code",
   "execution_count": 73,
   "metadata": {
    "collapsed": false
   },
   "outputs": [
    {
     "data": {
      "text/plain": [
       "2551"
      ]
     },
     "execution_count": 73,
     "metadata": {},
     "output_type": "execute_result"
    }
   ],
   "source": [
    "np.sum(\n",
    "    (pwlaux[\"AllWISE\"] != pwlaux[\"AllWISE_input\"]) &\n",
    "    (pwlaux[\"objID\"] != pwlaux[\"objID_input\"])  \n",
    "      )"
   ]
  },
  {
   "cell_type": "code",
   "execution_count": 74,
   "metadata": {
    "collapsed": false
   },
   "outputs": [
    {
     "data": {
      "text/plain": [
       "96"
      ]
     },
     "execution_count": 74,
     "metadata": {},
     "output_type": "execute_result"
    }
   ],
   "source": [
    "np.sum(\n",
    "    (pwl[cond_mlr].filled()[\"AllWISE\"] != pwl[cond_mlr][\"AllWISE_input\"]) &\n",
    "    (pwl[cond_mlr].filled()[\"objID\"] == pwl[cond_mlr][\"objID_input\"])  \n",
    "      )"
   ]
  },
  {
   "cell_type": "code",
   "execution_count": 75,
   "metadata": {
    "collapsed": false
   },
   "outputs": [
    {
     "data": {
      "text/plain": [
       "212"
      ]
     },
     "execution_count": 75,
     "metadata": {},
     "output_type": "execute_result"
    }
   ],
   "source": [
    "np.sum(\n",
    "    (pwl[cond_mlr].filled()[\"AllWISE\"] == pwl[cond_mlr][\"AllWISE_input\"]) &\n",
    "    (pwl[cond_mlr].filled()[\"objID\"] != pwl[cond_mlr][\"objID_input\"])  \n",
    "      )"
   ]
  },
  {
   "cell_type": "code",
   "execution_count": 76,
   "metadata": {
    "collapsed": false
   },
   "outputs": [
    {
     "name": "stdout",
     "output_type": "stream",
     "text": [
      "AllWISE\n",
      "90589 N/A\n",
      "2 J114351.84+534758.6\n",
      "2 J121406.39+462302.4\n",
      "AllWISE_input\n",
      "92739 N/A\n",
      "1 J121404.24+554324.9\n",
      "1 J121404.58+541509.0\n",
      "objID\n",
      "144664 999999\n",
      "2 163352016837856893\n",
      "2 163971633340322080\n",
      "objID_input\n",
      "146362 999999\n",
      "1 167041976433181499\n",
      "1 167041974666874572\n"
     ]
    }
   ],
   "source": [
    "for i in [\"AllWISE\", \"AllWISE_input\", \"objID\", \"objID_input\"]:\n",
    "    print(i)\n",
    "    most_common(pwl[cond_mlr][i].filled(), n=3)"
   ]
  },
  {
   "cell_type": "code",
   "execution_count": 77,
   "metadata": {
    "collapsed": false
   },
   "outputs": [
    {
     "data": {
      "text/plain": [
       "array([ 0.21493265,  0.04089325,  0.001     ,  0.00569206,  0.02510625,\n",
       "        0.03587855,  0.0513815 ,  0.05742317,  0.05541292,  0.05003769,\n",
       "        0.04789634,  0.04209503,  0.03628279,  0.04824595,  0.01839814,\n",
       "        0.00593242])"
      ]
     },
     "execution_count": 77,
     "metadata": {},
     "output_type": "execute_result"
    }
   ],
   "source": [
    "Q_0_colour"
   ]
  },
  {
   "cell_type": "code",
   "execution_count": 78,
   "metadata": {
    "collapsed": false
   },
   "outputs": [
    {
     "data": {
      "text/plain": [
       "0.73660870087729835"
      ]
     },
     "execution_count": 78,
     "metadata": {},
     "output_type": "execute_result"
    }
   ],
   "source": [
    "np.sum(Q_0_colour)"
   ]
  },
  {
   "cell_type": "code",
   "execution_count": null,
   "metadata": {
    "collapsed": true
   },
   "outputs": [],
   "source": []
  }
 ],
 "metadata": {
  "kernelspec": {
   "display_name": "Python 3",
   "language": "python",
   "name": "python3"
  },
  "language_info": {
   "codemirror_mode": {
    "name": "ipython",
    "version": 3
   },
   "file_extension": ".py",
   "mimetype": "text/x-python",
   "name": "python",
   "nbconvert_exporter": "python",
   "pygments_lexer": "ipython3",
   "version": "3.6.4"
  }
 },
 "nbformat": 4,
 "nbformat_minor": 2
}
