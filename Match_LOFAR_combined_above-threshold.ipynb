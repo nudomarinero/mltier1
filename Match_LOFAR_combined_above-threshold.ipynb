{
 "cells": [
  {
   "cell_type": "markdown",
   "metadata": {},
   "source": [
    "# ML match for LOFAR and the combined PanSTARRS WISE catalogue: Get all sources above the threshold"
   ]
  },
  {
   "cell_type": "markdown",
   "metadata": {},
   "source": [
    "In this notebook the maximum likelihood cross-match between the LOFAR HETDEX catalogue and the combined PansSTARRS WISE catalogue is computed. However, we take all the sources that have likelihood ratios above the threshold found in the first run."
   ]
  },
  {
   "cell_type": "markdown",
   "metadata": {},
   "source": [
    "## Configuration\n",
    "\n",
    "### Load libraries and setup"
   ]
  },
  {
   "cell_type": "code",
   "execution_count": 1,
   "metadata": {
    "collapsed": true
   },
   "outputs": [],
   "source": [
    "import numpy as np\n",
    "from astropy.table import Table, join\n",
    "from astropy import units as u\n",
    "from astropy.coordinates import SkyCoord, search_around_sky\n",
    "from IPython.display import clear_output\n",
    "import pickle\n",
    "import os"
   ]
  },
  {
   "cell_type": "code",
   "execution_count": 2,
   "metadata": {
    "collapsed": true
   },
   "outputs": [],
   "source": [
    "from mltier1 import (get_center, get_n_m, estimate_q_m, Field, SingleMLEstimator, MultiMLEstimator,\n",
    "                     parallel_process, get_sigma, get_q_m)"
   ]
  },
  {
   "cell_type": "code",
   "execution_count": 3,
   "metadata": {
    "collapsed": true
   },
   "outputs": [],
   "source": [
    "%load_ext autoreload"
   ]
  },
  {
   "cell_type": "code",
   "execution_count": 4,
   "metadata": {
    "collapsed": true
   },
   "outputs": [],
   "source": [
    "%autoreload"
   ]
  },
  {
   "cell_type": "code",
   "execution_count": 5,
   "metadata": {
    "collapsed": true
   },
   "outputs": [],
   "source": [
    "from IPython.display import clear_output"
   ]
  },
  {
   "cell_type": "code",
   "execution_count": 6,
   "metadata": {},
   "outputs": [
    {
     "name": "stdout",
     "output_type": "stream",
     "text": [
      "Populating the interactive namespace from numpy and matplotlib\n"
     ]
    }
   ],
   "source": [
    "%pylab inline"
   ]
  },
  {
   "cell_type": "markdown",
   "metadata": {},
   "source": [
    "### General configuration"
   ]
  },
  {
   "cell_type": "code",
   "execution_count": 7,
   "metadata": {
    "collapsed": true
   },
   "outputs": [],
   "source": [
    "save_intermediate = True\n",
    "plot_intermediate = True"
   ]
  },
  {
   "cell_type": "code",
   "execution_count": 8,
   "metadata": {
    "collapsed": true
   },
   "outputs": [],
   "source": [
    "idp = \"idata/final\""
   ]
  },
  {
   "cell_type": "code",
   "execution_count": 9,
   "metadata": {
    "collapsed": true
   },
   "outputs": [],
   "source": [
    "if not os.path.isdir(idp):\n",
    "    os.makedirs(idp)"
   ]
  },
  {
   "cell_type": "markdown",
   "metadata": {},
   "source": [
    "### Area limits"
   ]
  },
  {
   "cell_type": "code",
   "execution_count": 10,
   "metadata": {
    "collapsed": true
   },
   "outputs": [],
   "source": [
    "# Busy week Edinburgh 2017\n",
    "ra_down = 172.09\n",
    "ra_up = 187.5833\n",
    "dec_down = 46.106\n",
    "dec_up = 56.1611"
   ]
  },
  {
   "cell_type": "code",
   "execution_count": 11,
   "metadata": {
    "collapsed": true
   },
   "outputs": [],
   "source": [
    "# Busy week Hatfield 2017\n",
    "ra_down = 170.\n",
    "ra_up = 190.\n",
    "dec_down = 46.8\n",
    "dec_up = 55.9"
   ]
  },
  {
   "cell_type": "code",
   "execution_count": 12,
   "metadata": {
    "collapsed": true
   },
   "outputs": [],
   "source": [
    "# Full field July 2017\n",
    "ra_down = 160.\n",
    "ra_up = 232.\n",
    "dec_down = 42.\n",
    "dec_up = 62."
   ]
  },
  {
   "cell_type": "code",
   "execution_count": 13,
   "metadata": {
    "collapsed": true
   },
   "outputs": [],
   "source": [
    "field = Field(170.0, 190.0, 46.8, 55.9)"
   ]
  },
  {
   "cell_type": "code",
   "execution_count": 14,
   "metadata": {
    "collapsed": true
   },
   "outputs": [],
   "source": [
    "field_full = Field(160.0, 232.0, 42.0, 62.0)"
   ]
  },
  {
   "cell_type": "markdown",
   "metadata": {},
   "source": [
    "## Load data"
   ]
  },
  {
   "cell_type": "code",
   "execution_count": 15,
   "metadata": {
    "collapsed": true
   },
   "outputs": [],
   "source": [
    "combined_all = Table.read(\"pw.fits\")"
   ]
  },
  {
   "cell_type": "code",
   "execution_count": 16,
   "metadata": {
    "collapsed": true
   },
   "outputs": [],
   "source": [
    "lofar_all = Table.read(\"data/LOFAR_HBA_T1_DR1_catalog_v0.9.srl.fits\")"
   ]
  },
  {
   "cell_type": "code",
   "execution_count": 17,
   "metadata": {},
   "outputs": [
    {
     "data": {
      "text/plain": [
       "array(['AllWISE', 'objID', 'ra', 'dec', 'raErr', 'decErr', 'W1mag',\n",
       "       'W1magErr', 'i', 'iErr'],\n",
       "      dtype='<U8')"
      ]
     },
     "execution_count": 17,
     "metadata": {},
     "output_type": "execute_result"
    }
   ],
   "source": [
    "np.array(combined_all.colnames)"
   ]
  },
  {
   "cell_type": "code",
   "execution_count": 18,
   "metadata": {},
   "outputs": [
    {
     "data": {
      "text/plain": [
       "array(['Source_Name', 'RA', 'E_RA', 'E_RA_tot', 'DEC', 'E_DEC',\n",
       "       'E_DEC_tot', 'Peak_flux', 'E_Peak_flux', 'E_Peak_flux_tot',\n",
       "       'Total_flux', 'E_Total_flux', 'E_Total_flux_tot', 'Maj', 'E_Maj',\n",
       "       'Min', 'E_Min', 'PA', 'E_PA', 'Isl_rms', 'S_Code', 'Mosaic_ID',\n",
       "       'Isl_id'],\n",
       "      dtype='<U16')"
      ]
     },
     "execution_count": 18,
     "metadata": {},
     "output_type": "execute_result"
    }
   ],
   "source": [
    "np.array(lofar_all.colnames)"
   ]
  },
  {
   "cell_type": "markdown",
   "metadata": {},
   "source": [
    "### Filter catalogues"
   ]
  },
  {
   "cell_type": "code",
   "execution_count": 19,
   "metadata": {
    "collapsed": true
   },
   "outputs": [],
   "source": [
    "lofar = field_full.filter_catalogue(lofar_all[lofar_all['Maj'] < 30.], \n",
    "                                         colnames=(\"RA\", \"DEC\"))"
   ]
  },
  {
   "cell_type": "code",
   "execution_count": 20,
   "metadata": {
    "collapsed": true
   },
   "outputs": [],
   "source": [
    "combined = field_full.filter_catalogue(combined_all, \n",
    "                               colnames=(\"ra\", \"dec\"))"
   ]
  },
  {
   "cell_type": "markdown",
   "metadata": {},
   "source": [
    "### Additional data"
   ]
  },
  {
   "cell_type": "code",
   "execution_count": 21,
   "metadata": {
    "collapsed": true
   },
   "outputs": [],
   "source": [
    "combined[\"colour\"] = combined[\"i\"] - combined[\"W1mag\"]"
   ]
  },
  {
   "cell_type": "code",
   "execution_count": 22,
   "metadata": {
    "collapsed": true
   },
   "outputs": [],
   "source": [
    "combined_aux_index = np.arange(len(combined))"
   ]
  },
  {
   "cell_type": "markdown",
   "metadata": {},
   "source": [
    "### Sky coordinates"
   ]
  },
  {
   "cell_type": "code",
   "execution_count": 23,
   "metadata": {
    "collapsed": true
   },
   "outputs": [],
   "source": [
    "coords_combined = SkyCoord(combined['ra'], \n",
    "                           combined['dec'], \n",
    "                           unit=(u.deg, u.deg), \n",
    "                           frame='icrs')"
   ]
  },
  {
   "cell_type": "code",
   "execution_count": 24,
   "metadata": {
    "collapsed": true
   },
   "outputs": [],
   "source": [
    "coords_lofar = SkyCoord(lofar['RA'], \n",
    "                       lofar['DEC'], \n",
    "                       unit=(u.deg, u.deg), \n",
    "                       frame='icrs')"
   ]
  },
  {
   "cell_type": "markdown",
   "metadata": {},
   "source": [
    "### Class of sources in the combined catalogue\n",
    "\n",
    "The sources are grouped depending on the available photometric data."
   ]
  },
  {
   "cell_type": "code",
   "execution_count": 25,
   "metadata": {
    "collapsed": true
   },
   "outputs": [],
   "source": [
    "combined_matched = (~np.isnan(combined[\"i\"]) & ~np.isnan(combined[\"W1mag\"])) # Matched i-W1 sources"
   ]
  },
  {
   "cell_type": "code",
   "execution_count": 26,
   "metadata": {
    "collapsed": true
   },
   "outputs": [],
   "source": [
    "combined_panstarrs = (~np.isnan(combined[\"i\"]) & np.isnan(combined[\"W1mag\"])) # Sources with only i-band"
   ]
  },
  {
   "cell_type": "code",
   "execution_count": 27,
   "metadata": {
    "collapsed": true
   },
   "outputs": [],
   "source": [
    "combined_wise =(np.isnan(combined[\"i\"]) & ~np.isnan(combined[\"W1mag\"])) # Sources with only W1-band"
   ]
  },
  {
   "cell_type": "code",
   "execution_count": 28,
   "metadata": {
    "collapsed": true
   },
   "outputs": [],
   "source": [
    "combined_i = combined_matched | combined_panstarrs\n",
    "combined_w1 = combined_matched | combined_wise\n",
    "#combined_only_i = combined_panstarrs & ~combined_matched\n",
    "#combined_only_w1 = combined_wise & ~combined_matched"
   ]
  },
  {
   "cell_type": "code",
   "execution_count": 29,
   "metadata": {},
   "outputs": [
    {
     "name": "stdout",
     "output_type": "stream",
     "text": [
      "Total    -  31803022\n",
      "i and W1 -  8196213\n",
      "Only i   -  18583323\n",
      "With i   -  26779536\n",
      "Only W1  -  5023475\n",
      "With W1  -  13219688\n"
     ]
    }
   ],
   "source": [
    "print(\"Total    - \", len(combined))\n",
    "print(\"i and W1 - \", np.sum(combined_matched))\n",
    "print(\"Only i   - \", np.sum(combined_panstarrs))\n",
    "print(\"With i   - \", np.sum(combined_i))\n",
    "print(\"Only W1  - \", np.sum(combined_wise))\n",
    "print(\"With W1  - \", np.sum(combined_w1))"
   ]
  },
  {
   "cell_type": "markdown",
   "metadata": {},
   "source": [
    "### Colour categories\n",
    "\n",
    "The colour categories will be used after the first ML match"
   ]
  },
  {
   "cell_type": "code",
   "execution_count": 30,
   "metadata": {
    "collapsed": true
   },
   "outputs": [],
   "source": [
    "colour_limits = [-0.5, 0.0, 0.5, 1.0, 1.25, 1.5, 1.75, 2.0, 2.25, 2.5, 2.75, 3.0, 3.5, 4.0]"
   ]
  },
  {
   "cell_type": "code",
   "execution_count": 31,
   "metadata": {},
   "outputs": [
    {
     "name": "stderr",
     "output_type": "stream",
     "text": [
      "/disk2/jsm/prog/anaconda/envs/py36/lib/python3.6/site-packages/astropy/table/column.py:928: RuntimeWarning: invalid value encountered in less\n",
      "  return getattr(self.data, oper)(other)\n",
      "/disk2/jsm/prog/anaconda/envs/py36/lib/python3.6/site-packages/astropy/table/column.py:928: RuntimeWarning: invalid value encountered in greater_equal\n",
      "  return getattr(self.data, oper)(other)\n"
     ]
    }
   ],
   "source": [
    "# Start with the W1-only, i-only and \"less than lower colour\" bins\n",
    "colour_bin_def = [{\"name\":\"only W1\", \"condition\": combined_wise},\n",
    "                  {\"name\":\"only i\", \"condition\": combined_panstarrs},\n",
    "                  {\"name\":\"-inf to {}\".format(colour_limits[0]), \n",
    "                   \"condition\": (combined[\"colour\"] < colour_limits[0])}]\n",
    "\n",
    "# Get the colour bins\n",
    "for i in range(len(colour_limits)-1):\n",
    "    name = \"{} to {}\".format(colour_limits[i], colour_limits[i+1])\n",
    "    condition = ((combined[\"colour\"] >= colour_limits[i]) & \n",
    "                 (combined[\"colour\"] < colour_limits[i+1]))\n",
    "    colour_bin_def.append({\"name\":name, \"condition\":condition})\n",
    "\n",
    "# Add the \"more than higher colour\" bin\n",
    "colour_bin_def.append({\"name\":\"{} to inf\".format(colour_limits[-1]), \n",
    "                       \"condition\": (combined[\"colour\"] >= colour_limits[-1])})"
   ]
  },
  {
   "cell_type": "code",
   "execution_count": 32,
   "metadata": {
    "collapsed": true
   },
   "outputs": [],
   "source": [
    "combined[\"category\"] = np.nan\n",
    "for i in range(len(colour_bin_def)):\n",
    "    combined[\"category\"][colour_bin_def[i][\"condition\"]] = i"
   ]
  },
  {
   "cell_type": "code",
   "execution_count": 33,
   "metadata": {},
   "outputs": [
    {
     "data": {
      "text/plain": [
       "11"
      ]
     },
     "execution_count": 33,
     "metadata": {},
     "output_type": "execute_result"
    }
   ],
   "source": [
    "np.sum(np.isnan(combined[\"category\"]))"
   ]
  },
  {
   "cell_type": "markdown",
   "metadata": {},
   "source": [
    "We get the number of sources of the combined catalogue in each colour category. It will be used at a later stage to compute the $Q_0$ values"
   ]
  },
  {
   "cell_type": "code",
   "execution_count": 34,
   "metadata": {
    "collapsed": true
   },
   "outputs": [],
   "source": [
    "numbers_combined_bins = np.array([np.sum(a[\"condition\"]) for a in colour_bin_def])"
   ]
  },
  {
   "cell_type": "code",
   "execution_count": 35,
   "metadata": {},
   "outputs": [
    {
     "data": {
      "text/plain": [
       "array([ 5023475, 18583323,   617057,   435585,   680625,   914717,\n",
       "         656883,   775440,   830399,   803840,   712001,   578606,\n",
       "         437076,   307929,   317143,    94996,    33916])"
      ]
     },
     "execution_count": 35,
     "metadata": {},
     "output_type": "execute_result"
    }
   ],
   "source": [
    "numbers_combined_bins"
   ]
  },
  {
   "cell_type": "markdown",
   "metadata": {
    "collapsed": true
   },
   "source": [
    "## Maximum Likelihood"
   ]
  },
  {
   "cell_type": "code",
   "execution_count": 36,
   "metadata": {
    "collapsed": true
   },
   "outputs": [],
   "source": [
    "bin_list, centers, Q_0_colour, n_m, q_m = pickle.load(open(\"lofar_params.pckl\", \"rb\"))"
   ]
  },
  {
   "cell_type": "code",
   "execution_count": 37,
   "metadata": {
    "collapsed": true
   },
   "outputs": [],
   "source": [
    "likelihood_ratio_function = MultiMLEstimator(Q_0_colour, n_m, q_m, centers)"
   ]
  },
  {
   "cell_type": "markdown",
   "metadata": {},
   "source": [
    "### ML match"
   ]
  },
  {
   "cell_type": "code",
   "execution_count": 38,
   "metadata": {
    "collapsed": true
   },
   "outputs": [],
   "source": [
    "radius = 15"
   ]
  },
  {
   "cell_type": "code",
   "execution_count": 39,
   "metadata": {
    "collapsed": true
   },
   "outputs": [],
   "source": [
    "lr_threshold = 0.36"
   ]
  },
  {
   "cell_type": "code",
   "execution_count": 40,
   "metadata": {
    "collapsed": true
   },
   "outputs": [],
   "source": [
    "selection = ~np.isnan(combined[\"category\"]) # Avoid the dreaded sources with no actual data\n",
    "catalogue = combined[selection]"
   ]
  },
  {
   "cell_type": "code",
   "execution_count": 41,
   "metadata": {
    "collapsed": true
   },
   "outputs": [],
   "source": [
    "def apply_ml(i, likelihood_ratio_function):\n",
    "    idx_0 = idx_i[idx_lofar == i]\n",
    "    d2d_0 = d2d[idx_lofar == i]\n",
    "    \n",
    "    category = catalogue[\"category\"][idx_0].astype(int)\n",
    "    mag = catalogue[\"i\"][idx_0]\n",
    "    mag[category == 0] = catalogue[\"W1mag\"][idx_0][category == 0]\n",
    "    \n",
    "    lofar_ra = lofar[i][\"RA\"]\n",
    "    lofar_dec = lofar[i][\"DEC\"]\n",
    "    lofar_pa = lofar[i][\"PA\"]\n",
    "    lofar_maj_err = lofar[i][\"E_Maj\"]\n",
    "    lofar_min_err = lofar[i][\"E_Min\"]\n",
    "    c_ra = catalogue[\"ra\"][idx_0]\n",
    "    c_dec = catalogue[\"dec\"][idx_0]\n",
    "    c_ra_err = catalogue[\"raErr\"][idx_0]\n",
    "    c_dec_err = catalogue[\"decErr\"][idx_0]\n",
    "    \n",
    "    sigma = get_sigma(lofar_maj_err, lofar_min_err, lofar_pa, \n",
    "                      lofar_ra, lofar_dec, \n",
    "                      c_ra, c_dec, c_ra_err, c_dec_err)\n",
    "\n",
    "    lr_0 = likelihood_ratio_function(mag, d2d_0.arcsec, sigma, category)\n",
    "    \n",
    "    chosen_index = (lr_0 >= lr_threshold)\n",
    "    result = [combined_aux_index[selection][idx_0[chosen_index]], # Index\n",
    "              (d2d_0.arcsec)[chosen_index],                        # distance\n",
    "              lr_0[chosen_index]]                                  # LR\n",
    "    return result"
   ]
  },
  {
   "cell_type": "markdown",
   "metadata": {},
   "source": [
    "### Run the cross-match"
   ]
  },
  {
   "cell_type": "code",
   "execution_count": 42,
   "metadata": {
    "collapsed": true
   },
   "outputs": [],
   "source": [
    "idx_lofar, idx_i, d2d, d3d = search_around_sky(\n",
    "    coords_lofar, coords_combined[selection], radius*u.arcsec)"
   ]
  },
  {
   "cell_type": "code",
   "execution_count": 43,
   "metadata": {
    "collapsed": true
   },
   "outputs": [],
   "source": [
    "idx_lofar_unique = np.unique(idx_lofar)"
   ]
  },
  {
   "cell_type": "code",
   "execution_count": 48,
   "metadata": {
    "collapsed": true
   },
   "outputs": [],
   "source": [
    "total_sources = len(idx_lofar_unique)"
   ]
  },
  {
   "cell_type": "markdown",
   "metadata": {},
   "source": [
    "### Run the ML matching"
   ]
  },
  {
   "cell_type": "code",
   "execution_count": null,
   "metadata": {
    "collapsed": true
   },
   "outputs": [],
   "source": [
    "def ml(i):\n",
    "    return apply_ml(i, likelihood_ratio_function)"
   ]
  },
  {
   "cell_type": "code",
   "execution_count": null,
   "metadata": {},
   "outputs": [
    {
     "name": "stderr",
     "output_type": "stream",
     "text": [
      " 34%|███▍      | 105K/308K [56:59<1:52:57, 30.0it/s]  "
     ]
    }
   ],
   "source": [
    "res = parallel_process(idx_lofar_unique, ml, n_jobs=8)"
   ]
  },
  {
   "cell_type": "markdown",
   "metadata": {},
   "source": [
    "### Selection and match"
   ]
  },
  {
   "cell_type": "code",
   "execution_count": 63,
   "metadata": {
    "collapsed": true
   },
   "outputs": [],
   "source": [
    "lofar_aux_index = np.arange(len(lofar))"
   ]
  },
  {
   "cell_type": "code",
   "execution_count": 73,
   "metadata": {},
   "outputs": [],
   "source": [
    "lr = []\n",
    "lr_dist = []\n",
    "lr_index = []\n",
    "lr_order = []\n",
    "lr_lofar_index = []\n",
    "\n",
    "for i, idx in enumerate(idx_lofar_unique):\n",
    "    result = res[i]\n",
    "    n = len(result[0])\n",
    "    lofar_index = lofar_aux_index[idx]\n",
    "    if n > 0:\n",
    "        order = np.argsort(result[2])[::-1]\n",
    "        lr.extend(result[2][order])\n",
    "        lr_dist.extend(result[1][order])\n",
    "        lr_index.extend(result[0][order])\n",
    "        lr_order.extend(np.arange(n, dtype=int) + 1)\n",
    "        lr_lofar_index.extend(np.ones(n, dtype=int)*lofar_index)\n",
    "    else:\n",
    "        lr.append(np.nan)\n",
    "        lr_dist.append(np.nan)\n",
    "        lr_index.append(np.nan)\n",
    "        lr_order.append(np.nan)\n",
    "        lr_lofar_index.append(lofar_index)"
   ]
  },
  {
   "cell_type": "code",
   "execution_count": 74,
   "metadata": {},
   "outputs": [],
   "source": [
    "aux_table = Table()\n",
    "aux_table['aux_index'] = lr_lofar_index\n",
    "aux_table['lr'] = lr\n",
    "aux_table['lr_dist'] = lr_dist\n",
    "aux_table['lr_index'] = lr_index\n",
    "aux_table['lr_order'] = lr_order"
   ]
  },
  {
   "cell_type": "code",
   "execution_count": 75,
   "metadata": {},
   "outputs": [
    {
     "data": {
      "text/html": [
       "&lt;Table length=355940&gt;\n",
       "<table id=\"table140693600563384\" class=\"table-striped table-bordered table-condensed\">\n",
       "<thead><tr><th>aux_index</th><th>lr</th><th>lr_dist</th><th>lr_index</th><th>lr_order</th></tr></thead>\n",
       "<thead><tr><th>int64</th><th>float64</th><th>float64</th><th>float64</th><th>float64</th></tr></thead>\n",
       "<tr><td>0</td><td>1245.71683876</td><td>0.256393266029</td><td>10944453.0</td><td>1.0</td></tr>\n",
       "<tr><td>1</td><td>364.107736672</td><td>0.55383604885</td><td>10862628.0</td><td>1.0</td></tr>\n",
       "<tr><td>2</td><td>nan</td><td>nan</td><td>nan</td><td>nan</td></tr>\n",
       "<tr><td>3</td><td>1540.26629749</td><td>0.212102609363</td><td>10844459.0</td><td>1.0</td></tr>\n",
       "<tr><td>4</td><td>532.351012101</td><td>0.300592058961</td><td>10817466.0</td><td>1.0</td></tr>\n",
       "<tr><td>5</td><td>nan</td><td>nan</td><td>nan</td><td>nan</td></tr>\n",
       "<tr><td>6</td><td>616.03186109</td><td>0.181201605232</td><td>10989213.0</td><td>1.0</td></tr>\n",
       "<tr><td>7</td><td>113.330702705</td><td>1.2520854396</td><td>10850543.0</td><td>1.0</td></tr>\n",
       "<tr><td>8</td><td>271.457376431</td><td>1.20606318915</td><td>11011954.0</td><td>1.0</td></tr>\n",
       "<tr><td>8</td><td>3.33338643465</td><td>1.07704111747</td><td>11011955.0</td><td>2.0</td></tr>\n",
       "<tr><td>...</td><td>...</td><td>...</td><td>...</td><td>...</td></tr>\n",
       "<tr><td>321051</td><td>9.67161747475</td><td>4.87131088861</td><td>18078774.0</td><td>2.0</td></tr>\n",
       "<tr><td>321053</td><td>48.7390106064</td><td>2.24160309077</td><td>18240214.0</td><td>1.0</td></tr>\n",
       "<tr><td>321054</td><td>153.411135739</td><td>1.37826980508</td><td>18408859.0</td><td>1.0</td></tr>\n",
       "<tr><td>321055</td><td>nan</td><td>nan</td><td>nan</td><td>nan</td></tr>\n",
       "<tr><td>321056</td><td>2.63749698205</td><td>2.78849094199</td><td>18307657.0</td><td>1.0</td></tr>\n",
       "<tr><td>321056</td><td>1.35029773631</td><td>11.9263101662</td><td>27671986.0</td><td>2.0</td></tr>\n",
       "<tr><td>321057</td><td>2.08118053254</td><td>3.68919756471</td><td>18390181.0</td><td>1.0</td></tr>\n",
       "<tr><td>321058</td><td>3.10234205109</td><td>5.29353803987</td><td>31009788.0</td><td>1.0</td></tr>\n",
       "<tr><td>321059</td><td>9.76739653239</td><td>5.36331869402</td><td>18381767.0</td><td>1.0</td></tr>\n",
       "<tr><td>321059</td><td>0.962495804711</td><td>11.628362151</td><td>18413369.0</td><td>2.0</td></tr>\n",
       "</table>"
      ],
      "text/plain": [
       "<Table length=355940>\n",
       "aux_index       lr          lr_dist      lr_index  lr_order\n",
       "  int64      float64        float64      float64   float64 \n",
       "--------- -------------- -------------- ---------- --------\n",
       "        0  1245.71683876 0.256393266029 10944453.0      1.0\n",
       "        1  364.107736672  0.55383604885 10862628.0      1.0\n",
       "        2            nan            nan        nan      nan\n",
       "        3  1540.26629749 0.212102609363 10844459.0      1.0\n",
       "        4  532.351012101 0.300592058961 10817466.0      1.0\n",
       "        5            nan            nan        nan      nan\n",
       "        6   616.03186109 0.181201605232 10989213.0      1.0\n",
       "        7  113.330702705   1.2520854396 10850543.0      1.0\n",
       "        8  271.457376431  1.20606318915 11011954.0      1.0\n",
       "        8  3.33338643465  1.07704111747 11011955.0      2.0\n",
       "      ...            ...            ...        ...      ...\n",
       "   321051  9.67161747475  4.87131088861 18078774.0      2.0\n",
       "   321053  48.7390106064  2.24160309077 18240214.0      1.0\n",
       "   321054  153.411135739  1.37826980508 18408859.0      1.0\n",
       "   321055            nan            nan        nan      nan\n",
       "   321056  2.63749698205  2.78849094199 18307657.0      1.0\n",
       "   321056  1.35029773631  11.9263101662 27671986.0      2.0\n",
       "   321057  2.08118053254  3.68919756471 18390181.0      1.0\n",
       "   321058  3.10234205109  5.29353803987 31009788.0      1.0\n",
       "   321059  9.76739653239  5.36331869402 18381767.0      1.0\n",
       "   321059 0.962495804711   11.628362151 18413369.0      2.0"
      ]
     },
     "execution_count": 75,
     "metadata": {},
     "output_type": "execute_result"
    }
   ],
   "source": [
    "aux_table"
   ]
  },
  {
   "cell_type": "code",
   "execution_count": 76,
   "metadata": {},
   "outputs": [],
   "source": [
    "lofar[\"aux_index\"] = lofar_aux_index"
   ]
  },
  {
   "cell_type": "code",
   "execution_count": 77,
   "metadata": {},
   "outputs": [],
   "source": [
    "lofar_lr = join(lofar, aux_table, join_type='outer', keys='aux_index')"
   ]
  },
  {
   "cell_type": "code",
   "execution_count": 79,
   "metadata": {},
   "outputs": [
    {
     "data": {
      "text/html": [
       "&lt;Table masked=True length=369243&gt;\n",
       "<table id=\"table140679400104792\" class=\"table-striped table-bordered table-condensed\">\n",
       "<thead><tr><th>Source_Name</th><th>RA</th><th>E_RA</th><th>E_RA_tot</th><th>DEC</th><th>E_DEC</th><th>E_DEC_tot</th><th>Peak_flux</th><th>E_Peak_flux</th><th>E_Peak_flux_tot</th><th>Total_flux</th><th>E_Total_flux</th><th>E_Total_flux_tot</th><th>Maj</th><th>E_Maj</th><th>Min</th><th>E_Min</th><th>PA</th><th>E_PA</th><th>Isl_rms</th><th>S_Code</th><th>Mosaic_ID</th><th>Isl_id</th><th>aux_index</th><th>lr</th><th>lr_dist</th><th>lr_index</th><th>lr_order</th></tr></thead>\n",
       "<thead><tr><th></th><th>deg</th><th>arcsec</th><th>arcsec</th><th>deg</th><th>arcsec</th><th>arcsec</th><th>mJy / beam</th><th>mJy / beam</th><th>mJy / beam</th><th>mJy</th><th>mJy</th><th>mJy</th><th>arcsec</th><th>arcsec</th><th>arcsec</th><th>arcsec</th><th>deg</th><th>deg</th><th>mJy / beam</th><th></th><th></th><th></th><th></th><th></th><th></th><th></th><th></th></tr></thead>\n",
       "<thead><tr><th>str24</th><th>float64</th><th>float64</th><th>float64</th><th>float64</th><th>float64</th><th>float64</th><th>float64</th><th>float64</th><th>float64</th><th>float64</th><th>float64</th><th>float64</th><th>float64</th><th>float64</th><th>float64</th><th>float64</th><th>float64</th><th>float64</th><th>float64</th><th>str1</th><th>str8</th><th>int32</th><th>int64</th><th>float64</th><th>float64</th><th>float64</th><th>float64</th></tr></thead>\n",
       "<tr><td>ILTJ122108.441+491340.94</td><td>185.285168771</td><td>0.0850700841174</td><td>0.150016049008</td><td>49.2280397678</td><td>0.094025008434</td><td>0.155269436656</td><td>1.48718776646</td><td>0.0525447165803</td><td>0.30204311836</td><td>1.45167723509</td><td>0.0918727162887</td><td>0.304524658761</td><td>6.19600662707</td><td>0.228961053509</td><td>5.67333350682</td><td>0.191652766315</td><td>153.935376162</td><td>18.4908886458</td><td>0.0529464996362</td><td>S</td><td>P22Hetde</td><td>188</td><td>0</td><td>1245.71683876</td><td>0.256393266029</td><td>10944453.0</td><td>1.0</td></tr>\n",
       "<tr><td>ILTJ122107.851+491951.84</td><td>185.282710884</td><td>0.473938135007</td><td>0.489780819921</td><td>49.3310690203</td><td>0.474978105451</td><td>0.490787221111</td><td>0.494206901892</td><td>0.0658548772285</td><td>0.118770717476</td><td>0.847902990364</td><td>0.0975490731081</td><td>0.195635888597</td><td>9.12706565844</td><td>1.35780957336</td><td>6.76932220205</td><td>0.807971003466</td><td>46.4592997429</td><td>23.1085152836</td><td>0.0616828474449</td><td>S</td><td>P22Hetde</td><td>196</td><td>1</td><td>364.107736672</td><td>0.55383604885</td><td>10862628.0</td><td>1.0</td></tr>\n",
       "<tr><td>ILTJ122108.572+493121.89</td><td>185.285716341</td><td>0.533848043611</td><td>0.547961339344</td><td>49.52274915</td><td>0.367264254936</td><td>0.387493133749</td><td>0.357484003783</td><td>0.0532574812958</td><td>0.0891524078889</td><td>0.438294187244</td><td>0.087484556291</td><td>0.123845142708</td><td>7.79035197589</td><td>1.33867766644</td><td>5.66738515187</td><td>0.732001245106</td><td>67.3769455634</td><td>23.8529803004</td><td>0.0519686545886</td><td>S</td><td>P22Hetde</td><td>202</td><td>2</td><td>nan</td><td>nan</td><td>nan</td><td>nan</td></tr>\n",
       "<tr><td>ILTJ122104.027+490823.80</td><td>185.266778578</td><td>0.0680609727689</td><td>0.141068039479</td><td>49.1399451347</td><td>0.0689599603528</td><td>0.141503964185</td><td>2.18501193876</td><td>0.0561302300848</td><td>0.440592430292</td><td>2.39268273523</td><td>0.0943671437026</td><td>0.487752380486</td><td>6.30982940769</td><td>0.162893477077</td><td>6.24977288427</td><td>0.159758583039</td><td>158.418653032</td><td>107.214019258</td><td>0.0549563665118</td><td>S</td><td>P22Hetde</td><td>204</td><td>3</td><td>1540.26629749</td><td>0.212102609363</td><td>10844459.0</td><td>1.0</td></tr>\n",
       "<tr><td>ILTJ122105.030+491440.01</td><td>185.270960099</td><td>0.585020092161</td><td>0.597926754695</td><td>49.2444492774</td><td>0.508482783423</td><td>0.523280648205</td><td>0.291824013394</td><td>0.0552949639572</td><td>0.0803989006813</td><td>0.350985385828</td><td>0.0906813300159</td><td>0.114676646515</td><td>7.2605736876</td><td>1.50440230517</td><td>5.96540847045</td><td>1.03365648739</td><td>125.162791534</td><td>44.7934049203</td><td>0.0535216240678</td><td>S</td><td>P22Hetde</td><td>205</td><td>4</td><td>532.351012101</td><td>0.300592058961</td><td>10817466.0</td><td>1.0</td></tr>\n",
       "<tr><td>ILTJ122106.722+492420.20</td><td>185.278009798</td><td>0.476205256172</td><td>0.491974940169</td><td>49.4056116521</td><td>0.363568823749</td><td>0.383992428767</td><td>0.308482936742</td><td>0.0504988664517</td><td>0.0797283161953</td><td>0.306304270094</td><td>0.0879554002244</td><td>0.107186961258</td><td>6.40838974909</td><td>1.12431943609</td><td>5.57965677846</td><td>0.852251276603</td><td>85.3961636616</td><td>52.8570913248</td><td>0.0507702061441</td><td>S</td><td>P22Hetde</td><td>206</td><td>5</td><td>nan</td><td>nan</td><td>nan</td><td>nan</td></tr>\n",
       "<tr><td>ILTJ122106.172+492908.04</td><td>185.275717593</td><td>0.183850706166</td><td>0.221515186626</td><td>49.4855672648</td><td>0.257120714935</td><td>0.285269973528</td><td>0.641852509513</td><td>0.0532738711074</td><td>0.138985938503</td><td>0.671735160982</td><td>0.091377926785</td><td>0.162477846378</td><td>6.73049491464</td><td>0.611268985317</td><td>5.59946675829</td><td>0.424736261495</td><td>12.4682229602</td><td>21.5508992193</td><td>0.0530273173354</td><td>S</td><td>P22Hetde</td><td>210</td><td>6</td><td>616.03186109</td><td>0.181201605232</td><td>10989213.0</td><td>1.0</td></tr>\n",
       "<tr><td>ILTJ122104.649+492207.60</td><td>185.269372038</td><td>0.515425109037</td><td>0.530029186719</td><td>49.3687791357</td><td>0.37925775751</td><td>0.398878856772</td><td>0.349770333809</td><td>0.0544436946502</td><td>0.088643597308</td><td>0.358176497234</td><td>0.0955404857905</td><td>0.119413569379</td><td>7.27808684182</td><td>1.354813951</td><td>5.06678218192</td><td>0.659476070658</td><td>122.170405666</td><td>22.0608157459</td><td>0.0554672114959</td><td>S</td><td>P22Hetde</td><td>211</td><td>7</td><td>113.330702705</td><td>1.2520854396</td><td>10850543.0</td><td>1.0</td></tr>\n",
       "<tr><td>ILTJ122107.312+493759.86</td><td>185.280465285</td><td>0.574867040653</td><td>0.587996607284</td><td>49.6332943738</td><td>0.81022683125</td><td>0.819594664346</td><td>0.301244883956</td><td>0.0569938555714</td><td>0.0829351480211</td><td>0.528145587087</td><td>0.0841966227453</td><td>0.135079908677</td><td>9.55625229668</td><td>2.06868702874</td><td>6.60653434819</td><td>1.09240387499</td><td>154.585287717</td><td>27.2674448446</td><td>0.0537575579074</td><td>S</td><td>P22Hetde</td><td>212</td><td>8</td><td>3.33338643465</td><td>1.07704111747</td><td>11011955.0</td><td>2.0</td></tr>\n",
       "<tr><td>...</td><td>...</td><td>...</td><td>...</td><td>...</td><td>...</td><td>...</td><td>...</td><td>...</td><td>...</td><td>...</td><td>...</td><td>...</td><td>...</td><td>...</td><td>...</td><td>...</td><td>...</td><td>...</td><td>...</td><td>...</td><td>...</td><td>...</td><td>...</td><td>...</td><td>...</td><td>...</td><td>...</td></tr>\n",
       "<tr><td>ILTJ134439.765+504041.34</td><td>206.165688808</td><td>2.26026283583</td><td>2.2659690145</td><td>50.6781506626</td><td>1.95802909376</td><td>1.96461330027</td><td>0.158729252747</td><td>0.0531880117019</td><td>0.061941614573</td><td>0.963374460084</td><td>0.0613324006447</td><td>0.202201081556</td><td>15.6407235434</td><td>5.32522291132</td><td>13.9715107156</td><td>4.60761284487</td><td>85.626759565</td><td>131.567664314</td><td>0.0583040819038</td><td>S</td><td>P206+50</td><td>9896</td><td>321052</td><td>--</td><td>--</td><td>--</td><td>--</td></tr>\n",
       "<tr><td>ILTJ134250.490+495145.36</td><td>205.710373002</td><td>2.54338312702</td><td>2.54845545742</td><td>49.8626014601</td><td>2.42989044507</td><td>2.43519918336</td><td>0.183617567038</td><td>0.0683231234608</td><td>0.0775671685473</td><td>1.13913529234</td><td>0.0786176545441</td><td>0.241010174424</td><td>17.9074051488</td><td>7.01113312112</td><td>12.4731489399</td><td>4.41090314446</td><td>47.0398048812</td><td>54.6782988958</td><td>0.0761756309657</td><td>S</td><td>P206+50</td><td>9904</td><td>321053</td><td>48.7390106064</td><td>2.24160309077</td><td>18240214.0</td><td>1.0</td></tr>\n",
       "<tr><td>ILTJ134236.898+500743.75</td><td>205.65374037</td><td>2.10128274311</td><td>2.10741943005</td><td>50.1288195324</td><td>2.06075015531</td><td>2.06700718195</td><td>0.304329500077</td><td>0.0544295147288</td><td>0.0816531068502</td><td>6.24191207731</td><td>0.0570218588786</td><td>1.24968401911</td><td>29.539982506</td><td>5.3249429817</td><td>24.998766562</td><td>4.43603200791</td><td>130.891491158</td><td>49.6217185509</td><td>0.0936895303312</td><td>S</td><td>P206+50</td><td>9907</td><td>321054</td><td>153.411135739</td><td>1.37826980508</td><td>18408859.0</td><td>1.0</td></tr>\n",
       "<tr><td>ILTJ134935.495+492303.51</td><td>207.397897796</td><td>0.830810387927</td><td>0.846211196043</td><td>49.3843096941</td><td>5.22656822658</td><td>5.22903843118</td><td>0.137478580566</td><td>0.0647219858365</td><td>0.0703203374224</td><td>3.03300889012</td><td>0.0681148123265</td><td>0.610414076476</td><td>21.0041729692</td><td>12.3077141981</td><td>6.08592535382</td><td>1.95586426267</td><td>90.090320864</td><td>28.4280503144</td><td>0.0647219858365</td><td>M</td><td>P206+50</td><td>9940</td><td>321055</td><td>nan</td><td>nan</td><td>nan</td><td>nan</td></tr>\n",
       "<tr><td>ILTJ134544.560+500407.69</td><td>206.435668631</td><td>5.39548673406</td><td>5.39787963788</td><td>50.068803411</td><td>5.71213711471</td><td>5.71439742272</td><td>0.152260967179</td><td>0.0722713768839</td><td>0.0784250470305</td><td>3.17120060516</td><td>0.0756621735764</td><td>0.638737266517</td><td>29.5053926497</td><td>14.1010554321</td><td>25.4124667076</td><td>11.9798695784</td><td>34.2493208308</td><td>147.526049035</td><td>0.125200836919</td><td>S</td><td>P206+50</td><td>9944</td><td>321056</td><td>2.63749698205</td><td>2.78849094199</td><td>18307657.0</td><td>1.0</td></tr>\n",
       "<tr><td>ILTJ134544.560+500407.69</td><td>206.435668631</td><td>5.39548673406</td><td>5.39787963788</td><td>50.068803411</td><td>5.71213711471</td><td>5.71439742272</td><td>0.152260967179</td><td>0.0722713768839</td><td>0.0784250470305</td><td>3.17120060516</td><td>0.0756621735764</td><td>0.638737266517</td><td>29.5053926497</td><td>14.1010554321</td><td>25.4124667076</td><td>11.9798695784</td><td>34.2493208308</td><td>147.526049035</td><td>0.125200836919</td><td>S</td><td>P206+50</td><td>9944</td><td>321056</td><td>1.35029773631</td><td>11.9263101662</td><td>27671986.0</td><td>2.0</td></tr>\n",
       "<tr><td>ILTJ134520.918+500547.78</td><td>206.337156982</td><td>6.22978015736</td><td>6.23185271782</td><td>50.0966060238</td><td>5.45576367204</td><td>5.45813014985</td><td>0.179775619843</td><td>0.103516045732</td><td>0.10958258376</td><td>2.80017828445</td><td>0.109962931038</td><td>0.570729167988</td><td>26.0331907009</td><td>15.1630902032</td><td>21.539942784</td><td>12.2613413717</td><td>114.966676789</td><td>145.729851059</td><td>0.158814480528</td><td>S</td><td>P206+50</td><td>9945</td><td>321057</td><td>2.08118053254</td><td>3.68919756471</td><td>18390181.0</td><td>1.0</td></tr>\n",
       "<tr><td>ILTJ134518.015+502506.40</td><td>206.325061627</td><td>3.93539427635</td><td>3.93867434525</td><td>50.418445909</td><td>3.23224520238</td><td>3.23623802213</td><td>0.17634482237</td><td>0.0653753322432</td><td>0.0742821238318</td><td>2.48640652488</td><td>0.0698601131833</td><td>0.502164446863</td><td>25.1257499831</td><td>9.45093493395</td><td>20.2033531094</td><td>7.38193313458</td><td>71.1773274806</td><td>83.2595548374</td><td>0.0963986894931</td><td>S</td><td>P206+50</td><td>9946</td><td>321058</td><td>3.10234205109</td><td>5.29353803987</td><td>31009788.0</td><td>1.0</td></tr>\n",
       "<tr><td>ILTJ134503.611+501222.56</td><td>206.265047002</td><td>4.28050496876</td><td>4.28352078029</td><td>50.2062670604</td><td>3.97301459676</td><td>3.97626363232</td><td>0.147203753671</td><td>0.0500015617903</td><td>0.0580251151249</td><td>3.34140746117</td><td>0.0521578943075</td><td>0.670313806213</td><td>29.6143494487</td><td>10.0891965278</td><td>27.5950953707</td><td>9.34559343555</td><td>96.0498651095</td><td>179.441298274</td><td>0.0898657526704</td><td>S</td><td>P206+50</td><td>9947</td><td>321059</td><td>9.76739653239</td><td>5.36331869402</td><td>18381767.0</td><td>1.0</td></tr>\n",
       "<tr><td>ILTJ134503.611+501222.56</td><td>206.265047002</td><td>4.28050496876</td><td>4.28352078029</td><td>50.2062670604</td><td>3.97301459676</td><td>3.97626363232</td><td>0.147203753671</td><td>0.0500015617903</td><td>0.0580251151249</td><td>3.34140746117</td><td>0.0521578943075</td><td>0.670313806213</td><td>29.6143494487</td><td>10.0891965278</td><td>27.5950953707</td><td>9.34559343555</td><td>96.0498651095</td><td>179.441298274</td><td>0.0898657526704</td><td>S</td><td>P206+50</td><td>9947</td><td>321059</td><td>0.962495804711</td><td>11.628362151</td><td>18413369.0</td><td>2.0</td></tr>\n",
       "</table>"
      ],
      "text/plain": [
       "<Table masked=True length=369243>\n",
       "      Source_Name              RA            E_RA      ...  lr_index  lr_order\n",
       "                              deg           arcsec     ...                    \n",
       "         str24              float64        float64     ...  float64   float64 \n",
       "------------------------ ------------- --------------- ... ---------- --------\n",
       "ILTJ122108.441+491340.94 185.285168771 0.0850700841174 ... 10944453.0      1.0\n",
       "ILTJ122107.851+491951.84 185.282710884  0.473938135007 ... 10862628.0      1.0\n",
       "ILTJ122108.572+493121.89 185.285716341  0.533848043611 ...        nan      nan\n",
       "ILTJ122104.027+490823.80 185.266778578 0.0680609727689 ... 10844459.0      1.0\n",
       "ILTJ122105.030+491440.01 185.270960099  0.585020092161 ... 10817466.0      1.0\n",
       "ILTJ122106.722+492420.20 185.278009798  0.476205256172 ...        nan      nan\n",
       "ILTJ122106.172+492908.04 185.275717593  0.183850706166 ... 10989213.0      1.0\n",
       "ILTJ122104.649+492207.60 185.269372038  0.515425109037 ... 10850543.0      1.0\n",
       "ILTJ122107.312+493759.86 185.280465285  0.574867040653 ... 11011955.0      2.0\n",
       "                     ...           ...             ... ...        ...      ...\n",
       "ILTJ134439.765+504041.34 206.165688808   2.26026283583 ...         --       --\n",
       "ILTJ134250.490+495145.36 205.710373002   2.54338312702 ... 18240214.0      1.0\n",
       "ILTJ134236.898+500743.75  205.65374037   2.10128274311 ... 18408859.0      1.0\n",
       "ILTJ134935.495+492303.51 207.397897796  0.830810387927 ...        nan      nan\n",
       "ILTJ134544.560+500407.69 206.435668631   5.39548673406 ... 18307657.0      1.0\n",
       "ILTJ134544.560+500407.69 206.435668631   5.39548673406 ... 27671986.0      2.0\n",
       "ILTJ134520.918+500547.78 206.337156982   6.22978015736 ... 18390181.0      1.0\n",
       "ILTJ134518.015+502506.40 206.325061627   3.93539427635 ... 31009788.0      1.0\n",
       "ILTJ134503.611+501222.56 206.265047002   4.28050496876 ... 18381767.0      1.0\n",
       "ILTJ134503.611+501222.56 206.265047002   4.28050496876 ... 18413369.0      2.0"
      ]
     },
     "execution_count": 79,
     "metadata": {},
     "output_type": "execute_result"
    }
   ],
   "source": [
    "lofar_lr"
   ]
  },
  {
   "cell_type": "markdown",
   "metadata": {},
   "source": [
    "## Save combined catalogue"
   ]
  },
  {
   "cell_type": "code",
   "execution_count": 80,
   "metadata": {
    "collapsed": true
   },
   "outputs": [],
   "source": [
    "combined[\"lr_index\"] = combined_aux_index.astype(float)"
   ]
  },
  {
   "cell_type": "code",
   "execution_count": 82,
   "metadata": {
    "collapsed": true
   },
   "outputs": [],
   "source": [
    "for col in ['lr', 'lr_dist', 'lr_index', 'lr_order']:\n",
    "    lofar_lr[col].fill_value = np.nan"
   ]
  },
  {
   "cell_type": "code",
   "execution_count": 85,
   "metadata": {},
   "outputs": [],
   "source": [
    "pwl = join(lofar_lr.filled(), combined, join_type='left', keys='lr_index')"
   ]
  },
  {
   "cell_type": "code",
   "execution_count": 88,
   "metadata": {},
   "outputs": [
    {
     "data": {
      "text/plain": [
       "369243"
      ]
     },
     "execution_count": 88,
     "metadata": {},
     "output_type": "execute_result"
    }
   ],
   "source": [
    "len(pwl)"
   ]
  },
  {
   "cell_type": "code",
   "execution_count": 86,
   "metadata": {
    "collapsed": true
   },
   "outputs": [],
   "source": [
    "pwl_columns = pwl.colnames"
   ]
  },
  {
   "cell_type": "code",
   "execution_count": 89,
   "metadata": {},
   "outputs": [
    {
     "name": "stdout",
     "output_type": "stream",
     "text": [
      "dec 1.0\n",
      "W1mag 1.0\n",
      "i 1.0\n",
      "colour 1.0\n",
      "category 1.0\n"
     ]
    }
   ],
   "source": [
    "for col in pwl_columns:\n",
    "    fv = pwl[col].fill_value\n",
    "    #print(col, fv)\n",
    "    if (isinstance(fv, np.float64) and (fv != 1e+20)):\n",
    "        print(col, fv)\n",
    "        pwl[col].fill_value = 1e+20"
   ]
  },
  {
   "cell_type": "code",
   "execution_count": 91,
   "metadata": {
    "collapsed": true
   },
   "outputs": [],
   "source": [
    "columns_save = ['Source_Name', 'RA', 'E_RA', 'E_RA_tot', 'DEC', 'E_DEC', 'E_DEC_tot',\n",
    " 'Peak_flux', 'E_Peak_flux', 'E_Peak_flux_tot', 'Total_flux', 'E_Total_flux', 'E_Total_flux_tot',\n",
    " 'Maj', 'E_Maj', 'Min', 'E_Min', 'PA', 'E_PA', 'Isl_rms', 'S_Code', 'Mosaic_ID', 'Isl_id',\n",
    " 'AllWISE', 'objID', 'ra', 'dec', 'raErr', 'decErr',\n",
    " 'W1mag', 'W1magErr', 'i', 'iErr', 'colour', 'category',\n",
    " 'lr', 'lr_dist', 'lr_order']"
   ]
  },
  {
   "cell_type": "code",
   "execution_count": 92,
   "metadata": {
    "collapsed": true
   },
   "outputs": [],
   "source": [
    "pwl[columns_save].write('lofar_multi_lr_pw.fits', format=\"fits\")"
   ]
  },
  {
   "cell_type": "code",
   "execution_count": null,
   "metadata": {
    "collapsed": true
   },
   "outputs": [],
   "source": []
  }
 ],
 "metadata": {
  "kernelspec": {
   "display_name": "Python 3",
   "language": "python",
   "name": "python3"
  },
  "language_info": {
   "codemirror_mode": {
    "name": "ipython",
    "version": 3
   },
   "file_extension": ".py",
   "mimetype": "text/x-python",
   "name": "python",
   "nbconvert_exporter": "python",
   "pygments_lexer": "ipython3",
   "version": "3.6.1"
  }
 },
 "nbformat": 4,
 "nbformat_minor": 1
}
