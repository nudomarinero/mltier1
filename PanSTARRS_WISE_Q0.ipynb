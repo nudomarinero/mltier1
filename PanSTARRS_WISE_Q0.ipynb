{
 "cells": [
  {
   "cell_type": "markdown",
   "metadata": {},
   "source": [
    "#  PanSTARRS - WISE cross-match: Compute the $Q_0$"
   ]
  },
  {
   "cell_type": "code",
   "execution_count": 1,
   "metadata": {
    "collapsed": true
   },
   "outputs": [],
   "source": [
    "import numpy as np\n",
    "from astropy.table import Table\n",
    "from astropy import units as u\n",
    "from astropy.coordinates import SkyCoord, search_around_sky"
   ]
  },
  {
   "cell_type": "code",
   "execution_count": 2,
   "metadata": {},
   "outputs": [],
   "source": [
    "from mltier1 import generate_random_catalogue, Field, Q_0"
   ]
  },
  {
   "cell_type": "code",
   "execution_count": 3,
   "metadata": {},
   "outputs": [],
   "source": [
    "%load_ext autoreload"
   ]
  },
  {
   "cell_type": "code",
   "execution_count": 4,
   "metadata": {},
   "outputs": [
    {
     "name": "stdout",
     "output_type": "stream",
     "text": [
      "Populating the interactive namespace from numpy and matplotlib\n"
     ]
    }
   ],
   "source": [
    "%pylab inline"
   ]
  },
  {
   "cell_type": "code",
   "execution_count": 5,
   "metadata": {
    "collapsed": true
   },
   "outputs": [],
   "source": [
    "field = Field(170.0, 190.0, 45.5, 56.5)"
   ]
  },
  {
   "cell_type": "markdown",
   "metadata": {},
   "source": [
    "## Load the data\n",
    "\n",
    "### Load the catalogues"
   ]
  },
  {
   "cell_type": "code",
   "execution_count": 6,
   "metadata": {
    "collapsed": true
   },
   "outputs": [],
   "source": [
    "panstarrs_full = Table.read(\"panstarrs_u2.fits\")"
   ]
  },
  {
   "cell_type": "code",
   "execution_count": 7,
   "metadata": {
    "collapsed": true
   },
   "outputs": [],
   "source": [
    "wise_full = Table.read(\"wise_u2.fits\")"
   ]
  },
  {
   "cell_type": "markdown",
   "metadata": {},
   "source": [
    "### Restrict the study to the well sampled area"
   ]
  },
  {
   "cell_type": "code",
   "execution_count": 8,
   "metadata": {
    "collapsed": true
   },
   "outputs": [],
   "source": [
    "panstarrs = field.filter_catalogue(\n",
    "    panstarrs_full, \n",
    "    colnames=(\"raMean\", \"decMean\"))"
   ]
  },
  {
   "cell_type": "code",
   "execution_count": 9,
   "metadata": {
    "collapsed": true
   },
   "outputs": [],
   "source": [
    "# Free memory\n",
    "del panstarrs_full"
   ]
  },
  {
   "cell_type": "code",
   "execution_count": 10,
   "metadata": {
    "collapsed": true
   },
   "outputs": [],
   "source": [
    "wise = field.filter_catalogue(\n",
    "    wise_full, \n",
    "    colnames=(\"raWise\", \"decWise\"))"
   ]
  },
  {
   "cell_type": "code",
   "execution_count": 11,
   "metadata": {
    "collapsed": true
   },
   "outputs": [],
   "source": [
    "# Free memory\n",
    "del wise_full"
   ]
  },
  {
   "cell_type": "markdown",
   "metadata": {},
   "source": [
    "### Coordinates\n",
    "\n",
    "As we will use the coordinates to make a cross-match we to load them"
   ]
  },
  {
   "cell_type": "code",
   "execution_count": 12,
   "metadata": {},
   "outputs": [],
   "source": [
    "coords_panstarrs = SkyCoord(panstarrs['raMean'], panstarrs['decMean'], unit=(u.deg, u.deg), frame='icrs')"
   ]
  },
  {
   "cell_type": "code",
   "execution_count": 13,
   "metadata": {
    "collapsed": true
   },
   "outputs": [],
   "source": [
    "coords_wise = SkyCoord(wise['raWise'], wise['decWise'], unit=(u.deg, u.deg), frame='icrs')"
   ]
  },
  {
   "cell_type": "markdown",
   "metadata": {
    "collapsed": true
   },
   "source": [
    "### Cross-match and random cross-match\n",
    "\n",
    "We create an instance of Q_0 using as the input the two catalogues and the area. It will compute the $Q_0$ for different radius.\n",
    "\n",
    "The following function is not used but shows the internal code use for the computing of the $Q_0$."
   ]
  },
  {
   "cell_type": "code",
   "execution_count": 14,
   "metadata": {},
   "outputs": [],
   "source": [
    "# Example function (not used, we use a class that contains this code)\n",
    "def q_0_r(coords_wise, coords_panstarrs, field, radius=5):\n",
    "    \"\"\"Compute the Q_0 for a given radius\"\"\"\n",
    "    random_wise = field.random_catalogue(len(coords_wise))\n",
    "    \n",
    "    idx_random_wise, idx_panstarrs, d2d, d3d = search_around_sky(\n",
    "        random_wise, coords_panstarrs, radius*u.arcsec)\n",
    "    \n",
    "    nomatch_random = len(coords_wise) - len(np.unique(idx_random_wise))\n",
    "    \n",
    "    idx_wise, idx_panstarrs, d2d, d3d = search_around_sky(\n",
    "        coords_wise, coords_panstarrs, radius*u.arcsec)\n",
    "    \n",
    "    nomatch_wise = len(coords_wise) - len(np.unique(idx_wise))\n",
    "                                          \n",
    "    return (1. - float(nomatch_wise)/float(nomatch_random))"
   ]
  },
  {
   "cell_type": "code",
   "execution_count": 15,
   "metadata": {},
   "outputs": [],
   "source": [
    "q_0_comp = Q_0(coords_wise, coords_panstarrs, field)"
   ]
  },
  {
   "cell_type": "code",
   "execution_count": 16,
   "metadata": {},
   "outputs": [
    {
     "data": {
      "text/plain": [
       "0.629392983348576"
      ]
     },
     "execution_count": 16,
     "metadata": {},
     "output_type": "execute_result"
    }
   ],
   "source": [
    "q_0_comp(radius=5)"
   ]
  },
  {
   "cell_type": "markdown",
   "metadata": {},
   "source": [
    "## $Q_0$ dependence on the radius\n",
    "\n",
    "We will iterate 10 times for each radius. However, the error is so small that a direct computation can be accurate to 4 significant figures."
   ]
  },
  {
   "cell_type": "code",
   "execution_count": 17,
   "metadata": {
    "collapsed": true
   },
   "outputs": [],
   "source": [
    "n_iter = 10"
   ]
  },
  {
   "cell_type": "markdown",
   "metadata": {},
   "source": [
    "The radius tested ranges from 1 to 25"
   ]
  },
  {
   "cell_type": "code",
   "execution_count": 18,
   "metadata": {
    "collapsed": true
   },
   "outputs": [],
   "source": [
    "rads = list(range(1,26))"
   ]
  },
  {
   "cell_type": "code",
   "execution_count": 19,
   "metadata": {},
   "outputs": [
    {
     "name": "stdout",
     "output_type": "stream",
     "text": [
      " 1 0.51223 +/- 0.00002 [0.51220 0.51226]\n",
      " 2 0.60789 +/- 0.00004 [0.60783 0.60795]\n",
      " 3 0.63058 +/- 0.00004 [0.63050 0.63063]\n",
      " 4 0.63359 +/- 0.00006 [0.63350 0.63368]\n",
      " 5 0.62944 +/- 0.00012 [0.62920 0.62962]\n",
      " 6 0.62105 +/- 0.00012 [0.62086 0.62123]\n",
      " 7 0.61010 +/- 0.00011 [0.60994 0.61036]\n",
      " 8 0.59739 +/- 0.00014 [0.59709 0.59756]\n",
      " 9 0.58558 +/- 0.00027 [0.58532 0.58608]\n",
      "10 0.57676 +/- 0.00011 [0.57657 0.57691]\n",
      "11 0.57078 +/- 0.00027 [0.57038 0.57132]\n",
      "12 0.56704 +/- 0.00017 [0.56661 0.56728]\n",
      "13 0.56498 +/- 0.00046 [0.56393 0.56564]\n",
      "14 0.56440 +/- 0.00053 [0.56357 0.56518]\n",
      "15 0.56420 +/- 0.00052 [0.56345 0.56501]\n",
      "16 0.56449 +/- 0.00052 [0.56374 0.56525]\n",
      "17 0.56498 +/- 0.00063 [0.56407 0.56621]\n",
      "18 0.56534 +/- 0.00058 [0.56443 0.56628]\n",
      "19 0.56610 +/- 0.00041 [0.56539 0.56684]\n",
      "20 0.56615 +/- 0.00055 [0.56536 0.56738]\n",
      "21 0.56695 +/- 0.00071 [0.56604 0.56807]\n",
      "22 0.56742 +/- 0.00069 [0.56615 0.56908]\n",
      "23 0.56797 +/- 0.00143 [0.56518 0.56984]\n",
      "24 0.56760 +/- 0.00140 [0.56549 0.57007]\n",
      "25 0.56979 +/- 0.00074 [0.56866 0.57078]\n"
     ]
    }
   ],
   "source": [
    "q_0_rad = []\n",
    "for radius in rads:\n",
    "    q_0_rad_aux = []\n",
    "    for i in range(n_iter):\n",
    "        out = q_0_comp(radius=radius)\n",
    "        q_0_rad_aux.append(out)\n",
    "    q_0_rad.append(np.mean(q_0_rad_aux))\n",
    "    print(\"{:2d} {:7.5f} +/- {:7.5f} [{:7.5f} {:7.5f}]\".format(radius, \n",
    "            np.mean(q_0_rad_aux), np.std(q_0_rad_aux), \n",
    "            np.min(q_0_rad_aux), np.max(q_0_rad_aux)))"
   ]
  },
  {
   "cell_type": "code",
   "execution_count": 20,
   "metadata": {},
   "outputs": [
    {
     "data": {
      "image/png": "[encoded data removed]",
      "text/plain": [
       "<matplotlib.figure.Figure at 0x7fb53b48cbe0>"
      ]
     },
     "metadata": {},
     "output_type": "display_data"
    }
   ],
   "source": [
    "plt.rcParams[\"figure.figsize\"] = (5,5)\n",
    "plot(rads, q_0_rad)\n",
    "xlabel(\"Radius (arcsecs)\")\n",
    "ylabel(\"$Q_0$\")\n",
    "ylim([0, 1]);"
   ]
  },
  {
   "cell_type": "code",
   "execution_count": null,
   "metadata": {
    "collapsed": true
   },
   "outputs": [],
   "source": []
  }
 ],
 "metadata": {
  "kernelspec": {
   "display_name": "Python 3 (py36)",
   "language": "python",
   "name": "py36"
  },
  "language_info": {
   "codemirror_mode": {
    "name": "ipython",
    "version": 3
   },
   "file_extension": ".py",
   "mimetype": "text/x-python",
   "name": "python",
   "nbconvert_exporter": "python",
   "pygments_lexer": "ipython3",
   "version": "3.6.0"
  }
 },
 "nbformat": 4,
 "nbformat_minor": 1
}
