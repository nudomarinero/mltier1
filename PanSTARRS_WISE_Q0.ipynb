{
 "cells": [
  {
   "cell_type": "markdown",
   "metadata": {},
   "source": [
    "#  PanSTARRS - WISE cross-match: Compute the $Q_0$"
   ]
  },
  {
   "cell_type": "code",
   "execution_count": 1,
   "metadata": {
    "collapsed": true
   },
   "outputs": [],
   "source": [
    "import numpy as np\n",
    "from astropy.table import Table\n",
    "from astropy import units as u\n",
    "from astropy.coordinates import SkyCoord, search_around_sky"
   ]
  },
  {
   "cell_type": "code",
   "execution_count": 2,
   "metadata": {
    "collapsed": false
   },
   "outputs": [],
   "source": [
    "from mltier1 import generate_random_catalogue, Field, Q_0"
   ]
  },
  {
   "cell_type": "code",
   "execution_count": 3,
   "metadata": {
    "collapsed": false
   },
   "outputs": [],
   "source": [
    "%load_ext autoreload"
   ]
  },
  {
   "cell_type": "code",
   "execution_count": 4,
   "metadata": {
    "collapsed": false
   },
   "outputs": [
    {
     "name": "stdout",
     "output_type": "stream",
     "text": [
      "Populating the interactive namespace from numpy and matplotlib\n"
     ]
    }
   ],
   "source": [
    "%pylab inline"
   ]
  },
  {
   "cell_type": "code",
   "execution_count": 5,
   "metadata": {
    "collapsed": true
   },
   "outputs": [],
   "source": [
    "field = Field(170.0, 190.0, 45.5, 56.5)"
   ]
  },
  {
   "cell_type": "markdown",
   "metadata": {},
   "source": [
    "## Load the data\n",
    "\n",
    "### Load the catalogues"
   ]
  },
  {
   "cell_type": "code",
   "execution_count": 6,
   "metadata": {
    "collapsed": true
   },
   "outputs": [],
   "source": [
    "panstarrs = Table.read(\"panstarrs_u1.fits\")"
   ]
  },
  {
   "cell_type": "code",
   "execution_count": 7,
   "metadata": {
    "collapsed": true
   },
   "outputs": [],
   "source": [
    "wise = Table.read(\"wise_u1.fits\")"
   ]
  },
  {
   "cell_type": "markdown",
   "metadata": {},
   "source": [
    "### Coordinates\n",
    "\n",
    "As we will use the coordinates to make a cross-match we to load them"
   ]
  },
  {
   "cell_type": "code",
   "execution_count": 8,
   "metadata": {
    "collapsed": false
   },
   "outputs": [],
   "source": [
    "coords_panstarrs = SkyCoord(panstarrs['raMean'], panstarrs['decMean'], unit=(u.deg, u.deg), frame='icrs')"
   ]
  },
  {
   "cell_type": "code",
   "execution_count": 9,
   "metadata": {
    "collapsed": true
   },
   "outputs": [],
   "source": [
    "coords_wise = SkyCoord(wise['raWise'], wise['decWise'], unit=(u.deg, u.deg), frame='icrs')"
   ]
  },
  {
   "cell_type": "markdown",
   "metadata": {
    "collapsed": true
   },
   "source": [
    "### Cross-match and random cross-match\n",
    "\n",
    "We create an instance of Q_0 using as the input the two catalogues and the area. It will compute the $Q_0$ for different radius"
   ]
  },
  {
   "cell_type": "code",
   "execution_count": 10,
   "metadata": {
    "collapsed": false
   },
   "outputs": [],
   "source": [
    "# Example function (not used, we use a class that contains this code)\n",
    "def q_0_r(coords_wise, coords_panstarrs, field, radius=5):\n",
    "    \"\"\"Compute the Q_0 for a given radius\"\"\"\n",
    "    random_wise = field.random_catalogue(len(coords_wise))\n",
    "    \n",
    "    idx_random_wise, idx_panstarrs, d2d, d3d = search_around_sky(\n",
    "        random_wise, coords_panstarrs, radius*u.arcsec)\n",
    "    \n",
    "    nomatch_random = len(coords_wise) - len(np.unique(idx_random_wise))\n",
    "    \n",
    "    idx_wise, idx_panstarrs, d2d, d3d = search_around_sky(\n",
    "        coords_wise, coords_panstarrs, radius*u.arcsec)\n",
    "    \n",
    "    nomatch_wise = len(coords_wise) - len(np.unique(idx_wise))\n",
    "                                          \n",
    "    return (1. - float(nomatch_wise)/float(nomatch_random))"
   ]
  },
  {
   "cell_type": "code",
   "execution_count": 11,
   "metadata": {
    "collapsed": false
   },
   "outputs": [],
   "source": [
    "q_0_comp = Q_0(coords_wise, coords_panstarrs, field)"
   ]
  },
  {
   "cell_type": "code",
   "execution_count": 12,
   "metadata": {
    "collapsed": false
   },
   "outputs": [
    {
     "data": {
      "text/plain": [
       "0.6293697172922663"
      ]
     },
     "execution_count": 12,
     "metadata": {},
     "output_type": "execute_result"
    }
   ],
   "source": [
    "q_0_comp(radius=5)"
   ]
  },
  {
   "cell_type": "markdown",
   "metadata": {},
   "source": [
    "## $Q_0$ dependence on the radius"
   ]
  },
  {
   "cell_type": "code",
   "execution_count": 13,
   "metadata": {
    "collapsed": true
   },
   "outputs": [],
   "source": [
    "n_iter = 1"
   ]
  },
  {
   "cell_type": "code",
   "execution_count": 14,
   "metadata": {
    "collapsed": true
   },
   "outputs": [],
   "source": [
    "rads = list(range(1,26))"
   ]
  },
  {
   "cell_type": "code",
   "execution_count": 15,
   "metadata": {
    "collapsed": false
   },
   "outputs": [
    {
     "name": "stdout",
     "output_type": "stream",
     "text": [
      " 1 0.51228 +/- 0.00000 [0.51228 0.51228]\n",
      " 2 0.60789 +/- 0.00000 [0.60789 0.60789]\n",
      " 3 0.63058 +/- 0.00000 [0.63058 0.63058]\n",
      " 4 0.63361 +/- 0.00000 [0.63361 0.63361]\n",
      " 5 0.62960 +/- 0.00000 [0.62960 0.62960]\n",
      " 6 0.62111 +/- 0.00000 [0.62111 0.62111]\n",
      " 7 0.61012 +/- 0.00000 [0.61012 0.61012]\n",
      " 8 0.59731 +/- 0.00000 [0.59731 0.59731]\n",
      " 9 0.58543 +/- 0.00000 [0.58543 0.58543]\n",
      "10 0.57669 +/- 0.00000 [0.57669 0.57669]\n",
      "11 0.57076 +/- 0.00000 [0.57076 0.57076]\n",
      "12 0.56747 +/- 0.00000 [0.56747 0.56747]\n",
      "13 0.56484 +/- 0.00000 [0.56484 0.56484]\n",
      "14 0.56377 +/- 0.00000 [0.56377 0.56377]\n",
      "15 0.56443 +/- 0.00000 [0.56443 0.56443]\n",
      "16 0.56498 +/- 0.00000 [0.56498 0.56498]\n",
      "17 0.56587 +/- 0.00000 [0.56587 0.56587]\n",
      "18 0.56447 +/- 0.00000 [0.56447 0.56447]\n",
      "19 0.56625 +/- 0.00000 [0.56625 0.56625]\n",
      "20 0.56503 +/- 0.00000 [0.56503 0.56503]\n",
      "21 0.56741 +/- 0.00000 [0.56741 0.56741]\n",
      "22 0.56591 +/- 0.00000 [0.56591 0.56591]\n",
      "23 0.56858 +/- 0.00000 [0.56858 0.56858]\n",
      "24 0.56969 +/- 0.00000 [0.56969 0.56969]\n",
      "25 0.56968 +/- 0.00000 [0.56968 0.56968]\n"
     ]
    }
   ],
   "source": [
    "q_0_rad = []\n",
    "for radius in rads:\n",
    "    q_0_rad_aux = []\n",
    "    for i in range(n_iter):\n",
    "        out = q_0_comp(radius=radius)\n",
    "        q_0_rad_aux.append(out)\n",
    "    q_0_rad.append(np.mean(q_0_rad_aux))\n",
    "    print(\"{:2d} {:7.5f} +/- {:7.5f} [{:7.5f} {:7.5f}]\".format(radius, \n",
    "            np.mean(q_0_rad_aux), np.std(q_0_rad_aux), np.min(q_0_rad_aux), np.max(q_0_rad_aux)))"
   ]
  },
  {
   "cell_type": "code",
   "execution_count": 16,
   "metadata": {
    "collapsed": false
   },
   "outputs": [
    {
     "data": {
      "text/plain": [
       "[<matplotlib.lines.Line2D at 0x7fb5fe58cd30>]"
      ]
     },
     "execution_count": 16,
     "metadata": {},
     "output_type": "execute_result"
    },
    {
     "data": {
      "image/png": "[encoded data removed]",
      "text/plain": [
       "<matplotlib.figure.Figure at 0x7fb5fdbd1048>"
      ]
     },
     "metadata": {},
     "output_type": "display_data"
    }
   ],
   "source": [
    "plt.rcParams[\"figure.figsize\"] = (5,5)\n",
    "plot(rads, q_0_rad)"
   ]
  },
  {
   "cell_type": "code",
   "execution_count": null,
   "metadata": {
    "collapsed": true
   },
   "outputs": [],
   "source": []
  }
 ],
 "metadata": {
  "kernelspec": {
   "display_name": "Python 3 (py36)",
   "language": "python",
   "name": "py36"
  },
  "language_info": {
   "codemirror_mode": {
    "name": "ipython",
    "version": 3
   },
   "file_extension": ".py",
   "mimetype": "text/x-python",
   "name": "python",
   "nbconvert_exporter": "python",
   "pygments_lexer": "ipython3",
   "version": "3.6.0"
  }
 },
 "nbformat": 4,
 "nbformat_minor": 0
}
