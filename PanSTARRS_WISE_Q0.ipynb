{
 "cells": [
  {
   "cell_type": "markdown",
   "metadata": {},
   "source": [
    "#  PanSTARRS - WISE cross-match: Compute the $Q_0$"
   ]
  },
  {
   "cell_type": "code",
   "execution_count": 1,
   "metadata": {
    "collapsed": true
   },
   "outputs": [],
   "source": [
    "import numpy as np\n",
    "from astropy.table import Table\n",
    "from astropy import units as u\n",
    "from astropy.coordinates import SkyCoord, search_around_sky"
   ]
  },
  {
   "cell_type": "code",
   "execution_count": 2,
   "metadata": {
    "collapsed": false
   },
   "outputs": [],
   "source": [
    "from mltier1 import generate_random_catalogue, Field, Q_0"
   ]
  },
  {
   "cell_type": "code",
   "execution_count": 3,
   "metadata": {
    "collapsed": false
   },
   "outputs": [],
   "source": [
    "%load_ext autoreload"
   ]
  },
  {
   "cell_type": "code",
   "execution_count": 4,
   "metadata": {
    "collapsed": false
   },
   "outputs": [
    {
     "name": "stdout",
     "output_type": "stream",
     "text": [
      "Populating the interactive namespace from numpy and matplotlib\n"
     ]
    }
   ],
   "source": [
    "%pylab inline"
   ]
  },
  {
   "cell_type": "code",
   "execution_count": 5,
   "metadata": {
    "collapsed": true
   },
   "outputs": [],
   "source": [
    "field = Field(170.0, 190.0, 45.5, 56.5)"
   ]
  },
  {
   "cell_type": "markdown",
   "metadata": {},
   "source": [
    "## Load the data\n",
    "\n",
    "### Load the catalogues"
   ]
  },
  {
   "cell_type": "code",
   "execution_count": 6,
   "metadata": {
    "collapsed": true
   },
   "outputs": [],
   "source": [
    "panstarrs = Table.read(\"panstarrs_u1.fits\")"
   ]
  },
  {
   "cell_type": "code",
   "execution_count": 7,
   "metadata": {
    "collapsed": true
   },
   "outputs": [],
   "source": [
    "wise = Table.read(\"wise_u1.fits\")"
   ]
  },
  {
   "cell_type": "markdown",
   "metadata": {},
   "source": [
    "### Coordinates\n",
    "\n",
    "As we will use the coordinates to make a cross-match we to load them"
   ]
  },
  {
   "cell_type": "code",
   "execution_count": 8,
   "metadata": {
    "collapsed": false
   },
   "outputs": [],
   "source": [
    "coords_panstarrs = SkyCoord(panstarrs['raMean'], panstarrs['decMean'], unit=(u.deg, u.deg), frame='icrs')"
   ]
  },
  {
   "cell_type": "code",
   "execution_count": 9,
   "metadata": {
    "collapsed": true
   },
   "outputs": [],
   "source": [
    "coords_wise = SkyCoord(wise['raWise'], wise['decWise'], unit=(u.deg, u.deg), frame='icrs')"
   ]
  },
  {
   "cell_type": "markdown",
   "metadata": {
    "collapsed": true
   },
   "source": [
    "### Cross-match and random cross-match\n",
    "\n",
    "We create an instance of Q_0 using as the input the two catalogues and the area. It will compute the $Q_0$ for different radius.\n",
    "\n",
    "The following function is not used but shows the internal code use for the computing of the $Q_0$."
   ]
  },
  {
   "cell_type": "code",
   "execution_count": 10,
   "metadata": {
    "collapsed": false
   },
   "outputs": [],
   "source": [
    "# Example function (not used, we use a class that contains this code)\n",
    "def q_0_r(coords_wise, coords_panstarrs, field, radius=5):\n",
    "    \"\"\"Compute the Q_0 for a given radius\"\"\"\n",
    "    random_wise = field.random_catalogue(len(coords_wise))\n",
    "    \n",
    "    idx_random_wise, idx_panstarrs, d2d, d3d = search_around_sky(\n",
    "        random_wise, coords_panstarrs, radius*u.arcsec)\n",
    "    \n",
    "    nomatch_random = len(coords_wise) - len(np.unique(idx_random_wise))\n",
    "    \n",
    "    idx_wise, idx_panstarrs, d2d, d3d = search_around_sky(\n",
    "        coords_wise, coords_panstarrs, radius*u.arcsec)\n",
    "    \n",
    "    nomatch_wise = len(coords_wise) - len(np.unique(idx_wise))\n",
    "                                          \n",
    "    return (1. - float(nomatch_wise)/float(nomatch_random))"
   ]
  },
  {
   "cell_type": "code",
   "execution_count": 11,
   "metadata": {
    "collapsed": false
   },
   "outputs": [],
   "source": [
    "q_0_comp = Q_0(coords_wise, coords_panstarrs, field)"
   ]
  },
  {
   "cell_type": "code",
   "execution_count": 12,
   "metadata": {
    "collapsed": false
   },
   "outputs": [
    {
     "data": {
      "text/plain": [
       "0.6295441415437477"
      ]
     },
     "execution_count": 12,
     "metadata": {},
     "output_type": "execute_result"
    }
   ],
   "source": [
    "q_0_comp(radius=5)"
   ]
  },
  {
   "cell_type": "markdown",
   "metadata": {},
   "source": [
    "## $Q_0$ dependence on the radius\n",
    "\n",
    "We will iterate 10 times for each radius. However, the error is so small that a direct computation can be accurate to 4 significant figures."
   ]
  },
  {
   "cell_type": "code",
   "execution_count": 13,
   "metadata": {
    "collapsed": true
   },
   "outputs": [],
   "source": [
    "n_iter = 10"
   ]
  },
  {
   "cell_type": "markdown",
   "metadata": {},
   "source": [
    "The radius tested ranges from 1 to 25"
   ]
  },
  {
   "cell_type": "code",
   "execution_count": 14,
   "metadata": {
    "collapsed": true
   },
   "outputs": [],
   "source": [
    "rads = list(range(1,26))"
   ]
  },
  {
   "cell_type": "code",
   "execution_count": 15,
   "metadata": {
    "collapsed": false
   },
   "outputs": [
    {
     "name": "stdout",
     "output_type": "stream",
     "text": [
      " 1 0.51223 +/- 0.00003 [0.51218 0.51227]\n",
      " 2 0.60785 +/- 0.00002 [0.60783 0.60789]\n",
      " 3 0.63055 +/- 0.00007 [0.63041 0.63064]\n",
      " 4 0.63360 +/- 0.00004 [0.63354 0.63368]\n",
      " 5 0.62936 +/- 0.00012 [0.62918 0.62955]\n",
      " 6 0.62107 +/- 0.00012 [0.62096 0.62138]\n",
      " 7 0.61001 +/- 0.00017 [0.60974 0.61023]\n",
      " 8 0.59755 +/- 0.00023 [0.59710 0.59791]\n",
      " 9 0.58561 +/- 0.00032 [0.58521 0.58619]\n",
      "10 0.57686 +/- 0.00027 [0.57635 0.57726]\n",
      "11 0.57069 +/- 0.00030 [0.57025 0.57117]\n",
      "12 0.56702 +/- 0.00035 [0.56646 0.56753]\n",
      "13 0.56501 +/- 0.00027 [0.56449 0.56540]\n",
      "14 0.56419 +/- 0.00032 [0.56386 0.56508]\n",
      "15 0.56406 +/- 0.00036 [0.56364 0.56475]\n",
      "16 0.56450 +/- 0.00036 [0.56384 0.56489]\n",
      "17 0.56492 +/- 0.00065 [0.56411 0.56605]\n",
      "18 0.56528 +/- 0.00071 [0.56384 0.56624]\n",
      "19 0.56618 +/- 0.00057 [0.56483 0.56698]\n",
      "20 0.56634 +/- 0.00041 [0.56557 0.56693]\n",
      "21 0.56715 +/- 0.00074 [0.56527 0.56772]\n",
      "22 0.56697 +/- 0.00126 [0.56505 0.56917]\n",
      "23 0.56832 +/- 0.00119 [0.56551 0.57017]\n",
      "24 0.56848 +/- 0.00103 [0.56705 0.57030]\n",
      "25 0.56987 +/- 0.00124 [0.56817 0.57195]\n"
     ]
    }
   ],
   "source": [
    "q_0_rad = []\n",
    "for radius in rads:\n",
    "    q_0_rad_aux = []\n",
    "    for i in range(n_iter):\n",
    "        out = q_0_comp(radius=radius)\n",
    "        q_0_rad_aux.append(out)\n",
    "    q_0_rad.append(np.mean(q_0_rad_aux))\n",
    "    print(\"{:2d} {:7.5f} +/- {:7.5f} [{:7.5f} {:7.5f}]\".format(radius, \n",
    "            np.mean(q_0_rad_aux), np.std(q_0_rad_aux), np.min(q_0_rad_aux), np.max(q_0_rad_aux)))"
   ]
  },
  {
   "cell_type": "code",
   "execution_count": 16,
   "metadata": {
    "collapsed": false
   },
   "outputs": [
    {
     "data": {
      "image/png": "[encoded data removed]",
      "text/plain": [
       "<matplotlib.figure.Figure at 0x7ff34c4994a8>"
      ]
     },
     "metadata": {},
     "output_type": "display_data"
    }
   ],
   "source": [
    "plt.rcParams[\"figure.figsize\"] = (5,5)\n",
    "plot(rads, q_0_rad)\n",
    "xlabel(\"Radius (arcsecs)\")\n",
    "ylabel(\"$Q_0$\")\n",
    "ylim([0, 1]);"
   ]
  },
  {
   "cell_type": "code",
   "execution_count": null,
   "metadata": {
    "collapsed": true
   },
   "outputs": [],
   "source": []
  }
 ],
 "metadata": {
  "kernelspec": {
   "display_name": "Python 3 (py36)",
   "language": "python",
   "name": "py36"
  },
  "language_info": {
   "codemirror_mode": {
    "name": "ipython",
    "version": 3
   },
   "file_extension": ".py",
   "mimetype": "text/x-python",
   "name": "python",
   "nbconvert_exporter": "python",
   "pygments_lexer": "ipython3",
   "version": "3.6.0"
  }
 },
 "nbformat": 4,
 "nbformat_minor": 0
}
