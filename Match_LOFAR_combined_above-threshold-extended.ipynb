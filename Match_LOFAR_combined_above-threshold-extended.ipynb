{
 "cells": [
  {
   "cell_type": "markdown",
   "metadata": {},
   "source": [
    "# ML match for LOFAR and the combined PanSTARRS WISE catalogue: Get all sources above the threshold"
   ]
  },
  {
   "cell_type": "markdown",
   "metadata": {},
   "source": [
    "In this notebook the maximum likelihood cross-match between the LOFAR HETDEX catalogue and the combined PansSTARRS WISE catalogue is computed. However, we take all the sources that have likelihood ratios above the threshold found in the first run."
   ]
  },
  {
   "cell_type": "markdown",
   "metadata": {},
   "source": [
    "## Configuration\n",
    "\n",
    "### Load libraries and setup"
   ]
  },
  {
   "cell_type": "code",
   "execution_count": 1,
   "metadata": {
    "collapsed": true
   },
   "outputs": [],
   "source": [
    "import numpy as np\n",
    "from astropy.table import Table, join\n",
    "from astropy import units as u\n",
    "from astropy.coordinates import SkyCoord, search_around_sky\n",
    "from IPython.display import clear_output\n",
    "import pickle\n",
    "import os"
   ]
  },
  {
   "cell_type": "code",
   "execution_count": 2,
   "metadata": {
    "collapsed": true
   },
   "outputs": [],
   "source": [
    "from mltier1 import (get_center, get_n_m, estimate_q_m, Field, SingleMLEstimator, MultiMLEstimator,\n",
    "                     parallel_process, get_sigma, get_q_m)"
   ]
  },
  {
   "cell_type": "code",
   "execution_count": 3,
   "metadata": {
    "collapsed": true
   },
   "outputs": [],
   "source": [
    "%load_ext autoreload"
   ]
  },
  {
   "cell_type": "code",
   "execution_count": 4,
   "metadata": {
    "collapsed": true
   },
   "outputs": [],
   "source": [
    "%autoreload"
   ]
  },
  {
   "cell_type": "code",
   "execution_count": 5,
   "metadata": {
    "collapsed": true
   },
   "outputs": [],
   "source": [
    "from IPython.display import clear_output"
   ]
  },
  {
   "cell_type": "code",
   "execution_count": 6,
   "metadata": {},
   "outputs": [
    {
     "name": "stdout",
     "output_type": "stream",
     "text": [
      "Populating the interactive namespace from numpy and matplotlib\n"
     ]
    }
   ],
   "source": [
    "%pylab inline"
   ]
  },
  {
   "cell_type": "markdown",
   "metadata": {},
   "source": [
    "### General configuration"
   ]
  },
  {
   "cell_type": "code",
   "execution_count": 7,
   "metadata": {
    "collapsed": true
   },
   "outputs": [],
   "source": [
    "save_intermediate = True\n",
    "plot_intermediate = True"
   ]
  },
  {
   "cell_type": "code",
   "execution_count": 8,
   "metadata": {
    "collapsed": true
   },
   "outputs": [],
   "source": [
    "idp = \"idata/final_abv_extended\""
   ]
  },
  {
   "cell_type": "code",
   "execution_count": 9,
   "metadata": {
    "collapsed": true
   },
   "outputs": [],
   "source": [
    "if not os.path.isdir(idp):\n",
    "    os.makedirs(idp)"
   ]
  },
  {
   "cell_type": "markdown",
   "metadata": {},
   "source": [
    "### Area limits"
   ]
  },
  {
   "cell_type": "code",
   "execution_count": 10,
   "metadata": {
    "collapsed": true
   },
   "outputs": [],
   "source": [
    "# Busy week Edinburgh 2017\n",
    "ra_down = 172.09\n",
    "ra_up = 187.5833\n",
    "dec_down = 46.106\n",
    "dec_up = 56.1611"
   ]
  },
  {
   "cell_type": "code",
   "execution_count": 11,
   "metadata": {
    "collapsed": true
   },
   "outputs": [],
   "source": [
    "# Busy week Hatfield 2017\n",
    "ra_down = 170.\n",
    "ra_up = 190.\n",
    "dec_down = 46.8\n",
    "dec_up = 55.9"
   ]
  },
  {
   "cell_type": "code",
   "execution_count": 12,
   "metadata": {
    "collapsed": true
   },
   "outputs": [],
   "source": [
    "# Full field July 2017\n",
    "ra_down = 160.\n",
    "ra_up = 232.\n",
    "dec_down = 42.\n",
    "dec_up = 62."
   ]
  },
  {
   "cell_type": "code",
   "execution_count": 13,
   "metadata": {
    "collapsed": true
   },
   "outputs": [],
   "source": [
    "field = Field(170.0, 190.0, 46.8, 55.9)"
   ]
  },
  {
   "cell_type": "code",
   "execution_count": 14,
   "metadata": {
    "collapsed": true
   },
   "outputs": [],
   "source": [
    "field_full = Field(160.0, 232.0, 42.0, 62.0)"
   ]
  },
  {
   "cell_type": "markdown",
   "metadata": {},
   "source": [
    "## Load data"
   ]
  },
  {
   "cell_type": "code",
   "execution_count": 15,
   "metadata": {
    "collapsed": true
   },
   "outputs": [],
   "source": [
    "combined_all = Table.read(\"pw.fits\")"
   ]
  },
  {
   "cell_type": "code",
   "execution_count": 16,
   "metadata": {
    "collapsed": true
   },
   "outputs": [],
   "source": [
    "lofar_all = Table.read(\"data/LOFAR_HBA_T1_DR1_catalog_v0.9.srl.fits\")"
   ]
  },
  {
   "cell_type": "code",
   "execution_count": 17,
   "metadata": {},
   "outputs": [
    {
     "data": {
      "text/plain": [
       "array(['AllWISE', 'objID', 'ra', 'dec', 'raErr', 'decErr', 'W1mag',\n",
       "       'W1magErr', 'i', 'iErr'],\n",
       "      dtype='<U8')"
      ]
     },
     "execution_count": 17,
     "metadata": {},
     "output_type": "execute_result"
    }
   ],
   "source": [
    "np.array(combined_all.colnames)"
   ]
  },
  {
   "cell_type": "code",
   "execution_count": 18,
   "metadata": {},
   "outputs": [
    {
     "data": {
      "text/plain": [
       "array(['Source_Name', 'RA', 'E_RA', 'E_RA_tot', 'DEC', 'E_DEC',\n",
       "       'E_DEC_tot', 'Peak_flux', 'E_Peak_flux', 'E_Peak_flux_tot',\n",
       "       'Total_flux', 'E_Total_flux', 'E_Total_flux_tot', 'Maj', 'E_Maj',\n",
       "       'Min', 'E_Min', 'PA', 'E_PA', 'Isl_rms', 'S_Code', 'Mosaic_ID',\n",
       "       'Isl_id'],\n",
       "      dtype='<U16')"
      ]
     },
     "execution_count": 18,
     "metadata": {},
     "output_type": "execute_result"
    }
   ],
   "source": [
    "np.array(lofar_all.colnames)"
   ]
  },
  {
   "cell_type": "markdown",
   "metadata": {},
   "source": [
    "### Filter catalogues"
   ]
  },
  {
   "cell_type": "code",
   "execution_count": 19,
   "metadata": {
    "collapsed": true
   },
   "outputs": [],
   "source": [
    "lofar = field_full.filter_catalogue(lofar_all[lofar_all['Maj'] >= 30.], \n",
    "                                         colnames=(\"RA\", \"DEC\"))"
   ]
  },
  {
   "cell_type": "code",
   "execution_count": 20,
   "metadata": {
    "collapsed": true
   },
   "outputs": [],
   "source": [
    "combined = field_full.filter_catalogue(combined_all, \n",
    "                               colnames=(\"ra\", \"dec\"))"
   ]
  },
  {
   "cell_type": "markdown",
   "metadata": {},
   "source": [
    "### Additional data"
   ]
  },
  {
   "cell_type": "code",
   "execution_count": 21,
   "metadata": {
    "collapsed": true
   },
   "outputs": [],
   "source": [
    "combined[\"colour\"] = combined[\"i\"] - combined[\"W1mag\"]"
   ]
  },
  {
   "cell_type": "code",
   "execution_count": 22,
   "metadata": {
    "collapsed": true
   },
   "outputs": [],
   "source": [
    "combined_aux_index = np.arange(len(combined))"
   ]
  },
  {
   "cell_type": "markdown",
   "metadata": {},
   "source": [
    "### Sky coordinates"
   ]
  },
  {
   "cell_type": "code",
   "execution_count": 23,
   "metadata": {
    "collapsed": true
   },
   "outputs": [],
   "source": [
    "coords_combined = SkyCoord(combined['ra'], \n",
    "                           combined['dec'], \n",
    "                           unit=(u.deg, u.deg), \n",
    "                           frame='icrs')"
   ]
  },
  {
   "cell_type": "code",
   "execution_count": 24,
   "metadata": {
    "collapsed": true
   },
   "outputs": [],
   "source": [
    "coords_lofar = SkyCoord(lofar['RA'], \n",
    "                       lofar['DEC'], \n",
    "                       unit=(u.deg, u.deg), \n",
    "                       frame='icrs')"
   ]
  },
  {
   "cell_type": "markdown",
   "metadata": {},
   "source": [
    "### Class of sources in the combined catalogue\n",
    "\n",
    "The sources are grouped depending on the available photometric data."
   ]
  },
  {
   "cell_type": "code",
   "execution_count": 25,
   "metadata": {
    "collapsed": true
   },
   "outputs": [],
   "source": [
    "combined_matched = (~np.isnan(combined[\"i\"]) & ~np.isnan(combined[\"W1mag\"])) # Matched i-W1 sources"
   ]
  },
  {
   "cell_type": "code",
   "execution_count": 26,
   "metadata": {
    "collapsed": true
   },
   "outputs": [],
   "source": [
    "combined_panstarrs = (~np.isnan(combined[\"i\"]) & np.isnan(combined[\"W1mag\"])) # Sources with only i-band"
   ]
  },
  {
   "cell_type": "code",
   "execution_count": 27,
   "metadata": {
    "collapsed": true
   },
   "outputs": [],
   "source": [
    "combined_wise =(np.isnan(combined[\"i\"]) & ~np.isnan(combined[\"W1mag\"])) # Sources with only W1-band"
   ]
  },
  {
   "cell_type": "code",
   "execution_count": 28,
   "metadata": {
    "collapsed": true
   },
   "outputs": [],
   "source": [
    "combined_i = combined_matched | combined_panstarrs\n",
    "combined_w1 = combined_matched | combined_wise\n",
    "#combined_only_i = combined_panstarrs & ~combined_matched\n",
    "#combined_only_w1 = combined_wise & ~combined_matched"
   ]
  },
  {
   "cell_type": "code",
   "execution_count": 29,
   "metadata": {},
   "outputs": [
    {
     "name": "stdout",
     "output_type": "stream",
     "text": [
      "Total    -  31803022\n",
      "i and W1 -  8196213\n",
      "Only i   -  18583323\n",
      "With i   -  26779536\n",
      "Only W1  -  5023475\n",
      "With W1  -  13219688\n"
     ]
    }
   ],
   "source": [
    "print(\"Total    - \", len(combined))\n",
    "print(\"i and W1 - \", np.sum(combined_matched))\n",
    "print(\"Only i   - \", np.sum(combined_panstarrs))\n",
    "print(\"With i   - \", np.sum(combined_i))\n",
    "print(\"Only W1  - \", np.sum(combined_wise))\n",
    "print(\"With W1  - \", np.sum(combined_w1))"
   ]
  },
  {
   "cell_type": "markdown",
   "metadata": {},
   "source": [
    "### Colour categories\n",
    "\n",
    "The colour categories will be used after the first ML match"
   ]
  },
  {
   "cell_type": "code",
   "execution_count": 30,
   "metadata": {
    "collapsed": true
   },
   "outputs": [],
   "source": [
    "colour_limits = [-0.5, 0.0, 0.5, 1.0, 1.25, 1.5, 1.75, 2.0, 2.25, 2.5, 2.75, 3.0, 3.5, 4.0]"
   ]
  },
  {
   "cell_type": "code",
   "execution_count": 31,
   "metadata": {},
   "outputs": [
    {
     "name": "stderr",
     "output_type": "stream",
     "text": [
      "/disk2/jsm/prog/anaconda/envs/py36/lib/python3.6/site-packages/astropy/table/column.py:928: RuntimeWarning: invalid value encountered in less\n",
      "  return getattr(self.data, oper)(other)\n",
      "/disk2/jsm/prog/anaconda/envs/py36/lib/python3.6/site-packages/astropy/table/column.py:928: RuntimeWarning: invalid value encountered in greater_equal\n",
      "  return getattr(self.data, oper)(other)\n"
     ]
    }
   ],
   "source": [
    "# Start with the W1-only, i-only and \"less than lower colour\" bins\n",
    "colour_bin_def = [{\"name\":\"only W1\", \"condition\": combined_wise},\n",
    "                  {\"name\":\"only i\", \"condition\": combined_panstarrs},\n",
    "                  {\"name\":\"-inf to {}\".format(colour_limits[0]), \n",
    "                   \"condition\": (combined[\"colour\"] < colour_limits[0])}]\n",
    "\n",
    "# Get the colour bins\n",
    "for i in range(len(colour_limits)-1):\n",
    "    name = \"{} to {}\".format(colour_limits[i], colour_limits[i+1])\n",
    "    condition = ((combined[\"colour\"] >= colour_limits[i]) & \n",
    "                 (combined[\"colour\"] < colour_limits[i+1]))\n",
    "    colour_bin_def.append({\"name\":name, \"condition\":condition})\n",
    "\n",
    "# Add the \"more than higher colour\" bin\n",
    "colour_bin_def.append({\"name\":\"{} to inf\".format(colour_limits[-1]), \n",
    "                       \"condition\": (combined[\"colour\"] >= colour_limits[-1])})"
   ]
  },
  {
   "cell_type": "code",
   "execution_count": 32,
   "metadata": {
    "collapsed": true
   },
   "outputs": [],
   "source": [
    "combined[\"category\"] = np.nan\n",
    "for i in range(len(colour_bin_def)):\n",
    "    combined[\"category\"][colour_bin_def[i][\"condition\"]] = i"
   ]
  },
  {
   "cell_type": "code",
   "execution_count": 33,
   "metadata": {},
   "outputs": [
    {
     "data": {
      "text/plain": [
       "11"
      ]
     },
     "execution_count": 33,
     "metadata": {},
     "output_type": "execute_result"
    }
   ],
   "source": [
    "np.sum(np.isnan(combined[\"category\"]))"
   ]
  },
  {
   "cell_type": "markdown",
   "metadata": {},
   "source": [
    "We get the number of sources of the combined catalogue in each colour category. It will be used at a later stage to compute the $Q_0$ values"
   ]
  },
  {
   "cell_type": "code",
   "execution_count": 34,
   "metadata": {
    "collapsed": true
   },
   "outputs": [],
   "source": [
    "numbers_combined_bins = np.array([np.sum(a[\"condition\"]) for a in colour_bin_def])"
   ]
  },
  {
   "cell_type": "code",
   "execution_count": 35,
   "metadata": {},
   "outputs": [
    {
     "data": {
      "text/plain": [
       "array([ 5023475, 18583323,   617057,   435585,   680625,   914717,\n",
       "         656883,   775440,   830399,   803840,   712001,   578606,\n",
       "         437076,   307929,   317143,    94996,    33916])"
      ]
     },
     "execution_count": 35,
     "metadata": {},
     "output_type": "execute_result"
    }
   ],
   "source": [
    "numbers_combined_bins"
   ]
  },
  {
   "cell_type": "markdown",
   "metadata": {
    "collapsed": true
   },
   "source": [
    "## Maximum Likelihood"
   ]
  },
  {
   "cell_type": "code",
   "execution_count": 36,
   "metadata": {
    "collapsed": true
   },
   "outputs": [],
   "source": [
    "bin_list, centers, Q_0_colour, n_m, q_m = pickle.load(open(\"lofar_params.pckl\", \"rb\"))"
   ]
  },
  {
   "cell_type": "code",
   "execution_count": 37,
   "metadata": {
    "collapsed": true
   },
   "outputs": [],
   "source": [
    "likelihood_ratio_function = MultiMLEstimator(Q_0_colour, n_m, q_m, centers)"
   ]
  },
  {
   "cell_type": "markdown",
   "metadata": {},
   "source": [
    "### ML match"
   ]
  },
  {
   "cell_type": "code",
   "execution_count": 38,
   "metadata": {
    "collapsed": true
   },
   "outputs": [],
   "source": [
    "radius = 15"
   ]
  },
  {
   "cell_type": "code",
   "execution_count": 39,
   "metadata": {
    "collapsed": true
   },
   "outputs": [],
   "source": [
    "lr_threshold = 0.36"
   ]
  },
  {
   "cell_type": "code",
   "execution_count": 40,
   "metadata": {
    "collapsed": true
   },
   "outputs": [],
   "source": [
    "selection = ~np.isnan(combined[\"category\"]) # Avoid the dreaded sources with no actual data\n",
    "catalogue = combined[selection]"
   ]
  },
  {
   "cell_type": "code",
   "execution_count": 41,
   "metadata": {
    "collapsed": true
   },
   "outputs": [],
   "source": [
    "def apply_ml(i, likelihood_ratio_function):\n",
    "    idx_0 = idx_i[idx_lofar == i]\n",
    "    d2d_0 = d2d[idx_lofar == i]\n",
    "    \n",
    "    category = catalogue[\"category\"][idx_0].astype(int)\n",
    "    mag = catalogue[\"i\"][idx_0]\n",
    "    mag[category == 0] = catalogue[\"W1mag\"][idx_0][category == 0]\n",
    "    \n",
    "    lofar_ra = lofar[i][\"RA\"]\n",
    "    lofar_dec = lofar[i][\"DEC\"]\n",
    "    lofar_pa = lofar[i][\"PA\"]\n",
    "    lofar_maj_err = lofar[i][\"E_Maj\"]\n",
    "    lofar_min_err = lofar[i][\"E_Min\"]\n",
    "    c_ra = catalogue[\"ra\"][idx_0]\n",
    "    c_dec = catalogue[\"dec\"][idx_0]\n",
    "    c_ra_err = catalogue[\"raErr\"][idx_0]\n",
    "    c_dec_err = catalogue[\"decErr\"][idx_0]\n",
    "    \n",
    "    sigma = get_sigma(lofar_maj_err, lofar_min_err, lofar_pa, \n",
    "                      lofar_ra, lofar_dec, \n",
    "                      c_ra, c_dec, c_ra_err, c_dec_err)\n",
    "\n",
    "    lr_0 = likelihood_ratio_function(mag, d2d_0.arcsec, sigma, category)\n",
    "    \n",
    "    chosen_index = (lr_0 >= lr_threshold)\n",
    "    result = [combined_aux_index[selection][idx_0[chosen_index]], # Index\n",
    "              (d2d_0.arcsec)[chosen_index],                        # distance\n",
    "              lr_0[chosen_index]]                                  # LR\n",
    "    return result"
   ]
  },
  {
   "cell_type": "markdown",
   "metadata": {},
   "source": [
    "### Run the cross-match"
   ]
  },
  {
   "cell_type": "code",
   "execution_count": 42,
   "metadata": {
    "collapsed": true
   },
   "outputs": [],
   "source": [
    "idx_lofar, idx_i, d2d, d3d = search_around_sky(\n",
    "    coords_lofar, coords_combined[selection], radius*u.arcsec)"
   ]
  },
  {
   "cell_type": "code",
   "execution_count": 43,
   "metadata": {
    "collapsed": true
   },
   "outputs": [],
   "source": [
    "idx_lofar_unique = np.unique(idx_lofar)"
   ]
  },
  {
   "cell_type": "code",
   "execution_count": 44,
   "metadata": {
    "collapsed": true
   },
   "outputs": [],
   "source": [
    "total_sources = len(idx_lofar_unique)"
   ]
  },
  {
   "cell_type": "markdown",
   "metadata": {},
   "source": [
    "### Run the ML matching"
   ]
  },
  {
   "cell_type": "code",
   "execution_count": 45,
   "metadata": {
    "collapsed": true
   },
   "outputs": [],
   "source": [
    "def ml(i):\n",
    "    return apply_ml(i, likelihood_ratio_function)"
   ]
  },
  {
   "cell_type": "code",
   "execution_count": 46,
   "metadata": {},
   "outputs": [
    {
     "name": "stderr",
     "output_type": "stream",
     "text": [
      "100%|██████████| 4.30K/4.30K [02:17<00:00, 31.2it/s]\n",
      "100%|██████████| 4300/4300 [00:00<00:00, 287020.50it/s]\n"
     ]
    }
   ],
   "source": [
    "res = parallel_process(idx_lofar_unique, ml, n_jobs=8)"
   ]
  },
  {
   "cell_type": "markdown",
   "metadata": {},
   "source": [
    "### Selection and match"
   ]
  },
  {
   "cell_type": "code",
   "execution_count": 47,
   "metadata": {
    "collapsed": true
   },
   "outputs": [],
   "source": [
    "lofar_aux_index = np.arange(len(lofar))"
   ]
  },
  {
   "cell_type": "code",
   "execution_count": 48,
   "metadata": {
    "collapsed": true
   },
   "outputs": [],
   "source": [
    "lr = []\n",
    "lr_dist = []\n",
    "lr_index = []\n",
    "lr_order = []\n",
    "lr_lofar_index = []\n",
    "\n",
    "for i, idx in enumerate(idx_lofar_unique):\n",
    "    result = res[i]\n",
    "    n = len(result[0])\n",
    "    lofar_index = lofar_aux_index[idx]\n",
    "    if n > 0:\n",
    "        order = np.argsort(result[2])[::-1]\n",
    "        lr.extend(result[2][order])\n",
    "        lr_dist.extend(result[1][order])\n",
    "        lr_index.extend(result[0][order])\n",
    "        lr_order.extend(np.arange(n, dtype=int) + 1)\n",
    "        lr_lofar_index.extend(np.ones(n, dtype=int)*lofar_index)\n",
    "    else:\n",
    "        lr.append(np.nan)\n",
    "        lr_dist.append(np.nan)\n",
    "        lr_index.append(np.nan)\n",
    "        lr_order.append(np.nan)\n",
    "        lr_lofar_index.append(lofar_index)"
   ]
  },
  {
   "cell_type": "code",
   "execution_count": 49,
   "metadata": {
    "collapsed": true
   },
   "outputs": [],
   "source": [
    "aux_table = Table()\n",
    "aux_table['aux_index'] = lr_lofar_index\n",
    "aux_table['lr'] = lr\n",
    "aux_table['lr_dist'] = lr_dist\n",
    "aux_table['lr_index'] = lr_index\n",
    "aux_table['lr_order'] = lr_order"
   ]
  },
  {
   "cell_type": "code",
   "execution_count": 50,
   "metadata": {},
   "outputs": [
    {
     "data": {
      "text/html": [
       "&lt;Table length=5123&gt;\n",
       "<table id=\"table139864715849456\" class=\"table-striped table-bordered table-condensed\">\n",
       "<thead><tr><th>aux_index</th><th>lr</th><th>lr_dist</th><th>lr_index</th><th>lr_order</th></tr></thead>\n",
       "<thead><tr><th>int64</th><th>float64</th><th>float64</th><th>float64</th><th>float64</th></tr></thead>\n",
       "<tr><td>0</td><td>4.15630601591</td><td>7.21952240748</td><td>11408661.0</td><td>1.0</td></tr>\n",
       "<tr><td>1</td><td>556.592596532</td><td>1.14982263683</td><td>10930603.0</td><td>1.0</td></tr>\n",
       "<tr><td>1</td><td>2.1454448408</td><td>1.14982263683</td><td>10930604.0</td><td>2.0</td></tr>\n",
       "<tr><td>2</td><td>nan</td><td>nan</td><td>nan</td><td>nan</td></tr>\n",
       "<tr><td>3</td><td>0.781141027982</td><td>1.2929719743</td><td>10915215.0</td><td>1.0</td></tr>\n",
       "<tr><td>3</td><td>0.519191191864</td><td>2.43528867037</td><td>10916198.0</td><td>2.0</td></tr>\n",
       "<tr><td>4</td><td>nan</td><td>nan</td><td>nan</td><td>nan</td></tr>\n",
       "<tr><td>5</td><td>nan</td><td>nan</td><td>nan</td><td>nan</td></tr>\n",
       "<tr><td>6</td><td>nan</td><td>nan</td><td>nan</td><td>nan</td></tr>\n",
       "<tr><td>7</td><td>nan</td><td>nan</td><td>nan</td><td>nan</td></tr>\n",
       "<tr><td>...</td><td>...</td><td>...</td><td>...</td><td>...</td></tr>\n",
       "<tr><td>4628</td><td>nan</td><td>nan</td><td>nan</td><td>nan</td></tr>\n",
       "<tr><td>4629</td><td>nan</td><td>nan</td><td>nan</td><td>nan</td></tr>\n",
       "<tr><td>4630</td><td>0.485160050941</td><td>13.2393295354</td><td>17993020.0</td><td>1.0</td></tr>\n",
       "<tr><td>4630</td><td>0.372860090469</td><td>10.0441360907</td><td>31648490.0</td><td>2.0</td></tr>\n",
       "<tr><td>4631</td><td>1.53962187299</td><td>0.359093118484</td><td>31481158.0</td><td>1.0</td></tr>\n",
       "<tr><td>4631</td><td>0.740073283052</td><td>8.36125539124</td><td>31405244.0</td><td>2.0</td></tr>\n",
       "<tr><td>4632</td><td>1.4103823714</td><td>8.94180949023</td><td>17805908.0</td><td>1.0</td></tr>\n",
       "<tr><td>4632</td><td>0.58184028852</td><td>10.820825309</td><td>31786316.0</td><td>2.0</td></tr>\n",
       "<tr><td>4633</td><td>2.82916043452</td><td>10.6355466372</td><td>18069511.0</td><td>1.0</td></tr>\n",
       "<tr><td>4633</td><td>0.556176815359</td><td>10.880053618</td><td>18103456.0</td><td>2.0</td></tr>\n",
       "</table>"
      ],
      "text/plain": [
       "<Table length=5123>\n",
       "aux_index       lr          lr_dist      lr_index  lr_order\n",
       "  int64      float64        float64      float64   float64 \n",
       "--------- -------------- -------------- ---------- --------\n",
       "        0  4.15630601591  7.21952240748 11408661.0      1.0\n",
       "        1  556.592596532  1.14982263683 10930603.0      1.0\n",
       "        1   2.1454448408  1.14982263683 10930604.0      2.0\n",
       "        2            nan            nan        nan      nan\n",
       "        3 0.781141027982   1.2929719743 10915215.0      1.0\n",
       "        3 0.519191191864  2.43528867037 10916198.0      2.0\n",
       "        4            nan            nan        nan      nan\n",
       "        5            nan            nan        nan      nan\n",
       "        6            nan            nan        nan      nan\n",
       "        7            nan            nan        nan      nan\n",
       "      ...            ...            ...        ...      ...\n",
       "     4628            nan            nan        nan      nan\n",
       "     4629            nan            nan        nan      nan\n",
       "     4630 0.485160050941  13.2393295354 17993020.0      1.0\n",
       "     4630 0.372860090469  10.0441360907 31648490.0      2.0\n",
       "     4631  1.53962187299 0.359093118484 31481158.0      1.0\n",
       "     4631 0.740073283052  8.36125539124 31405244.0      2.0\n",
       "     4632   1.4103823714  8.94180949023 17805908.0      1.0\n",
       "     4632  0.58184028852   10.820825309 31786316.0      2.0\n",
       "     4633  2.82916043452  10.6355466372 18069511.0      1.0\n",
       "     4633 0.556176815359   10.880053618 18103456.0      2.0"
      ]
     },
     "execution_count": 50,
     "metadata": {},
     "output_type": "execute_result"
    }
   ],
   "source": [
    "aux_table"
   ]
  },
  {
   "cell_type": "code",
   "execution_count": 51,
   "metadata": {
    "collapsed": true
   },
   "outputs": [],
   "source": [
    "lofar[\"aux_index\"] = lofar_aux_index"
   ]
  },
  {
   "cell_type": "code",
   "execution_count": 52,
   "metadata": {
    "collapsed": true
   },
   "outputs": [],
   "source": [
    "lofar_lr = join(lofar, aux_table, join_type='outer', keys='aux_index')"
   ]
  },
  {
   "cell_type": "code",
   "execution_count": 53,
   "metadata": {},
   "outputs": [
    {
     "data": {
      "text/html": [
       "&lt;Table masked=True length=5454&gt;\n",
       "<table id=\"table139867826393216\" class=\"table-striped table-bordered table-condensed\">\n",
       "<thead><tr><th>Source_Name</th><th>RA</th><th>E_RA</th><th>E_RA_tot</th><th>DEC</th><th>E_DEC</th><th>E_DEC_tot</th><th>Peak_flux</th><th>E_Peak_flux</th><th>E_Peak_flux_tot</th><th>Total_flux</th><th>E_Total_flux</th><th>E_Total_flux_tot</th><th>Maj</th><th>E_Maj</th><th>Min</th><th>E_Min</th><th>PA</th><th>E_PA</th><th>Isl_rms</th><th>S_Code</th><th>Mosaic_ID</th><th>Isl_id</th><th>aux_index</th><th>lr</th><th>lr_dist</th><th>lr_index</th><th>lr_order</th></tr></thead>\n",
       "<thead><tr><th></th><th>deg</th><th>arcsec</th><th>arcsec</th><th>deg</th><th>arcsec</th><th>arcsec</th><th>mJy / beam</th><th>mJy / beam</th><th>mJy / beam</th><th>mJy</th><th>mJy</th><th>mJy</th><th>arcsec</th><th>arcsec</th><th>arcsec</th><th>arcsec</th><th>deg</th><th>deg</th><th>mJy / beam</th><th></th><th></th><th></th><th></th><th></th><th></th><th></th><th></th></tr></thead>\n",
       "<thead><tr><th>str24</th><th>float64</th><th>float64</th><th>float64</th><th>float64</th><th>float64</th><th>float64</th><th>float64</th><th>float64</th><th>float64</th><th>float64</th><th>float64</th><th>float64</th><th>float64</th><th>float64</th><th>float64</th><th>float64</th><th>float64</th><th>float64</th><th>float64</th><th>str1</th><th>str8</th><th>int32</th><th>int64</th><th>float64</th><th>float64</th><th>float64</th><th>float64</th></tr></thead>\n",
       "<tr><td>ILTJ122034.036+503026.19</td><td>185.14181653</td><td>1.6803150482</td><td>1.68485208756</td><td>50.5072751983</td><td>2.03186813265</td><td>2.03562177337</td><td>0.409341156683</td><td>0.0656106387635</td><td>0.104915028576</td><td>6.56610340421</td><td>0.0695943200116</td><td>1.31506346842</td><td>33.6151577179</td><td>5.61845082329</td><td>17.1843882644</td><td>2.64137679093</td><td>37.9521756126</td><td>18.3834711277</td><td>0.103788341221</td><td>S</td><td>P22Hetde</td><td>387</td><td>0</td><td>4.15630601591</td><td>7.21952240748</td><td>11408661.0</td><td>1.0</td></tr>\n",
       "<tr><td>ILTJ122020.649+493520.07</td><td>185.08603568</td><td>0.814015307542</td><td>0.823340037081</td><td>49.5889084893</td><td>0.759973787986</td><td>0.769953280514</td><td>0.507827290379</td><td>0.0372784310345</td><td>0.108190682106</td><td>7.2317431976</td><td>0.039818665574</td><td>1.4468966491</td><td>30.6081876366</td><td>2.34172343559</td><td>16.7531254717</td><td>1.17999733002</td><td>49.7651346205</td><td>9.61065545882</td><td>0.0560113621759</td><td>S</td><td>P22Hetde</td><td>399</td><td>1</td><td>556.592596532</td><td>1.14982263683</td><td>10930603.0</td><td>1.0</td></tr>\n",
       "<tr><td>ILTJ122020.649+493520.07</td><td>185.08603568</td><td>0.814015307542</td><td>0.823340037081</td><td>49.5889084893</td><td>0.759973787986</td><td>0.769953280514</td><td>0.507827290379</td><td>0.0372784310345</td><td>0.108190682106</td><td>7.2317431976</td><td>0.039818665574</td><td>1.4468966491</td><td>30.6081876366</td><td>2.34172343559</td><td>16.7531254717</td><td>1.17999733002</td><td>49.7651346205</td><td>9.61065545882</td><td>0.0560113621759</td><td>S</td><td>P22Hetde</td><td>399</td><td>1</td><td>2.1454448408</td><td>1.14982263683</td><td>10930604.0</td><td>2.0</td></tr>\n",
       "<tr><td>ILTJ121913.652+492142.88</td><td>184.806882892</td><td>1.03526505386</td><td>1.04261288478</td><td>49.3619120787</td><td>1.5199507989</td><td>1.52496502479</td><td>0.32265640886</td><td>0.0366216077033</td><td>0.0741985746353</td><td>5.74680165471</td><td>0.0386255622924</td><td>1.15000917579</td><td>31.9249689259</td><td>3.71656914119</td><td>20.0882863707</td><td>2.22292789957</td><td>20.8417352622</td><td>16.0887693019</td><td>0.0597976068093</td><td>S</td><td>P22Hetde</td><td>759</td><td>2</td><td>nan</td><td>nan</td><td>nan</td><td>nan</td></tr>\n",
       "<tr><td>ILTJ121910.749+492049.61</td><td>184.794788594</td><td>1.41814290396</td><td>1.42351578559</td><td>49.3471151607</td><td>1.36333133491</td><td>1.36891936376</td><td>0.313950921247</td><td>0.0305315967326</td><td>0.0698196651175</td><td>8.57330231112</td><td>0.0316306547195</td><td>1.71495218564</td><td>40.4729460999</td><td>4.00995476772</td><td>24.2945414801</td><td>2.31904707592</td><td>48.4957546418</td><td>13.3287306941</td><td>0.0599399863859</td><td>S</td><td>P22Hetde</td><td>775</td><td>3</td><td>0.781141027982</td><td>1.2929719743</td><td>10915215.0</td><td>1.0</td></tr>\n",
       "<tr><td>ILTJ121910.749+492049.61</td><td>184.794788594</td><td>1.41814290396</td><td>1.42351578559</td><td>49.3471151607</td><td>1.36333133491</td><td>1.36891936376</td><td>0.313950921247</td><td>0.0305315967326</td><td>0.0698196651175</td><td>8.57330231112</td><td>0.0316306547195</td><td>1.71495218564</td><td>40.4729460999</td><td>4.00995476772</td><td>24.2945414801</td><td>2.31904707592</td><td>48.4957546418</td><td>13.3287306941</td><td>0.0599399863859</td><td>S</td><td>P22Hetde</td><td>775</td><td>3</td><td>0.519191191864</td><td>2.43528867037</td><td>10916198.0</td><td>2.0</td></tr>\n",
       "<tr><td>ILTJ121856.362+502630.32</td><td>184.734842009</td><td>0.0349134889266</td><td>0.128401119377</td><td>50.4417576778</td><td>0.0959182676008</td><td>0.156423175418</td><td>267.347898652</td><td>0.697937677614</td><td>53.4741346219</td><td>1386.08003266</td><td>2.53004016267</td><td>277.227551626</td><td>42.5142169085</td><td>0.233953233891</td><td>12.2043960762</td><td>0.0551594224043</td><td>75.6567667866</td><td>0.399159737233</td><td>0.697937677614</td><td>M</td><td>P22Hetde</td><td>904</td><td>4</td><td>nan</td><td>nan</td><td>nan</td><td>nan</td></tr>\n",
       "<tr><td>ILTJ121839.336+502549.84</td><td>184.663900816</td><td>0.0453994495482</td><td>0.131639681584</td><td>50.4305116771</td><td>0.0931867086809</td><td>0.154763233435</td><td>525.156024562</td><td>0.703760422766</td><td>105.033562655</td><td>1463.23476862</td><td>2.49456978375</td><td>292.657585588</td><td>32.4963076544</td><td>0.233572536285</td><td>11.9460899144</td><td>0.0708949645617</td><td>70.0831786146</td><td>0.556076324599</td><td>0.703760422766</td><td>M</td><td>P22Hetde</td><td>989</td><td>5</td><td>nan</td><td>nan</td><td>nan</td><td>nan</td></tr>\n",
       "<tr><td>ILTJ121726.255+485443.07</td><td>184.359394216</td><td>1.07170773784</td><td>1.07880738369</td><td>48.9119664265</td><td>1.5336575099</td><td>1.53862706768</td><td>3.96338284021</td><td>0.101598379842</td><td>0.799161042788</td><td>44.7671670202</td><td>0.195534743254</td><td>8.95556829891</td><td>75.3950171575</td><td>4.38717469654</td><td>9.61917388388</td><td>0.40557954139</td><td>56.1361708207</td><td>3.47303828942</td><td>0.101598379842</td><td>M</td><td>P22Hetde</td><td>1350</td><td>6</td><td>nan</td><td>nan</td><td>nan</td><td>nan</td></tr>\n",
       "<tr><td>...</td><td>...</td><td>...</td><td>...</td><td>...</td><td>...</td><td>...</td><td>...</td><td>...</td><td>...</td><td>...</td><td>...</td><td>...</td><td>...</td><td>...</td><td>...</td><td>...</td><td>...</td><td>...</td><td>...</td><td>...</td><td>...</td><td>...</td><td>...</td><td>...</td><td>...</td><td>...</td><td>...</td></tr>\n",
       "<tr><td>ILTJ134709.873+494747.92</td><td>206.791138823</td><td>10.2608863243</td><td>10.2621447879</td><td>49.796645035</td><td>10.4509355437</td><td>10.452171125</td><td>0.136857475655</td><td>0.0801158374039</td><td>0.0846625427721</td><td>6.59446034754</td><td>0.0817616106204</td><td>1.32142394862</td><td>42.282220218</td><td>24.7670680073</td><td>41.0258078805</td><td>24.0015909953</td><td>26.9549901434</td><td>179.846450053</td><td>0.202775700018</td><td>S</td><td>P206+50</td><td>9964</td><td>4628</td><td>nan</td><td>nan</td><td>nan</td><td>nan</td></tr>\n",
       "<tr><td>ILTJ134632.301+485421.18</td><td>206.634588782</td><td>6.09050055912</td><td>6.09262049928</td><td>48.9058837738</td><td>8.20323694906</td><td>8.20481102342</td><td>0.0597379590874</td><td>0.0196921954311</td><td>0.0230331828268</td><td>4.18135735789</td><td>0.0199715633002</td><td>0.836509914774</td><td>59.0972313295</td><td>19.5695548958</td><td>42.6451760327</td><td>13.9940561139</td><td>166.42997423</td><td>55.2200606894</td><td>0.0595674064243</td><td>S</td><td>P206+50</td><td>9965</td><td>4629</td><td>nan</td><td>nan</td><td>nan</td><td>nan</td></tr>\n",
       "<tr><td>ILTJ134454.662+491951.32</td><td>206.227759779</td><td>8.71976713446</td><td>8.72124798219</td><td>49.3309227454</td><td>10.0949662552</td><td>10.0962454002</td><td>0.0578780941924</td><td>0.0252661695745</td><td>0.027791622415</td><td>3.61793467655</td><td>0.0256672432086</td><td>0.724042029392</td><td>61.6611012311</td><td>27.1506478165</td><td>36.4984671231</td><td>15.7963254274</td><td>35.8648709586</td><td>53.3979794776</td><td>0.0725644931663</td><td>S</td><td>P206+50</td><td>9967</td><td>4630</td><td>0.485160050941</td><td>13.2393295354</td><td>17993020.0</td><td>1.0</td></tr>\n",
       "<tr><td>ILTJ134454.662+491951.32</td><td>206.227759779</td><td>8.71976713446</td><td>8.72124798219</td><td>49.3309227454</td><td>10.0949662552</td><td>10.0962454002</td><td>0.0578780941924</td><td>0.0252661695745</td><td>0.027791622415</td><td>3.61793467655</td><td>0.0256672432086</td><td>0.724042029392</td><td>61.6611012311</td><td>27.1506478165</td><td>36.4984671231</td><td>15.7963254274</td><td>35.8648709586</td><td>53.3979794776</td><td>0.0725644931663</td><td>S</td><td>P206+50</td><td>9967</td><td>4630</td><td>0.372860090469</td><td>10.0441360907</td><td>31648490.0</td><td>2.0</td></tr>\n",
       "<tr><td>ILTJ134426.185+492250.83</td><td>206.109104993</td><td>7.35337747571</td><td>7.355133431</td><td>49.3807881244</td><td>8.14633251011</td><td>8.1479175777</td><td>0.0646593122396</td><td>0.0216523667916</td><td>0.025220191396</td><td>5.24164882945</td><td>0.0219178391556</td><td>1.04855886326</td><td>59.5889525737</td><td>20.0032386041</td><td>48.9792776867</td><td>16.3616237264</td><td>28.8371736979</td><td>82.7450691357</td><td>0.0702290708432</td><td>S</td><td>P206+50</td><td>9968</td><td>4631</td><td>1.53962187299</td><td>0.359093118484</td><td>31481158.0</td><td>1.0</td></tr>\n",
       "<tr><td>ILTJ134426.185+492250.83</td><td>206.109104993</td><td>7.35337747571</td><td>7.355133431</td><td>49.3807881244</td><td>8.14633251011</td><td>8.1479175777</td><td>0.0646593122396</td><td>0.0216523667916</td><td>0.025220191396</td><td>5.24164882945</td><td>0.0219178391556</td><td>1.04855886326</td><td>59.5889525737</td><td>20.0032386041</td><td>48.9792776867</td><td>16.3616237264</td><td>28.8371736979</td><td>82.7450691357</td><td>0.0702290708432</td><td>S</td><td>P206+50</td><td>9968</td><td>4631</td><td>0.740073283052</td><td>8.36125539124</td><td>31405244.0</td><td>2.0</td></tr>\n",
       "<tr><td>ILTJ134416.177+484518.63</td><td>206.067405501</td><td>4.27904823131</td><td>4.2820650688</td><td>48.7551761932</td><td>2.35101550671</td><td>2.35650194153</td><td>0.197490968078</td><td>0.0240902457249</td><td>0.0462649677184</td><td>19.4004590358</td><td>0.0243342686365</td><td>3.88016811344</td><td>83.8064149769</td><td>10.2995547168</td><td>42.2084335982</td><td>5.11029566712</td><td>103.05693549</td><td>12.4492036664</td><td>0.0860225482029</td><td>S</td><td>P206+50</td><td>9970</td><td>4632</td><td>0.58184028852</td><td>10.820825309</td><td>31786316.0</td><td>2.0</td></tr>\n",
       "<tr><td>ILTJ134416.177+484518.63</td><td>206.067405501</td><td>4.27904823131</td><td>4.2820650688</td><td>48.7551761932</td><td>2.35101550671</td><td>2.35650194153</td><td>0.197490968078</td><td>0.0240902457249</td><td>0.0462649677184</td><td>19.4004590358</td><td>0.0243342686365</td><td>3.88016811344</td><td>83.8064149769</td><td>10.2995547168</td><td>42.2084335982</td><td>5.11029566712</td><td>103.05693549</td><td>12.4492036664</td><td>0.0860225482029</td><td>S</td><td>P206+50</td><td>9970</td><td>4632</td><td>1.4103823714</td><td>8.94180949023</td><td>17805908.0</td><td>1.0</td></tr>\n",
       "<tr><td>ILTJ134311.277+491857.55</td><td>205.796987079</td><td>10.0774803606</td><td>10.0787617249</td><td>49.3159867305</td><td>11.2244774561</td><td>11.2256278956</td><td>0.198956672145</td><td>0.108410789679</td><td>0.115482681016</td><td>9.42576116904</td><td>0.110676392851</td><td>1.8883983183</td><td>57.4020158334</td><td>31.7328982534</td><td>29.7163017148</td><td>15.9602674185</td><td>139.285397713</td><td>58.5452540984</td><td>0.274070509477</td><td>S</td><td>P206+50</td><td>9971</td><td>4633</td><td>2.82916043452</td><td>10.6355466372</td><td>18069511.0</td><td>1.0</td></tr>\n",
       "<tr><td>ILTJ134311.277+491857.55</td><td>205.796987079</td><td>10.0774803606</td><td>10.0787617249</td><td>49.3159867305</td><td>11.2244774561</td><td>11.2256278956</td><td>0.198956672145</td><td>0.108410789679</td><td>0.115482681016</td><td>9.42576116904</td><td>0.110676392851</td><td>1.8883983183</td><td>57.4020158334</td><td>31.7328982534</td><td>29.7163017148</td><td>15.9602674185</td><td>139.285397713</td><td>58.5452540984</td><td>0.274070509477</td><td>S</td><td>P206+50</td><td>9971</td><td>4633</td><td>0.556176815359</td><td>10.880053618</td><td>18103456.0</td><td>2.0</td></tr>\n",
       "</table>"
      ],
      "text/plain": [
       "<Table masked=True length=5454>\n",
       "      Source_Name              RA            E_RA      ...  lr_index  lr_order\n",
       "                              deg           arcsec     ...                    \n",
       "         str24              float64        float64     ...  float64   float64 \n",
       "------------------------ ------------- --------------- ... ---------- --------\n",
       "ILTJ122034.036+503026.19  185.14181653    1.6803150482 ... 11408661.0      1.0\n",
       "ILTJ122020.649+493520.07  185.08603568  0.814015307542 ... 10930603.0      1.0\n",
       "ILTJ122020.649+493520.07  185.08603568  0.814015307542 ... 10930604.0      2.0\n",
       "ILTJ121913.652+492142.88 184.806882892   1.03526505386 ...        nan      nan\n",
       "ILTJ121910.749+492049.61 184.794788594   1.41814290396 ... 10915215.0      1.0\n",
       "ILTJ121910.749+492049.61 184.794788594   1.41814290396 ... 10916198.0      2.0\n",
       "ILTJ121856.362+502630.32 184.734842009 0.0349134889266 ...        nan      nan\n",
       "ILTJ121839.336+502549.84 184.663900816 0.0453994495482 ...        nan      nan\n",
       "ILTJ121726.255+485443.07 184.359394216   1.07170773784 ...        nan      nan\n",
       "                     ...           ...             ... ...        ...      ...\n",
       "ILTJ134709.873+494747.92 206.791138823   10.2608863243 ...        nan      nan\n",
       "ILTJ134632.301+485421.18 206.634588782   6.09050055912 ...        nan      nan\n",
       "ILTJ134454.662+491951.32 206.227759779   8.71976713446 ... 17993020.0      1.0\n",
       "ILTJ134454.662+491951.32 206.227759779   8.71976713446 ... 31648490.0      2.0\n",
       "ILTJ134426.185+492250.83 206.109104993   7.35337747571 ... 31481158.0      1.0\n",
       "ILTJ134426.185+492250.83 206.109104993   7.35337747571 ... 31405244.0      2.0\n",
       "ILTJ134416.177+484518.63 206.067405501   4.27904823131 ... 31786316.0      2.0\n",
       "ILTJ134416.177+484518.63 206.067405501   4.27904823131 ... 17805908.0      1.0\n",
       "ILTJ134311.277+491857.55 205.796987079   10.0774803606 ... 18069511.0      1.0\n",
       "ILTJ134311.277+491857.55 205.796987079   10.0774803606 ... 18103456.0      2.0"
      ]
     },
     "execution_count": 53,
     "metadata": {},
     "output_type": "execute_result"
    }
   ],
   "source": [
    "lofar_lr"
   ]
  },
  {
   "cell_type": "markdown",
   "metadata": {},
   "source": [
    "## Save combined catalogue"
   ]
  },
  {
   "cell_type": "code",
   "execution_count": 54,
   "metadata": {
    "collapsed": true
   },
   "outputs": [],
   "source": [
    "combined[\"lr_index\"] = combined_aux_index.astype(float)"
   ]
  },
  {
   "cell_type": "code",
   "execution_count": 55,
   "metadata": {
    "collapsed": true
   },
   "outputs": [],
   "source": [
    "for col in ['lr', 'lr_dist', 'lr_index', 'lr_order']:\n",
    "    lofar_lr[col].fill_value = np.nan"
   ]
  },
  {
   "cell_type": "code",
   "execution_count": 56,
   "metadata": {
    "collapsed": true
   },
   "outputs": [],
   "source": [
    "pwl = join(lofar_lr.filled(), combined, join_type='left', keys='lr_index')"
   ]
  },
  {
   "cell_type": "code",
   "execution_count": 57,
   "metadata": {},
   "outputs": [
    {
     "data": {
      "text/plain": [
       "5454"
      ]
     },
     "execution_count": 57,
     "metadata": {},
     "output_type": "execute_result"
    }
   ],
   "source": [
    "len(pwl)"
   ]
  },
  {
   "cell_type": "code",
   "execution_count": 58,
   "metadata": {
    "collapsed": true
   },
   "outputs": [],
   "source": [
    "pwl_columns = pwl.colnames"
   ]
  },
  {
   "cell_type": "code",
   "execution_count": 59,
   "metadata": {},
   "outputs": [
    {
     "name": "stdout",
     "output_type": "stream",
     "text": [
      "dec 1.0\n",
      "W1mag 1.0\n",
      "i 1.0\n",
      "colour 1.0\n",
      "category 1.0\n"
     ]
    }
   ],
   "source": [
    "for col in pwl_columns:\n",
    "    fv = pwl[col].fill_value\n",
    "    #print(col, fv)\n",
    "    if (isinstance(fv, np.float64) and (fv != 1e+20)):\n",
    "        print(col, fv)\n",
    "        pwl[col].fill_value = 1e+20"
   ]
  },
  {
   "cell_type": "code",
   "execution_count": 60,
   "metadata": {
    "collapsed": true
   },
   "outputs": [],
   "source": [
    "columns_save = ['Source_Name', 'RA', 'E_RA', 'E_RA_tot', 'DEC', 'E_DEC', 'E_DEC_tot',\n",
    " 'Peak_flux', 'E_Peak_flux', 'E_Peak_flux_tot', 'Total_flux', 'E_Total_flux', 'E_Total_flux_tot',\n",
    " 'Maj', 'E_Maj', 'Min', 'E_Min', 'PA', 'E_PA', 'Isl_rms', 'S_Code', 'Mosaic_ID', 'Isl_id',\n",
    " 'AllWISE', 'objID', 'ra', 'dec', 'raErr', 'decErr',\n",
    " 'W1mag', 'W1magErr', 'i', 'iErr', 'colour', 'category',\n",
    " 'lr', 'lr_dist', 'lr_order']"
   ]
  },
  {
   "cell_type": "code",
   "execution_count": 61,
   "metadata": {
    "collapsed": true
   },
   "outputs": [],
   "source": [
    "pwl[columns_save].write('lofar_multi_lr_pw-extended.fits', format=\"fits\")"
   ]
  },
  {
   "cell_type": "code",
   "execution_count": null,
   "metadata": {
    "collapsed": true
   },
   "outputs": [],
   "source": []
  }
 ],
 "metadata": {
  "kernelspec": {
   "display_name": "Python 3",
   "language": "python",
   "name": "python3"
  },
  "language_info": {
   "codemirror_mode": {
    "name": "ipython",
    "version": 3
   },
   "file_extension": ".py",
   "mimetype": "text/x-python",
   "name": "python",
   "nbconvert_exporter": "python",
   "pygments_lexer": "ipython3",
   "version": "3.6.1"
  }
 },
 "nbformat": 4,
 "nbformat_minor": 1
}
