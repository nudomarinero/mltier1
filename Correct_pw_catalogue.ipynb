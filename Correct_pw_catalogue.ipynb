{
 "cells": [
  {
   "cell_type": "code",
   "execution_count": 1,
   "metadata": {
    "collapsed": true
   },
   "outputs": [],
   "source": [
    "import numpy as np\n",
    "from astropy.table import Table, join\n",
    "from astropy import units as u\n",
    "from astropy.coordinates import SkyCoord, search_around_sky\n",
    "from IPython.display import clear_output\n",
    "from mltier1 import Field, describe"
   ]
  },
  {
   "cell_type": "code",
   "execution_count": 2,
   "metadata": {
    "collapsed": true
   },
   "outputs": [],
   "source": [
    "combined = Table.read(\"pw_lrdata.fits\")"
   ]
  },
  {
   "cell_type": "code",
   "execution_count": 3,
   "metadata": {
    "collapsed": false
   },
   "outputs": [
    {
     "data": {
      "text/plain": [
       "['AllWISE',\n",
       " 'raWise',\n",
       " 'decWise',\n",
       " 'raWiseErr',\n",
       " 'decWiseErr',\n",
       " 'W1mag',\n",
       " 'W1magErr',\n",
       " 'lr',\n",
       " 'lr_dist',\n",
       " 'lr_panstarrs_index',\n",
       " 'lr_pc',\n",
       " 'lr_index',\n",
       " 'objID',\n",
       " 'raMean',\n",
       " 'decMean',\n",
       " 'raMeanErr',\n",
       " 'decMeanErr',\n",
       " 'i',\n",
       " 'iErr',\n",
       " 'ra',\n",
       " 'dec',\n",
       " 'raErr',\n",
       " 'decErr']"
      ]
     },
     "execution_count": 3,
     "metadata": {},
     "output_type": "execute_result"
    }
   ],
   "source": [
    "combined.colnames"
   ]
  },
  {
   "cell_type": "code",
   "execution_count": 4,
   "metadata": {
    "collapsed": false
   },
   "outputs": [
    {
     "data": {
      "text/html": [
       "&lt;Table masked=True length=1&gt;\n",
       "<table id=\"table139818369186672\" class=\"table-striped table-bordered table-condensed\">\n",
       "<thead><tr><th>AllWISE</th><th>raWise</th><th>decWise</th><th>raWiseErr</th><th>decWiseErr</th><th>W1mag</th><th>W1magErr</th><th>lr</th><th>lr_dist</th><th>lr_panstarrs_index</th><th>lr_pc</th><th>lr_index</th><th>objID</th><th>raMean</th><th>decMean</th><th>raMeanErr</th><th>decMeanErr</th><th>i</th><th>iErr</th><th>ra</th><th>dec</th><th>raErr</th><th>decErr</th></tr></thead>\n",
       "<thead><tr><th>str19</th><th>float64</th><th>float64</th><th>float64</th><th>float64</th><th>float64</th><th>float64</th><th>float64</th><th>float64</th><th>float64</th><th>float64</th><th>float64</th><th>int64</th><th>float64</th><th>float64</th><th>float64</th><th>float64</th><th>float64</th><th>float64</th><th>float64</th><th>float64</th><th>float64</th><th>float64</th></tr></thead>\n",
       "<tr><td>J144838.14+425031.4</td><td>222.1589478</td><td>42.8420628</td><td>0.5809</td><td>0.631</td><td>20.7227584285</td><td>0.216</td><td>1.22992011813e-22</td><td>10.4471197307</td><td>18348498.0</td><td>1.22992011813e-22</td><td>nan</td><td>--</td><td>nan</td><td>nan</td><td>nan</td><td>nan</td><td>nan</td><td>nan</td><td>nan</td><td>nan</td><td>nan</td><td>nan</td></tr>\n",
       "</table>"
      ],
      "text/plain": [
       "<Table masked=True length=1>\n",
       "      AllWISE          raWise    decWise   raWiseErr ...   dec    raErr   decErr\n",
       "       str19          float64    float64    float64  ... float64 float64 float64\n",
       "------------------- ----------- ---------- --------- ... ------- ------- -------\n",
       "J144838.14+425031.4 222.1589478 42.8420628    0.5809 ...     nan     nan     nan"
      ]
     },
     "execution_count": 4,
     "metadata": {},
     "output_type": "execute_result"
    }
   ],
   "source": [
    "combined[combined[\"AllWISE\"] == \"J144838.14+425031.4\"]"
   ]
  },
  {
   "cell_type": "code",
   "execution_count": 5,
   "metadata": {
    "collapsed": true
   },
   "outputs": [],
   "source": [
    "combined['ra'] = combined['raMean']\n",
    "combined['dec'] = combined['decMean']\n",
    "combined['raErr'] = combined['raMeanErr']\n",
    "combined['decErr'] = combined['decMeanErr']\n",
    "\n",
    "combined['ra'][np.isnan(combined['raMean'])] = combined['raWise'][np.isnan(combined['raMean'])]\n",
    "combined['dec'][np.isnan(combined['decMean'])] = combined['decWise'][np.isnan(combined['decMean'])]\n",
    "combined['raErr'][np.isnan(combined['raMean'])] = combined['raWiseErr'][np.isnan(combined['raMean'])]\n",
    "combined['decErr'][np.isnan(combined['decMean'])] = combined['decWiseErr'][np.isnan(combined['decMean'])]"
   ]
  },
  {
   "cell_type": "code",
   "execution_count": 6,
   "metadata": {
    "collapsed": true
   },
   "outputs": [],
   "source": [
    "for col in [\"raMean\", \"decMean\", \"raMeanErr\", \"decMeanErr\",\n",
    "            \"raWise\", \"decWise\", \"raWiseErr\", \"decWiseErr\",\n",
    "            \"ra\", \"dec\", \"raErr\", \"decErr\"]:\n",
    "    combined[col].fill_value = 1e+20"
   ]
  },
  {
   "cell_type": "code",
   "execution_count": 7,
   "metadata": {
    "collapsed": false
   },
   "outputs": [
    {
     "data": {
      "text/html": [
       "&lt;Table masked=True length=1&gt;\n",
       "<table id=\"table139817743765456\" class=\"table-striped table-bordered table-condensed\">\n",
       "<thead><tr><th>AllWISE</th><th>raWise</th><th>decWise</th><th>raWiseErr</th><th>decWiseErr</th><th>W1mag</th><th>W1magErr</th><th>lr</th><th>lr_dist</th><th>lr_panstarrs_index</th><th>lr_pc</th><th>lr_index</th><th>objID</th><th>raMean</th><th>decMean</th><th>raMeanErr</th><th>decMeanErr</th><th>i</th><th>iErr</th><th>ra</th><th>dec</th><th>raErr</th><th>decErr</th></tr></thead>\n",
       "<thead><tr><th>str19</th><th>float64</th><th>float64</th><th>float64</th><th>float64</th><th>float64</th><th>float64</th><th>float64</th><th>float64</th><th>float64</th><th>float64</th><th>float64</th><th>int64</th><th>float64</th><th>float64</th><th>float64</th><th>float64</th><th>float64</th><th>float64</th><th>float64</th><th>float64</th><th>float64</th><th>float64</th></tr></thead>\n",
       "<tr><td>J144838.14+425031.4</td><td>222.1589478</td><td>42.8420628</td><td>0.5809</td><td>0.631</td><td>20.7227584285</td><td>0.216</td><td>1.22992011813e-22</td><td>10.4471197307</td><td>18348498.0</td><td>1.22992011813e-22</td><td>nan</td><td>--</td><td>nan</td><td>nan</td><td>nan</td><td>nan</td><td>nan</td><td>nan</td><td>222.1589478</td><td>42.8420628</td><td>0.5809</td><td>0.631</td></tr>\n",
       "</table>"
      ],
      "text/plain": [
       "<Table masked=True length=1>\n",
       "      AllWISE          raWise    decWise   ...    dec      raErr   decErr\n",
       "       str19          float64    float64   ...  float64   float64 float64\n",
       "------------------- ----------- ---------- ... ---------- ------- -------\n",
       "J144838.14+425031.4 222.1589478 42.8420628 ... 42.8420628  0.5809   0.631"
      ]
     },
     "execution_count": 7,
     "metadata": {},
     "output_type": "execute_result"
    }
   ],
   "source": [
    "combined[combined[\"AllWISE\"] == \"J144838.14+425031.4\"]"
   ]
  },
  {
   "cell_type": "code",
   "execution_count": 8,
   "metadata": {
    "collapsed": true
   },
   "outputs": [],
   "source": [
    "columns_save = ['AllWISE', 'objID', 'ra', 'dec', 'raErr', 'decErr', \n",
    "                'W1mag', 'W1magErr', 'i', 'iErr']"
   ]
  },
  {
   "cell_type": "code",
   "execution_count": 10,
   "metadata": {
    "collapsed": false
   },
   "outputs": [],
   "source": [
    "combined[columns_save].write('pw.fits', format=\"fits\")"
   ]
  },
  {
   "cell_type": "code",
   "execution_count": 11,
   "metadata": {
    "collapsed": true
   },
   "outputs": [],
   "source": [
    "combined2 = Table.read(\"pw.fits\")"
   ]
  },
  {
   "cell_type": "code",
   "execution_count": 12,
   "metadata": {
    "collapsed": false
   },
   "outputs": [
    {
     "data": {
      "text/html": [
       "&lt;Table masked=True length=1&gt;\n",
       "<table id=\"table139818368221536\" class=\"table-striped table-bordered table-condensed\">\n",
       "<thead><tr><th>AllWISE</th><th>objID</th><th>ra</th><th>dec</th><th>raErr</th><th>decErr</th><th>W1mag</th><th>W1magErr</th><th>i</th><th>iErr</th></tr></thead>\n",
       "<thead><tr><th>str19</th><th>int64</th><th>float64</th><th>float64</th><th>float64</th><th>float64</th><th>float64</th><th>float64</th><th>float64</th><th>float64</th></tr></thead>\n",
       "<tr><td>J144838.14+425031.4</td><td>--</td><td>222.1589478</td><td>42.8420628</td><td>0.5809</td><td>0.631</td><td>20.7227584285</td><td>0.216</td><td>nan</td><td>nan</td></tr>\n",
       "</table>"
      ],
      "text/plain": [
       "<Table masked=True length=1>\n",
       "      AllWISE       objID      ra        dec     ... W1magErr    i      iErr \n",
       "       str19        int64   float64    float64   ... float64  float64 float64\n",
       "------------------- ----- ----------- ---------- ... -------- ------- -------\n",
       "J144838.14+425031.4    -- 222.1589478 42.8420628 ...    0.216     nan     nan"
      ]
     },
     "execution_count": 12,
     "metadata": {},
     "output_type": "execute_result"
    }
   ],
   "source": [
    "combined2[combined2[\"AllWISE\"] == \"J144838.14+425031.4\"]"
   ]
  },
  {
   "cell_type": "code",
   "execution_count": null,
   "metadata": {
    "collapsed": true
   },
   "outputs": [],
   "source": []
  }
 ],
 "metadata": {
  "kernelspec": {
   "display_name": "Python 3",
   "language": "python",
   "name": "python3"
  },
  "language_info": {
   "codemirror_mode": {
    "name": "ipython",
    "version": 3
   },
   "file_extension": ".py",
   "mimetype": "text/x-python",
   "name": "python",
   "nbconvert_exporter": "python",
   "pygments_lexer": "ipython3",
   "version": "3.6.1"
  }
 },
 "nbformat": 4,
 "nbformat_minor": 2
}
