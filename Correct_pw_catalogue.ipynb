{
 "cells": [
  {
   "cell_type": "code",
   "execution_count": 1,
   "metadata": {
    "collapsed": true
   },
   "outputs": [],
   "source": [
    "import numpy as np\n",
    "from astropy.table import Table, join\n",
    "from astropy import units as u\n",
    "from astropy.coordinates import SkyCoord, search_around_sky\n",
    "from IPython.display import clear_output\n",
    "from mltier1 import Field, describe"
   ]
  },
  {
   "cell_type": "code",
   "execution_count": 2,
   "metadata": {
    "collapsed": true
   },
   "outputs": [],
   "source": [
    "combined = Table.read(\"pw_bootes_lrdata.fits\")"
   ]
  },
  {
   "cell_type": "code",
   "execution_count": 3,
   "metadata": {},
   "outputs": [
    {
     "data": {
      "text/plain": [
       "['AllWISE',\n",
       " 'raWise',\n",
       " 'decWise',\n",
       " 'raWiseErr',\n",
       " 'decWiseErr',\n",
       " 'W1mag',\n",
       " 'W1magErr',\n",
       " 'lr',\n",
       " 'lr_dist',\n",
       " 'lr_panstarrs_index',\n",
       " 'lr_pc',\n",
       " 'lr_index',\n",
       " 'objID',\n",
       " 'raMean',\n",
       " 'decMean',\n",
       " 'raMeanErr',\n",
       " 'decMeanErr',\n",
       " 'i',\n",
       " 'iErr',\n",
       " 'ra',\n",
       " 'dec',\n",
       " 'raErr',\n",
       " 'decErr']"
      ]
     },
     "execution_count": 3,
     "metadata": {},
     "output_type": "execute_result"
    }
   ],
   "source": [
    "combined.colnames"
   ]
  },
  {
   "cell_type": "code",
   "execution_count": 7,
   "metadata": {},
   "outputs": [
    {
     "data": {
      "text/html": [
       "&lt;Table masked=True length=1&gt;\n",
       "<table id=\"table139900276203648\" class=\"table-striped table-bordered table-condensed\">\n",
       "<thead><tr><th>AllWISE</th><th>raWise</th><th>decWise</th><th>raWiseErr</th><th>decWiseErr</th><th>W1mag</th><th>W1magErr</th><th>lr</th><th>lr_dist</th><th>lr_panstarrs_index</th><th>lr_pc</th><th>lr_index</th><th>objID</th><th>raMean</th><th>decMean</th><th>raMeanErr</th><th>decMeanErr</th><th>i</th><th>iErr</th><th>ra</th><th>dec</th><th>raErr</th><th>decErr</th></tr></thead>\n",
       "<thead><tr><th></th><th>deg</th><th>deg</th><th>arcsec</th><th>arcsec</th><th></th><th>mag</th><th></th><th></th><th></th><th></th><th></th><th></th><th></th><th></th><th></th><th></th><th></th><th></th><th></th><th></th><th></th><th></th></tr></thead>\n",
       "<thead><tr><th>str23</th><th>float64</th><th>float64</th><th>float64</th><th>float64</th><th>float64</th><th>float64</th><th>float64</th><th>float64</th><th>float64</th><th>float64</th><th>float64</th><th>int64</th><th>float64</th><th>float64</th><th>float64</th><th>float64</th><th>float64</th><th>float64</th><th>float64</th><th>float64</th><th>float64</th><th>float64</th></tr></thead>\n",
       "<tr><td>J143958.69+322218.7</td><td>219.9945516</td><td>32.3718823</td><td>0.195</td><td>0.2133</td><td>19.4310890414</td><td>0.073</td><td>3.8697628401e-21</td><td>10.1231741576</td><td>10873.0</td><td>3.8697628401e-21</td><td>nan</td><td>--</td><td>nan</td><td>nan</td><td>nan</td><td>nan</td><td>nan</td><td>nan</td><td>nan</td><td>nan</td><td>nan</td><td>nan</td></tr>\n",
       "</table>"
      ],
      "text/plain": [
       "<Table masked=True length=1>\n",
       "      AllWISE          raWise    decWise   raWiseErr ...   dec    raErr   decErr\n",
       "                        deg        deg       arcsec  ...                        \n",
       "       str23          float64    float64    float64  ... float64 float64 float64\n",
       "------------------- ----------- ---------- --------- ... ------- ------- -------\n",
       "J143958.69+322218.7 219.9945516 32.3718823     0.195 ...     nan     nan     nan"
      ]
     },
     "execution_count": 7,
     "metadata": {},
     "output_type": "execute_result"
    }
   ],
   "source": [
    "combined[combined[\"AllWISE\"] == \"J143958.69+322218.7\"]"
   ]
  },
  {
   "cell_type": "code",
   "execution_count": 8,
   "metadata": {
    "collapsed": true
   },
   "outputs": [],
   "source": [
    "combined['ra'] = combined['raMean']\n",
    "combined['dec'] = combined['decMean']\n",
    "combined['raErr'] = combined['raMeanErr']\n",
    "combined['decErr'] = combined['decMeanErr']\n",
    "\n",
    "combined['ra'][np.isnan(combined['raMean'])] = combined['raWise'][np.isnan(combined['raMean'])]\n",
    "combined['dec'][np.isnan(combined['decMean'])] = combined['decWise'][np.isnan(combined['decMean'])]\n",
    "combined['raErr'][np.isnan(combined['raMean'])] = combined['raWiseErr'][np.isnan(combined['raMean'])]\n",
    "combined['decErr'][np.isnan(combined['decMean'])] = combined['decWiseErr'][np.isnan(combined['decMean'])]"
   ]
  },
  {
   "cell_type": "code",
   "execution_count": 9,
   "metadata": {
    "collapsed": true
   },
   "outputs": [],
   "source": [
    "for col in [\"raMean\", \"decMean\", \"raMeanErr\", \"decMeanErr\",\n",
    "            \"raWise\", \"decWise\", \"raWiseErr\", \"decWiseErr\",\n",
    "            \"ra\", \"dec\", \"raErr\", \"decErr\"]:\n",
    "    combined[col].fill_value = 1e+20"
   ]
  },
  {
   "cell_type": "code",
   "execution_count": 10,
   "metadata": {},
   "outputs": [
    {
     "data": {
      "text/html": [
       "&lt;Table masked=True length=1&gt;\n",
       "<table id=\"table139900276053160\" class=\"table-striped table-bordered table-condensed\">\n",
       "<thead><tr><th>AllWISE</th><th>raWise</th><th>decWise</th><th>raWiseErr</th><th>decWiseErr</th><th>W1mag</th><th>W1magErr</th><th>lr</th><th>lr_dist</th><th>lr_panstarrs_index</th><th>lr_pc</th><th>lr_index</th><th>objID</th><th>raMean</th><th>decMean</th><th>raMeanErr</th><th>decMeanErr</th><th>i</th><th>iErr</th><th>ra</th><th>dec</th><th>raErr</th><th>decErr</th></tr></thead>\n",
       "<thead><tr><th></th><th>deg</th><th>deg</th><th>arcsec</th><th>arcsec</th><th></th><th>mag</th><th></th><th></th><th></th><th></th><th></th><th></th><th></th><th></th><th></th><th></th><th></th><th></th><th></th><th></th><th></th><th></th></tr></thead>\n",
       "<thead><tr><th>str23</th><th>float64</th><th>float64</th><th>float64</th><th>float64</th><th>float64</th><th>float64</th><th>float64</th><th>float64</th><th>float64</th><th>float64</th><th>float64</th><th>int64</th><th>float64</th><th>float64</th><th>float64</th><th>float64</th><th>float64</th><th>float64</th><th>float64</th><th>float64</th><th>float64</th><th>float64</th></tr></thead>\n",
       "<tr><td>J143958.69+322218.7</td><td>219.9945516</td><td>32.3718823</td><td>0.195</td><td>0.2133</td><td>19.4310890414</td><td>0.073</td><td>3.8697628401e-21</td><td>10.1231741576</td><td>10873.0</td><td>3.8697628401e-21</td><td>nan</td><td>--</td><td>nan</td><td>nan</td><td>nan</td><td>nan</td><td>nan</td><td>nan</td><td>219.9945516</td><td>32.3718823</td><td>0.195</td><td>0.2133</td></tr>\n",
       "</table>"
      ],
      "text/plain": [
       "<Table masked=True length=1>\n",
       "      AllWISE          raWise    decWise   ...    dec      raErr   decErr\n",
       "                        deg        deg     ...                           \n",
       "       str23          float64    float64   ...  float64   float64 float64\n",
       "------------------- ----------- ---------- ... ---------- ------- -------\n",
       "J143958.69+322218.7 219.9945516 32.3718823 ... 32.3718823   0.195  0.2133"
      ]
     },
     "execution_count": 10,
     "metadata": {},
     "output_type": "execute_result"
    }
   ],
   "source": [
    "combined[combined[\"AllWISE\"] == \"J143958.69+322218.7\"]"
   ]
  },
  {
   "cell_type": "code",
   "execution_count": 11,
   "metadata": {
    "collapsed": true
   },
   "outputs": [],
   "source": [
    "columns_save = ['AllWISE', 'objID', 'ra', 'dec', 'raErr', 'decErr', \n",
    "                'W1mag', 'W1magErr', 'i', 'iErr']"
   ]
  },
  {
   "cell_type": "code",
   "execution_count": 13,
   "metadata": {},
   "outputs": [],
   "source": [
    "combined[columns_save].write('pw_bootes.fits', format=\"fits\")"
   ]
  },
  {
   "cell_type": "code",
   "execution_count": 14,
   "metadata": {
    "collapsed": true
   },
   "outputs": [],
   "source": [
    "combined2 = Table.read(\"pw_bootes.fits\")"
   ]
  },
  {
   "cell_type": "code",
   "execution_count": 15,
   "metadata": {},
   "outputs": [
    {
     "data": {
      "text/html": [
       "&lt;Table masked=True length=1&gt;\n",
       "<table id=\"table139900275756504\" class=\"table-striped table-bordered table-condensed\">\n",
       "<thead><tr><th>AllWISE</th><th>objID</th><th>ra</th><th>dec</th><th>raErr</th><th>decErr</th><th>W1mag</th><th>W1magErr</th><th>i</th><th>iErr</th></tr></thead>\n",
       "<thead><tr><th></th><th></th><th></th><th></th><th></th><th></th><th></th><th>mag</th><th></th><th></th></tr></thead>\n",
       "<thead><tr><th>str23</th><th>int64</th><th>float64</th><th>float64</th><th>float64</th><th>float64</th><th>float64</th><th>float64</th><th>float64</th><th>float64</th></tr></thead>\n",
       "<tr><td>J143958.69+322218.7</td><td>--</td><td>219.9945516</td><td>32.3718823</td><td>0.195</td><td>0.2133</td><td>19.4310890414</td><td>0.073</td><td>nan</td><td>nan</td></tr>\n",
       "</table>"
      ],
      "text/plain": [
       "<Table masked=True length=1>\n",
       "      AllWISE       objID      ra        dec     ... W1magErr    i      iErr \n",
       "                                                 ...   mag                   \n",
       "       str23        int64   float64    float64   ... float64  float64 float64\n",
       "------------------- ----- ----------- ---------- ... -------- ------- -------\n",
       "J143958.69+322218.7    -- 219.9945516 32.3718823 ...    0.073     nan     nan"
      ]
     },
     "execution_count": 15,
     "metadata": {},
     "output_type": "execute_result"
    }
   ],
   "source": [
    "combined2[combined2[\"AllWISE\"] == \"J143958.69+322218.7\"]"
   ]
  },
  {
   "cell_type": "code",
   "execution_count": null,
   "metadata": {
    "collapsed": true
   },
   "outputs": [],
   "source": []
  }
 ],
 "metadata": {
  "kernelspec": {
   "display_name": "Python 3 (py36)",
   "language": "python",
   "name": "py36"
  },
  "language_info": {
   "codemirror_mode": {
    "name": "ipython",
    "version": 3
   },
   "file_extension": ".py",
   "mimetype": "text/x-python",
   "name": "python",
   "nbconvert_exporter": "python",
   "pygments_lexer": "ipython3",
   "version": "3.6.0"
  }
 },
 "nbformat": 4,
 "nbformat_minor": 2
}
