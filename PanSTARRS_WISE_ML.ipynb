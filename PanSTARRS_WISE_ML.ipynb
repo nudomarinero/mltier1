{
 "cells": [
  {
   "cell_type": "markdown",
   "metadata": {},
   "source": [
    "#  PanSTARRS - WISE cross-match: Maximum Likelihood"
   ]
  },
  {
   "cell_type": "code",
   "execution_count": 1,
   "metadata": {
    "collapsed": true
   },
   "outputs": [],
   "source": [
    "import numpy as np\n",
    "from astropy.table import Table, join\n",
    "from astropy import units as u\n",
    "from astropy.coordinates import SkyCoord, search_around_sky\n",
    "import pickle\n",
    "from tqdm import tnrange, tqdm_notebook"
   ]
  },
  {
   "cell_type": "code",
   "execution_count": 2,
   "metadata": {
    "collapsed": true
   },
   "outputs": [],
   "source": [
    "from IPython.display import clear_output\n",
    "from mltier1 import parallel_process, SingleMLEstimator"
   ]
  },
  {
   "cell_type": "code",
   "execution_count": 3,
   "metadata": {
    "collapsed": true
   },
   "outputs": [],
   "source": [
    "%load_ext autoreload"
   ]
  },
  {
   "cell_type": "code",
   "execution_count": 4,
   "metadata": {
    "collapsed": true
   },
   "outputs": [],
   "source": [
    "%autoreload"
   ]
  },
  {
   "cell_type": "code",
   "execution_count": 5,
   "metadata": {
    "collapsed": false
   },
   "outputs": [
    {
     "name": "stdout",
     "output_type": "stream",
     "text": [
      "Populating the interactive namespace from numpy and matplotlib\n"
     ]
    }
   ],
   "source": [
    "%pylab inline"
   ]
  },
  {
   "cell_type": "markdown",
   "metadata": {},
   "source": [
    "## Load the data\n",
    "\n",
    "### Load the catalogues"
   ]
  },
  {
   "cell_type": "code",
   "execution_count": 6,
   "metadata": {
    "collapsed": true
   },
   "outputs": [],
   "source": [
    "panstarrs = Table.read(\"panstarrs_u2.fits\")"
   ]
  },
  {
   "cell_type": "code",
   "execution_count": 7,
   "metadata": {
    "collapsed": true
   },
   "outputs": [],
   "source": [
    "wise = Table.read(\"wise_u2.fits\")"
   ]
  },
  {
   "cell_type": "code",
   "execution_count": 8,
   "metadata": {
    "collapsed": false
   },
   "outputs": [
    {
     "data": {
      "text/plain": [
       "21650894"
      ]
     },
     "execution_count": 8,
     "metadata": {},
     "output_type": "execute_result"
    }
   ],
   "source": [
    "len(panstarrs)"
   ]
  },
  {
   "cell_type": "code",
   "execution_count": 9,
   "metadata": {
    "collapsed": false
   },
   "outputs": [
    {
     "data": {
      "text/plain": [
       "13219700"
      ]
     },
     "execution_count": 9,
     "metadata": {},
     "output_type": "execute_result"
    }
   ],
   "source": [
    "len(wise)"
   ]
  },
  {
   "cell_type": "markdown",
   "metadata": {},
   "source": [
    "### Coordinates\n",
    "\n",
    "As we will use the coordinates to make a cross-match we to load them"
   ]
  },
  {
   "cell_type": "code",
   "execution_count": 10,
   "metadata": {
    "collapsed": true
   },
   "outputs": [],
   "source": [
    "coords_panstarrs = SkyCoord(panstarrs['raMean'], panstarrs['decMean'], unit=(u.deg, u.deg), frame='icrs')"
   ]
  },
  {
   "cell_type": "code",
   "execution_count": 11,
   "metadata": {
    "collapsed": true
   },
   "outputs": [],
   "source": [
    "coords_wise = SkyCoord(wise['raWise'], wise['decWise'], unit=(u.deg, u.deg), frame='icrs')"
   ]
  },
  {
   "cell_type": "markdown",
   "metadata": {},
   "source": [
    "### Import the ML parameeters"
   ]
  },
  {
   "cell_type": "code",
   "execution_count": 12,
   "metadata": {
    "collapsed": true
   },
   "outputs": [],
   "source": [
    "bin_list, center, q0, n_m, q_m = pickle.load(open(\"pw_params.pckl\", \"rb\"))"
   ]
  },
  {
   "cell_type": "markdown",
   "metadata": {
    "collapsed": true
   },
   "source": [
    "### Define the main functions\n",
    "\n",
    "We define the main functions used in the ML computing"
   ]
  },
  {
   "cell_type": "code",
   "execution_count": 13,
   "metadata": {
    "collapsed": true
   },
   "outputs": [],
   "source": [
    "likelihood_ratio = SingleMLEstimator(q0, n_m, q_m, center)"
   ]
  },
  {
   "cell_type": "markdown",
   "metadata": {},
   "source": [
    "The following function could be used to get the sigma using the errors in the two optical catalogues but it may underestimate the error (not used)"
   ]
  },
  {
   "cell_type": "code",
   "execution_count": 14,
   "metadata": {
    "collapsed": true
   },
   "outputs": [],
   "source": [
    "def get_sigma(ra1, dec1, ra1err, dec1err, ra2, dec2, ra2err, dec2err):\n",
    "    \"\"\"Input positions in degrees.\n",
    "    Errors in arcsecs\n",
    "    Output in arcsecs\n",
    "    \"\"\"\n",
    "    cosadj = np.cos(np.deg2rad(0.5*(dec1 + dec2)))\n",
    "    phi = np.arctan2((dec2 - dec1), ((ra2 - ra1)*cosadj))\n",
    "    sigma = np.pi - phi\n",
    "    err1squared  = (ra1err * np.cos(sigma))**2 + (dec1err * np.sin(sigma))**2\n",
    "    err2squared  = (ra2err * np.cos(phi))**2 + (dec2err * np.sin(phi))**2\n",
    "    return np.sqrt(err1squared + err2squared)"
   ]
  },
  {
   "cell_type": "markdown",
   "metadata": {},
   "source": [
    "## Compute the ML ratio"
   ]
  },
  {
   "cell_type": "code",
   "execution_count": 15,
   "metadata": {
    "collapsed": true
   },
   "outputs": [],
   "source": [
    "radius = 15"
   ]
  },
  {
   "cell_type": "code",
   "execution_count": 16,
   "metadata": {
    "collapsed": true
   },
   "outputs": [],
   "source": [
    "idx_wise, idx_panstarrs, d2d, d3d = search_around_sky(\n",
    "    coords_wise, coords_panstarrs, radius*u.arcsec)"
   ]
  },
  {
   "cell_type": "code",
   "execution_count": 17,
   "metadata": {
    "collapsed": true
   },
   "outputs": [],
   "source": [
    "idx_wise_unique = np.unique(idx_wise)"
   ]
  },
  {
   "cell_type": "code",
   "execution_count": 18,
   "metadata": {
    "collapsed": true
   },
   "outputs": [],
   "source": [
    "wise[\"lr\"] = np.nan                   # Likelihood ratio\n",
    "wise[\"lr_dist\"] = np.nan              # Distance to the selected source\n",
    "wise[\"lr_panstarrs_index\"] = np.nan   # Index of the PanSTARRS source"
   ]
  },
  {
   "cell_type": "code",
   "execution_count": 19,
   "metadata": {
    "collapsed": true
   },
   "outputs": [],
   "source": [
    "total_sources = len(idx_wise_unique)"
   ]
  },
  {
   "cell_type": "code",
   "execution_count": 20,
   "metadata": {
    "collapsed": false
   },
   "outputs": [
    {
     "data": {
      "text/plain": [
       "11539194"
      ]
     },
     "execution_count": 20,
     "metadata": {},
     "output_type": "execute_result"
    }
   ],
   "source": [
    "total_sources"
   ]
  },
  {
   "cell_type": "code",
   "execution_count": 21,
   "metadata": {
    "collapsed": true
   },
   "outputs": [],
   "source": [
    "panstarrs_aux_index = np.arange(len(panstarrs))"
   ]
  },
  {
   "cell_type": "code",
   "execution_count": 22,
   "metadata": {
    "collapsed": true
   },
   "outputs": [],
   "source": [
    "def ml(i):\n",
    "    idx_0 = idx_panstarrs[idx_wise == i]\n",
    "    d2d_0 = d2d[idx_wise == i]\n",
    "    i_mag = panstarrs[\"i\"][idx_0]\n",
    "#     sigma = get_sigma(wise[\"ra\"][i], \n",
    "#                       wise[\"dec\"][i], \n",
    "#                       wise[\"sigra\"][i], \n",
    "#                       wise[\"sigdec\"][i],\n",
    "#                       panstarrs[idx_0][\"raMean\"][idx_0],\n",
    "#                       panstarrs[idx_0][\"decMean\"][idx_0],\n",
    "#                       panstarrs[idx_0][\"raMeanErr\"][idx_0],\n",
    "#                       panstarrs[idx_0][\"decMeanErr\"][idx_0],\n",
    "#              )\n",
    "    sigma = 1.\n",
    "    lr_0 = likelihood_ratio(i_mag, d2d_0.arcsec, sigma)\n",
    "    chosen_index = np.argmax(lr_0)\n",
    "    \n",
    "    result = [panstarrs_aux_index[idx_0[chosen_index]], # Index\n",
    "              (d2d_0.arcsec)[chosen_index],             # distance\n",
    "              lr_0[chosen_index]]                       # LR\n",
    "    \n",
    "    return result"
   ]
  },
  {
   "cell_type": "code",
   "execution_count": null,
   "metadata": {
    "collapsed": false
   },
   "outputs": [],
   "source": [
    "step_size = 100000\n",
    "nsteps = total_sources//step_size + 1\n",
    "res = []\n",
    "for k in tnrange(nsteps, desc=\"Blocks\"):\n",
    "    low_limit = k*step_size\n",
    "    high_limit = (k+1)*step_size\n",
    "    res += parallel_process(idx_wise_unique[low_limit:high_limit], \n",
    "                            ml, \n",
    "                            n_jobs=8,\n",
    "                            notebook=True)"
   ]
  },
  {
   "cell_type": "code",
   "execution_count": 24,
   "metadata": {
    "collapsed": false
   },
   "outputs": [
    {
     "data": {
      "text/plain": [
       "11539194"
      ]
     },
     "execution_count": 24,
     "metadata": {},
     "output_type": "execute_result"
    }
   ],
   "source": [
    "len(res)"
   ]
  },
  {
   "cell_type": "code",
   "execution_count": 25,
   "metadata": {
    "collapsed": true
   },
   "outputs": [],
   "source": [
    "(wise[\"lr_panstarrs_index\"][idx_wise_unique], \n",
    " wise[\"lr_dist\"][idx_wise_unique], \n",
    " wise[\"lr\"][idx_wise_unique]) = list(map(list, zip(*res)))"
   ]
  },
  {
   "cell_type": "markdown",
   "metadata": {},
   "source": [
    "### Plot the ML results\n",
    "\n",
    "The auxiliary column \"lr_pc\" will have a 0 value for all non-matches and will be used to get the threshold in the ML parameter."
   ]
  },
  {
   "cell_type": "code",
   "execution_count": 26,
   "metadata": {
    "collapsed": true
   },
   "outputs": [],
   "source": [
    "wise[\"lr_pc\"] = wise[\"lr\"]\n",
    "wise[\"lr_pc\"][np.isnan(wise[\"lr_pc\"])] = 0"
   ]
  },
  {
   "cell_type": "code",
   "execution_count": 27,
   "metadata": {
    "collapsed": true
   },
   "outputs": [],
   "source": [
    "threshold = np.percentile(wise[\"lr_pc\"], 100*(1 - q0))"
   ]
  },
  {
   "cell_type": "code",
   "execution_count": 28,
   "metadata": {
    "collapsed": false
   },
   "outputs": [
    {
     "data": {
      "text/plain": [
       "6.4306303253655415"
      ]
     },
     "execution_count": 28,
     "metadata": {},
     "output_type": "execute_result"
    }
   ],
   "source": [
    "threshold"
   ]
  },
  {
   "cell_type": "code",
   "execution_count": 29,
   "metadata": {
    "collapsed": false
   },
   "outputs": [
    {
     "data": {
      "image/png": "[encoded data removed]",
      "text/plain": [
       "<matplotlib.figure.Figure at 0x7f28a861d358>"
      ]
     },
     "metadata": {},
     "output_type": "display_data"
    }
   ],
   "source": [
    "plt.rcParams[\"figure.figsize\"] = (15,6)\n",
    "subplot(1,2,1)\n",
    "hist(wise[~np.isnan(wise[\"lr_pc\"])][\"lr_pc\"], bins=200)\n",
    "vlines([threshold], 0, 150000)\n",
    "ylim([0,150000])\n",
    "subplot(1,2,2)\n",
    "hist(np.log10(wise[~np.isnan(wise[\"lr_pc\"])][\"lr_pc\"]+1), bins=200)\n",
    "vlines(np.log10(threshold+1), 0, 150000)\n",
    "ylim([0,150000]);"
   ]
  },
  {
   "cell_type": "markdown",
   "metadata": {},
   "source": [
    "## Combine data\n",
    "\n",
    "First we discard the matches below the threshold"
   ]
  },
  {
   "cell_type": "code",
   "execution_count": 30,
   "metadata": {
    "collapsed": true
   },
   "outputs": [],
   "source": [
    "wise[\"lr_index\"] = wise[\"lr_panstarrs_index\"]\n",
    "wise[\"lr_index\"][wise[\"lr_pc\"] < threshold] = np.nan"
   ]
  },
  {
   "cell_type": "markdown",
   "metadata": {},
   "source": [
    "We combine the two catalogues using an outer join wich maintains all the data for the two catalogues"
   ]
  },
  {
   "cell_type": "code",
   "execution_count": 31,
   "metadata": {
    "collapsed": true
   },
   "outputs": [],
   "source": [
    "panstarrs[\"lr_index\"] = np.arange(len(panstarrs)).astype(float)"
   ]
  },
  {
   "cell_type": "code",
   "execution_count": 32,
   "metadata": {
    "collapsed": true
   },
   "outputs": [],
   "source": [
    "combined = join(wise, panstarrs, join_type='outer', keys='lr_index')"
   ]
  },
  {
   "cell_type": "markdown",
   "metadata": {},
   "source": [
    "## Save catalogue"
   ]
  },
  {
   "cell_type": "code",
   "execution_count": 33,
   "metadata": {
    "collapsed": true
   },
   "outputs": [],
   "source": [
    "combined['ra'] = combined['raMean']\n",
    "combined['dec'] = combined['decMean']\n",
    "combined['raErr'] = combined['raMeanErr']\n",
    "combined['decErr'] = combined['decMeanErr']\n",
    "\n",
    "combined['ra'][np.isnan(combined['raMean'])] = combined['raWise'][np.isnan(combined['raMean'])]\n",
    "combined['dec'][np.isnan(combined['decMean'])] = combined['decWise'][np.isnan(combined['decMean'])]\n",
    "combined['raErr'][np.isnan(combined['raMean'])] = combined['raWiseErr'][np.isnan(combined['raMean'])]\n",
    "combined['decErr'][np.isnan(combined['decMean'])] = combined['decWiseErr'][np.isnan(combined['decMean'])]"
   ]
  },
  {
   "cell_type": "markdown",
   "metadata": {},
   "source": [
    "Important step to solve problems with the default values for the columns. Check later why we have to do that."
   ]
  },
  {
   "cell_type": "code",
   "execution_count": 34,
   "metadata": {
    "collapsed": true
   },
   "outputs": [],
   "source": [
    "for col in [\"raMean\", \"decMean\", \"raMeanErr\", \"decMeanErr\",\n",
    "            \"raWise\", \"decWise\", \"raWiseErr\", \"decWiseErr\",\n",
    "            \"ra\", \"dec\", \"raErr\", \"decErr\"]:\n",
    "    combined[col].fill_value = 1e+20"
   ]
  },
  {
   "cell_type": "code",
   "execution_count": 35,
   "metadata": {
    "collapsed": true
   },
   "outputs": [],
   "source": [
    "columns_save = ['AllWISE', 'objID', 'ra', 'dec', 'raErr', 'decErr', \n",
    "                'W1mag', 'W1magErr', 'i', 'iErr']"
   ]
  },
  {
   "cell_type": "code",
   "execution_count": 36,
   "metadata": {
    "collapsed": true
   },
   "outputs": [],
   "source": [
    "combined[columns_save].write('pw.fits', format=\"fits\")"
   ]
  },
  {
   "cell_type": "markdown",
   "metadata": {},
   "source": [
    "We can also save a version with all the data"
   ]
  },
  {
   "cell_type": "code",
   "execution_count": 37,
   "metadata": {
    "collapsed": false
   },
   "outputs": [
    {
     "data": {
      "text/plain": [
       "array(['AllWISE', 'raWise', 'decWise', 'raWiseErr', 'decWiseErr', 'W1mag',\n",
       "       'W1magErr', 'lr', 'lr_dist', 'lr_panstarrs_index', 'lr_pc',\n",
       "       'lr_index', 'objID', 'raMean', 'decMean', 'raMeanErr', 'decMeanErr',\n",
       "       'i', 'iErr', 'ra', 'dec', 'raErr', 'decErr'],\n",
       "      dtype='<U18')"
      ]
     },
     "execution_count": 37,
     "metadata": {},
     "output_type": "execute_result"
    }
   ],
   "source": [
    "np.array(combined.colnames)"
   ]
  },
  {
   "cell_type": "code",
   "execution_count": 38,
   "metadata": {
    "collapsed": true
   },
   "outputs": [],
   "source": [
    "combined.write('pw_lrdata.fits', format=\"fits\")"
   ]
  },
  {
   "cell_type": "code",
   "execution_count": null,
   "metadata": {
    "collapsed": true
   },
   "outputs": [],
   "source": []
  }
 ],
 "metadata": {
  "kernelspec": {
   "display_name": "Python 3",
   "language": "python",
   "name": "python3"
  },
  "language_info": {
   "codemirror_mode": {
    "name": "ipython",
    "version": 3
   },
   "file_extension": ".py",
   "mimetype": "text/x-python",
   "name": "python",
   "nbconvert_exporter": "python",
   "pygments_lexer": "ipython3",
   "version": "3.6.1"
  }
 },
 "nbformat": 4,
 "nbformat_minor": 1
}
